{
  "nbformat": 4,
  "nbformat_minor": 0,
  "metadata": {
    "colab": {
      "name": "LSTM_hasoc2021.ipynb",
      "provenance": [],
      "collapsed_sections": [
        "bRQgax8xTW4w",
        "Qp_zCdofVU8E",
        "ya3vFPNIe9WR",
        "6HoQcDxHZUQg",
        "N0KcGKuqcbcf",
        "jhgwiN7zhwWj"
      ]
    },
    "kernelspec": {
      "name": "python3",
      "display_name": "Python 3"
    },
    "language_info": {
      "name": "python"
    },
    "accelerator": "GPU"
  },
  "cells": [
    {
      "cell_type": "markdown",
      "metadata": {
        "id": "x3IpYUh5ROzM"
      },
      "source": [
        "# Mount Drive\n",
        "\n"
      ]
    },
    {
      "cell_type": "code",
      "metadata": {
        "colab": {
          "base_uri": "https://localhost:8080/"
        },
        "id": "L6dTF5JIRjli",
        "outputId": "63b38946-c7be-4ab0-dec9-80cf06ca8eea"
      },
      "source": [
        "from google.colab import drive\n",
        "drive.mount('/content/drive')"
      ],
      "execution_count": 1,
      "outputs": [
        {
          "output_type": "stream",
          "text": [
            "Mounted at /content/drive\n"
          ],
          "name": "stdout"
        }
      ]
    },
    {
      "cell_type": "markdown",
      "metadata": {
        "id": "bRQgax8xTW4w"
      },
      "source": [
        "# Importing Libraries and initializing stopwords and stemmer\n"
      ]
    },
    {
      "cell_type": "code",
      "metadata": {
        "colab": {
          "base_uri": "https://localhost:8080/"
        },
        "id": "-zf_qMjiTk5J",
        "outputId": "39483a08-8a42-4430-f778-764c1717aa8c"
      },
      "source": [
        "import numpy as np\n",
        "import pandas as pd \n",
        "import matplotlib.pyplot as plt\n",
        "import seaborn as sns\n",
        "\n",
        "import tensorflow as tf\n",
        "\n",
        "import warnings\n",
        "warnings.filterwarnings(\"ignore\")\n",
        "\n",
        "import nltk\n",
        "\n",
        "import re\n",
        "from bs4 import BeautifulSoup\n",
        "from tqdm import tqdm\n",
        "from nltk.stem import WordNetLemmatizer\n",
        "\n",
        "from sklearn.model_selection import train_test_split\n",
        "from sklearn.metrics import accuracy_score,f1_score, confusion_matrix\n",
        "\n",
        "from keras.preprocessing.text import Tokenizer\n",
        "from keras.preprocessing.sequence import pad_sequences\n",
        "from keras.layers import Dense , Input , LSTM , Embedding, Dropout , Activation, GRU, Flatten\n",
        "from keras.layers import Bidirectional, GlobalMaxPool1D\n",
        "from keras.models import Model, Sequential\n",
        "from keras.layers import Convolution1D\n",
        "from keras import initializers, regularizers, constraints, optimizers, layers\n",
        "nltk.download('wordnet')\n"
      ],
      "execution_count": 2,
      "outputs": [
        {
          "output_type": "stream",
          "text": [
            "[nltk_data] Downloading package wordnet to /root/nltk_data...\n",
            "[nltk_data]   Unzipping corpora/wordnet.zip.\n"
          ],
          "name": "stdout"
        },
        {
          "output_type": "execute_result",
          "data": {
            "text/plain": [
              "True"
            ]
          },
          "metadata": {
            "tags": []
          },
          "execution_count": 2
        }
      ]
    },
    {
      "cell_type": "markdown",
      "metadata": {
        "id": "Qp_zCdofVU8E"
      },
      "source": [
        "# Reading Data\n"
      ]
    },
    {
      "cell_type": "code",
      "metadata": {
        "colab": {
          "base_uri": "https://localhost:8080/",
          "height": 0
        },
        "id": "ql_BZvzaVYdM",
        "outputId": "9f47ff35-310a-4f19-d147-15a27b050016"
      },
      "source": [
        "hasoc_data = pd.read_csv(\"drive/MyDrive/ICHCL_baseline/hasoc2021-train/Hasoc2021_train.csv\") #Your respective address\n",
        "hasoc_data.head()\n"
      ],
      "execution_count": 3,
      "outputs": [
        {
          "output_type": "execute_result",
          "data": {
            "text/html": [
              "<div>\n",
              "<style scoped>\n",
              "    .dataframe tbody tr th:only-of-type {\n",
              "        vertical-align: middle;\n",
              "    }\n",
              "\n",
              "    .dataframe tbody tr th {\n",
              "        vertical-align: top;\n",
              "    }\n",
              "\n",
              "    .dataframe thead th {\n",
              "        text-align: right;\n",
              "    }\n",
              "</style>\n",
              "<table border=\"1\" class=\"dataframe\">\n",
              "  <thead>\n",
              "    <tr style=\"text-align: right;\">\n",
              "      <th></th>\n",
              "      <th>Unnamed: 0</th>\n",
              "      <th>_id</th>\n",
              "      <th>text</th>\n",
              "      <th>task_1</th>\n",
              "      <th>task_2</th>\n",
              "    </tr>\n",
              "  </thead>\n",
              "  <tbody>\n",
              "    <tr>\n",
              "      <th>0</th>\n",
              "      <td>4986</td>\n",
              "      <td>60c5d6bf5659ea5e55defa2c</td>\n",
              "      <td>@wealth if you made it through this &amp;amp;&amp;amp;...</td>\n",
              "      <td>HOF</td>\n",
              "      <td>PRFN</td>\n",
              "    </tr>\n",
              "    <tr>\n",
              "      <th>1</th>\n",
              "      <td>3394</td>\n",
              "      <td>60c5d6bf5659ea5e55def461</td>\n",
              "      <td>Technically that's still turning back the cloc...</td>\n",
              "      <td>HOF</td>\n",
              "      <td>OFFN</td>\n",
              "    </tr>\n",
              "    <tr>\n",
              "      <th>2</th>\n",
              "      <td>1310</td>\n",
              "      <td>60c5d6bf5659ea5e55defaad</td>\n",
              "      <td>@VMBJP @BJP4Bengal @BJP4India @narendramodi @J...</td>\n",
              "      <td>NOT</td>\n",
              "      <td>NONE</td>\n",
              "    </tr>\n",
              "    <tr>\n",
              "      <th>3</th>\n",
              "      <td>3390</td>\n",
              "      <td>60c5d6bf5659ea5e55def419</td>\n",
              "      <td>@krtoprak_yigit Soldier of Japan Who has dick ...</td>\n",
              "      <td>HOF</td>\n",
              "      <td>OFFN</td>\n",
              "    </tr>\n",
              "    <tr>\n",
              "      <th>4</th>\n",
              "      <td>4626</td>\n",
              "      <td>60c5d6bf5659ea5e55def7fa</td>\n",
              "      <td>@blueheartedly You'd be better off asking who ...</td>\n",
              "      <td>HOF</td>\n",
              "      <td>OFFN</td>\n",
              "    </tr>\n",
              "  </tbody>\n",
              "</table>\n",
              "</div>"
            ],
            "text/plain": [
              "   Unnamed: 0                       _id  ... task_1 task_2\n",
              "0        4986  60c5d6bf5659ea5e55defa2c  ...    HOF   PRFN\n",
              "1        3394  60c5d6bf5659ea5e55def461  ...    HOF   OFFN\n",
              "2        1310  60c5d6bf5659ea5e55defaad  ...    NOT   NONE\n",
              "3        3390  60c5d6bf5659ea5e55def419  ...    HOF   OFFN\n",
              "4        4626  60c5d6bf5659ea5e55def7fa  ...    HOF   OFFN\n",
              "\n",
              "[5 rows x 5 columns]"
            ]
          },
          "metadata": {
            "tags": []
          },
          "execution_count": 3
        }
      ]
    },
    {
      "cell_type": "code",
      "metadata": {
        "colab": {
          "base_uri": "https://localhost:8080/",
          "height": 0
        },
        "id": "JcL3_A-fcKoB",
        "outputId": "7e98aab9-7a89-445d-a503-cd30a5f68fc7"
      },
      "source": [
        "hasoc_data.describe()"
      ],
      "execution_count": 4,
      "outputs": [
        {
          "output_type": "execute_result",
          "data": {
            "text/html": [
              "<div>\n",
              "<style scoped>\n",
              "    .dataframe tbody tr th:only-of-type {\n",
              "        vertical-align: middle;\n",
              "    }\n",
              "\n",
              "    .dataframe tbody tr th {\n",
              "        vertical-align: top;\n",
              "    }\n",
              "\n",
              "    .dataframe thead th {\n",
              "        text-align: right;\n",
              "    }\n",
              "</style>\n",
              "<table border=\"1\" class=\"dataframe\">\n",
              "  <thead>\n",
              "    <tr style=\"text-align: right;\">\n",
              "      <th></th>\n",
              "      <th>Unnamed: 0</th>\n",
              "    </tr>\n",
              "  </thead>\n",
              "  <tbody>\n",
              "    <tr>\n",
              "      <th>count</th>\n",
              "      <td>3843.000000</td>\n",
              "    </tr>\n",
              "    <tr>\n",
              "      <th>mean</th>\n",
              "      <td>2558.799375</td>\n",
              "    </tr>\n",
              "    <tr>\n",
              "      <th>std</th>\n",
              "      <td>1477.088070</td>\n",
              "    </tr>\n",
              "    <tr>\n",
              "      <th>min</th>\n",
              "      <td>1.000000</td>\n",
              "    </tr>\n",
              "    <tr>\n",
              "      <th>25%</th>\n",
              "      <td>1276.500000</td>\n",
              "    </tr>\n",
              "    <tr>\n",
              "      <th>50%</th>\n",
              "      <td>2574.000000</td>\n",
              "    </tr>\n",
              "    <tr>\n",
              "      <th>75%</th>\n",
              "      <td>3828.000000</td>\n",
              "    </tr>\n",
              "    <tr>\n",
              "      <th>max</th>\n",
              "      <td>5121.000000</td>\n",
              "    </tr>\n",
              "  </tbody>\n",
              "</table>\n",
              "</div>"
            ],
            "text/plain": [
              "        Unnamed: 0\n",
              "count  3843.000000\n",
              "mean   2558.799375\n",
              "std    1477.088070\n",
              "min       1.000000\n",
              "25%    1276.500000\n",
              "50%    2574.000000\n",
              "75%    3828.000000\n",
              "max    5121.000000"
            ]
          },
          "metadata": {
            "tags": []
          },
          "execution_count": 4
        }
      ]
    },
    {
      "cell_type": "code",
      "metadata": {
        "id": "wqQdg_uzdZR4"
      },
      "source": [
        "tweets = hasoc_data.text\n",
        "y_task1 = hasoc_data.task_1\n",
        "y_task2 = hasoc_data.task_2"
      ],
      "execution_count": 5,
      "outputs": []
    },
    {
      "cell_type": "markdown",
      "metadata": {
        "id": "ya3vFPNIe9WR"
      },
      "source": [
        "# Basic Preprocessing of Tweets\n"
      ]
    },
    {
      "cell_type": "code",
      "metadata": {
        "id": "FElfxXcCfCKH"
      },
      "source": [
        "def decontract(text):\n",
        "    text = re.sub(r\"won\\'t\", \"will not\", text)\n",
        "    text = re.sub(r\"can\\'t\", \"can not\", text)\n",
        "    text = re.sub(r\"n\\'t\", \" not\", text)\n",
        "    text = re.sub(r\"\\'re\", \" are\", text)\n",
        "    text = re.sub(r\"\\'s\", \" is\", text)\n",
        "    text = re.sub(r\"\\'d\", \" would\", text)\n",
        "    text = re.sub(r\"\\'ll\", \" will\", text)\n",
        "    text = re.sub(r\"\\'t\", \" not\", text)\n",
        "    text = re.sub(r\"\\'ve\", \" have\", text)\n",
        "    text = re.sub(r\"\\'m\", \" am\", text)\n",
        "    return text"
      ],
      "execution_count": 6,
      "outputs": []
    },
    {
      "cell_type": "code",
      "metadata": {
        "id": "o0Kp1SU_fKl7"
      },
      "source": [
        "lemmatizer = WordNetLemmatizer()"
      ],
      "execution_count": 7,
      "outputs": []
    },
    {
      "cell_type": "code",
      "metadata": {
        "id": "yYfVULZZiA2c"
      },
      "source": [
        "stop_words= set(['br', 'the', 'i', 'me', 'my', 'myself', 'we', 'our', 'ours', 'ourselves', 'you', \"you're\", \"you've\",\\\n",
        "            \"you'll\", \"you'd\", 'your', 'yours', 'yourself', 'yourselves', 'he', 'him', 'his', 'himself', \\\n",
        "            'she', \"she's\", 'her', 'hers', 'herself', 'it', \"it's\", 'its', 'itself', 'they', 'them', 'their',\\\n",
        "            'theirs', 'themselves', 'what', 'which', 'who', 'whom', 'this', 'that', \"that'll\", 'these', 'those', \\\n",
        "            'am', 'is', 'are', 'was', 'were', 'be', 'been', 'being', 'have', 'has', 'had', 'having', 'do', 'does', \\\n",
        "            'did', 'doing', 'a', 'an', 'the', 'and', 'but', 'if', 'or', 'because', 'as', 'until', 'while', 'of', \\\n",
        "            'at', 'by', 'for', 'with', 'about', 'against', 'between', 'into', 'through', 'during', 'before', 'after',\\\n",
        "            'above', 'below', 'to', 'from', 'up', 'down', 'in', 'out', 'on', 'off', 'over', 'under', 'again', 'further',\\\n",
        "            'then', 'once', 'here', 'there', 'when', 'where', 'why', 'how', 'all', 'any', 'both', 'each', 'few', 'more',\\\n",
        "            'most', 'other', 'some', 'such', 'only', 'own', 'same', 'so', 'than', 'too', 'very', \\\n",
        "            's', 't', 'can', 'will', 'just', 'don', \"don't\", 'should', \"should've\", 'now', 'd', 'll', 'm', 'o', 're', \\\n",
        "            've', 'y', 'ain', 'aren', \"aren't\", 'couldn', \"couldn't\", 'didn', \"didn't\", 'doesn', \"doesn't\", 'hadn',\\\n",
        "            \"hadn't\", 'hasn', \"hasn't\", 'haven', \"haven't\", 'isn', \"isn't\", 'ma', 'mightn', \"mightn't\", 'mustn',\\\n",
        "            \"mustn't\", 'needn', \"needn't\", 'shan', \"shan't\", 'shouldn', \"shouldn't\", 'wasn', \"wasn't\", 'weren', \"weren't\", \\\n",
        "            'won', \"won't\", 'wouldn', \"wouldn't\"])"
      ],
      "execution_count": 8,
      "outputs": []
    },
    {
      "cell_type": "code",
      "metadata": {
        "id": "k74l6ux0T6Ag"
      },
      "source": [
        "def preprocess_text(text):\n",
        "    text = re.sub(r\"http\\S+\", \"\", text)             # removing website links\n",
        "    text = BeautifulSoup(text, 'lxml').get_text()   # removing html tags\n",
        "    text = decontract(text)                         # decontracting\n",
        "    text = re.sub(\"\\S*\\d\\S*\", \"\", text).strip()     # removing the words with numeric digits\n",
        "    text = re.sub('[^A-Za-z]+', ' ', text)          # removing non-word characters\n",
        "    text = text.lower()                             # converting to lower case\n",
        "    text = [word for word in text.split(\" \") if not word in stop_words] # removing stop words\n",
        "    text = [lemmatizer.lemmatize(token, \"v\") for token in text] #Lemmatization\n",
        "    text = \" \".join(text)\n",
        "    text.strip()\n",
        "    return text\n",
        "\n",
        "def convert_task(text):\n",
        "    if text == \"HOF\":\n",
        "      return 1\n",
        "    return 0"
      ],
      "execution_count": 9,
      "outputs": []
    },
    {
      "cell_type": "code",
      "metadata": {
        "id": "nS_uUYT0W44M"
      },
      "source": [
        "hasoc_data[\"text\"] = hasoc_data[\"text\"].apply(lambda x: preprocess_text(x))\n",
        "hasoc_data[\"task_1\"] = hasoc_data[\"task_1\"].apply(lambda x: convert_task(x))"
      ],
      "execution_count": 10,
      "outputs": []
    },
    {
      "cell_type": "code",
      "metadata": {
        "colab": {
          "base_uri": "https://localhost:8080/"
        },
        "id": "pzlKAoAoUvhu",
        "outputId": "3cebde01-1483-4940-b7da-78594c15e6f3"
      },
      "source": [
        "hasoc_data[\"text\"].head()"
      ],
      "execution_count": 11,
      "outputs": [
        {
          "output_type": "execute_result",
          "data": {
            "text/plain": [
              "0     wealth make not able start make money sustain...\n",
              "1          technically still turn back clock dick head\n",
              "2     vmbjp narendramodi jpnadda amitshah dilipghos...\n",
              "3               krtoprak yigit soldier japan dick head\n",
              "4     blueheartedly would better ask think sleazy s...\n",
              "Name: text, dtype: object"
            ]
          },
          "metadata": {
            "tags": []
          },
          "execution_count": 11
        }
      ]
    },
    {
      "cell_type": "code",
      "metadata": {
        "colab": {
          "base_uri": "https://localhost:8080/"
        },
        "id": "17FCqS1UXSlX",
        "outputId": "06609117-5f00-405b-f642-db628b3e94e1"
      },
      "source": [
        "hasoc_data[\"task_1\"].head()"
      ],
      "execution_count": 12,
      "outputs": [
        {
          "output_type": "execute_result",
          "data": {
            "text/plain": [
              "0    1\n",
              "1    1\n",
              "2    0\n",
              "3    1\n",
              "4    1\n",
              "Name: task_1, dtype: int64"
            ]
          },
          "metadata": {
            "tags": []
          },
          "execution_count": 12
        }
      ]
    },
    {
      "cell_type": "code",
      "metadata": {
        "colab": {
          "base_uri": "https://localhost:8080/"
        },
        "id": "Ct0T9LkSXd-V",
        "outputId": "a5e89ae3-c85f-4ef2-e954-f61a52fe568f"
      },
      "source": [
        "hasoc_data[\"task_1\"].value_counts()"
      ],
      "execution_count": 13,
      "outputs": [
        {
          "output_type": "execute_result",
          "data": {
            "text/plain": [
              "1    2501\n",
              "0    1342\n",
              "Name: task_1, dtype: int64"
            ]
          },
          "metadata": {
            "tags": []
          },
          "execution_count": 13
        }
      ]
    },
    {
      "cell_type": "code",
      "metadata": {
        "id": "D6OJhHoTYD5z"
      },
      "source": [
        "hasoc_data.drop([\"Unnamed: 0\",\"_id\",\"task_2\"],inplace=True,axis=1)"
      ],
      "execution_count": 14,
      "outputs": []
    },
    {
      "cell_type": "code",
      "metadata": {
        "colab": {
          "base_uri": "https://localhost:8080/",
          "height": 0
        },
        "id": "KX_uW4lHYlpt",
        "outputId": "3149b5d7-3c9b-4bbc-f5ca-7665ca1449b9"
      },
      "source": [
        "hasoc_data.head()"
      ],
      "execution_count": 15,
      "outputs": [
        {
          "output_type": "execute_result",
          "data": {
            "text/html": [
              "<div>\n",
              "<style scoped>\n",
              "    .dataframe tbody tr th:only-of-type {\n",
              "        vertical-align: middle;\n",
              "    }\n",
              "\n",
              "    .dataframe tbody tr th {\n",
              "        vertical-align: top;\n",
              "    }\n",
              "\n",
              "    .dataframe thead th {\n",
              "        text-align: right;\n",
              "    }\n",
              "</style>\n",
              "<table border=\"1\" class=\"dataframe\">\n",
              "  <thead>\n",
              "    <tr style=\"text-align: right;\">\n",
              "      <th></th>\n",
              "      <th>text</th>\n",
              "      <th>task_1</th>\n",
              "    </tr>\n",
              "  </thead>\n",
              "  <tbody>\n",
              "    <tr>\n",
              "      <th>0</th>\n",
              "      <td>wealth make not able start make money sustain...</td>\n",
              "      <td>1</td>\n",
              "    </tr>\n",
              "    <tr>\n",
              "      <th>1</th>\n",
              "      <td>technically still turn back clock dick head</td>\n",
              "      <td>1</td>\n",
              "    </tr>\n",
              "    <tr>\n",
              "      <th>2</th>\n",
              "      <td>vmbjp narendramodi jpnadda amitshah dilipghos...</td>\n",
              "      <td>0</td>\n",
              "    </tr>\n",
              "    <tr>\n",
              "      <th>3</th>\n",
              "      <td>krtoprak yigit soldier japan dick head</td>\n",
              "      <td>1</td>\n",
              "    </tr>\n",
              "    <tr>\n",
              "      <th>4</th>\n",
              "      <td>blueheartedly would better ask think sleazy s...</td>\n",
              "      <td>1</td>\n",
              "    </tr>\n",
              "  </tbody>\n",
              "</table>\n",
              "</div>"
            ],
            "text/plain": [
              "                                                text  task_1\n",
              "0   wealth make not able start make money sustain...       1\n",
              "1        technically still turn back clock dick head       1\n",
              "2   vmbjp narendramodi jpnadda amitshah dilipghos...       0\n",
              "3             krtoprak yigit soldier japan dick head       1\n",
              "4   blueheartedly would better ask think sleazy s...       1"
            ]
          },
          "metadata": {
            "tags": []
          },
          "execution_count": 15
        }
      ]
    },
    {
      "cell_type": "code",
      "metadata": {
        "colab": {
          "base_uri": "https://localhost:8080/"
        },
        "id": "20LCyDWVU_2w",
        "outputId": "3243f7e3-4c1d-4671-f4bb-dfe55daa8583"
      },
      "source": [
        "train_df, test_df = train_test_split(hasoc_data, test_size = 0.2, random_state = 42)\n",
        "print(\"Training data size : \", train_df.shape)\n",
        "print(\"Test data size : \", test_df.shape)"
      ],
      "execution_count": 16,
      "outputs": [
        {
          "output_type": "stream",
          "text": [
            "Training data size :  (3074, 2)\n",
            "Test data size :  (769, 2)\n"
          ],
          "name": "stdout"
        }
      ]
    },
    {
      "cell_type": "markdown",
      "metadata": {
        "id": "6HoQcDxHZUQg"
      },
      "source": [
        "#Basic LSTM model and training\n",
        "\n"
      ]
    },
    {
      "cell_type": "code",
      "metadata": {
        "id": "kUncgNfvZ8pe"
      },
      "source": [
        "top_words = 6000\n",
        "tokenizer = Tokenizer(num_words=top_words)\n",
        "tokenizer.fit_on_texts(train_df['text'])\n",
        "list_tokenized_train = tokenizer.texts_to_sequences(train_df['text'])\n",
        "\n",
        "max_review_length = 130\n",
        "X_train = pad_sequences(list_tokenized_train, maxlen=max_review_length)\n",
        "y_train = train_df['task_1']"
      ],
      "execution_count": 17,
      "outputs": []
    },
    {
      "cell_type": "code",
      "metadata": {
        "colab": {
          "base_uri": "https://localhost:8080/"
        },
        "id": "QEgmIWYjbuKn",
        "outputId": "0a0e8ea6-97a2-4c7d-e525-3a98ed62ffb7"
      },
      "source": [
        "embedding_vecor_length = 32\n",
        "model = Sequential()\n",
        "model.add(Embedding(top_words+1, embedding_vecor_length, input_length=max_review_length))\n",
        "model.add(LSTM(100))\n",
        "model.add(Dense(1, activation='sigmoid'))\n",
        "model.compile(loss='binary_crossentropy', optimizer='adam', metrics=['accuracy'])\n",
        "model.summary()"
      ],
      "execution_count": 18,
      "outputs": [
        {
          "output_type": "stream",
          "text": [
            "Model: \"sequential\"\n",
            "_________________________________________________________________\n",
            "Layer (type)                 Output Shape              Param #   \n",
            "=================================================================\n",
            "embedding (Embedding)        (None, 130, 32)           192032    \n",
            "_________________________________________________________________\n",
            "lstm (LSTM)                  (None, 100)               53200     \n",
            "_________________________________________________________________\n",
            "dense (Dense)                (None, 1)                 101       \n",
            "=================================================================\n",
            "Total params: 245,333\n",
            "Trainable params: 245,333\n",
            "Non-trainable params: 0\n",
            "_________________________________________________________________\n"
          ],
          "name": "stdout"
        }
      ]
    },
    {
      "cell_type": "code",
      "metadata": {
        "colab": {
          "base_uri": "https://localhost:8080/"
        },
        "id": "VOUHnwsnePBp",
        "outputId": "32a3a86b-b272-49eb-b634-4614900f3b83"
      },
      "source": [
        "history = model.fit(X_train,y_train, epochs=100, batch_size=64, validation_split=0.2)"
      ],
      "execution_count": 19,
      "outputs": [
        {
          "output_type": "stream",
          "text": [
            "Epoch 1/100\n",
            "39/39 [==============================] - 22s 34ms/step - loss: 0.6624 - accuracy: 0.6536 - val_loss: 0.6382 - val_accuracy: 0.6439\n",
            "Epoch 2/100\n",
            "39/39 [==============================] - 1s 13ms/step - loss: 0.5924 - accuracy: 0.6928 - val_loss: 0.5562 - val_accuracy: 0.6911\n",
            "Epoch 3/100\n",
            "39/39 [==============================] - 0s 13ms/step - loss: 0.4088 - accuracy: 0.8362 - val_loss: 0.5170 - val_accuracy: 0.7545\n",
            "Epoch 4/100\n",
            "39/39 [==============================] - 0s 12ms/step - loss: 0.2668 - accuracy: 0.9101 - val_loss: 0.5622 - val_accuracy: 0.7398\n",
            "Epoch 5/100\n",
            "39/39 [==============================] - 1s 15ms/step - loss: 0.1486 - accuracy: 0.9555 - val_loss: 0.6652 - val_accuracy: 0.7350\n",
            "Epoch 6/100\n",
            "39/39 [==============================] - 1s 13ms/step - loss: 0.0929 - accuracy: 0.9730 - val_loss: 0.7269 - val_accuracy: 0.7203\n",
            "Epoch 7/100\n",
            "39/39 [==============================] - 0s 13ms/step - loss: 0.0721 - accuracy: 0.9811 - val_loss: 0.9768 - val_accuracy: 0.7220\n",
            "Epoch 8/100\n",
            "39/39 [==============================] - 0s 13ms/step - loss: 0.0657 - accuracy: 0.9796 - val_loss: 0.8150 - val_accuracy: 0.7171\n",
            "Epoch 9/100\n",
            "39/39 [==============================] - 0s 12ms/step - loss: 0.0476 - accuracy: 0.9856 - val_loss: 0.9858 - val_accuracy: 0.7317\n",
            "Epoch 10/100\n",
            "39/39 [==============================] - 0s 12ms/step - loss: 0.0458 - accuracy: 0.9885 - val_loss: 0.9470 - val_accuracy: 0.7041\n",
            "Epoch 11/100\n",
            "39/39 [==============================] - 1s 13ms/step - loss: 0.0319 - accuracy: 0.9901 - val_loss: 1.0120 - val_accuracy: 0.7089\n",
            "Epoch 12/100\n",
            "39/39 [==============================] - 1s 14ms/step - loss: 0.0317 - accuracy: 0.9890 - val_loss: 0.9025 - val_accuracy: 0.7057\n",
            "Epoch 13/100\n",
            "39/39 [==============================] - 0s 13ms/step - loss: 0.0313 - accuracy: 0.9911 - val_loss: 1.1811 - val_accuracy: 0.7154\n",
            "Epoch 14/100\n",
            "39/39 [==============================] - 0s 12ms/step - loss: 0.0234 - accuracy: 0.9932 - val_loss: 1.2798 - val_accuracy: 0.7089\n",
            "Epoch 15/100\n",
            "39/39 [==============================] - 0s 13ms/step - loss: 0.0197 - accuracy: 0.9930 - val_loss: 1.2291 - val_accuracy: 0.7138\n",
            "Epoch 16/100\n",
            "39/39 [==============================] - 0s 12ms/step - loss: 0.0178 - accuracy: 0.9963 - val_loss: 1.3595 - val_accuracy: 0.7024\n",
            "Epoch 17/100\n",
            "39/39 [==============================] - 0s 13ms/step - loss: 0.0162 - accuracy: 0.9961 - val_loss: 1.3513 - val_accuracy: 0.7122\n",
            "Epoch 18/100\n",
            "39/39 [==============================] - 1s 15ms/step - loss: 0.0134 - accuracy: 0.9953 - val_loss: 1.5732 - val_accuracy: 0.7008\n",
            "Epoch 19/100\n",
            "39/39 [==============================] - 1s 14ms/step - loss: 0.0183 - accuracy: 0.9964 - val_loss: 1.6280 - val_accuracy: 0.7041\n",
            "Epoch 20/100\n",
            "39/39 [==============================] - 0s 12ms/step - loss: 0.0152 - accuracy: 0.9934 - val_loss: 1.3439 - val_accuracy: 0.7106\n",
            "Epoch 21/100\n",
            "39/39 [==============================] - 0s 13ms/step - loss: 0.0137 - accuracy: 0.9958 - val_loss: 1.6359 - val_accuracy: 0.6943\n",
            "Epoch 22/100\n",
            "39/39 [==============================] - 0s 12ms/step - loss: 0.0107 - accuracy: 0.9955 - val_loss: 1.2250 - val_accuracy: 0.7187\n",
            "Epoch 23/100\n",
            "39/39 [==============================] - 1s 13ms/step - loss: 0.0447 - accuracy: 0.9886 - val_loss: 1.3286 - val_accuracy: 0.7154\n",
            "Epoch 24/100\n",
            "39/39 [==============================] - 0s 13ms/step - loss: 0.0150 - accuracy: 0.9953 - val_loss: 1.3894 - val_accuracy: 0.6992\n",
            "Epoch 25/100\n",
            "39/39 [==============================] - 1s 13ms/step - loss: 0.0131 - accuracy: 0.9949 - val_loss: 1.4347 - val_accuracy: 0.6992\n",
            "Epoch 26/100\n",
            "39/39 [==============================] - 1s 14ms/step - loss: 0.0078 - accuracy: 0.9976 - val_loss: 1.5209 - val_accuracy: 0.7073\n",
            "Epoch 27/100\n",
            "39/39 [==============================] - 1s 13ms/step - loss: 0.0146 - accuracy: 0.9965 - val_loss: 1.3103 - val_accuracy: 0.7073\n",
            "Epoch 28/100\n",
            "39/39 [==============================] - 0s 13ms/step - loss: 0.0164 - accuracy: 0.9957 - val_loss: 1.6200 - val_accuracy: 0.6992\n",
            "Epoch 29/100\n",
            "39/39 [==============================] - 0s 13ms/step - loss: 0.0209 - accuracy: 0.9946 - val_loss: 1.4651 - val_accuracy: 0.6959\n",
            "Epoch 30/100\n",
            "39/39 [==============================] - 0s 12ms/step - loss: 0.0089 - accuracy: 0.9958 - val_loss: 1.5426 - val_accuracy: 0.7073\n",
            "Epoch 31/100\n",
            "39/39 [==============================] - 0s 13ms/step - loss: 0.0077 - accuracy: 0.9982 - val_loss: 1.5786 - val_accuracy: 0.7024\n",
            "Epoch 32/100\n",
            "39/39 [==============================] - 1s 15ms/step - loss: 0.0094 - accuracy: 0.9970 - val_loss: 1.5296 - val_accuracy: 0.6878\n",
            "Epoch 33/100\n",
            "39/39 [==============================] - 1s 13ms/step - loss: 0.0097 - accuracy: 0.9976 - val_loss: 1.6745 - val_accuracy: 0.7008\n",
            "Epoch 34/100\n",
            "39/39 [==============================] - 0s 13ms/step - loss: 0.0086 - accuracy: 0.9976 - val_loss: 1.5614 - val_accuracy: 0.7024\n",
            "Epoch 35/100\n",
            "39/39 [==============================] - 0s 13ms/step - loss: 0.0090 - accuracy: 0.9958 - val_loss: 1.6575 - val_accuracy: 0.6943\n",
            "Epoch 36/100\n",
            "39/39 [==============================] - 0s 13ms/step - loss: 0.0089 - accuracy: 0.9959 - val_loss: 1.4529 - val_accuracy: 0.6959\n",
            "Epoch 37/100\n",
            "39/39 [==============================] - 0s 13ms/step - loss: 0.0082 - accuracy: 0.9965 - val_loss: 1.6725 - val_accuracy: 0.7057\n",
            "Epoch 38/100\n",
            "39/39 [==============================] - 1s 14ms/step - loss: 0.0068 - accuracy: 0.9972 - val_loss: 1.6298 - val_accuracy: 0.6976\n",
            "Epoch 39/100\n",
            "39/39 [==============================] - 1s 15ms/step - loss: 0.0063 - accuracy: 0.9977 - val_loss: 1.7637 - val_accuracy: 0.6927\n",
            "Epoch 40/100\n",
            "39/39 [==============================] - 0s 13ms/step - loss: 0.0066 - accuracy: 0.9968 - val_loss: 1.7530 - val_accuracy: 0.7057\n",
            "Epoch 41/100\n",
            "39/39 [==============================] - 1s 14ms/step - loss: 0.0053 - accuracy: 0.9980 - val_loss: 1.8589 - val_accuracy: 0.7057\n",
            "Epoch 42/100\n",
            "39/39 [==============================] - 1s 14ms/step - loss: 0.0102 - accuracy: 0.9944 - val_loss: 1.5616 - val_accuracy: 0.7220\n",
            "Epoch 43/100\n",
            "39/39 [==============================] - 0s 13ms/step - loss: 0.0100 - accuracy: 0.9964 - val_loss: 1.5849 - val_accuracy: 0.6959\n",
            "Epoch 44/100\n",
            "39/39 [==============================] - 0s 12ms/step - loss: 0.0087 - accuracy: 0.9955 - val_loss: 1.6628 - val_accuracy: 0.6976\n",
            "Epoch 45/100\n",
            "39/39 [==============================] - 1s 13ms/step - loss: 0.0066 - accuracy: 0.9969 - val_loss: 1.6815 - val_accuracy: 0.6943\n",
            "Epoch 46/100\n",
            "39/39 [==============================] - 0s 13ms/step - loss: 0.0074 - accuracy: 0.9958 - val_loss: 1.8387 - val_accuracy: 0.6992\n",
            "Epoch 47/100\n",
            "39/39 [==============================] - 1s 14ms/step - loss: 0.0113 - accuracy: 0.9938 - val_loss: 1.7440 - val_accuracy: 0.6976\n",
            "Epoch 48/100\n",
            "39/39 [==============================] - 0s 13ms/step - loss: 0.0077 - accuracy: 0.9956 - val_loss: 1.8488 - val_accuracy: 0.6911\n",
            "Epoch 49/100\n",
            "39/39 [==============================] - 1s 13ms/step - loss: 0.0071 - accuracy: 0.9976 - val_loss: 1.7615 - val_accuracy: 0.6943\n",
            "Epoch 50/100\n",
            "39/39 [==============================] - 0s 13ms/step - loss: 0.0091 - accuracy: 0.9944 - val_loss: 1.8642 - val_accuracy: 0.6894\n",
            "Epoch 51/100\n",
            "39/39 [==============================] - 1s 13ms/step - loss: 0.0077 - accuracy: 0.9961 - val_loss: 1.7958 - val_accuracy: 0.7008\n",
            "Epoch 52/100\n",
            "39/39 [==============================] - 0s 12ms/step - loss: 0.0096 - accuracy: 0.9951 - val_loss: 1.8270 - val_accuracy: 0.6976\n",
            "Epoch 53/100\n",
            "39/39 [==============================] - 0s 13ms/step - loss: 0.0039 - accuracy: 0.9981 - val_loss: 1.9328 - val_accuracy: 0.6943\n",
            "Epoch 54/100\n",
            "39/39 [==============================] - 0s 12ms/step - loss: 0.0049 - accuracy: 0.9971 - val_loss: 1.9018 - val_accuracy: 0.6927\n",
            "Epoch 55/100\n",
            "39/39 [==============================] - 1s 13ms/step - loss: 0.0060 - accuracy: 0.9959 - val_loss: 1.8679 - val_accuracy: 0.6959\n",
            "Epoch 56/100\n",
            "39/39 [==============================] - 0s 13ms/step - loss: 0.0048 - accuracy: 0.9972 - val_loss: 2.0697 - val_accuracy: 0.6813\n",
            "Epoch 57/100\n",
            "39/39 [==============================] - 0s 13ms/step - loss: 0.0042 - accuracy: 0.9971 - val_loss: 2.0209 - val_accuracy: 0.6878\n",
            "Epoch 58/100\n",
            "39/39 [==============================] - 0s 12ms/step - loss: 0.0065 - accuracy: 0.9974 - val_loss: 1.9756 - val_accuracy: 0.6894\n",
            "Epoch 59/100\n",
            "39/39 [==============================] - 0s 13ms/step - loss: 0.0045 - accuracy: 0.9985 - val_loss: 1.9213 - val_accuracy: 0.6976\n",
            "Epoch 60/100\n",
            "39/39 [==============================] - 0s 13ms/step - loss: 0.0047 - accuracy: 0.9971 - val_loss: 2.0381 - val_accuracy: 0.6797\n",
            "Epoch 61/100\n",
            "39/39 [==============================] - 0s 13ms/step - loss: 0.0085 - accuracy: 0.9960 - val_loss: 2.0385 - val_accuracy: 0.6829\n",
            "Epoch 62/100\n",
            "39/39 [==============================] - 1s 13ms/step - loss: 0.0052 - accuracy: 0.9972 - val_loss: 2.2106 - val_accuracy: 0.6894\n",
            "Epoch 63/100\n",
            "39/39 [==============================] - 0s 13ms/step - loss: 0.0076 - accuracy: 0.9942 - val_loss: 2.1556 - val_accuracy: 0.6813\n",
            "Epoch 64/100\n",
            "39/39 [==============================] - 1s 13ms/step - loss: 0.0050 - accuracy: 0.9973 - val_loss: 2.2018 - val_accuracy: 0.6846\n",
            "Epoch 65/100\n",
            "39/39 [==============================] - 0s 13ms/step - loss: 0.0054 - accuracy: 0.9968 - val_loss: 2.1842 - val_accuracy: 0.6846\n",
            "Epoch 66/100\n",
            "39/39 [==============================] - 1s 13ms/step - loss: 0.0087 - accuracy: 0.9949 - val_loss: 2.2647 - val_accuracy: 0.6813\n",
            "Epoch 67/100\n",
            "39/39 [==============================] - 1s 13ms/step - loss: 0.0063 - accuracy: 0.9961 - val_loss: 2.1880 - val_accuracy: 0.6846\n",
            "Epoch 68/100\n",
            "39/39 [==============================] - 0s 13ms/step - loss: 0.0045 - accuracy: 0.9973 - val_loss: 2.3113 - val_accuracy: 0.6780\n",
            "Epoch 69/100\n",
            "39/39 [==============================] - 1s 13ms/step - loss: 0.0052 - accuracy: 0.9966 - val_loss: 2.3335 - val_accuracy: 0.6780\n",
            "Epoch 70/100\n",
            "39/39 [==============================] - 0s 13ms/step - loss: 0.0038 - accuracy: 0.9976 - val_loss: 2.3769 - val_accuracy: 0.6829\n",
            "Epoch 71/100\n",
            "39/39 [==============================] - 1s 13ms/step - loss: 0.0041 - accuracy: 0.9983 - val_loss: 2.2861 - val_accuracy: 0.6764\n",
            "Epoch 72/100\n",
            "39/39 [==============================] - 1s 13ms/step - loss: 0.0039 - accuracy: 0.9973 - val_loss: 2.3986 - val_accuracy: 0.6846\n",
            "Epoch 73/100\n",
            "39/39 [==============================] - 1s 13ms/step - loss: 0.0054 - accuracy: 0.9978 - val_loss: 2.2882 - val_accuracy: 0.6813\n",
            "Epoch 74/100\n",
            "39/39 [==============================] - 1s 13ms/step - loss: 0.0055 - accuracy: 0.9961 - val_loss: 2.4425 - val_accuracy: 0.6894\n",
            "Epoch 75/100\n",
            "39/39 [==============================] - 1s 14ms/step - loss: 0.0060 - accuracy: 0.9965 - val_loss: 2.3759 - val_accuracy: 0.6732\n",
            "Epoch 76/100\n",
            "39/39 [==============================] - 1s 13ms/step - loss: 0.0084 - accuracy: 0.9946 - val_loss: 2.4063 - val_accuracy: 0.6780\n",
            "Epoch 77/100\n",
            "39/39 [==============================] - 1s 13ms/step - loss: 0.0074 - accuracy: 0.9969 - val_loss: 2.5530 - val_accuracy: 0.6862\n",
            "Epoch 78/100\n",
            "39/39 [==============================] - 0s 13ms/step - loss: 0.0055 - accuracy: 0.9967 - val_loss: 1.8599 - val_accuracy: 0.6878\n",
            "Epoch 79/100\n",
            "39/39 [==============================] - 1s 13ms/step - loss: 0.0066 - accuracy: 0.9970 - val_loss: 2.0341 - val_accuracy: 0.6943\n",
            "Epoch 80/100\n",
            "39/39 [==============================] - 0s 13ms/step - loss: 0.0085 - accuracy: 0.9948 - val_loss: 2.3095 - val_accuracy: 0.6748\n",
            "Epoch 81/100\n",
            "39/39 [==============================] - 1s 13ms/step - loss: 0.0059 - accuracy: 0.9966 - val_loss: 2.3908 - val_accuracy: 0.6764\n",
            "Epoch 82/100\n",
            "39/39 [==============================] - 0s 13ms/step - loss: 0.0035 - accuracy: 0.9977 - val_loss: 2.4407 - val_accuracy: 0.6748\n",
            "Epoch 83/100\n",
            "39/39 [==============================] - 0s 13ms/step - loss: 0.0036 - accuracy: 0.9989 - val_loss: 2.2627 - val_accuracy: 0.6764\n",
            "Epoch 84/100\n",
            "39/39 [==============================] - 1s 13ms/step - loss: 0.0059 - accuracy: 0.9962 - val_loss: 2.6135 - val_accuracy: 0.6732\n",
            "Epoch 85/100\n",
            "39/39 [==============================] - 1s 13ms/step - loss: 0.0046 - accuracy: 0.9980 - val_loss: 2.6576 - val_accuracy: 0.6699\n",
            "Epoch 86/100\n",
            "39/39 [==============================] - 1s 13ms/step - loss: 0.0042 - accuracy: 0.9973 - val_loss: 2.4721 - val_accuracy: 0.6715\n",
            "Epoch 87/100\n",
            "39/39 [==============================] - 1s 13ms/step - loss: 0.0040 - accuracy: 0.9974 - val_loss: 2.5035 - val_accuracy: 0.6829\n",
            "Epoch 88/100\n",
            "39/39 [==============================] - 1s 15ms/step - loss: 0.0058 - accuracy: 0.9954 - val_loss: 2.5295 - val_accuracy: 0.6813\n",
            "Epoch 89/100\n",
            "39/39 [==============================] - 1s 14ms/step - loss: 0.0060 - accuracy: 0.9955 - val_loss: 2.5341 - val_accuracy: 0.6764\n",
            "Epoch 90/100\n",
            "39/39 [==============================] - 1s 14ms/step - loss: 0.0044 - accuracy: 0.9967 - val_loss: 2.5893 - val_accuracy: 0.6780\n",
            "Epoch 91/100\n",
            "39/39 [==============================] - 1s 14ms/step - loss: 0.0073 - accuracy: 0.9961 - val_loss: 2.5373 - val_accuracy: 0.6780\n",
            "Epoch 92/100\n",
            "39/39 [==============================] - 1s 14ms/step - loss: 0.0037 - accuracy: 0.9971 - val_loss: 2.6263 - val_accuracy: 0.6748\n",
            "Epoch 93/100\n",
            "39/39 [==============================] - 1s 14ms/step - loss: 0.0047 - accuracy: 0.9982 - val_loss: 2.6560 - val_accuracy: 0.6764\n",
            "Epoch 94/100\n",
            "39/39 [==============================] - 1s 14ms/step - loss: 0.0049 - accuracy: 0.9978 - val_loss: 2.6387 - val_accuracy: 0.6764\n",
            "Epoch 95/100\n",
            "39/39 [==============================] - 1s 13ms/step - loss: 0.0070 - accuracy: 0.9964 - val_loss: 2.6203 - val_accuracy: 0.6764\n",
            "Epoch 96/100\n",
            "39/39 [==============================] - 1s 13ms/step - loss: 0.0079 - accuracy: 0.9945 - val_loss: 2.7393 - val_accuracy: 0.6683\n",
            "Epoch 97/100\n",
            "39/39 [==============================] - 1s 14ms/step - loss: 0.0068 - accuracy: 0.9957 - val_loss: 2.9000 - val_accuracy: 0.6764\n",
            "Epoch 98/100\n",
            "39/39 [==============================] - 1s 14ms/step - loss: 0.0044 - accuracy: 0.9971 - val_loss: 2.7858 - val_accuracy: 0.6715\n",
            "Epoch 99/100\n",
            "39/39 [==============================] - 1s 14ms/step - loss: 0.0050 - accuracy: 0.9964 - val_loss: 2.8144 - val_accuracy: 0.6764\n",
            "Epoch 100/100\n",
            "39/39 [==============================] - 1s 13ms/step - loss: 0.0050 - accuracy: 0.9970 - val_loss: 2.7748 - val_accuracy: 0.6667\n"
          ],
          "name": "stdout"
        }
      ]
    },
    {
      "cell_type": "markdown",
      "metadata": {
        "id": "yUlya40YIf-t"
      },
      "source": [
        "Result Evaluation model for Basic LSTM Model"
      ]
    },
    {
      "cell_type": "code",
      "metadata": {
        "colab": {
          "base_uri": "https://localhost:8080/"
        },
        "id": "B-jvVKwgIcjq",
        "outputId": "a6fd2003-f04a-413d-9e03-866326e26937"
      },
      "source": [
        "list_tokenized_test = tokenizer.texts_to_sequences(test_df['text'])\n",
        "X_test = pad_sequences(list_tokenized_test, maxlen=max_review_length)\n",
        "y_test = test_df['task_1']\n",
        "prediction = model.predict(X_test)\n",
        "y_pred = (prediction > 0.5)\n",
        "print(\"Accuracy of the model : \", accuracy_score(y_pred, y_test))\n",
        "print('F1-score: ', f1_score(y_pred, y_test))\n",
        "print('Confusion matrix:')\n",
        "confusion_matrix(y_test,y_pred)"
      ],
      "execution_count": 20,
      "outputs": [
        {
          "output_type": "stream",
          "text": [
            "Accuracy of the model :  0.717815344603381\n",
            "F1-score:  0.7923444976076555\n",
            "Confusion matrix:\n"
          ],
          "name": "stdout"
        },
        {
          "output_type": "execute_result",
          "data": {
            "text/plain": [
              "array([[138, 102],\n",
              "       [115, 414]])"
            ]
          },
          "metadata": {
            "tags": []
          },
          "execution_count": 20
        }
      ]
    },
    {
      "cell_type": "code",
      "metadata": {
        "colab": {
          "base_uri": "https://localhost:8080/",
          "height": 542
        },
        "id": "m0AMfK7pIrPe",
        "outputId": "156686a1-6c04-410e-85ac-2d214384b920"
      },
      "source": [
        "import matplotlib.pyplot as plt\n",
        "\n",
        "\n",
        "def plot_graphs(history, string):\n",
        "  plt.plot(history.history[string])\n",
        "  plt.plot(history.history['val_'+string])\n",
        "  plt.xlabel(\"Epochs\")\n",
        "  plt.ylabel(string)\n",
        "  plt.legend([string, 'val_'+string])\n",
        "  plt.show()\n",
        "\n",
        "plot_graphs(history, 'accuracy')\n",
        "plot_graphs(history, 'loss')"
      ],
      "execution_count": 40,
      "outputs": [
        {
          "output_type": "display_data",
          "data": {
            "image/png": "[encoded data removed]",
            "text/plain": [
              "<Figure size 432x288 with 1 Axes>"
            ]
          },
          "metadata": {
            "tags": [],
            "needs_background": "light"
          }
        },
        {
          "output_type": "display_data",
          "data": {
            "image/png": "[encoded data removed]",
            "text/plain": [
              "<Figure size 432x288 with 1 Axes>"
            ]
          },
          "metadata": {
            "tags": [],
            "needs_background": "light"
          }
        }
      ]
    },
    {
      "cell_type": "markdown",
      "metadata": {
        "id": "N0KcGKuqcbcf"
      },
      "source": [
        "#Bidirectional GRU model and training"
      ]
    },
    {
      "cell_type": "code",
      "metadata": {
        "colab": {
          "base_uri": "https://localhost:8080/"
        },
        "id": "OO8K6cOjc2uJ",
        "outputId": "ede4265e-7b9a-4490-ebb7-b548ff3c9fd8"
      },
      "source": [
        "model2 = tf.keras.Sequential([\n",
        "    tf.keras.layers.Embedding(top_words+1, embedding_vecor_length, input_length=max_review_length),\n",
        "    tf.keras.layers.Bidirectional(tf.keras.layers.GRU(32)),\n",
        "    tf.keras.layers.Dense(6, activation='relu'),\n",
        "    tf.keras.layers.Dense(1, activation='sigmoid')\n",
        "])\n",
        "model2.compile(loss='binary_crossentropy',optimizer='adam',metrics=['accuracy'])\n",
        "model2.summary()"
      ],
      "execution_count": 41,
      "outputs": [
        {
          "output_type": "stream",
          "text": [
            "Model: \"sequential_4\"\n",
            "_________________________________________________________________\n",
            "Layer (type)                 Output Shape              Param #   \n",
            "=================================================================\n",
            "embedding_4 (Embedding)      (None, 130, 32)           192032    \n",
            "_________________________________________________________________\n",
            "bidirectional_3 (Bidirection (None, 64)                12672     \n",
            "_________________________________________________________________\n",
            "dense_8 (Dense)              (None, 6)                 390       \n",
            "_________________________________________________________________\n",
            "dense_9 (Dense)              (None, 1)                 7         \n",
            "=================================================================\n",
            "Total params: 205,101\n",
            "Trainable params: 205,101\n",
            "Non-trainable params: 0\n",
            "_________________________________________________________________\n"
          ],
          "name": "stdout"
        }
      ]
    },
    {
      "cell_type": "code",
      "metadata": {
        "colab": {
          "base_uri": "https://localhost:8080/"
        },
        "id": "1oNjWcyycPjv",
        "outputId": "dd184fcc-651c-4a96-f2cc-3415b5644cfe"
      },
      "source": [
        "history2 = model2.fit(X_train,y_train, epochs=100, batch_size=64, validation_split=0.2)"
      ],
      "execution_count": 42,
      "outputs": [
        {
          "output_type": "stream",
          "text": [
            "Epoch 1/100\n",
            "39/39 [==============================] - 4s 42ms/step - loss: 0.6582 - accuracy: 0.6409 - val_loss: 0.6407 - val_accuracy: 0.6439\n",
            "Epoch 2/100\n",
            "39/39 [==============================] - 1s 16ms/step - loss: 0.5959 - accuracy: 0.6523 - val_loss: 0.5574 - val_accuracy: 0.7301\n",
            "Epoch 3/100\n",
            "39/39 [==============================] - 1s 17ms/step - loss: 0.4300 - accuracy: 0.8259 - val_loss: 0.5261 - val_accuracy: 0.7463\n",
            "Epoch 4/100\n",
            "39/39 [==============================] - 1s 16ms/step - loss: 0.2593 - accuracy: 0.8987 - val_loss: 0.6013 - val_accuracy: 0.7561\n",
            "Epoch 5/100\n",
            "39/39 [==============================] - 1s 16ms/step - loss: 0.1434 - accuracy: 0.9492 - val_loss: 0.6941 - val_accuracy: 0.7545\n",
            "Epoch 6/100\n",
            "39/39 [==============================] - 1s 16ms/step - loss: 0.0851 - accuracy: 0.9768 - val_loss: 0.8025 - val_accuracy: 0.7138\n",
            "Epoch 7/100\n",
            "39/39 [==============================] - 1s 16ms/step - loss: 0.0648 - accuracy: 0.9817 - val_loss: 0.8790 - val_accuracy: 0.7203\n",
            "Epoch 8/100\n",
            "39/39 [==============================] - 1s 16ms/step - loss: 0.0477 - accuracy: 0.9870 - val_loss: 0.9500 - val_accuracy: 0.7106\n",
            "Epoch 9/100\n",
            "39/39 [==============================] - 1s 16ms/step - loss: 0.0417 - accuracy: 0.9898 - val_loss: 1.0708 - val_accuracy: 0.7024\n",
            "Epoch 10/100\n",
            "39/39 [==============================] - 1s 16ms/step - loss: 0.0375 - accuracy: 0.9915 - val_loss: 1.1044 - val_accuracy: 0.7187\n",
            "Epoch 11/100\n",
            "39/39 [==============================] - 1s 16ms/step - loss: 0.0241 - accuracy: 0.9943 - val_loss: 1.2167 - val_accuracy: 0.7236\n",
            "Epoch 12/100\n",
            "39/39 [==============================] - 1s 15ms/step - loss: 0.0246 - accuracy: 0.9923 - val_loss: 1.2064 - val_accuracy: 0.7187\n",
            "Epoch 13/100\n",
            "39/39 [==============================] - 1s 15ms/step - loss: 0.0202 - accuracy: 0.9943 - val_loss: 1.2920 - val_accuracy: 0.7236\n",
            "Epoch 14/100\n",
            "39/39 [==============================] - 1s 16ms/step - loss: 0.0215 - accuracy: 0.9939 - val_loss: 1.4106 - val_accuracy: 0.7236\n",
            "Epoch 15/100\n",
            "39/39 [==============================] - 1s 16ms/step - loss: 0.0182 - accuracy: 0.9959 - val_loss: 1.2900 - val_accuracy: 0.7154\n",
            "Epoch 16/100\n",
            "39/39 [==============================] - 1s 16ms/step - loss: 0.0177 - accuracy: 0.9939 - val_loss: 1.3109 - val_accuracy: 0.7106\n",
            "Epoch 17/100\n",
            "39/39 [==============================] - 1s 15ms/step - loss: 0.0155 - accuracy: 0.9947 - val_loss: 1.3096 - val_accuracy: 0.7089\n",
            "Epoch 18/100\n",
            "39/39 [==============================] - 1s 16ms/step - loss: 0.0181 - accuracy: 0.9931 - val_loss: 1.4206 - val_accuracy: 0.7057\n",
            "Epoch 19/100\n",
            "39/39 [==============================] - 1s 16ms/step - loss: 0.0188 - accuracy: 0.9947 - val_loss: 1.4094 - val_accuracy: 0.7187\n",
            "Epoch 20/100\n",
            "39/39 [==============================] - 1s 16ms/step - loss: 0.0153 - accuracy: 0.9963 - val_loss: 1.4135 - val_accuracy: 0.7236\n",
            "Epoch 21/100\n",
            "39/39 [==============================] - 1s 16ms/step - loss: 0.0162 - accuracy: 0.9943 - val_loss: 1.5075 - val_accuracy: 0.7220\n",
            "Epoch 22/100\n",
            "39/39 [==============================] - 1s 16ms/step - loss: 0.0167 - accuracy: 0.9943 - val_loss: 1.5659 - val_accuracy: 0.7187\n",
            "Epoch 23/100\n",
            "39/39 [==============================] - 1s 15ms/step - loss: 0.0123 - accuracy: 0.9959 - val_loss: 1.4877 - val_accuracy: 0.7252\n",
            "Epoch 24/100\n",
            "39/39 [==============================] - 1s 16ms/step - loss: 0.0134 - accuracy: 0.9951 - val_loss: 1.4411 - val_accuracy: 0.7285\n",
            "Epoch 25/100\n",
            "39/39 [==============================] - 1s 15ms/step - loss: 0.0163 - accuracy: 0.9959 - val_loss: 1.6253 - val_accuracy: 0.7138\n",
            "Epoch 26/100\n",
            "39/39 [==============================] - 1s 16ms/step - loss: 0.0161 - accuracy: 0.9947 - val_loss: 1.4547 - val_accuracy: 0.7073\n",
            "Epoch 27/100\n",
            "39/39 [==============================] - 1s 16ms/step - loss: 0.0107 - accuracy: 0.9951 - val_loss: 1.6656 - val_accuracy: 0.6976\n",
            "Epoch 28/100\n",
            "39/39 [==============================] - 1s 15ms/step - loss: 0.0152 - accuracy: 0.9951 - val_loss: 1.5785 - val_accuracy: 0.7024\n",
            "Epoch 29/100\n",
            "39/39 [==============================] - 1s 15ms/step - loss: 0.0144 - accuracy: 0.9963 - val_loss: 1.6858 - val_accuracy: 0.7008\n",
            "Epoch 30/100\n",
            "39/39 [==============================] - 1s 16ms/step - loss: 0.0148 - accuracy: 0.9947 - val_loss: 1.5721 - val_accuracy: 0.7041\n",
            "Epoch 31/100\n",
            "39/39 [==============================] - 1s 16ms/step - loss: 0.0128 - accuracy: 0.9947 - val_loss: 1.5694 - val_accuracy: 0.7024\n",
            "Epoch 32/100\n",
            "39/39 [==============================] - 1s 16ms/step - loss: 0.0100 - accuracy: 0.9951 - val_loss: 1.6350 - val_accuracy: 0.7024\n",
            "Epoch 33/100\n",
            "39/39 [==============================] - 1s 15ms/step - loss: 0.0114 - accuracy: 0.9947 - val_loss: 1.6776 - val_accuracy: 0.7008\n",
            "Epoch 34/100\n",
            "39/39 [==============================] - 1s 16ms/step - loss: 0.0110 - accuracy: 0.9951 - val_loss: 1.6074 - val_accuracy: 0.7024\n",
            "Epoch 35/100\n",
            "39/39 [==============================] - 1s 15ms/step - loss: 0.0094 - accuracy: 0.9963 - val_loss: 1.5935 - val_accuracy: 0.7008\n",
            "Epoch 36/100\n",
            "39/39 [==============================] - 1s 16ms/step - loss: 0.0111 - accuracy: 0.9951 - val_loss: 1.7330 - val_accuracy: 0.7024\n",
            "Epoch 37/100\n",
            "39/39 [==============================] - 1s 16ms/step - loss: 0.0138 - accuracy: 0.9955 - val_loss: 1.6011 - val_accuracy: 0.7073\n",
            "Epoch 38/100\n",
            "39/39 [==============================] - 1s 15ms/step - loss: 0.0090 - accuracy: 0.9972 - val_loss: 1.6699 - val_accuracy: 0.7008\n",
            "Epoch 39/100\n",
            "39/39 [==============================] - 1s 16ms/step - loss: 0.0126 - accuracy: 0.9963 - val_loss: 1.5942 - val_accuracy: 0.6992\n",
            "Epoch 40/100\n",
            "39/39 [==============================] - 1s 15ms/step - loss: 0.0117 - accuracy: 0.9967 - val_loss: 1.6246 - val_accuracy: 0.7008\n",
            "Epoch 41/100\n",
            "39/39 [==============================] - 1s 16ms/step - loss: 0.0116 - accuracy: 0.9959 - val_loss: 1.5622 - val_accuracy: 0.7024\n",
            "Epoch 42/100\n",
            "39/39 [==============================] - 1s 16ms/step - loss: 0.0109 - accuracy: 0.9955 - val_loss: 1.6056 - val_accuracy: 0.6976\n",
            "Epoch 43/100\n",
            "39/39 [==============================] - 1s 16ms/step - loss: 0.0101 - accuracy: 0.9955 - val_loss: 1.6926 - val_accuracy: 0.7008\n",
            "Epoch 44/100\n",
            "39/39 [==============================] - 1s 15ms/step - loss: 0.0108 - accuracy: 0.9951 - val_loss: 1.5995 - val_accuracy: 0.6976\n",
            "Epoch 45/100\n",
            "39/39 [==============================] - 1s 16ms/step - loss: 0.0105 - accuracy: 0.9951 - val_loss: 1.6291 - val_accuracy: 0.6959\n",
            "Epoch 46/100\n",
            "39/39 [==============================] - 1s 16ms/step - loss: 0.0097 - accuracy: 0.9935 - val_loss: 1.6656 - val_accuracy: 0.7008\n",
            "Epoch 47/100\n",
            "39/39 [==============================] - 1s 16ms/step - loss: 0.0103 - accuracy: 0.9955 - val_loss: 1.6231 - val_accuracy: 0.6943\n",
            "Epoch 48/100\n",
            "39/39 [==============================] - 1s 16ms/step - loss: 0.0084 - accuracy: 0.9959 - val_loss: 1.6197 - val_accuracy: 0.6911\n",
            "Epoch 49/100\n",
            "39/39 [==============================] - 1s 16ms/step - loss: 0.0093 - accuracy: 0.9955 - val_loss: 1.6619 - val_accuracy: 0.7041\n",
            "Epoch 50/100\n",
            "39/39 [==============================] - 1s 15ms/step - loss: 0.0094 - accuracy: 0.9972 - val_loss: 1.7246 - val_accuracy: 0.6894\n",
            "Epoch 51/100\n",
            "39/39 [==============================] - 1s 16ms/step - loss: 0.0087 - accuracy: 0.9967 - val_loss: 1.6671 - val_accuracy: 0.6927\n",
            "Epoch 52/100\n",
            "39/39 [==============================] - 1s 16ms/step - loss: 0.0080 - accuracy: 0.9955 - val_loss: 1.6951 - val_accuracy: 0.6959\n",
            "Epoch 53/100\n",
            "39/39 [==============================] - 1s 16ms/step - loss: 0.0083 - accuracy: 0.9955 - val_loss: 1.6951 - val_accuracy: 0.6911\n",
            "Epoch 54/100\n",
            "39/39 [==============================] - 1s 16ms/step - loss: 0.0085 - accuracy: 0.9963 - val_loss: 1.6835 - val_accuracy: 0.6829\n",
            "Epoch 55/100\n",
            "39/39 [==============================] - 1s 16ms/step - loss: 0.0082 - accuracy: 0.9967 - val_loss: 1.7275 - val_accuracy: 0.6959\n",
            "Epoch 56/100\n",
            "39/39 [==============================] - 1s 16ms/step - loss: 0.0086 - accuracy: 0.9959 - val_loss: 1.6619 - val_accuracy: 0.6829\n",
            "Epoch 57/100\n",
            "39/39 [==============================] - 1s 16ms/step - loss: 0.0083 - accuracy: 0.9947 - val_loss: 1.7564 - val_accuracy: 0.6943\n",
            "Epoch 58/100\n",
            "39/39 [==============================] - 1s 15ms/step - loss: 0.0088 - accuracy: 0.9955 - val_loss: 1.6947 - val_accuracy: 0.6846\n",
            "Epoch 59/100\n",
            "39/39 [==============================] - 1s 16ms/step - loss: 0.0084 - accuracy: 0.9963 - val_loss: 1.7178 - val_accuracy: 0.6878\n",
            "Epoch 60/100\n",
            "39/39 [==============================] - 1s 15ms/step - loss: 0.0081 - accuracy: 0.9959 - val_loss: 1.7267 - val_accuracy: 0.6992\n",
            "Epoch 61/100\n",
            "39/39 [==============================] - 1s 16ms/step - loss: 0.0082 - accuracy: 0.9967 - val_loss: 1.7204 - val_accuracy: 0.6894\n",
            "Epoch 62/100\n",
            "39/39 [==============================] - 1s 16ms/step - loss: 0.0093 - accuracy: 0.9963 - val_loss: 1.7354 - val_accuracy: 0.6878\n",
            "Epoch 63/100\n",
            "39/39 [==============================] - 1s 16ms/step - loss: 0.0089 - accuracy: 0.9963 - val_loss: 1.7192 - val_accuracy: 0.6976\n",
            "Epoch 64/100\n",
            "39/39 [==============================] - 1s 16ms/step - loss: 0.0082 - accuracy: 0.9963 - val_loss: 1.7153 - val_accuracy: 0.6943\n",
            "Epoch 65/100\n",
            "39/39 [==============================] - 1s 16ms/step - loss: 0.0083 - accuracy: 0.9959 - val_loss: 1.6431 - val_accuracy: 0.6927\n",
            "Epoch 66/100\n",
            "39/39 [==============================] - 1s 16ms/step - loss: 0.0104 - accuracy: 0.9951 - val_loss: 1.8428 - val_accuracy: 0.7008\n",
            "Epoch 67/100\n",
            "39/39 [==============================] - 1s 16ms/step - loss: 0.0071 - accuracy: 0.9963 - val_loss: 1.7670 - val_accuracy: 0.6813\n",
            "Epoch 68/100\n",
            "39/39 [==============================] - 1s 16ms/step - loss: 0.0077 - accuracy: 0.9959 - val_loss: 1.8030 - val_accuracy: 0.6992\n",
            "Epoch 69/100\n",
            "39/39 [==============================] - 1s 16ms/step - loss: 0.0085 - accuracy: 0.9955 - val_loss: 1.7493 - val_accuracy: 0.6797\n",
            "Epoch 70/100\n",
            "39/39 [==============================] - 1s 16ms/step - loss: 0.0083 - accuracy: 0.9955 - val_loss: 1.7540 - val_accuracy: 0.6797\n",
            "Epoch 71/100\n",
            "39/39 [==============================] - 1s 17ms/step - loss: 0.0086 - accuracy: 0.9963 - val_loss: 1.7131 - val_accuracy: 0.6829\n",
            "Epoch 72/100\n",
            "39/39 [==============================] - 1s 16ms/step - loss: 0.0086 - accuracy: 0.9959 - val_loss: 1.7862 - val_accuracy: 0.6894\n",
            "Epoch 73/100\n",
            "39/39 [==============================] - 1s 16ms/step - loss: 0.0078 - accuracy: 0.9963 - val_loss: 1.9061 - val_accuracy: 0.7154\n",
            "Epoch 74/100\n",
            "39/39 [==============================] - 1s 16ms/step - loss: 0.0080 - accuracy: 0.9951 - val_loss: 1.7890 - val_accuracy: 0.6927\n",
            "Epoch 75/100\n",
            "39/39 [==============================] - 1s 16ms/step - loss: 0.0077 - accuracy: 0.9963 - val_loss: 1.8055 - val_accuracy: 0.6846\n",
            "Epoch 76/100\n",
            "39/39 [==============================] - 1s 16ms/step - loss: 0.0077 - accuracy: 0.9967 - val_loss: 1.7753 - val_accuracy: 0.7057\n",
            "Epoch 77/100\n",
            "39/39 [==============================] - 1s 16ms/step - loss: 0.0082 - accuracy: 0.9955 - val_loss: 1.7572 - val_accuracy: 0.7024\n",
            "Epoch 78/100\n",
            "39/39 [==============================] - 1s 16ms/step - loss: 0.0072 - accuracy: 0.9951 - val_loss: 1.8307 - val_accuracy: 0.6959\n",
            "Epoch 79/100\n",
            "39/39 [==============================] - 1s 16ms/step - loss: 0.0076 - accuracy: 0.9963 - val_loss: 1.8107 - val_accuracy: 0.6846\n",
            "Epoch 80/100\n",
            "39/39 [==============================] - 1s 16ms/step - loss: 0.0075 - accuracy: 0.9955 - val_loss: 1.7678 - val_accuracy: 0.6878\n",
            "Epoch 81/100\n",
            "39/39 [==============================] - 1s 16ms/step - loss: 0.0070 - accuracy: 0.9959 - val_loss: 1.7976 - val_accuracy: 0.6927\n",
            "Epoch 82/100\n",
            "39/39 [==============================] - 1s 16ms/step - loss: 0.0071 - accuracy: 0.9963 - val_loss: 1.8302 - val_accuracy: 0.6927\n",
            "Epoch 83/100\n",
            "39/39 [==============================] - 1s 16ms/step - loss: 0.0083 - accuracy: 0.9947 - val_loss: 1.8010 - val_accuracy: 0.7008\n",
            "Epoch 84/100\n",
            "39/39 [==============================] - 1s 16ms/step - loss: 0.0071 - accuracy: 0.9963 - val_loss: 1.7997 - val_accuracy: 0.6911\n",
            "Epoch 85/100\n",
            "39/39 [==============================] - 1s 16ms/step - loss: 0.0075 - accuracy: 0.9951 - val_loss: 1.7816 - val_accuracy: 0.6894\n",
            "Epoch 86/100\n",
            "39/39 [==============================] - 1s 16ms/step - loss: 0.0073 - accuracy: 0.9955 - val_loss: 1.7784 - val_accuracy: 0.6927\n",
            "Epoch 87/100\n",
            "39/39 [==============================] - 1s 16ms/step - loss: 0.0068 - accuracy: 0.9963 - val_loss: 1.8260 - val_accuracy: 0.6959\n",
            "Epoch 88/100\n",
            "39/39 [==============================] - 1s 16ms/step - loss: 0.0076 - accuracy: 0.9955 - val_loss: 1.8098 - val_accuracy: 0.6959\n",
            "Epoch 89/100\n",
            "39/39 [==============================] - 1s 16ms/step - loss: 0.0086 - accuracy: 0.9951 - val_loss: 1.7895 - val_accuracy: 0.6911\n",
            "Epoch 90/100\n",
            "39/39 [==============================] - 1s 16ms/step - loss: 0.0063 - accuracy: 0.9955 - val_loss: 1.9233 - val_accuracy: 0.7024\n",
            "Epoch 91/100\n",
            "39/39 [==============================] - 1s 16ms/step - loss: 0.0067 - accuracy: 0.9972 - val_loss: 1.8403 - val_accuracy: 0.6878\n",
            "Epoch 92/100\n",
            "39/39 [==============================] - 1s 16ms/step - loss: 0.0076 - accuracy: 0.9963 - val_loss: 1.8031 - val_accuracy: 0.6976\n",
            "Epoch 93/100\n",
            "39/39 [==============================] - 1s 16ms/step - loss: 0.0090 - accuracy: 0.9955 - val_loss: 1.8192 - val_accuracy: 0.7057\n",
            "Epoch 94/100\n",
            "39/39 [==============================] - 1s 16ms/step - loss: 0.0066 - accuracy: 0.9955 - val_loss: 1.8734 - val_accuracy: 0.6829\n",
            "Epoch 95/100\n",
            "39/39 [==============================] - 1s 16ms/step - loss: 0.0066 - accuracy: 0.9967 - val_loss: 1.8387 - val_accuracy: 0.6927\n",
            "Epoch 96/100\n",
            "39/39 [==============================] - 1s 16ms/step - loss: 0.0072 - accuracy: 0.9955 - val_loss: 1.9081 - val_accuracy: 0.6862\n",
            "Epoch 97/100\n",
            "39/39 [==============================] - 1s 16ms/step - loss: 0.0177 - accuracy: 0.9923 - val_loss: 1.5948 - val_accuracy: 0.6911\n",
            "Epoch 98/100\n",
            "39/39 [==============================] - 1s 16ms/step - loss: 0.0852 - accuracy: 0.9707 - val_loss: 1.4797 - val_accuracy: 0.6976\n",
            "Epoch 99/100\n",
            "39/39 [==============================] - 1s 16ms/step - loss: 0.0305 - accuracy: 0.9911 - val_loss: 1.6046 - val_accuracy: 0.6943\n",
            "Epoch 100/100\n",
            "39/39 [==============================] - 1s 16ms/step - loss: 0.0160 - accuracy: 0.9939 - val_loss: 1.6782 - val_accuracy: 0.7024\n"
          ],
          "name": "stdout"
        }
      ]
    },
    {
      "cell_type": "markdown",
      "metadata": {
        "id": "DI4YvkJ4JJDf"
      },
      "source": [
        "Result and plot of Bidirectional GRU"
      ]
    },
    {
      "cell_type": "code",
      "metadata": {
        "colab": {
          "base_uri": "https://localhost:8080/"
        },
        "id": "7zmhlALrJS17",
        "outputId": "096eab1b-71b8-4d5d-b044-3dac29ecffb4"
      },
      "source": [
        "list_tokenized_test = tokenizer.texts_to_sequences(test_df['text'])\n",
        "X_test = pad_sequences(list_tokenized_test, maxlen=max_review_length)\n",
        "y_test = test_df['task_1']\n",
        "prediction = model2.predict(X_test)\n",
        "y_pred = (prediction > 0.5)\n",
        "print(\"Accuracy of the model : \", accuracy_score(y_pred, y_test))\n",
        "print('F1-score: ', f1_score(y_pred, y_test))\n",
        "print('Confusion matrix:')\n",
        "confusion_matrix(y_test,y_pred)"
      ],
      "execution_count": 43,
      "outputs": [
        {
          "output_type": "stream",
          "text": [
            "Accuracy of the model :  0.7269180754226268\n",
            "F1-score:  0.8022598870056498\n",
            "Confusion matrix:\n"
          ],
          "name": "stdout"
        },
        {
          "output_type": "execute_result",
          "data": {
            "text/plain": [
              "array([[133, 107],\n",
              "       [103, 426]])"
            ]
          },
          "metadata": {
            "tags": []
          },
          "execution_count": 43
        }
      ]
    },
    {
      "cell_type": "code",
      "metadata": {
        "colab": {
          "base_uri": "https://localhost:8080/",
          "height": 543
        },
        "id": "h0p77R1oJYvu",
        "outputId": "f8714a6c-2ede-46b2-b122-c0d5bff7fbd9"
      },
      "source": [
        "import matplotlib.pyplot as plt\n",
        "\n",
        "\n",
        "def plot_graphs(history, string):\n",
        "  plt.plot(history.history[string])\n",
        "  plt.plot(history.history['val_'+string])\n",
        "  plt.xlabel(\"Epochs\")\n",
        "  plt.ylabel(string)\n",
        "  plt.legend([string, 'val_'+string])\n",
        "  plt.show()\n",
        "\n",
        "plot_graphs(history2, 'accuracy')\n",
        "plot_graphs(history2, 'loss')"
      ],
      "execution_count": 44,
      "outputs": [
        {
          "output_type": "display_data",
          "data": {
            "image/png": "[encoded data removed]",
            "text/plain": [
              "<Figure size 432x288 with 1 Axes>"
            ]
          },
          "metadata": {
            "tags": [],
            "needs_background": "light"
          }
        },
        {
          "output_type": "display_data",
          "data": {
            "image/png": "[encoded data removed]",
            "text/plain": [
              "<Figure size 432x288 with 1 Axes>"
            ]
          },
          "metadata": {
            "tags": [],
            "needs_background": "light"
          }
        }
      ]
    },
    {
      "cell_type": "markdown",
      "metadata": {
        "id": "jhgwiN7zhwWj"
      },
      "source": [
        "#Bidirectional LSTM "
      ]
    },
    {
      "cell_type": "code",
      "metadata": {
        "id": "ACbw3mznh6fR"
      },
      "source": [
        "model3 = tf.keras.Sequential([\n",
        "    tf.keras.layers.Embedding(top_words+1, embedding_vecor_length, input_length=max_review_length),\n",
        "    tf.keras.layers.Bidirectional(tf.keras.layers.LSTM(64, return_sequences=True)),\n",
        "    tf.keras.layers.Bidirectional(tf.keras.layers.LSTM(32)),\n",
        "    tf.keras.layers.Dense(64, activation='relu'),\n",
        "    tf.keras.layers.Dense(1, activation='sigmoid')\n",
        "])"
      ],
      "execution_count": 45,
      "outputs": []
    },
    {
      "cell_type": "code",
      "metadata": {
        "colab": {
          "base_uri": "https://localhost:8080/"
        },
        "id": "bYx5WJ4himcg",
        "outputId": "2b8e2b33-9fb1-4cb8-c4b2-24b31b1c989e"
      },
      "source": [
        "model3.compile(loss='binary_crossentropy',optimizer='adam',metrics=['accuracy'])\n",
        "model3.summary()"
      ],
      "execution_count": 46,
      "outputs": [
        {
          "output_type": "stream",
          "text": [
            "Model: \"sequential_5\"\n",
            "_________________________________________________________________\n",
            "Layer (type)                 Output Shape              Param #   \n",
            "=================================================================\n",
            "embedding_5 (Embedding)      (None, 130, 32)           192032    \n",
            "_________________________________________________________________\n",
            "bidirectional_4 (Bidirection (None, 130, 128)          49664     \n",
            "_________________________________________________________________\n",
            "bidirectional_5 (Bidirection (None, 64)                41216     \n",
            "_________________________________________________________________\n",
            "dense_10 (Dense)             (None, 64)                4160      \n",
            "_________________________________________________________________\n",
            "dense_11 (Dense)             (None, 1)                 65        \n",
            "=================================================================\n",
            "Total params: 287,137\n",
            "Trainable params: 287,137\n",
            "Non-trainable params: 0\n",
            "_________________________________________________________________\n"
          ],
          "name": "stdout"
        }
      ]
    },
    {
      "cell_type": "code",
      "metadata": {
        "colab": {
          "base_uri": "https://localhost:8080/"
        },
        "id": "V3K4Y1aHiqe-",
        "outputId": "80cebca4-1061-4783-fae7-76295fc8e92d"
      },
      "source": [
        "history3 = model3.fit(X_train,y_train, epochs=100, batch_size=64, validation_split=0.2)\n"
      ],
      "execution_count": 47,
      "outputs": [
        {
          "output_type": "stream",
          "text": [
            "Epoch 1/100\n",
            "39/39 [==============================] - 7s 59ms/step - loss: 0.6439 - accuracy: 0.6389 - val_loss: 0.6223 - val_accuracy: 0.6439\n",
            "Epoch 2/100\n",
            "39/39 [==============================] - 1s 27ms/step - loss: 0.4705 - accuracy: 0.7869 - val_loss: 0.5400 - val_accuracy: 0.7545\n",
            "Epoch 3/100\n",
            "39/39 [==============================] - 1s 27ms/step - loss: 0.2419 - accuracy: 0.9138 - val_loss: 0.6339 - val_accuracy: 0.7431\n",
            "Epoch 4/100\n",
            "39/39 [==============================] - 1s 27ms/step - loss: 0.1385 - accuracy: 0.9536 - val_loss: 0.6686 - val_accuracy: 0.7642\n",
            "Epoch 5/100\n",
            "39/39 [==============================] - 1s 26ms/step - loss: 0.0876 - accuracy: 0.9723 - val_loss: 0.8627 - val_accuracy: 0.7350\n",
            "Epoch 6/100\n",
            "39/39 [==============================] - 1s 27ms/step - loss: 0.0579 - accuracy: 0.9821 - val_loss: 1.1092 - val_accuracy: 0.7350\n",
            "Epoch 7/100\n",
            "39/39 [==============================] - 1s 27ms/step - loss: 0.0494 - accuracy: 0.9854 - val_loss: 1.0372 - val_accuracy: 0.7382\n",
            "Epoch 8/100\n",
            "39/39 [==============================] - 1s 27ms/step - loss: 0.0352 - accuracy: 0.9906 - val_loss: 1.1911 - val_accuracy: 0.7333\n",
            "Epoch 9/100\n",
            "39/39 [==============================] - 1s 27ms/step - loss: 0.0262 - accuracy: 0.9927 - val_loss: 1.2528 - val_accuracy: 0.7350\n",
            "Epoch 10/100\n",
            "39/39 [==============================] - 1s 27ms/step - loss: 0.0252 - accuracy: 0.9931 - val_loss: 1.1914 - val_accuracy: 0.7089\n",
            "Epoch 11/100\n",
            "39/39 [==============================] - 1s 27ms/step - loss: 0.0348 - accuracy: 0.9902 - val_loss: 1.3123 - val_accuracy: 0.7154\n",
            "Epoch 12/100\n",
            "39/39 [==============================] - 1s 26ms/step - loss: 0.0292 - accuracy: 0.9935 - val_loss: 1.2296 - val_accuracy: 0.7203\n",
            "Epoch 13/100\n",
            "39/39 [==============================] - 1s 26ms/step - loss: 0.0246 - accuracy: 0.9947 - val_loss: 1.2817 - val_accuracy: 0.7171\n",
            "Epoch 14/100\n",
            "39/39 [==============================] - 1s 26ms/step - loss: 0.0235 - accuracy: 0.9943 - val_loss: 1.2078 - val_accuracy: 0.7285\n",
            "Epoch 15/100\n",
            "39/39 [==============================] - 1s 27ms/step - loss: 0.0253 - accuracy: 0.9931 - val_loss: 1.3265 - val_accuracy: 0.7220\n",
            "Epoch 16/100\n",
            "39/39 [==============================] - 1s 28ms/step - loss: 0.0218 - accuracy: 0.9935 - val_loss: 1.2517 - val_accuracy: 0.7171\n",
            "Epoch 17/100\n",
            "39/39 [==============================] - 1s 27ms/step - loss: 0.0190 - accuracy: 0.9943 - val_loss: 1.2336 - val_accuracy: 0.7187\n",
            "Epoch 18/100\n",
            "39/39 [==============================] - 1s 27ms/step - loss: 0.0184 - accuracy: 0.9951 - val_loss: 1.2627 - val_accuracy: 0.7041\n",
            "Epoch 19/100\n",
            "39/39 [==============================] - 1s 27ms/step - loss: 0.0166 - accuracy: 0.9967 - val_loss: 1.3075 - val_accuracy: 0.7171\n",
            "Epoch 20/100\n",
            "39/39 [==============================] - 1s 27ms/step - loss: 0.0168 - accuracy: 0.9947 - val_loss: 1.1923 - val_accuracy: 0.7138\n",
            "Epoch 21/100\n",
            "39/39 [==============================] - 1s 27ms/step - loss: 0.0125 - accuracy: 0.9967 - val_loss: 1.2900 - val_accuracy: 0.7285\n",
            "Epoch 22/100\n",
            "39/39 [==============================] - 1s 27ms/step - loss: 0.0123 - accuracy: 0.9955 - val_loss: 1.3406 - val_accuracy: 0.7301\n",
            "Epoch 23/100\n",
            "39/39 [==============================] - 1s 27ms/step - loss: 0.0154 - accuracy: 0.9951 - val_loss: 1.3689 - val_accuracy: 0.7187\n",
            "Epoch 24/100\n",
            "39/39 [==============================] - 1s 27ms/step - loss: 0.0133 - accuracy: 0.9959 - val_loss: 1.3994 - val_accuracy: 0.7089\n",
            "Epoch 25/100\n",
            "39/39 [==============================] - 1s 27ms/step - loss: 0.0134 - accuracy: 0.9955 - val_loss: 1.3831 - val_accuracy: 0.7220\n",
            "Epoch 26/100\n",
            "39/39 [==============================] - 1s 27ms/step - loss: 0.0106 - accuracy: 0.9967 - val_loss: 1.4259 - val_accuracy: 0.7089\n",
            "Epoch 27/100\n",
            "39/39 [==============================] - 1s 27ms/step - loss: 0.0126 - accuracy: 0.9951 - val_loss: 1.4944 - val_accuracy: 0.7252\n",
            "Epoch 28/100\n",
            "39/39 [==============================] - 1s 28ms/step - loss: 0.0114 - accuracy: 0.9951 - val_loss: 1.4098 - val_accuracy: 0.7106\n",
            "Epoch 29/100\n",
            "39/39 [==============================] - 1s 27ms/step - loss: 0.0132 - accuracy: 0.9951 - val_loss: 1.4222 - val_accuracy: 0.7106\n",
            "Epoch 30/100\n",
            "39/39 [==============================] - 1s 27ms/step - loss: 0.0127 - accuracy: 0.9951 - val_loss: 1.5118 - val_accuracy: 0.7187\n",
            "Epoch 31/100\n",
            "39/39 [==============================] - 1s 28ms/step - loss: 0.0098 - accuracy: 0.9967 - val_loss: 1.5233 - val_accuracy: 0.7122\n",
            "Epoch 32/100\n",
            "39/39 [==============================] - 1s 27ms/step - loss: 0.0091 - accuracy: 0.9967 - val_loss: 1.5616 - val_accuracy: 0.7106\n",
            "Epoch 33/100\n",
            "39/39 [==============================] - 1s 27ms/step - loss: 0.0131 - accuracy: 0.9951 - val_loss: 1.6938 - val_accuracy: 0.7138\n",
            "Epoch 34/100\n",
            "39/39 [==============================] - 1s 28ms/step - loss: 0.0091 - accuracy: 0.9963 - val_loss: 1.5733 - val_accuracy: 0.7041\n",
            "Epoch 35/100\n",
            "39/39 [==============================] - 1s 26ms/step - loss: 0.0251 - accuracy: 0.9898 - val_loss: 1.5667 - val_accuracy: 0.6618\n",
            "Epoch 36/100\n",
            "39/39 [==============================] - 1s 27ms/step - loss: 0.0298 - accuracy: 0.9894 - val_loss: 1.5293 - val_accuracy: 0.7041\n",
            "Epoch 37/100\n",
            "39/39 [==============================] - 1s 27ms/step - loss: 0.0166 - accuracy: 0.9935 - val_loss: 1.7783 - val_accuracy: 0.7106\n",
            "Epoch 38/100\n",
            "39/39 [==============================] - 1s 27ms/step - loss: 0.0120 - accuracy: 0.9951 - val_loss: 1.7345 - val_accuracy: 0.6911\n",
            "Epoch 39/100\n",
            "39/39 [==============================] - 1s 27ms/step - loss: 0.0121 - accuracy: 0.9947 - val_loss: 1.6509 - val_accuracy: 0.6943\n",
            "Epoch 40/100\n",
            "39/39 [==============================] - 1s 27ms/step - loss: 0.0137 - accuracy: 0.9955 - val_loss: 1.7620 - val_accuracy: 0.6943\n",
            "Epoch 41/100\n",
            "39/39 [==============================] - 1s 27ms/step - loss: 0.0110 - accuracy: 0.9947 - val_loss: 1.7539 - val_accuracy: 0.6992\n",
            "Epoch 42/100\n",
            "39/39 [==============================] - 1s 27ms/step - loss: 0.0099 - accuracy: 0.9959 - val_loss: 1.7697 - val_accuracy: 0.7024\n",
            "Epoch 43/100\n",
            "39/39 [==============================] - 1s 27ms/step - loss: 0.0064 - accuracy: 0.9963 - val_loss: 1.7750 - val_accuracy: 0.7073\n",
            "Epoch 44/100\n",
            "39/39 [==============================] - 1s 27ms/step - loss: 0.0074 - accuracy: 0.9963 - val_loss: 1.8033 - val_accuracy: 0.7008\n",
            "Epoch 45/100\n",
            "39/39 [==============================] - 1s 27ms/step - loss: 0.0066 - accuracy: 0.9967 - val_loss: 1.8394 - val_accuracy: 0.6959\n",
            "Epoch 46/100\n",
            "39/39 [==============================] - 1s 28ms/step - loss: 0.0070 - accuracy: 0.9959 - val_loss: 1.8929 - val_accuracy: 0.7041\n",
            "Epoch 47/100\n",
            "39/39 [==============================] - 1s 27ms/step - loss: 0.0080 - accuracy: 0.9963 - val_loss: 1.8359 - val_accuracy: 0.6943\n",
            "Epoch 48/100\n",
            "39/39 [==============================] - 1s 27ms/step - loss: 0.0078 - accuracy: 0.9951 - val_loss: 1.8201 - val_accuracy: 0.7057\n",
            "Epoch 49/100\n",
            "39/39 [==============================] - 1s 27ms/step - loss: 0.0087 - accuracy: 0.9963 - val_loss: 1.8640 - val_accuracy: 0.7008\n",
            "Epoch 50/100\n",
            "39/39 [==============================] - 1s 27ms/step - loss: 0.0071 - accuracy: 0.9959 - val_loss: 1.8161 - val_accuracy: 0.7024\n",
            "Epoch 51/100\n",
            "39/39 [==============================] - 1s 27ms/step - loss: 0.0067 - accuracy: 0.9959 - val_loss: 1.8370 - val_accuracy: 0.6943\n",
            "Epoch 52/100\n",
            "39/39 [==============================] - 1s 27ms/step - loss: 0.0062 - accuracy: 0.9963 - val_loss: 1.9565 - val_accuracy: 0.7073\n",
            "Epoch 53/100\n",
            "39/39 [==============================] - 1s 27ms/step - loss: 0.0067 - accuracy: 0.9963 - val_loss: 1.9016 - val_accuracy: 0.6959\n",
            "Epoch 54/100\n",
            "39/39 [==============================] - 1s 27ms/step - loss: 0.0082 - accuracy: 0.9947 - val_loss: 1.8889 - val_accuracy: 0.6959\n",
            "Epoch 55/100\n",
            "39/39 [==============================] - 1s 27ms/step - loss: 0.0078 - accuracy: 0.9959 - val_loss: 1.8844 - val_accuracy: 0.7024\n",
            "Epoch 56/100\n",
            "39/39 [==============================] - 1s 27ms/step - loss: 0.0060 - accuracy: 0.9967 - val_loss: 1.9119 - val_accuracy: 0.6943\n",
            "Epoch 57/100\n",
            "39/39 [==============================] - 1s 28ms/step - loss: 0.0068 - accuracy: 0.9963 - val_loss: 1.9671 - val_accuracy: 0.7024\n",
            "Epoch 58/100\n",
            "39/39 [==============================] - 1s 27ms/step - loss: 0.0066 - accuracy: 0.9963 - val_loss: 1.9309 - val_accuracy: 0.7073\n",
            "Epoch 59/100\n",
            "39/39 [==============================] - 1s 28ms/step - loss: 0.0068 - accuracy: 0.9963 - val_loss: 1.9061 - val_accuracy: 0.7008\n",
            "Epoch 60/100\n",
            "39/39 [==============================] - 1s 28ms/step - loss: 0.0068 - accuracy: 0.9963 - val_loss: 1.9097 - val_accuracy: 0.6943\n",
            "Epoch 61/100\n",
            "39/39 [==============================] - 1s 28ms/step - loss: 0.0062 - accuracy: 0.9972 - val_loss: 1.9634 - val_accuracy: 0.6943\n",
            "Epoch 62/100\n",
            "39/39 [==============================] - 1s 27ms/step - loss: 0.0068 - accuracy: 0.9967 - val_loss: 2.0140 - val_accuracy: 0.7008\n",
            "Epoch 63/100\n",
            "39/39 [==============================] - 1s 27ms/step - loss: 0.0112 - accuracy: 0.9963 - val_loss: 1.8507 - val_accuracy: 0.6992\n",
            "Epoch 64/100\n",
            "39/39 [==============================] - 1s 27ms/step - loss: 0.0099 - accuracy: 0.9951 - val_loss: 1.7562 - val_accuracy: 0.6992\n",
            "Epoch 65/100\n",
            "39/39 [==============================] - 1s 28ms/step - loss: 0.0073 - accuracy: 0.9951 - val_loss: 1.7885 - val_accuracy: 0.6959\n",
            "Epoch 66/100\n",
            "39/39 [==============================] - 1s 28ms/step - loss: 0.0062 - accuracy: 0.9955 - val_loss: 1.9339 - val_accuracy: 0.7089\n",
            "Epoch 67/100\n",
            "39/39 [==============================] - 1s 28ms/step - loss: 0.0062 - accuracy: 0.9963 - val_loss: 1.7813 - val_accuracy: 0.6911\n",
            "Epoch 68/100\n",
            "39/39 [==============================] - 1s 27ms/step - loss: 0.0062 - accuracy: 0.9967 - val_loss: 1.9105 - val_accuracy: 0.7008\n",
            "Epoch 69/100\n",
            "39/39 [==============================] - 1s 27ms/step - loss: 0.0074 - accuracy: 0.9955 - val_loss: 1.8398 - val_accuracy: 0.6911\n",
            "Epoch 70/100\n",
            "39/39 [==============================] - 1s 27ms/step - loss: 0.0067 - accuracy: 0.9967 - val_loss: 1.9446 - val_accuracy: 0.7041\n",
            "Epoch 71/100\n",
            "39/39 [==============================] - 1s 28ms/step - loss: 0.0071 - accuracy: 0.9959 - val_loss: 1.9134 - val_accuracy: 0.6943\n",
            "Epoch 72/100\n",
            "39/39 [==============================] - 1s 28ms/step - loss: 0.0063 - accuracy: 0.9972 - val_loss: 1.9234 - val_accuracy: 0.6911\n",
            "Epoch 73/100\n",
            "39/39 [==============================] - 1s 27ms/step - loss: 0.0066 - accuracy: 0.9972 - val_loss: 1.9727 - val_accuracy: 0.6976\n",
            "Epoch 74/100\n",
            "39/39 [==============================] - 1s 27ms/step - loss: 0.0062 - accuracy: 0.9959 - val_loss: 2.0015 - val_accuracy: 0.6976\n",
            "Epoch 75/100\n",
            "39/39 [==============================] - 1s 27ms/step - loss: 0.0064 - accuracy: 0.9967 - val_loss: 1.9053 - val_accuracy: 0.6943\n",
            "Epoch 76/100\n",
            "39/39 [==============================] - 1s 27ms/step - loss: 0.0082 - accuracy: 0.9963 - val_loss: 1.9740 - val_accuracy: 0.6943\n",
            "Epoch 77/100\n",
            "39/39 [==============================] - 1s 28ms/step - loss: 0.0074 - accuracy: 0.9967 - val_loss: 1.9193 - val_accuracy: 0.6797\n",
            "Epoch 78/100\n",
            "39/39 [==============================] - 1s 27ms/step - loss: 0.0065 - accuracy: 0.9967 - val_loss: 1.8953 - val_accuracy: 0.6943\n",
            "Epoch 79/100\n",
            "39/39 [==============================] - 1s 27ms/step - loss: 0.0061 - accuracy: 0.9967 - val_loss: 1.9419 - val_accuracy: 0.6911\n",
            "Epoch 80/100\n",
            "39/39 [==============================] - 1s 28ms/step - loss: 0.0059 - accuracy: 0.9972 - val_loss: 2.0752 - val_accuracy: 0.7024\n",
            "Epoch 81/100\n",
            "39/39 [==============================] - 1s 28ms/step - loss: 0.0065 - accuracy: 0.9959 - val_loss: 1.9330 - val_accuracy: 0.6846\n",
            "Epoch 82/100\n",
            "39/39 [==============================] - 1s 27ms/step - loss: 0.0066 - accuracy: 0.9951 - val_loss: 2.0074 - val_accuracy: 0.6878\n",
            "Epoch 83/100\n",
            "39/39 [==============================] - 1s 27ms/step - loss: 0.0064 - accuracy: 0.9959 - val_loss: 2.2105 - val_accuracy: 0.7057\n",
            "Epoch 84/100\n",
            "39/39 [==============================] - 1s 27ms/step - loss: 0.0073 - accuracy: 0.9959 - val_loss: 1.9156 - val_accuracy: 0.6911\n",
            "Epoch 85/100\n",
            "39/39 [==============================] - 1s 28ms/step - loss: 0.0068 - accuracy: 0.9967 - val_loss: 2.0259 - val_accuracy: 0.6943\n",
            "Epoch 86/100\n",
            "39/39 [==============================] - 1s 29ms/step - loss: 0.0063 - accuracy: 0.9963 - val_loss: 1.9986 - val_accuracy: 0.6943\n",
            "Epoch 87/100\n",
            "39/39 [==============================] - 1s 27ms/step - loss: 0.0119 - accuracy: 0.9951 - val_loss: 1.9008 - val_accuracy: 0.6927\n",
            "Epoch 88/100\n",
            "39/39 [==============================] - 1s 28ms/step - loss: 0.0133 - accuracy: 0.9955 - val_loss: 1.8968 - val_accuracy: 0.6943\n",
            "Epoch 89/100\n",
            "39/39 [==============================] - 1s 28ms/step - loss: 0.0106 - accuracy: 0.9951 - val_loss: 1.9083 - val_accuracy: 0.6992\n",
            "Epoch 90/100\n",
            "39/39 [==============================] - 1s 28ms/step - loss: 0.0138 - accuracy: 0.9947 - val_loss: 2.0728 - val_accuracy: 0.6959\n",
            "Epoch 91/100\n",
            "39/39 [==============================] - 1s 27ms/step - loss: 0.0557 - accuracy: 0.9797 - val_loss: 1.3593 - val_accuracy: 0.7008\n",
            "Epoch 92/100\n",
            "39/39 [==============================] - 1s 28ms/step - loss: 0.0297 - accuracy: 0.9911 - val_loss: 1.5950 - val_accuracy: 0.6959\n",
            "Epoch 93/100\n",
            "39/39 [==============================] - 1s 28ms/step - loss: 0.0129 - accuracy: 0.9943 - val_loss: 1.7523 - val_accuracy: 0.6878\n",
            "Epoch 94/100\n",
            "39/39 [==============================] - 1s 28ms/step - loss: 0.0100 - accuracy: 0.9947 - val_loss: 1.8262 - val_accuracy: 0.6959\n",
            "Epoch 95/100\n",
            "39/39 [==============================] - 1s 28ms/step - loss: 0.0067 - accuracy: 0.9972 - val_loss: 1.8957 - val_accuracy: 0.6911\n",
            "Epoch 96/100\n",
            "39/39 [==============================] - 1s 29ms/step - loss: 0.0073 - accuracy: 0.9955 - val_loss: 1.9356 - val_accuracy: 0.6976\n",
            "Epoch 97/100\n",
            "39/39 [==============================] - 1s 28ms/step - loss: 0.0068 - accuracy: 0.9967 - val_loss: 1.8896 - val_accuracy: 0.6976\n",
            "Epoch 98/100\n",
            "39/39 [==============================] - 1s 28ms/step - loss: 0.0063 - accuracy: 0.9967 - val_loss: 1.9662 - val_accuracy: 0.6959\n",
            "Epoch 99/100\n",
            "39/39 [==============================] - 1s 28ms/step - loss: 0.0065 - accuracy: 0.9959 - val_loss: 1.9569 - val_accuracy: 0.6976\n",
            "Epoch 100/100\n",
            "39/39 [==============================] - 1s 29ms/step - loss: 0.0061 - accuracy: 0.9959 - val_loss: 2.0255 - val_accuracy: 0.6943\n"
          ],
          "name": "stdout"
        }
      ]
    },
    {
      "cell_type": "markdown",
      "metadata": {
        "id": "Be0Fp9f0J72s"
      },
      "source": [
        "Result and plot of Bidirectional LSTM"
      ]
    },
    {
      "cell_type": "code",
      "metadata": {
        "colab": {
          "base_uri": "https://localhost:8080/"
        },
        "id": "Pdnf8RhxKCr1",
        "outputId": "ef40f821-7812-46df-c0c0-ba90e020bd1c"
      },
      "source": [
        "list_tokenized_test = tokenizer.texts_to_sequences(test_df['text'])\n",
        "X_test = pad_sequences(list_tokenized_test, maxlen=max_review_length)\n",
        "y_test = test_df['task_1']\n",
        "prediction = model3.predict(X_test)\n",
        "y_pred = (prediction > 0.5)\n",
        "print(\"Accuracy of the model : \", accuracy_score(y_pred, y_test))\n",
        "print('F1-score: ', f1_score(y_pred, y_test))\n",
        "print('Confusion matrix:')\n",
        "confusion_matrix(y_test,y_pred)"
      ],
      "execution_count": 48,
      "outputs": [
        {
          "output_type": "stream",
          "text": [
            "Accuracy of the model :  0.729518855656697\n",
            "F1-score:  0.8022813688212929\n",
            "Confusion matrix:\n"
          ],
          "name": "stdout"
        },
        {
          "output_type": "execute_result",
          "data": {
            "text/plain": [
              "array([[139, 101],\n",
              "       [107, 422]])"
            ]
          },
          "metadata": {
            "tags": []
          },
          "execution_count": 48
        }
      ]
    },
    {
      "cell_type": "code",
      "metadata": {
        "colab": {
          "base_uri": "https://localhost:8080/",
          "height": 541
        },
        "id": "OSjLMkQ5KKv1",
        "outputId": "3d0364fa-6517-408a-f825-3a55632b1682"
      },
      "source": [
        "import matplotlib.pyplot as plt\n",
        "\n",
        "\n",
        "def plot_graphs(history, string):\n",
        "  plt.plot(history.history[string])\n",
        "  plt.plot(history.history['val_'+string])\n",
        "  plt.xlabel(\"Epochs\")\n",
        "  plt.ylabel(string)\n",
        "  plt.legend([string, 'val_'+string])\n",
        "  plt.show()\n",
        "\n",
        "plot_graphs(history3, 'accuracy')\n",
        "plot_graphs(history3, 'loss')"
      ],
      "execution_count": 49,
      "outputs": [
        {
          "output_type": "display_data",
          "data": {
            "image/png": "[encoded data removed]",
            "text/plain": [
              "<Figure size 432x288 with 1 Axes>"
            ]
          },
          "metadata": {
            "tags": [],
            "needs_background": "light"
          }
        },
        {
          "output_type": "display_data",
          "data": {
            "image/png": "[encoded data removed]",
            "text/plain": [
              "<Figure size 432x288 with 1 Axes>"
            ]
          },
          "metadata": {
            "tags": [],
            "needs_background": "light"
          }
        }
      ]
    },
    {
      "cell_type": "markdown",
      "metadata": {
        "id": "jk85cE9_0JPG"
      },
      "source": [
        "#Conv1D"
      ]
    },
    {
      "cell_type": "code",
      "metadata": {
        "id": "D3YeuLUi0JPZ"
      },
      "source": [
        "model4 = tf.keras.Sequential([\n",
        "    tf.keras.layers.Embedding(top_words+1, embedding_vecor_length, input_length=max_review_length),\n",
        "    tf.keras.layers.Conv1D(128, 5, activation='relu'),\n",
        "    tf.keras.layers.GlobalAveragePooling1D(),\n",
        "    tf.keras.layers.Dense(6, activation='relu'),\n",
        "    tf.keras.layers.Dense(1, activation='sigmoid')\n",
        "])\n"
      ],
      "execution_count": 57,
      "outputs": []
    },
    {
      "cell_type": "code",
      "metadata": {
        "colab": {
          "base_uri": "https://localhost:8080/"
        },
        "id": "4QVAnHAB0JPZ",
        "outputId": "d9d39b18-5135-4d70-f7ec-82ec834a4c50"
      },
      "source": [
        "model4.compile(loss='binary_crossentropy',optimizer='adam',metrics=['accuracy'])\n",
        "model4.summary()"
      ],
      "execution_count": 51,
      "outputs": [
        {
          "output_type": "stream",
          "text": [
            "Model: \"sequential_6\"\n",
            "_________________________________________________________________\n",
            "Layer (type)                 Output Shape              Param #   \n",
            "=================================================================\n",
            "embedding_6 (Embedding)      (None, 130, 32)           192032    \n",
            "_________________________________________________________________\n",
            "conv1d_2 (Conv1D)            (None, 126, 128)          20608     \n",
            "_________________________________________________________________\n",
            "global_average_pooling1d_2 ( (None, 128)               0         \n",
            "_________________________________________________________________\n",
            "dense_12 (Dense)             (None, 6)                 774       \n",
            "_________________________________________________________________\n",
            "dense_13 (Dense)             (None, 1)                 7         \n",
            "=================================================================\n",
            "Total params: 213,421\n",
            "Trainable params: 213,421\n",
            "Non-trainable params: 0\n",
            "_________________________________________________________________\n"
          ],
          "name": "stdout"
        }
      ]
    },
    {
      "cell_type": "code",
      "metadata": {
        "colab": {
          "base_uri": "https://localhost:8080/"
        },
        "id": "zzi8DriB0JPb",
        "outputId": "587ce17d-9e4b-4ee6-a1d0-8d2013ecd7bc"
      },
      "source": [
        "history4 = model4.fit(X_train,y_train, epochs=100, batch_size=64, validation_split=0.2)\n"
      ],
      "execution_count": 52,
      "outputs": [
        {
          "output_type": "stream",
          "text": [
            "Epoch 1/100\n",
            "39/39 [==============================] - 1s 12ms/step - loss: 0.6559 - accuracy: 0.6409 - val_loss: 0.6506 - val_accuracy: 0.6439\n",
            "Epoch 2/100\n",
            "39/39 [==============================] - 0s 8ms/step - loss: 0.6484 - accuracy: 0.6409 - val_loss: 0.6461 - val_accuracy: 0.6439\n",
            "Epoch 3/100\n",
            "39/39 [==============================] - 0s 7ms/step - loss: 0.6234 - accuracy: 0.6409 - val_loss: 0.6276 - val_accuracy: 0.6439\n",
            "Epoch 4/100\n",
            "39/39 [==============================] - 0s 8ms/step - loss: 0.5696 - accuracy: 0.6564 - val_loss: 0.6155 - val_accuracy: 0.6683\n",
            "Epoch 5/100\n",
            "39/39 [==============================] - 0s 9ms/step - loss: 0.5189 - accuracy: 0.7926 - val_loss: 0.6103 - val_accuracy: 0.6862\n",
            "Epoch 6/100\n",
            "39/39 [==============================] - 0s 8ms/step - loss: 0.4728 - accuracy: 0.8329 - val_loss: 0.6218 - val_accuracy: 0.6894\n",
            "Epoch 7/100\n",
            "39/39 [==============================] - 0s 8ms/step - loss: 0.4271 - accuracy: 0.8711 - val_loss: 0.6200 - val_accuracy: 0.6862\n",
            "Epoch 8/100\n",
            "39/39 [==============================] - 0s 8ms/step - loss: 0.3834 - accuracy: 0.8939 - val_loss: 0.6022 - val_accuracy: 0.7008\n",
            "Epoch 9/100\n",
            "39/39 [==============================] - 0s 9ms/step - loss: 0.3502 - accuracy: 0.9101 - val_loss: 0.6744 - val_accuracy: 0.6927\n",
            "Epoch 10/100\n",
            "39/39 [==============================] - 0s 8ms/step - loss: 0.3212 - accuracy: 0.9313 - val_loss: 0.6336 - val_accuracy: 0.7041\n",
            "Epoch 11/100\n",
            "39/39 [==============================] - 0s 8ms/step - loss: 0.2999 - accuracy: 0.9370 - val_loss: 0.6355 - val_accuracy: 0.7041\n",
            "Epoch 12/100\n",
            "39/39 [==============================] - 0s 8ms/step - loss: 0.2809 - accuracy: 0.9484 - val_loss: 0.6551 - val_accuracy: 0.7041\n",
            "Epoch 13/100\n",
            "39/39 [==============================] - 0s 8ms/step - loss: 0.2646 - accuracy: 0.9532 - val_loss: 0.6597 - val_accuracy: 0.7106\n",
            "Epoch 14/100\n",
            "39/39 [==============================] - 0s 8ms/step - loss: 0.2516 - accuracy: 0.9601 - val_loss: 0.6846 - val_accuracy: 0.7138\n",
            "Epoch 15/100\n",
            "39/39 [==============================] - 0s 8ms/step - loss: 0.2396 - accuracy: 0.9638 - val_loss: 0.7561 - val_accuracy: 0.7089\n",
            "Epoch 16/100\n",
            "39/39 [==============================] - 0s 8ms/step - loss: 0.2279 - accuracy: 0.9658 - val_loss: 0.7221 - val_accuracy: 0.7171\n",
            "Epoch 17/100\n",
            "39/39 [==============================] - 0s 8ms/step - loss: 0.2197 - accuracy: 0.9707 - val_loss: 0.7777 - val_accuracy: 0.7154\n",
            "Epoch 18/100\n",
            "39/39 [==============================] - 0s 8ms/step - loss: 0.1406 - accuracy: 0.9715 - val_loss: 0.8019 - val_accuracy: 0.7073\n",
            "Epoch 19/100\n",
            "39/39 [==============================] - 0s 8ms/step - loss: 0.1027 - accuracy: 0.9736 - val_loss: 0.8653 - val_accuracy: 0.7024\n",
            "Epoch 20/100\n",
            "39/39 [==============================] - 0s 8ms/step - loss: 0.0863 - accuracy: 0.9756 - val_loss: 0.8996 - val_accuracy: 0.6894\n",
            "Epoch 21/100\n",
            "39/39 [==============================] - 0s 9ms/step - loss: 0.0702 - accuracy: 0.9813 - val_loss: 0.9221 - val_accuracy: 0.6780\n",
            "Epoch 22/100\n",
            "39/39 [==============================] - 0s 8ms/step - loss: 0.0628 - accuracy: 0.9813 - val_loss: 1.0562 - val_accuracy: 0.6911\n",
            "Epoch 23/100\n",
            "39/39 [==============================] - 0s 8ms/step - loss: 0.0544 - accuracy: 0.9833 - val_loss: 1.1181 - val_accuracy: 0.6894\n",
            "Epoch 24/100\n",
            "39/39 [==============================] - 0s 8ms/step - loss: 0.0489 - accuracy: 0.9854 - val_loss: 1.0637 - val_accuracy: 0.6715\n",
            "Epoch 25/100\n",
            "39/39 [==============================] - 0s 8ms/step - loss: 0.0425 - accuracy: 0.9866 - val_loss: 1.0936 - val_accuracy: 0.6780\n",
            "Epoch 26/100\n",
            "39/39 [==============================] - 0s 8ms/step - loss: 0.0401 - accuracy: 0.9874 - val_loss: 1.2067 - val_accuracy: 0.6894\n",
            "Epoch 27/100\n",
            "39/39 [==============================] - 0s 8ms/step - loss: 0.0363 - accuracy: 0.9870 - val_loss: 1.2316 - val_accuracy: 0.6894\n",
            "Epoch 28/100\n",
            "39/39 [==============================] - 0s 8ms/step - loss: 0.0331 - accuracy: 0.9882 - val_loss: 1.2363 - val_accuracy: 0.6862\n",
            "Epoch 29/100\n",
            "39/39 [==============================] - 0s 8ms/step - loss: 0.0324 - accuracy: 0.9890 - val_loss: 1.2872 - val_accuracy: 0.6829\n",
            "Epoch 30/100\n",
            "39/39 [==============================] - 0s 8ms/step - loss: 0.0291 - accuracy: 0.9890 - val_loss: 1.3029 - val_accuracy: 0.6829\n",
            "Epoch 31/100\n",
            "39/39 [==============================] - 0s 8ms/step - loss: 0.0289 - accuracy: 0.9894 - val_loss: 1.3565 - val_accuracy: 0.6862\n",
            "Epoch 32/100\n",
            "39/39 [==============================] - 0s 8ms/step - loss: 0.0271 - accuracy: 0.9915 - val_loss: 1.4026 - val_accuracy: 0.6846\n",
            "Epoch 33/100\n",
            "39/39 [==============================] - 0s 8ms/step - loss: 0.0257 - accuracy: 0.9906 - val_loss: 1.4943 - val_accuracy: 0.6976\n",
            "Epoch 34/100\n",
            "39/39 [==============================] - 0s 8ms/step - loss: 0.0250 - accuracy: 0.9919 - val_loss: 1.4864 - val_accuracy: 0.6894\n",
            "Epoch 35/100\n",
            "39/39 [==============================] - 0s 8ms/step - loss: 0.0238 - accuracy: 0.9915 - val_loss: 1.5086 - val_accuracy: 0.6878\n",
            "Epoch 36/100\n",
            "39/39 [==============================] - 0s 8ms/step - loss: 0.0228 - accuracy: 0.9927 - val_loss: 1.5206 - val_accuracy: 0.6894\n",
            "Epoch 37/100\n",
            "39/39 [==============================] - 0s 8ms/step - loss: 0.0225 - accuracy: 0.9927 - val_loss: 1.5363 - val_accuracy: 0.6894\n",
            "Epoch 38/100\n",
            "39/39 [==============================] - 0s 8ms/step - loss: 0.0213 - accuracy: 0.9939 - val_loss: 1.6608 - val_accuracy: 0.6959\n",
            "Epoch 39/100\n",
            "39/39 [==============================] - 0s 9ms/step - loss: 0.0222 - accuracy: 0.9919 - val_loss: 1.6035 - val_accuracy: 0.6943\n",
            "Epoch 40/100\n",
            "39/39 [==============================] - 0s 8ms/step - loss: 0.0223 - accuracy: 0.9915 - val_loss: 1.6368 - val_accuracy: 0.6976\n",
            "Epoch 41/100\n",
            "39/39 [==============================] - 0s 9ms/step - loss: 0.0219 - accuracy: 0.9915 - val_loss: 1.6997 - val_accuracy: 0.6943\n",
            "Epoch 42/100\n",
            "39/39 [==============================] - 0s 9ms/step - loss: 0.0210 - accuracy: 0.9927 - val_loss: 1.7058 - val_accuracy: 0.7008\n",
            "Epoch 43/100\n",
            "39/39 [==============================] - 0s 8ms/step - loss: 0.0207 - accuracy: 0.9915 - val_loss: 1.6785 - val_accuracy: 0.7008\n",
            "Epoch 44/100\n",
            "39/39 [==============================] - 0s 8ms/step - loss: 0.0185 - accuracy: 0.9923 - val_loss: 1.7886 - val_accuracy: 0.7008\n",
            "Epoch 45/100\n",
            "39/39 [==============================] - 0s 8ms/step - loss: 0.0205 - accuracy: 0.9923 - val_loss: 1.7300 - val_accuracy: 0.7008\n",
            "Epoch 46/100\n",
            "39/39 [==============================] - 0s 8ms/step - loss: 0.0212 - accuracy: 0.9923 - val_loss: 1.7579 - val_accuracy: 0.7024\n",
            "Epoch 47/100\n",
            "39/39 [==============================] - 0s 8ms/step - loss: 0.0187 - accuracy: 0.9939 - val_loss: 1.6571 - val_accuracy: 0.6846\n",
            "Epoch 48/100\n",
            "39/39 [==============================] - 0s 9ms/step - loss: 0.0181 - accuracy: 0.9923 - val_loss: 1.8439 - val_accuracy: 0.6992\n",
            "Epoch 49/100\n",
            "39/39 [==============================] - 0s 8ms/step - loss: 0.0177 - accuracy: 0.9935 - val_loss: 1.7800 - val_accuracy: 0.7057\n",
            "Epoch 50/100\n",
            "39/39 [==============================] - 0s 8ms/step - loss: 0.0186 - accuracy: 0.9935 - val_loss: 1.8081 - val_accuracy: 0.7008\n",
            "Epoch 51/100\n",
            "39/39 [==============================] - 0s 8ms/step - loss: 0.0183 - accuracy: 0.9931 - val_loss: 1.7909 - val_accuracy: 0.7041\n",
            "Epoch 52/100\n",
            "39/39 [==============================] - 0s 8ms/step - loss: 0.0154 - accuracy: 0.9939 - val_loss: 1.8042 - val_accuracy: 0.7008\n",
            "Epoch 53/100\n",
            "39/39 [==============================] - 0s 8ms/step - loss: 0.0160 - accuracy: 0.9943 - val_loss: 1.8335 - val_accuracy: 0.7024\n",
            "Epoch 54/100\n",
            "39/39 [==============================] - 0s 9ms/step - loss: 0.0148 - accuracy: 0.9943 - val_loss: 1.9763 - val_accuracy: 0.7008\n",
            "Epoch 55/100\n",
            "39/39 [==============================] - 0s 8ms/step - loss: 0.0165 - accuracy: 0.9935 - val_loss: 1.9096 - val_accuracy: 0.7024\n",
            "Epoch 56/100\n",
            "39/39 [==============================] - 0s 8ms/step - loss: 0.0159 - accuracy: 0.9943 - val_loss: 1.9349 - val_accuracy: 0.7008\n",
            "Epoch 57/100\n",
            "39/39 [==============================] - 0s 8ms/step - loss: 0.0141 - accuracy: 0.9947 - val_loss: 1.9119 - val_accuracy: 0.7024\n",
            "Epoch 58/100\n",
            "39/39 [==============================] - 0s 8ms/step - loss: 0.0146 - accuracy: 0.9943 - val_loss: 1.9773 - val_accuracy: 0.6992\n",
            "Epoch 59/100\n",
            "39/39 [==============================] - 0s 8ms/step - loss: 0.0155 - accuracy: 0.9943 - val_loss: 1.9878 - val_accuracy: 0.6992\n",
            "Epoch 60/100\n",
            "39/39 [==============================] - 0s 9ms/step - loss: 0.0169 - accuracy: 0.9923 - val_loss: 1.9963 - val_accuracy: 0.7024\n",
            "Epoch 61/100\n",
            "39/39 [==============================] - 0s 8ms/step - loss: 0.0153 - accuracy: 0.9939 - val_loss: 1.9697 - val_accuracy: 0.7041\n",
            "Epoch 62/100\n",
            "39/39 [==============================] - 0s 8ms/step - loss: 0.0142 - accuracy: 0.9947 - val_loss: 1.9861 - val_accuracy: 0.7024\n",
            "Epoch 63/100\n",
            "39/39 [==============================] - 0s 8ms/step - loss: 0.0144 - accuracy: 0.9943 - val_loss: 2.0673 - val_accuracy: 0.6992\n",
            "Epoch 64/100\n",
            "39/39 [==============================] - 0s 8ms/step - loss: 0.0156 - accuracy: 0.9943 - val_loss: 1.9893 - val_accuracy: 0.7057\n",
            "Epoch 65/100\n",
            "39/39 [==============================] - 0s 8ms/step - loss: 0.0162 - accuracy: 0.9939 - val_loss: 2.0224 - val_accuracy: 0.7073\n",
            "Epoch 66/100\n",
            "39/39 [==============================] - 0s 8ms/step - loss: 0.0148 - accuracy: 0.9935 - val_loss: 2.0460 - val_accuracy: 0.7057\n",
            "Epoch 67/100\n",
            "39/39 [==============================] - 0s 8ms/step - loss: 0.0144 - accuracy: 0.9947 - val_loss: 1.9805 - val_accuracy: 0.6976\n",
            "Epoch 68/100\n",
            "39/39 [==============================] - 0s 8ms/step - loss: 0.0130 - accuracy: 0.9951 - val_loss: 2.1041 - val_accuracy: 0.7024\n",
            "Epoch 69/100\n",
            "39/39 [==============================] - 0s 8ms/step - loss: 0.0140 - accuracy: 0.9943 - val_loss: 2.0535 - val_accuracy: 0.7089\n",
            "Epoch 70/100\n",
            "39/39 [==============================] - 0s 8ms/step - loss: 0.0138 - accuracy: 0.9951 - val_loss: 2.1116 - val_accuracy: 0.7057\n",
            "Epoch 71/100\n",
            "39/39 [==============================] - 0s 8ms/step - loss: 0.0153 - accuracy: 0.9947 - val_loss: 2.0598 - val_accuracy: 0.7041\n",
            "Epoch 72/100\n",
            "39/39 [==============================] - 0s 8ms/step - loss: 0.0136 - accuracy: 0.9947 - val_loss: 2.0812 - val_accuracy: 0.7024\n",
            "Epoch 73/100\n",
            "39/39 [==============================] - 0s 8ms/step - loss: 0.0132 - accuracy: 0.9951 - val_loss: 2.1246 - val_accuracy: 0.7041\n",
            "Epoch 74/100\n",
            "39/39 [==============================] - 0s 8ms/step - loss: 0.0121 - accuracy: 0.9947 - val_loss: 2.1111 - val_accuracy: 0.7024\n",
            "Epoch 75/100\n",
            "39/39 [==============================] - 0s 8ms/step - loss: 0.0127 - accuracy: 0.9935 - val_loss: 2.1391 - val_accuracy: 0.7041\n",
            "Epoch 76/100\n",
            "39/39 [==============================] - 0s 8ms/step - loss: 0.0128 - accuracy: 0.9947 - val_loss: 2.1235 - val_accuracy: 0.7008\n",
            "Epoch 77/100\n",
            "39/39 [==============================] - 0s 8ms/step - loss: 0.0129 - accuracy: 0.9947 - val_loss: 2.1504 - val_accuracy: 0.7024\n",
            "Epoch 78/100\n",
            "39/39 [==============================] - 0s 8ms/step - loss: 0.0115 - accuracy: 0.9947 - val_loss: 2.1761 - val_accuracy: 0.6992\n",
            "Epoch 79/100\n",
            "39/39 [==============================] - 0s 9ms/step - loss: 0.0121 - accuracy: 0.9947 - val_loss: 2.1826 - val_accuracy: 0.7008\n",
            "Epoch 80/100\n",
            "39/39 [==============================] - 0s 8ms/step - loss: 0.0134 - accuracy: 0.9943 - val_loss: 2.2235 - val_accuracy: 0.6992\n",
            "Epoch 81/100\n",
            "39/39 [==============================] - 0s 9ms/step - loss: 0.0117 - accuracy: 0.9951 - val_loss: 2.1489 - val_accuracy: 0.7024\n",
            "Epoch 82/100\n",
            "39/39 [==============================] - 0s 8ms/step - loss: 0.0113 - accuracy: 0.9947 - val_loss: 2.2465 - val_accuracy: 0.7024\n",
            "Epoch 83/100\n",
            "39/39 [==============================] - 0s 8ms/step - loss: 0.0118 - accuracy: 0.9947 - val_loss: 2.1816 - val_accuracy: 0.7024\n",
            "Epoch 84/100\n",
            "39/39 [==============================] - 0s 8ms/step - loss: 0.0116 - accuracy: 0.9943 - val_loss: 2.1861 - val_accuracy: 0.7024\n",
            "Epoch 85/100\n",
            "39/39 [==============================] - 0s 8ms/step - loss: 0.0129 - accuracy: 0.9951 - val_loss: 2.1909 - val_accuracy: 0.7008\n",
            "Epoch 86/100\n",
            "39/39 [==============================] - 0s 8ms/step - loss: 0.0117 - accuracy: 0.9947 - val_loss: 2.2771 - val_accuracy: 0.7008\n",
            "Epoch 87/100\n",
            "39/39 [==============================] - 0s 8ms/step - loss: 0.0170 - accuracy: 0.9943 - val_loss: 2.2687 - val_accuracy: 0.6976\n",
            "Epoch 88/100\n",
            "39/39 [==============================] - 0s 8ms/step - loss: 0.0189 - accuracy: 0.9935 - val_loss: 2.3180 - val_accuracy: 0.7041\n",
            "Epoch 89/100\n",
            "39/39 [==============================] - 0s 8ms/step - loss: 0.0111 - accuracy: 0.9947 - val_loss: 2.2968 - val_accuracy: 0.7041\n",
            "Epoch 90/100\n",
            "39/39 [==============================] - 0s 8ms/step - loss: 0.0109 - accuracy: 0.9955 - val_loss: 2.2312 - val_accuracy: 0.7008\n",
            "Epoch 91/100\n",
            "39/39 [==============================] - 0s 9ms/step - loss: 0.0128 - accuracy: 0.9927 - val_loss: 2.3677 - val_accuracy: 0.6992\n",
            "Epoch 92/100\n",
            "39/39 [==============================] - 0s 9ms/step - loss: 0.0127 - accuracy: 0.9943 - val_loss: 2.3432 - val_accuracy: 0.6992\n",
            "Epoch 93/100\n",
            "39/39 [==============================] - 0s 8ms/step - loss: 0.0105 - accuracy: 0.9943 - val_loss: 2.3236 - val_accuracy: 0.6976\n",
            "Epoch 94/100\n",
            "39/39 [==============================] - 0s 8ms/step - loss: 0.0122 - accuracy: 0.9947 - val_loss: 2.3273 - val_accuracy: 0.6976\n",
            "Epoch 95/100\n",
            "39/39 [==============================] - 0s 8ms/step - loss: 0.0116 - accuracy: 0.9931 - val_loss: 2.3986 - val_accuracy: 0.7008\n",
            "Epoch 96/100\n",
            "39/39 [==============================] - 0s 9ms/step - loss: 0.0121 - accuracy: 0.9947 - val_loss: 2.2994 - val_accuracy: 0.7024\n",
            "Epoch 97/100\n",
            "39/39 [==============================] - 0s 8ms/step - loss: 0.0117 - accuracy: 0.9947 - val_loss: 2.3259 - val_accuracy: 0.6992\n",
            "Epoch 98/100\n",
            "39/39 [==============================] - 0s 8ms/step - loss: 0.0115 - accuracy: 0.9943 - val_loss: 2.3328 - val_accuracy: 0.6976\n",
            "Epoch 99/100\n",
            "39/39 [==============================] - 0s 8ms/step - loss: 0.0107 - accuracy: 0.9955 - val_loss: 2.3137 - val_accuracy: 0.6992\n",
            "Epoch 100/100\n",
            "39/39 [==============================] - 0s 8ms/step - loss: 0.0104 - accuracy: 0.9947 - val_loss: 2.3800 - val_accuracy: 0.6992\n"
          ],
          "name": "stdout"
        }
      ]
    },
    {
      "cell_type": "markdown",
      "metadata": {
        "id": "g8yvt6wZKhnm"
      },
      "source": [
        "Result and Plot of Conv1D"
      ]
    },
    {
      "cell_type": "code",
      "metadata": {
        "colab": {
          "base_uri": "https://localhost:8080/"
        },
        "id": "uflxRSUCKnEV",
        "outputId": "6c8c65db-047d-43a1-b53c-5a3621f2e5bc"
      },
      "source": [
        "list_tokenized_test = tokenizer.texts_to_sequences(test_df['text'])\n",
        "X_test = pad_sequences(list_tokenized_test, maxlen=max_review_length)\n",
        "y_test = test_df['task_1']\n",
        "prediction = model4.predict(X_test)\n",
        "y_pred = (prediction > 0.5)\n",
        "print(\"Accuracy of the model : \", accuracy_score(y_pred, y_test))\n",
        "print('F1-score: ', f1_score(y_pred, y_test))\n",
        "print('Confusion matrix:')\n",
        "confusion_matrix(y_test,y_pred)"
      ],
      "execution_count": 53,
      "outputs": [
        {
          "output_type": "stream",
          "text": [
            "Accuracy of the model :  0.7321196358907672\n",
            "F1-score:  0.8063909774436091\n",
            "Confusion matrix:\n"
          ],
          "name": "stdout"
        },
        {
          "output_type": "execute_result",
          "data": {
            "text/plain": [
              "array([[134, 106],\n",
              "       [100, 429]])"
            ]
          },
          "metadata": {
            "tags": []
          },
          "execution_count": 53
        }
      ]
    },
    {
      "cell_type": "code",
      "metadata": {
        "colab": {
          "base_uri": "https://localhost:8080/",
          "height": 544
        },
        "id": "nj88qJBsKpVO",
        "outputId": "bad5531f-f032-48e2-f812-c4ef4b47eff9"
      },
      "source": [
        "import matplotlib.pyplot as plt\n",
        "\n",
        "\n",
        "def plot_graphs(history, string):\n",
        "  plt.plot(history.history[string])\n",
        "  plt.plot(history.history['val_'+string])\n",
        "  plt.xlabel(\"Epochs\")\n",
        "  plt.ylabel(string)\n",
        "  plt.legend([string, 'val_'+string])\n",
        "  plt.show()\n",
        "\n",
        "plot_graphs(history4, 'accuracy')\n",
        "plot_graphs(history4, 'loss')"
      ],
      "execution_count": 54,
      "outputs": [
        {
          "output_type": "display_data",
          "data": {
            "image/png": "[encoded data removed]",
            "text/plain": [
              "<Figure size 432x288 with 1 Axes>"
            ]
          },
          "metadata": {
            "tags": [],
            "needs_background": "light"
          }
        },
        {
          "output_type": "display_data",
          "data": {
            "image/png": "[encoded data removed]",
            "text/plain": [
              "<Figure size 432x288 with 1 Axes>"
            ]
          },
          "metadata": {
            "tags": [],
            "needs_background": "light"
          }
        }
      ]
    }
  ]
}
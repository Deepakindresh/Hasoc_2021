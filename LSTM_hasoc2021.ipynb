{
  "nbformat": 4,
  "nbformat_minor": 0,
  "metadata": {
    "colab": {
      "name": "LSTM_hasoc2021.ipynb",
      "provenance": []
    },
    "kernelspec": {
      "name": "python3",
      "display_name": "Python 3"
    },
    "language_info": {
      "name": "python"
    },
    "accelerator": "GPU"
  },
  "cells": [
    {
      "cell_type": "markdown",
      "metadata": {
        "id": "x3IpYUh5ROzM"
      },
      "source": [
        "# Mount Drive\n",
        "\n"
      ]
    },
    {
      "cell_type": "code",
      "metadata": {
        "colab": {
          "base_uri": "https://localhost:8080/"
        },
        "id": "L6dTF5JIRjli",
        "outputId": "f77367d4-358f-452f-9341-988d96544650"
      },
      "source": [
        "from google.colab import drive\n",
        "drive.mount('/content/drive')"
      ],
      "execution_count": 1,
      "outputs": [
        {
          "output_type": "stream",
          "text": [
            "Mounted at /content/drive\n"
          ],
          "name": "stdout"
        }
      ]
    },
    {
      "cell_type": "markdown",
      "metadata": {
        "id": "bRQgax8xTW4w"
      },
      "source": [
        "# Importing Libraries and initializing stopwords and stemmer\n"
      ]
    },
    {
      "cell_type": "code",
      "metadata": {
        "colab": {
          "base_uri": "https://localhost:8080/"
        },
        "id": "-zf_qMjiTk5J",
        "outputId": "9c37855e-a98c-44d2-f93d-fb5912fb496e"
      },
      "source": [
        "import numpy as np\n",
        "import pandas as pd \n",
        "import matplotlib.pyplot as plt\n",
        "import seaborn as sns\n",
        "\n",
        "import warnings\n",
        "warnings.filterwarnings(\"ignore\")\n",
        "\n",
        "import nltk\n",
        "\n",
        "import re\n",
        "from bs4 import BeautifulSoup\n",
        "from tqdm import tqdm\n",
        "from nltk.stem import WordNetLemmatizer\n",
        "\n",
        "from sklearn.model_selection import train_test_split\n",
        "from sklearn.metrics import accuracy_score,f1_score, confusion_matrix\n",
        "\n",
        "from keras.preprocessing.text import Tokenizer\n",
        "from keras.preprocessing.sequence import pad_sequences\n",
        "from keras.layers import Dense , Input , LSTM , Embedding, Dropout , Activation, GRU, Flatten\n",
        "from keras.layers import Bidirectional, GlobalMaxPool1D\n",
        "from keras.models import Model, Sequential\n",
        "from keras.layers import Convolution1D\n",
        "from keras import initializers, regularizers, constraints, optimizers, layers\n",
        "nltk.download('wordnet')\n"
      ],
      "execution_count": 2,
      "outputs": [
        {
          "output_type": "stream",
          "text": [
            "[nltk_data] Downloading package wordnet to /root/nltk_data...\n",
            "[nltk_data]   Unzipping corpora/wordnet.zip.\n"
          ],
          "name": "stdout"
        },
        {
          "output_type": "execute_result",
          "data": {
            "text/plain": [
              "True"
            ]
          },
          "metadata": {
            "tags": []
          },
          "execution_count": 2
        }
      ]
    },
    {
      "cell_type": "markdown",
      "metadata": {
        "id": "Qp_zCdofVU8E"
      },
      "source": [
        "# Reading Data\n"
      ]
    },
    {
      "cell_type": "code",
      "metadata": {
        "colab": {
          "base_uri": "https://localhost:8080/",
          "height": 204
        },
        "id": "ql_BZvzaVYdM",
        "outputId": "0e5a3a10-2513-4cc6-b7a1-47a52db338bf"
      },
      "source": [
        "hasoc_data = pd.read_csv(\"drive/MyDrive/ICHCL_baseline/hasoc2021-train/Hasoc2021_train.csv\") #Your respective address\n",
        "hasoc_data.head()\n"
      ],
      "execution_count": 3,
      "outputs": [
        {
          "output_type": "execute_result",
          "data": {
            "text/html": [
              "<div>\n",
              "<style scoped>\n",
              "    .dataframe tbody tr th:only-of-type {\n",
              "        vertical-align: middle;\n",
              "    }\n",
              "\n",
              "    .dataframe tbody tr th {\n",
              "        vertical-align: top;\n",
              "    }\n",
              "\n",
              "    .dataframe thead th {\n",
              "        text-align: right;\n",
              "    }\n",
              "</style>\n",
              "<table border=\"1\" class=\"dataframe\">\n",
              "  <thead>\n",
              "    <tr style=\"text-align: right;\">\n",
              "      <th></th>\n",
              "      <th>Unnamed: 0</th>\n",
              "      <th>_id</th>\n",
              "      <th>text</th>\n",
              "      <th>task_1</th>\n",
              "      <th>task_2</th>\n",
              "    </tr>\n",
              "  </thead>\n",
              "  <tbody>\n",
              "    <tr>\n",
              "      <th>0</th>\n",
              "      <td>4986</td>\n",
              "      <td>60c5d6bf5659ea5e55defa2c</td>\n",
              "      <td>@wealth if you made it through this &amp;amp;&amp;amp;...</td>\n",
              "      <td>HOF</td>\n",
              "      <td>PRFN</td>\n",
              "    </tr>\n",
              "    <tr>\n",
              "      <th>1</th>\n",
              "      <td>3394</td>\n",
              "      <td>60c5d6bf5659ea5e55def461</td>\n",
              "      <td>Technically that's still turning back the cloc...</td>\n",
              "      <td>HOF</td>\n",
              "      <td>OFFN</td>\n",
              "    </tr>\n",
              "    <tr>\n",
              "      <th>2</th>\n",
              "      <td>1310</td>\n",
              "      <td>60c5d6bf5659ea5e55defaad</td>\n",
              "      <td>@VMBJP @BJP4Bengal @BJP4India @narendramodi @J...</td>\n",
              "      <td>NOT</td>\n",
              "      <td>NONE</td>\n",
              "    </tr>\n",
              "    <tr>\n",
              "      <th>3</th>\n",
              "      <td>3390</td>\n",
              "      <td>60c5d6bf5659ea5e55def419</td>\n",
              "      <td>@krtoprak_yigit Soldier of Japan Who has dick ...</td>\n",
              "      <td>HOF</td>\n",
              "      <td>OFFN</td>\n",
              "    </tr>\n",
              "    <tr>\n",
              "      <th>4</th>\n",
              "      <td>4626</td>\n",
              "      <td>60c5d6bf5659ea5e55def7fa</td>\n",
              "      <td>@blueheartedly You'd be better off asking who ...</td>\n",
              "      <td>HOF</td>\n",
              "      <td>OFFN</td>\n",
              "    </tr>\n",
              "  </tbody>\n",
              "</table>\n",
              "</div>"
            ],
            "text/plain": [
              "   Unnamed: 0                       _id  ... task_1 task_2\n",
              "0        4986  60c5d6bf5659ea5e55defa2c  ...    HOF   PRFN\n",
              "1        3394  60c5d6bf5659ea5e55def461  ...    HOF   OFFN\n",
              "2        1310  60c5d6bf5659ea5e55defaad  ...    NOT   NONE\n",
              "3        3390  60c5d6bf5659ea5e55def419  ...    HOF   OFFN\n",
              "4        4626  60c5d6bf5659ea5e55def7fa  ...    HOF   OFFN\n",
              "\n",
              "[5 rows x 5 columns]"
            ]
          },
          "metadata": {
            "tags": []
          },
          "execution_count": 3
        }
      ]
    },
    {
      "cell_type": "code",
      "metadata": {
        "colab": {
          "base_uri": "https://localhost:8080/",
          "height": 297
        },
        "id": "JcL3_A-fcKoB",
        "outputId": "dd09320a-844f-48d5-8552-618e27fc0e71"
      },
      "source": [
        "hasoc_data.describe()"
      ],
      "execution_count": 4,
      "outputs": [
        {
          "output_type": "execute_result",
          "data": {
            "text/html": [
              "<div>\n",
              "<style scoped>\n",
              "    .dataframe tbody tr th:only-of-type {\n",
              "        vertical-align: middle;\n",
              "    }\n",
              "\n",
              "    .dataframe tbody tr th {\n",
              "        vertical-align: top;\n",
              "    }\n",
              "\n",
              "    .dataframe thead th {\n",
              "        text-align: right;\n",
              "    }\n",
              "</style>\n",
              "<table border=\"1\" class=\"dataframe\">\n",
              "  <thead>\n",
              "    <tr style=\"text-align: right;\">\n",
              "      <th></th>\n",
              "      <th>Unnamed: 0</th>\n",
              "    </tr>\n",
              "  </thead>\n",
              "  <tbody>\n",
              "    <tr>\n",
              "      <th>count</th>\n",
              "      <td>3843.000000</td>\n",
              "    </tr>\n",
              "    <tr>\n",
              "      <th>mean</th>\n",
              "      <td>2558.799375</td>\n",
              "    </tr>\n",
              "    <tr>\n",
              "      <th>std</th>\n",
              "      <td>1477.088070</td>\n",
              "    </tr>\n",
              "    <tr>\n",
              "      <th>min</th>\n",
              "      <td>1.000000</td>\n",
              "    </tr>\n",
              "    <tr>\n",
              "      <th>25%</th>\n",
              "      <td>1276.500000</td>\n",
              "    </tr>\n",
              "    <tr>\n",
              "      <th>50%</th>\n",
              "      <td>2574.000000</td>\n",
              "    </tr>\n",
              "    <tr>\n",
              "      <th>75%</th>\n",
              "      <td>3828.000000</td>\n",
              "    </tr>\n",
              "    <tr>\n",
              "      <th>max</th>\n",
              "      <td>5121.000000</td>\n",
              "    </tr>\n",
              "  </tbody>\n",
              "</table>\n",
              "</div>"
            ],
            "text/plain": [
              "        Unnamed: 0\n",
              "count  3843.000000\n",
              "mean   2558.799375\n",
              "std    1477.088070\n",
              "min       1.000000\n",
              "25%    1276.500000\n",
              "50%    2574.000000\n",
              "75%    3828.000000\n",
              "max    5121.000000"
            ]
          },
          "metadata": {
            "tags": []
          },
          "execution_count": 4
        }
      ]
    },
    {
      "cell_type": "code",
      "metadata": {
        "id": "wqQdg_uzdZR4"
      },
      "source": [
        "tweets = hasoc_data.text\n",
        "y_task1 = hasoc_data.task_1\n",
        "y_task2 = hasoc_data.task_2"
      ],
      "execution_count": 5,
      "outputs": []
    },
    {
      "cell_type": "markdown",
      "metadata": {
        "id": "ya3vFPNIe9WR"
      },
      "source": [
        "# Basic Preprocessing of Tweets\n"
      ]
    },
    {
      "cell_type": "code",
      "metadata": {
        "id": "FElfxXcCfCKH"
      },
      "source": [
        "def decontract(text):\n",
        "    text = re.sub(r\"won\\'t\", \"will not\", text)\n",
        "    text = re.sub(r\"can\\'t\", \"can not\", text)\n",
        "    text = re.sub(r\"n\\'t\", \" not\", text)\n",
        "    text = re.sub(r\"\\'re\", \" are\", text)\n",
        "    text = re.sub(r\"\\'s\", \" is\", text)\n",
        "    text = re.sub(r\"\\'d\", \" would\", text)\n",
        "    text = re.sub(r\"\\'ll\", \" will\", text)\n",
        "    text = re.sub(r\"\\'t\", \" not\", text)\n",
        "    text = re.sub(r\"\\'ve\", \" have\", text)\n",
        "    text = re.sub(r\"\\'m\", \" am\", text)\n",
        "    return text"
      ],
      "execution_count": 6,
      "outputs": []
    },
    {
      "cell_type": "code",
      "metadata": {
        "id": "o0Kp1SU_fKl7"
      },
      "source": [
        "lemmatizer = WordNetLemmatizer()"
      ],
      "execution_count": 7,
      "outputs": []
    },
    {
      "cell_type": "code",
      "metadata": {
        "id": "yYfVULZZiA2c"
      },
      "source": [
        "stop_words= set(['br', 'the', 'i', 'me', 'my', 'myself', 'we', 'our', 'ours', 'ourselves', 'you', \"you're\", \"you've\",\\\n",
        "            \"you'll\", \"you'd\", 'your', 'yours', 'yourself', 'yourselves', 'he', 'him', 'his', 'himself', \\\n",
        "            'she', \"she's\", 'her', 'hers', 'herself', 'it', \"it's\", 'its', 'itself', 'they', 'them', 'their',\\\n",
        "            'theirs', 'themselves', 'what', 'which', 'who', 'whom', 'this', 'that', \"that'll\", 'these', 'those', \\\n",
        "            'am', 'is', 'are', 'was', 'were', 'be', 'been', 'being', 'have', 'has', 'had', 'having', 'do', 'does', \\\n",
        "            'did', 'doing', 'a', 'an', 'the', 'and', 'but', 'if', 'or', 'because', 'as', 'until', 'while', 'of', \\\n",
        "            'at', 'by', 'for', 'with', 'about', 'against', 'between', 'into', 'through', 'during', 'before', 'after',\\\n",
        "            'above', 'below', 'to', 'from', 'up', 'down', 'in', 'out', 'on', 'off', 'over', 'under', 'again', 'further',\\\n",
        "            'then', 'once', 'here', 'there', 'when', 'where', 'why', 'how', 'all', 'any', 'both', 'each', 'few', 'more',\\\n",
        "            'most', 'other', 'some', 'such', 'only', 'own', 'same', 'so', 'than', 'too', 'very', \\\n",
        "            's', 't', 'can', 'will', 'just', 'don', \"don't\", 'should', \"should've\", 'now', 'd', 'll', 'm', 'o', 're', \\\n",
        "            've', 'y', 'ain', 'aren', \"aren't\", 'couldn', \"couldn't\", 'didn', \"didn't\", 'doesn', \"doesn't\", 'hadn',\\\n",
        "            \"hadn't\", 'hasn', \"hasn't\", 'haven', \"haven't\", 'isn', \"isn't\", 'ma', 'mightn', \"mightn't\", 'mustn',\\\n",
        "            \"mustn't\", 'needn', \"needn't\", 'shan', \"shan't\", 'shouldn', \"shouldn't\", 'wasn', \"wasn't\", 'weren', \"weren't\", \\\n",
        "            'won', \"won't\", 'wouldn', \"wouldn't\"])"
      ],
      "execution_count": 8,
      "outputs": []
    },
    {
      "cell_type": "code",
      "metadata": {
        "id": "k74l6ux0T6Ag"
      },
      "source": [
        "def preprocess_text(text):\n",
        "    text = re.sub(r\"http\\S+\", \"\", text)             # removing website links\n",
        "    text = BeautifulSoup(text, 'lxml').get_text()   # removing html tags\n",
        "    text = decontract(text)                         # decontracting\n",
        "    text = re.sub(\"\\S*\\d\\S*\", \"\", text).strip()     # removing the words with numeric digits\n",
        "    text = re.sub('[^A-Za-z]+', ' ', text)          # removing non-word characters\n",
        "    text = text.lower()                             # converting to lower case\n",
        "    text = [word for word in text.split(\" \") if not word in stop_words] # removing stop words\n",
        "    text = [lemmatizer.lemmatize(token, \"v\") for token in text] #Lemmatization\n",
        "    text = \" \".join(text)\n",
        "    text.strip()\n",
        "    return text\n",
        "\n",
        "def convert_task(text):\n",
        "    if text == \"HOF\":\n",
        "      return 1\n",
        "    return 0"
      ],
      "execution_count": 9,
      "outputs": []
    },
    {
      "cell_type": "code",
      "metadata": {
        "id": "nS_uUYT0W44M"
      },
      "source": [
        "hasoc_data[\"text\"] = hasoc_data[\"text\"].apply(lambda x: preprocess_text(x))\n",
        "hasoc_data[\"task_1\"] = hasoc_data[\"task_1\"].apply(lambda x: convert_task(x))"
      ],
      "execution_count": 10,
      "outputs": []
    },
    {
      "cell_type": "code",
      "metadata": {
        "colab": {
          "base_uri": "https://localhost:8080/"
        },
        "id": "pzlKAoAoUvhu",
        "outputId": "5b5ffed5-aeb8-4e22-a4b1-5b75028da58b"
      },
      "source": [
        "hasoc_data[\"text\"].head()"
      ],
      "execution_count": 11,
      "outputs": [
        {
          "output_type": "execute_result",
          "data": {
            "text/plain": [
              "0     wealth make not able start make money sustain...\n",
              "1          technically still turn back clock dick head\n",
              "2     vmbjp narendramodi jpnadda amitshah dilipghos...\n",
              "3               krtoprak yigit soldier japan dick head\n",
              "4     blueheartedly would better ask think sleazy s...\n",
              "Name: text, dtype: object"
            ]
          },
          "metadata": {
            "tags": []
          },
          "execution_count": 11
        }
      ]
    },
    {
      "cell_type": "code",
      "metadata": {
        "colab": {
          "base_uri": "https://localhost:8080/"
        },
        "id": "17FCqS1UXSlX",
        "outputId": "93b4c962-0596-4075-87cf-e9c77e159735"
      },
      "source": [
        "hasoc_data[\"task_1\"].head()"
      ],
      "execution_count": 12,
      "outputs": [
        {
          "output_type": "execute_result",
          "data": {
            "text/plain": [
              "0    1\n",
              "1    1\n",
              "2    0\n",
              "3    1\n",
              "4    1\n",
              "Name: task_1, dtype: int64"
            ]
          },
          "metadata": {
            "tags": []
          },
          "execution_count": 12
        }
      ]
    },
    {
      "cell_type": "code",
      "metadata": {
        "colab": {
          "base_uri": "https://localhost:8080/"
        },
        "id": "Ct0T9LkSXd-V",
        "outputId": "05d062a3-289a-4d4f-edf1-9ffce1eed3aa"
      },
      "source": [
        "hasoc_data[\"task_1\"].value_counts()"
      ],
      "execution_count": 13,
      "outputs": [
        {
          "output_type": "execute_result",
          "data": {
            "text/plain": [
              "1    2501\n",
              "0    1342\n",
              "Name: task_1, dtype: int64"
            ]
          },
          "metadata": {
            "tags": []
          },
          "execution_count": 13
        }
      ]
    },
    {
      "cell_type": "code",
      "metadata": {
        "id": "D6OJhHoTYD5z"
      },
      "source": [
        "hasoc_data.drop([\"Unnamed: 0\",\"_id\",\"task_2\"],inplace=True,axis=1)"
      ],
      "execution_count": 14,
      "outputs": []
    },
    {
      "cell_type": "code",
      "metadata": {
        "colab": {
          "base_uri": "https://localhost:8080/",
          "height": 204
        },
        "id": "KX_uW4lHYlpt",
        "outputId": "edceeb2c-9c02-47e3-f1ac-97b428f63a5f"
      },
      "source": [
        "hasoc_data.head()"
      ],
      "execution_count": 15,
      "outputs": [
        {
          "output_type": "execute_result",
          "data": {
            "text/html": [
              "<div>\n",
              "<style scoped>\n",
              "    .dataframe tbody tr th:only-of-type {\n",
              "        vertical-align: middle;\n",
              "    }\n",
              "\n",
              "    .dataframe tbody tr th {\n",
              "        vertical-align: top;\n",
              "    }\n",
              "\n",
              "    .dataframe thead th {\n",
              "        text-align: right;\n",
              "    }\n",
              "</style>\n",
              "<table border=\"1\" class=\"dataframe\">\n",
              "  <thead>\n",
              "    <tr style=\"text-align: right;\">\n",
              "      <th></th>\n",
              "      <th>text</th>\n",
              "      <th>task_1</th>\n",
              "    </tr>\n",
              "  </thead>\n",
              "  <tbody>\n",
              "    <tr>\n",
              "      <th>0</th>\n",
              "      <td>wealth make not able start make money sustain...</td>\n",
              "      <td>1</td>\n",
              "    </tr>\n",
              "    <tr>\n",
              "      <th>1</th>\n",
              "      <td>technically still turn back clock dick head</td>\n",
              "      <td>1</td>\n",
              "    </tr>\n",
              "    <tr>\n",
              "      <th>2</th>\n",
              "      <td>vmbjp narendramodi jpnadda amitshah dilipghos...</td>\n",
              "      <td>0</td>\n",
              "    </tr>\n",
              "    <tr>\n",
              "      <th>3</th>\n",
              "      <td>krtoprak yigit soldier japan dick head</td>\n",
              "      <td>1</td>\n",
              "    </tr>\n",
              "    <tr>\n",
              "      <th>4</th>\n",
              "      <td>blueheartedly would better ask think sleazy s...</td>\n",
              "      <td>1</td>\n",
              "    </tr>\n",
              "  </tbody>\n",
              "</table>\n",
              "</div>"
            ],
            "text/plain": [
              "                                                text  task_1\n",
              "0   wealth make not able start make money sustain...       1\n",
              "1        technically still turn back clock dick head       1\n",
              "2   vmbjp narendramodi jpnadda amitshah dilipghos...       0\n",
              "3             krtoprak yigit soldier japan dick head       1\n",
              "4   blueheartedly would better ask think sleazy s...       1"
            ]
          },
          "metadata": {
            "tags": []
          },
          "execution_count": 15
        }
      ]
    },
    {
      "cell_type": "code",
      "metadata": {
        "colab": {
          "base_uri": "https://localhost:8080/"
        },
        "id": "20LCyDWVU_2w",
        "outputId": "d23f63d9-7652-4b9e-eaf5-73fc6de7be96"
      },
      "source": [
        "train_df, test_df = train_test_split(hasoc_data, test_size = 0.2, random_state = 42)\n",
        "print(\"Training data size : \", train_df.shape)\n",
        "print(\"Test data size : \", test_df.shape)"
      ],
      "execution_count": 16,
      "outputs": [
        {
          "output_type": "stream",
          "text": [
            "Training data size :  (3074, 2)\n",
            "Test data size :  (769, 2)\n"
          ],
          "name": "stdout"
        }
      ]
    },
    {
      "cell_type": "markdown",
      "metadata": {
        "id": "6HoQcDxHZUQg"
      },
      "source": [
        "#Basic LSTM model and training\n",
        "\n"
      ]
    },
    {
      "cell_type": "code",
      "metadata": {
        "id": "kUncgNfvZ8pe"
      },
      "source": [
        "top_words = 6000\n",
        "tokenizer = Tokenizer(num_words=top_words)\n",
        "tokenizer.fit_on_texts(train_df['text'])\n",
        "list_tokenized_train = tokenizer.texts_to_sequences(train_df['text'])\n",
        "\n",
        "max_review_length = 130\n",
        "X_train = pad_sequences(list_tokenized_train, maxlen=max_review_length)\n",
        "y_train = train_df['task_1']"
      ],
      "execution_count": 17,
      "outputs": []
    },
    {
      "cell_type": "code",
      "metadata": {
        "colab": {
          "base_uri": "https://localhost:8080/"
        },
        "id": "QEgmIWYjbuKn",
        "outputId": "d3bf9e9f-1b43-432e-b663-7bf1829fb33f"
      },
      "source": [
        "embedding_vecor_length = 32\n",
        "model = Sequential()\n",
        "model.add(Embedding(top_words+1, embedding_vecor_length, input_length=max_review_length))\n",
        "model.add(LSTM(100))\n",
        "model.add(Dense(1, activation='sigmoid'))\n",
        "model.compile(loss='binary_crossentropy', optimizer='adam', metrics=['accuracy'])\n",
        "model.summary()"
      ],
      "execution_count": 18,
      "outputs": [
        {
          "output_type": "stream",
          "text": [
            "Model: \"sequential\"\n",
            "_________________________________________________________________\n",
            "Layer (type)                 Output Shape              Param #   \n",
            "=================================================================\n",
            "embedding (Embedding)        (None, 130, 32)           192032    \n",
            "_________________________________________________________________\n",
            "lstm (LSTM)                  (None, 100)               53200     \n",
            "_________________________________________________________________\n",
            "dense (Dense)                (None, 1)                 101       \n",
            "=================================================================\n",
            "Total params: 245,333\n",
            "Trainable params: 245,333\n",
            "Non-trainable params: 0\n",
            "_________________________________________________________________\n"
          ],
          "name": "stdout"
        }
      ]
    },
    {
      "cell_type": "code",
      "metadata": {
        "colab": {
          "base_uri": "https://localhost:8080/"
        },
        "id": "1oNjWcyycPjv",
        "outputId": "5002f8ff-49c0-41dc-e3d3-65bd94552ed6"
      },
      "source": [
        "history = model.fit(X_train,y_train, epochs=100, batch_size=64, validation_split=0.2)"
      ],
      "execution_count": 19,
      "outputs": [
        {
          "output_type": "stream",
          "text": [
            "Epoch 1/100\n",
            "39/39 [==============================] - 22s 35ms/step - loss: 0.6657 - accuracy: 0.6420 - val_loss: 0.6353 - val_accuracy: 0.6439\n",
            "Epoch 2/100\n",
            "39/39 [==============================] - 1s 15ms/step - loss: 0.5792 - accuracy: 0.6962 - val_loss: 0.5498 - val_accuracy: 0.7496\n",
            "Epoch 3/100\n",
            "39/39 [==============================] - 1s 15ms/step - loss: 0.4270 - accuracy: 0.8368 - val_loss: 0.5227 - val_accuracy: 0.7463\n",
            "Epoch 4/100\n",
            "39/39 [==============================] - 1s 16ms/step - loss: 0.2421 - accuracy: 0.9029 - val_loss: 0.5636 - val_accuracy: 0.7317\n",
            "Epoch 5/100\n",
            "39/39 [==============================] - 1s 16ms/step - loss: 0.1419 - accuracy: 0.9567 - val_loss: 0.7142 - val_accuracy: 0.7220\n",
            "Epoch 6/100\n",
            "39/39 [==============================] - 1s 14ms/step - loss: 0.1022 - accuracy: 0.9668 - val_loss: 0.7700 - val_accuracy: 0.7220\n",
            "Epoch 7/100\n",
            "39/39 [==============================] - 1s 14ms/step - loss: 0.0743 - accuracy: 0.9769 - val_loss: 0.8332 - val_accuracy: 0.7285\n",
            "Epoch 8/100\n",
            "39/39 [==============================] - 1s 14ms/step - loss: 0.0570 - accuracy: 0.9843 - val_loss: 0.8757 - val_accuracy: 0.7024\n",
            "Epoch 9/100\n",
            "39/39 [==============================] - 1s 14ms/step - loss: 0.0579 - accuracy: 0.9812 - val_loss: 1.0050 - val_accuracy: 0.6959\n",
            "Epoch 10/100\n",
            "39/39 [==============================] - 1s 15ms/step - loss: 0.0464 - accuracy: 0.9858 - val_loss: 0.9299 - val_accuracy: 0.7041\n",
            "Epoch 11/100\n",
            "39/39 [==============================] - 1s 16ms/step - loss: 0.0332 - accuracy: 0.9898 - val_loss: 0.9463 - val_accuracy: 0.7106\n",
            "Epoch 12/100\n",
            "39/39 [==============================] - 1s 16ms/step - loss: 0.0300 - accuracy: 0.9905 - val_loss: 1.0571 - val_accuracy: 0.7089\n",
            "Epoch 13/100\n",
            "39/39 [==============================] - 1s 15ms/step - loss: 0.0251 - accuracy: 0.9922 - val_loss: 1.0430 - val_accuracy: 0.7122\n",
            "Epoch 14/100\n",
            "39/39 [==============================] - 1s 14ms/step - loss: 0.0230 - accuracy: 0.9934 - val_loss: 1.1767 - val_accuracy: 0.7008\n",
            "Epoch 15/100\n",
            "39/39 [==============================] - 1s 14ms/step - loss: 0.0162 - accuracy: 0.9959 - val_loss: 1.1746 - val_accuracy: 0.6992\n",
            "Epoch 16/100\n",
            "39/39 [==============================] - 1s 14ms/step - loss: 0.0180 - accuracy: 0.9958 - val_loss: 1.2435 - val_accuracy: 0.7041\n",
            "Epoch 17/100\n",
            "39/39 [==============================] - 1s 15ms/step - loss: 0.0166 - accuracy: 0.9937 - val_loss: 1.2934 - val_accuracy: 0.7057\n",
            "Epoch 18/100\n",
            "39/39 [==============================] - 1s 14ms/step - loss: 0.0175 - accuracy: 0.9939 - val_loss: 1.2037 - val_accuracy: 0.7041\n",
            "Epoch 19/100\n",
            "39/39 [==============================] - 1s 17ms/step - loss: 0.0150 - accuracy: 0.9962 - val_loss: 1.1600 - val_accuracy: 0.7024\n",
            "Epoch 20/100\n",
            "39/39 [==============================] - 1s 14ms/step - loss: 0.0144 - accuracy: 0.9957 - val_loss: 1.1952 - val_accuracy: 0.7073\n",
            "Epoch 21/100\n",
            "39/39 [==============================] - 1s 14ms/step - loss: 0.0123 - accuracy: 0.9977 - val_loss: 1.3499 - val_accuracy: 0.6894\n",
            "Epoch 22/100\n",
            "39/39 [==============================] - 1s 15ms/step - loss: 0.0168 - accuracy: 0.9949 - val_loss: 1.4534 - val_accuracy: 0.6927\n",
            "Epoch 23/100\n",
            "39/39 [==============================] - 1s 14ms/step - loss: 0.0146 - accuracy: 0.9943 - val_loss: 1.2497 - val_accuracy: 0.6992\n",
            "Epoch 24/100\n",
            "39/39 [==============================] - 1s 15ms/step - loss: 0.0150 - accuracy: 0.9963 - val_loss: 1.4660 - val_accuracy: 0.7106\n",
            "Epoch 25/100\n",
            "39/39 [==============================] - 1s 15ms/step - loss: 0.0160 - accuracy: 0.9966 - val_loss: 1.3899 - val_accuracy: 0.6878\n",
            "Epoch 26/100\n",
            "39/39 [==============================] - 1s 15ms/step - loss: 0.0126 - accuracy: 0.9956 - val_loss: 1.4797 - val_accuracy: 0.7024\n",
            "Epoch 27/100\n",
            "39/39 [==============================] - 1s 17ms/step - loss: 0.0079 - accuracy: 0.9973 - val_loss: 1.4553 - val_accuracy: 0.6976\n",
            "Epoch 28/100\n",
            "39/39 [==============================] - 1s 14ms/step - loss: 0.0092 - accuracy: 0.9967 - val_loss: 1.5032 - val_accuracy: 0.7073\n",
            "Epoch 29/100\n",
            "39/39 [==============================] - 1s 15ms/step - loss: 0.0110 - accuracy: 0.9971 - val_loss: 1.5747 - val_accuracy: 0.7057\n",
            "Epoch 30/100\n",
            "39/39 [==============================] - 1s 14ms/step - loss: 0.0119 - accuracy: 0.9965 - val_loss: 1.2803 - val_accuracy: 0.7024\n",
            "Epoch 31/100\n",
            "39/39 [==============================] - 1s 14ms/step - loss: 0.0374 - accuracy: 0.9887 - val_loss: 1.4548 - val_accuracy: 0.7187\n",
            "Epoch 32/100\n",
            "39/39 [==============================] - 1s 14ms/step - loss: 0.0167 - accuracy: 0.9962 - val_loss: 1.3072 - val_accuracy: 0.7154\n",
            "Epoch 33/100\n",
            "39/39 [==============================] - 1s 15ms/step - loss: 0.0123 - accuracy: 0.9971 - val_loss: 1.3761 - val_accuracy: 0.7138\n",
            "Epoch 34/100\n",
            "39/39 [==============================] - 1s 18ms/step - loss: 0.0091 - accuracy: 0.9960 - val_loss: 1.4757 - val_accuracy: 0.7154\n",
            "Epoch 35/100\n",
            "39/39 [==============================] - 1s 14ms/step - loss: 0.0121 - accuracy: 0.9947 - val_loss: 1.4701 - val_accuracy: 0.7138\n",
            "Epoch 36/100\n",
            "39/39 [==============================] - 1s 13ms/step - loss: 0.0096 - accuracy: 0.9947 - val_loss: 1.4716 - val_accuracy: 0.6992\n",
            "Epoch 37/100\n",
            "39/39 [==============================] - 1s 13ms/step - loss: 0.0098 - accuracy: 0.9961 - val_loss: 1.4302 - val_accuracy: 0.7073\n",
            "Epoch 38/100\n",
            "39/39 [==============================] - 1s 14ms/step - loss: 0.0199 - accuracy: 0.9952 - val_loss: 1.5268 - val_accuracy: 0.7089\n",
            "Epoch 39/100\n",
            "39/39 [==============================] - 1s 14ms/step - loss: 0.0086 - accuracy: 0.9964 - val_loss: 1.5210 - val_accuracy: 0.7089\n",
            "Epoch 40/100\n",
            "39/39 [==============================] - 1s 13ms/step - loss: 0.0075 - accuracy: 0.9971 - val_loss: 1.5491 - val_accuracy: 0.7057\n",
            "Epoch 41/100\n",
            "39/39 [==============================] - 1s 13ms/step - loss: 0.0085 - accuracy: 0.9960 - val_loss: 1.3870 - val_accuracy: 0.7138\n",
            "Epoch 42/100\n",
            "39/39 [==============================] - 1s 16ms/step - loss: 0.0208 - accuracy: 0.9930 - val_loss: 1.7105 - val_accuracy: 0.7024\n",
            "Epoch 43/100\n",
            "39/39 [==============================] - 1s 13ms/step - loss: 0.0127 - accuracy: 0.9969 - val_loss: 1.5985 - val_accuracy: 0.7154\n",
            "Epoch 44/100\n",
            "39/39 [==============================] - 1s 14ms/step - loss: 0.0087 - accuracy: 0.9976 - val_loss: 1.5351 - val_accuracy: 0.7154\n",
            "Epoch 45/100\n",
            "39/39 [==============================] - 1s 13ms/step - loss: 0.0070 - accuracy: 0.9964 - val_loss: 1.5478 - val_accuracy: 0.7138\n",
            "Epoch 46/100\n",
            "39/39 [==============================] - 1s 13ms/step - loss: 0.0073 - accuracy: 0.9973 - val_loss: 1.5701 - val_accuracy: 0.7187\n",
            "Epoch 47/100\n",
            "39/39 [==============================] - 1s 13ms/step - loss: 0.0113 - accuracy: 0.9940 - val_loss: 1.5817 - val_accuracy: 0.7154\n",
            "Epoch 48/100\n",
            "39/39 [==============================] - 1s 13ms/step - loss: 0.0084 - accuracy: 0.9960 - val_loss: 1.5970 - val_accuracy: 0.7138\n",
            "Epoch 49/100\n",
            "39/39 [==============================] - 1s 15ms/step - loss: 0.0060 - accuracy: 0.9977 - val_loss: 1.6344 - val_accuracy: 0.7138\n",
            "Epoch 50/100\n",
            "39/39 [==============================] - 1s 14ms/step - loss: 0.0079 - accuracy: 0.9965 - val_loss: 1.7165 - val_accuracy: 0.7106\n",
            "Epoch 51/100\n",
            "39/39 [==============================] - 1s 14ms/step - loss: 0.0071 - accuracy: 0.9966 - val_loss: 1.5861 - val_accuracy: 0.7138\n",
            "Epoch 52/100\n",
            "39/39 [==============================] - 1s 13ms/step - loss: 0.0053 - accuracy: 0.9990 - val_loss: 1.6386 - val_accuracy: 0.7089\n",
            "Epoch 53/100\n",
            "39/39 [==============================] - 1s 16ms/step - loss: 0.0090 - accuracy: 0.9940 - val_loss: 1.6434 - val_accuracy: 0.7154\n",
            "Epoch 54/100\n",
            "39/39 [==============================] - 1s 13ms/step - loss: 0.0068 - accuracy: 0.9960 - val_loss: 1.6723 - val_accuracy: 0.7138\n",
            "Epoch 55/100\n",
            "39/39 [==============================] - 1s 13ms/step - loss: 0.0061 - accuracy: 0.9979 - val_loss: 1.6739 - val_accuracy: 0.7106\n",
            "Epoch 56/100\n",
            "39/39 [==============================] - 1s 14ms/step - loss: 0.0079 - accuracy: 0.9963 - val_loss: 1.7333 - val_accuracy: 0.7089\n",
            "Epoch 57/100\n",
            "39/39 [==============================] - 1s 13ms/step - loss: 0.0087 - accuracy: 0.9954 - val_loss: 1.5634 - val_accuracy: 0.7220\n",
            "Epoch 58/100\n",
            "39/39 [==============================] - 1s 13ms/step - loss: 0.0040 - accuracy: 0.9987 - val_loss: 1.6831 - val_accuracy: 0.7089\n",
            "Epoch 59/100\n",
            "39/39 [==============================] - 1s 14ms/step - loss: 0.0041 - accuracy: 0.9987 - val_loss: 1.7259 - val_accuracy: 0.7154\n",
            "Epoch 60/100\n",
            "39/39 [==============================] - 1s 13ms/step - loss: 0.0068 - accuracy: 0.9962 - val_loss: 1.7234 - val_accuracy: 0.7187\n",
            "Epoch 61/100\n",
            "39/39 [==============================] - 1s 14ms/step - loss: 0.0063 - accuracy: 0.9975 - val_loss: 1.7758 - val_accuracy: 0.7154\n",
            "Epoch 62/100\n",
            "39/39 [==============================] - 1s 13ms/step - loss: 0.0062 - accuracy: 0.9967 - val_loss: 1.6938 - val_accuracy: 0.7236\n",
            "Epoch 63/100\n",
            "39/39 [==============================] - 1s 14ms/step - loss: 0.0073 - accuracy: 0.9973 - val_loss: 1.8769 - val_accuracy: 0.7089\n",
            "Epoch 64/100\n",
            "39/39 [==============================] - 1s 13ms/step - loss: 0.0056 - accuracy: 0.9966 - val_loss: 1.7767 - val_accuracy: 0.7057\n",
            "Epoch 65/100\n",
            "39/39 [==============================] - 1s 14ms/step - loss: 0.0056 - accuracy: 0.9975 - val_loss: 1.8088 - val_accuracy: 0.7187\n",
            "Epoch 66/100\n",
            "39/39 [==============================] - 1s 13ms/step - loss: 0.0069 - accuracy: 0.9956 - val_loss: 1.7370 - val_accuracy: 0.7138\n",
            "Epoch 67/100\n",
            "39/39 [==============================] - 1s 14ms/step - loss: 0.0080 - accuracy: 0.9957 - val_loss: 1.9306 - val_accuracy: 0.7024\n",
            "Epoch 68/100\n",
            "39/39 [==============================] - 1s 13ms/step - loss: 0.0063 - accuracy: 0.9986 - val_loss: 1.8438 - val_accuracy: 0.7073\n",
            "Epoch 69/100\n",
            "39/39 [==============================] - 1s 14ms/step - loss: 0.0082 - accuracy: 0.9957 - val_loss: 1.6673 - val_accuracy: 0.7122\n",
            "Epoch 70/100\n",
            "39/39 [==============================] - 1s 13ms/step - loss: 0.0095 - accuracy: 0.9959 - val_loss: 1.8870 - val_accuracy: 0.7073\n",
            "Epoch 71/100\n",
            "39/39 [==============================] - 1s 13ms/step - loss: 0.0050 - accuracy: 0.9973 - val_loss: 1.8381 - val_accuracy: 0.7122\n",
            "Epoch 72/100\n",
            "39/39 [==============================] - 1s 14ms/step - loss: 0.0041 - accuracy: 0.9985 - val_loss: 1.9170 - val_accuracy: 0.7089\n",
            "Epoch 73/100\n",
            "39/39 [==============================] - 1s 14ms/step - loss: 0.0048 - accuracy: 0.9969 - val_loss: 1.9344 - val_accuracy: 0.7106\n",
            "Epoch 74/100\n",
            "39/39 [==============================] - 1s 15ms/step - loss: 0.0057 - accuracy: 0.9969 - val_loss: 1.9323 - val_accuracy: 0.7073\n",
            "Epoch 75/100\n",
            "39/39 [==============================] - 1s 13ms/step - loss: 0.0054 - accuracy: 0.9972 - val_loss: 2.0092 - val_accuracy: 0.7073\n",
            "Epoch 76/100\n",
            "39/39 [==============================] - 1s 14ms/step - loss: 0.0038 - accuracy: 0.9980 - val_loss: 2.0350 - val_accuracy: 0.7073\n",
            "Epoch 77/100\n",
            "39/39 [==============================] - 1s 13ms/step - loss: 0.0068 - accuracy: 0.9957 - val_loss: 2.0946 - val_accuracy: 0.7073\n",
            "Epoch 78/100\n",
            "39/39 [==============================] - 1s 14ms/step - loss: 0.0656 - accuracy: 0.9927 - val_loss: 1.6038 - val_accuracy: 0.6959\n",
            "Epoch 79/100\n",
            "39/39 [==============================] - 1s 14ms/step - loss: 0.1297 - accuracy: 0.9546 - val_loss: 1.3833 - val_accuracy: 0.6878\n",
            "Epoch 80/100\n",
            "39/39 [==============================] - 1s 14ms/step - loss: 0.0335 - accuracy: 0.9906 - val_loss: 1.4315 - val_accuracy: 0.6846\n",
            "Epoch 81/100\n",
            "39/39 [==============================] - 1s 14ms/step - loss: 0.0222 - accuracy: 0.9941 - val_loss: 1.4785 - val_accuracy: 0.6813\n",
            "Epoch 82/100\n",
            "39/39 [==============================] - 1s 14ms/step - loss: 0.0126 - accuracy: 0.9972 - val_loss: 1.5032 - val_accuracy: 0.6732\n",
            "Epoch 83/100\n",
            "39/39 [==============================] - 1s 13ms/step - loss: 0.0079 - accuracy: 0.9973 - val_loss: 1.5508 - val_accuracy: 0.6764\n",
            "Epoch 84/100\n",
            "39/39 [==============================] - 1s 14ms/step - loss: 0.0089 - accuracy: 0.9968 - val_loss: 1.6040 - val_accuracy: 0.6764\n",
            "Epoch 85/100\n",
            "39/39 [==============================] - 1s 14ms/step - loss: 0.0083 - accuracy: 0.9958 - val_loss: 1.6092 - val_accuracy: 0.6764\n",
            "Epoch 86/100\n",
            "39/39 [==============================] - 1s 13ms/step - loss: 0.0061 - accuracy: 0.9971 - val_loss: 1.6536 - val_accuracy: 0.6813\n",
            "Epoch 87/100\n",
            "39/39 [==============================] - 1s 14ms/step - loss: 0.0093 - accuracy: 0.9968 - val_loss: 1.6545 - val_accuracy: 0.6699\n",
            "Epoch 88/100\n",
            "39/39 [==============================] - 1s 14ms/step - loss: 0.0080 - accuracy: 0.9971 - val_loss: 1.5943 - val_accuracy: 0.6846\n",
            "Epoch 89/100\n",
            "39/39 [==============================] - 1s 14ms/step - loss: 0.0089 - accuracy: 0.9967 - val_loss: 1.6443 - val_accuracy: 0.6846\n",
            "Epoch 90/100\n",
            "39/39 [==============================] - 1s 14ms/step - loss: 0.0088 - accuracy: 0.9955 - val_loss: 1.6785 - val_accuracy: 0.6862\n",
            "Epoch 91/100\n",
            "39/39 [==============================] - 1s 14ms/step - loss: 0.0070 - accuracy: 0.9947 - val_loss: 1.6960 - val_accuracy: 0.6862\n",
            "Epoch 92/100\n",
            "39/39 [==============================] - 1s 13ms/step - loss: 0.0100 - accuracy: 0.9943 - val_loss: 1.7115 - val_accuracy: 0.6829\n",
            "Epoch 93/100\n",
            "39/39 [==============================] - 1s 14ms/step - loss: 0.0076 - accuracy: 0.9967 - val_loss: 1.7349 - val_accuracy: 0.6846\n",
            "Epoch 94/100\n",
            "39/39 [==============================] - 1s 14ms/step - loss: 0.0098 - accuracy: 0.9942 - val_loss: 1.7580 - val_accuracy: 0.6862\n",
            "Epoch 95/100\n",
            "39/39 [==============================] - 1s 14ms/step - loss: 0.0089 - accuracy: 0.9941 - val_loss: 1.7583 - val_accuracy: 0.6846\n",
            "Epoch 96/100\n",
            "39/39 [==============================] - 1s 14ms/step - loss: 0.0082 - accuracy: 0.9951 - val_loss: 1.7884 - val_accuracy: 0.6829\n",
            "Epoch 97/100\n",
            "39/39 [==============================] - 1s 13ms/step - loss: 0.0064 - accuracy: 0.9963 - val_loss: 1.7845 - val_accuracy: 0.6829\n",
            "Epoch 98/100\n",
            "39/39 [==============================] - 1s 14ms/step - loss: 0.0053 - accuracy: 0.9977 - val_loss: 1.7943 - val_accuracy: 0.6813\n",
            "Epoch 99/100\n",
            "39/39 [==============================] - 1s 13ms/step - loss: 0.0054 - accuracy: 0.9973 - val_loss: 1.8120 - val_accuracy: 0.6829\n",
            "Epoch 100/100\n",
            "39/39 [==============================] - 1s 14ms/step - loss: 0.0050 - accuracy: 0.9972 - val_loss: 1.8214 - val_accuracy: 0.6813\n"
          ],
          "name": "stdout"
        }
      ]
    },
    {
      "cell_type": "markdown",
      "metadata": {
        "id": "3RzXaWYHqxCK"
      },
      "source": [
        "#Result and Evaluation"
      ]
    },
    {
      "cell_type": "code",
      "metadata": {
        "colab": {
          "base_uri": "https://localhost:8080/"
        },
        "id": "B_SqoAY7eLf0",
        "outputId": "5f8018e4-83d2-415a-a494-9f385e356dd5"
      },
      "source": [
        "list_tokenized_test = tokenizer.texts_to_sequences(test_df['text'])\n",
        "X_test = pad_sequences(list_tokenized_test, maxlen=max_review_length)\n",
        "y_test = test_df['task_1']\n",
        "prediction = model.predict(X_test)\n",
        "y_pred = (prediction > 0.5)\n",
        "print(\"Accuracy of the model : \", accuracy_score(y_pred, y_test))\n",
        "print('F1-score: ', f1_score(y_pred, y_test))\n",
        "print('Confusion matrix:')\n",
        "confusion_matrix(y_test,y_pred)"
      ],
      "execution_count": 20,
      "outputs": [
        {
          "output_type": "stream",
          "text": [
            "Accuracy of the model :  0.6957087126137841\n",
            "F1-score:  0.7719298245614036\n",
            "Confusion matrix:\n"
          ],
          "name": "stdout"
        },
        {
          "output_type": "execute_result",
          "data": {
            "text/plain": [
              "array([[139, 101],\n",
              "       [133, 396]])"
            ]
          },
          "metadata": {
            "tags": []
          },
          "execution_count": 20
        }
      ]
    },
    {
      "cell_type": "code",
      "metadata": {
        "colab": {
          "base_uri": "https://localhost:8080/",
          "height": 541
        },
        "id": "T3IRuIMNqeMw",
        "outputId": "c09d2a23-490e-4ca0-d85a-04327170a0ce"
      },
      "source": [
        "import matplotlib.pyplot as plt\n",
        "\n",
        "\n",
        "def plot_graphs(history, string):\n",
        "  plt.plot(history.history[string])\n",
        "  plt.plot(history.history['val_'+string])\n",
        "  plt.xlabel(\"Epochs\")\n",
        "  plt.ylabel(string)\n",
        "  plt.legend([string, 'val_'+string])\n",
        "  plt.show()\n",
        "\n",
        "plot_graphs(history, 'accuracy')\n",
        "plot_graphs(history, 'loss')"
      ],
      "execution_count": 21,
      "outputs": [
        {
          "output_type": "display_data",
          "data": {
            "image/png": "[encoded data removed]",
            "text/plain": [
              "<Figure size 432x288 with 1 Axes>"
            ]
          },
          "metadata": {
            "tags": [],
            "needs_background": "light"
          }
        },
        {
          "output_type": "display_data",
          "data": {
            "image/png": "[encoded data removed]",
            "text/plain": [
              "<Figure size 432x288 with 1 Axes>"
            ]
          },
          "metadata": {
            "tags": [],
            "needs_background": "light"
          }
        }
      ]
    }
  ]
}
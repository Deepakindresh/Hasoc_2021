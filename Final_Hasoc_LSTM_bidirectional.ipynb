{
  "nbformat": 4,
  "nbformat_minor": 0,
  "metadata": {
    "colab": {
      "name": "Final_Hasoc_LSTM_bidirectional.ipynb",
      "provenance": []
    },
    "kernelspec": {
      "name": "python3",
      "display_name": "Python 3"
    },
    "language_info": {
      "name": "python"
    },
    "accelerator": "GPU"
  },
  "cells": [
    {
      "cell_type": "markdown",
      "metadata": {
        "id": "x3IpYUh5ROzM"
      },
      "source": [
        "# Mount Drive\n",
        "\n"
      ]
    },
    {
      "cell_type": "code",
      "metadata": {
        "colab": {
          "base_uri": "https://localhost:8080/"
        },
        "id": "L6dTF5JIRjli",
        "outputId": "6282d619-877f-49c4-ddf3-fb5f346ea402"
      },
      "source": [
        "from google.colab import drive\n",
        "drive.mount('/content/drive')"
      ],
      "execution_count": null,
      "outputs": [
        {
          "output_type": "stream",
          "name": "stdout",
          "text": [
            "Mounted at /content/drive\n"
          ]
        }
      ]
    },
    {
      "cell_type": "markdown",
      "metadata": {
        "id": "bRQgax8xTW4w"
      },
      "source": [
        "# Importing Libraries and initializing stopwords and stemmer\n"
      ]
    },
    {
      "cell_type": "code",
      "metadata": {
        "colab": {
          "base_uri": "https://localhost:8080/"
        },
        "id": "-zf_qMjiTk5J",
        "outputId": "a6b902c8-e7b0-434f-bd4a-6179568a899c"
      },
      "source": [
        "import numpy as np\n",
        "import pandas as pd \n",
        "import matplotlib.pyplot as plt\n",
        "import seaborn as sns\n",
        "\n",
        "import tensorflow as tf\n",
        "\n",
        "import warnings\n",
        "warnings.filterwarnings(\"ignore\")\n",
        "\n",
        "import nltk\n",
        "\n",
        "import re\n",
        "from bs4 import BeautifulSoup\n",
        "from tqdm import tqdm\n",
        "from nltk.stem import WordNetLemmatizer\n",
        "\n",
        "from sklearn.model_selection import train_test_split\n",
        "from sklearn.metrics import accuracy_score,f1_score, confusion_matrix\n",
        "from sklearn.metrics import classification_report\n",
        "\n",
        "\n",
        "from keras.preprocessing.text import Tokenizer\n",
        "from keras.preprocessing.sequence import pad_sequences\n",
        "from keras.layers import Dense , Input , LSTM , Embedding, Dropout , Activation, GRU, Flatten\n",
        "from keras.layers import Bidirectional, GlobalMaxPool1D\n",
        "from keras.models import Model, Sequential\n",
        "from keras.layers import Convolution1D\n",
        "from keras import initializers, regularizers, constraints, optimizers, layers\n",
        "nltk.download('wordnet')\n"
      ],
      "execution_count": null,
      "outputs": [
        {
          "output_type": "stream",
          "name": "stdout",
          "text": [
            "[nltk_data] Downloading package wordnet to /root/nltk_data...\n",
            "[nltk_data]   Unzipping corpora/wordnet.zip.\n"
          ]
        },
        {
          "output_type": "execute_result",
          "data": {
            "text/plain": [
              "True"
            ]
          },
          "metadata": {},
          "execution_count": 2
        }
      ]
    },
    {
      "cell_type": "markdown",
      "metadata": {
        "id": "Qp_zCdofVU8E"
      },
      "source": [
        "# Reading Data\n"
      ]
    },
    {
      "cell_type": "code",
      "metadata": {
        "colab": {
          "base_uri": "https://localhost:8080/",
          "height": 204
        },
        "id": "ql_BZvzaVYdM",
        "outputId": "35a5fb87-ee9e-4b88-8ef7-0a42844cb45a"
      },
      "source": [
        "hasoc_data = pd.read_csv(\"drive/MyDrive/ICHCL_baseline/hasoc2021-train/Hasoc2021_train.csv\") #Your respective address\n",
        "hasoc_data.head()\n"
      ],
      "execution_count": null,
      "outputs": [
        {
          "output_type": "execute_result",
          "data": {
            "text/html": [
              "<div>\n",
              "<style scoped>\n",
              "    .dataframe tbody tr th:only-of-type {\n",
              "        vertical-align: middle;\n",
              "    }\n",
              "\n",
              "    .dataframe tbody tr th {\n",
              "        vertical-align: top;\n",
              "    }\n",
              "\n",
              "    .dataframe thead th {\n",
              "        text-align: right;\n",
              "    }\n",
              "</style>\n",
              "<table border=\"1\" class=\"dataframe\">\n",
              "  <thead>\n",
              "    <tr style=\"text-align: right;\">\n",
              "      <th></th>\n",
              "      <th>Unnamed: 0</th>\n",
              "      <th>_id</th>\n",
              "      <th>text</th>\n",
              "      <th>task_1</th>\n",
              "      <th>task_2</th>\n",
              "    </tr>\n",
              "  </thead>\n",
              "  <tbody>\n",
              "    <tr>\n",
              "      <th>0</th>\n",
              "      <td>4986</td>\n",
              "      <td>60c5d6bf5659ea5e55defa2c</td>\n",
              "      <td>@wealth if you made it through this &amp;amp;&amp;amp;...</td>\n",
              "      <td>HOF</td>\n",
              "      <td>PRFN</td>\n",
              "    </tr>\n",
              "    <tr>\n",
              "      <th>1</th>\n",
              "      <td>3394</td>\n",
              "      <td>60c5d6bf5659ea5e55def461</td>\n",
              "      <td>Technically that's still turning back the cloc...</td>\n",
              "      <td>HOF</td>\n",
              "      <td>OFFN</td>\n",
              "    </tr>\n",
              "    <tr>\n",
              "      <th>2</th>\n",
              "      <td>1310</td>\n",
              "      <td>60c5d6bf5659ea5e55defaad</td>\n",
              "      <td>@VMBJP @BJP4Bengal @BJP4India @narendramodi @J...</td>\n",
              "      <td>NOT</td>\n",
              "      <td>NONE</td>\n",
              "    </tr>\n",
              "    <tr>\n",
              "      <th>3</th>\n",
              "      <td>3390</td>\n",
              "      <td>60c5d6bf5659ea5e55def419</td>\n",
              "      <td>@krtoprak_yigit Soldier of Japan Who has dick ...</td>\n",
              "      <td>HOF</td>\n",
              "      <td>OFFN</td>\n",
              "    </tr>\n",
              "    <tr>\n",
              "      <th>4</th>\n",
              "      <td>4626</td>\n",
              "      <td>60c5d6bf5659ea5e55def7fa</td>\n",
              "      <td>@blueheartedly You'd be better off asking who ...</td>\n",
              "      <td>HOF</td>\n",
              "      <td>OFFN</td>\n",
              "    </tr>\n",
              "  </tbody>\n",
              "</table>\n",
              "</div>"
            ],
            "text/plain": [
              "   Unnamed: 0                       _id  ... task_1 task_2\n",
              "0        4986  60c5d6bf5659ea5e55defa2c  ...    HOF   PRFN\n",
              "1        3394  60c5d6bf5659ea5e55def461  ...    HOF   OFFN\n",
              "2        1310  60c5d6bf5659ea5e55defaad  ...    NOT   NONE\n",
              "3        3390  60c5d6bf5659ea5e55def419  ...    HOF   OFFN\n",
              "4        4626  60c5d6bf5659ea5e55def7fa  ...    HOF   OFFN\n",
              "\n",
              "[5 rows x 5 columns]"
            ]
          },
          "metadata": {},
          "execution_count": 3
        }
      ]
    },
    {
      "cell_type": "code",
      "metadata": {
        "id": "A7PaLKvjUA9U"
      },
      "source": [
        "aakash_test = pd.read_csv(\"drive/MyDrive/ICHCL_baseline/Test/aakash_300.csv\")"
      ],
      "execution_count": null,
      "outputs": []
    },
    {
      "cell_type": "code",
      "metadata": {
        "colab": {
          "base_uri": "https://localhost:8080/",
          "height": 297
        },
        "id": "JcL3_A-fcKoB",
        "outputId": "b6d4373e-bc91-4a7e-b4e2-22011245d4f0"
      },
      "source": [
        "hasoc_data.describe()"
      ],
      "execution_count": null,
      "outputs": [
        {
          "output_type": "execute_result",
          "data": {
            "text/html": [
              "<div>\n",
              "<style scoped>\n",
              "    .dataframe tbody tr th:only-of-type {\n",
              "        vertical-align: middle;\n",
              "    }\n",
              "\n",
              "    .dataframe tbody tr th {\n",
              "        vertical-align: top;\n",
              "    }\n",
              "\n",
              "    .dataframe thead th {\n",
              "        text-align: right;\n",
              "    }\n",
              "</style>\n",
              "<table border=\"1\" class=\"dataframe\">\n",
              "  <thead>\n",
              "    <tr style=\"text-align: right;\">\n",
              "      <th></th>\n",
              "      <th>Unnamed: 0</th>\n",
              "    </tr>\n",
              "  </thead>\n",
              "  <tbody>\n",
              "    <tr>\n",
              "      <th>count</th>\n",
              "      <td>3843.000000</td>\n",
              "    </tr>\n",
              "    <tr>\n",
              "      <th>mean</th>\n",
              "      <td>2558.799375</td>\n",
              "    </tr>\n",
              "    <tr>\n",
              "      <th>std</th>\n",
              "      <td>1477.088070</td>\n",
              "    </tr>\n",
              "    <tr>\n",
              "      <th>min</th>\n",
              "      <td>1.000000</td>\n",
              "    </tr>\n",
              "    <tr>\n",
              "      <th>25%</th>\n",
              "      <td>1276.500000</td>\n",
              "    </tr>\n",
              "    <tr>\n",
              "      <th>50%</th>\n",
              "      <td>2574.000000</td>\n",
              "    </tr>\n",
              "    <tr>\n",
              "      <th>75%</th>\n",
              "      <td>3828.000000</td>\n",
              "    </tr>\n",
              "    <tr>\n",
              "      <th>max</th>\n",
              "      <td>5121.000000</td>\n",
              "    </tr>\n",
              "  </tbody>\n",
              "</table>\n",
              "</div>"
            ],
            "text/plain": [
              "        Unnamed: 0\n",
              "count  3843.000000\n",
              "mean   2558.799375\n",
              "std    1477.088070\n",
              "min       1.000000\n",
              "25%    1276.500000\n",
              "50%    2574.000000\n",
              "75%    3828.000000\n",
              "max    5121.000000"
            ]
          },
          "metadata": {},
          "execution_count": 5
        }
      ]
    },
    {
      "cell_type": "code",
      "metadata": {
        "id": "wqQdg_uzdZR4"
      },
      "source": [
        "tweets = hasoc_data.text\n",
        "y_task1 = hasoc_data.task_1\n",
        "y_task2 = hasoc_data.task_2"
      ],
      "execution_count": null,
      "outputs": []
    },
    {
      "cell_type": "code",
      "metadata": {
        "colab": {
          "base_uri": "https://localhost:8080/",
          "height": 204
        },
        "id": "s-87Pxp0x19o",
        "outputId": "0930f518-b04e-411b-e9f8-f31365d9d224"
      },
      "source": [
        "test_hasoc = pd.read_csv(\"drive/MyDrive/ICHCL_baseline/Test/en_Hasoc2021_test_task1.csv\")\n",
        "test_hasoc.head()"
      ],
      "execution_count": null,
      "outputs": [
        {
          "output_type": "execute_result",
          "data": {
            "text/html": [
              "<div>\n",
              "<style scoped>\n",
              "    .dataframe tbody tr th:only-of-type {\n",
              "        vertical-align: middle;\n",
              "    }\n",
              "\n",
              "    .dataframe tbody tr th {\n",
              "        vertical-align: top;\n",
              "    }\n",
              "\n",
              "    .dataframe thead th {\n",
              "        text-align: right;\n",
              "    }\n",
              "</style>\n",
              "<table border=\"1\" class=\"dataframe\">\n",
              "  <thead>\n",
              "    <tr style=\"text-align: right;\">\n",
              "      <th></th>\n",
              "      <th>_id</th>\n",
              "      <th>text</th>\n",
              "    </tr>\n",
              "  </thead>\n",
              "  <tbody>\n",
              "    <tr>\n",
              "      <th>0</th>\n",
              "      <td>60c5d6bf5659ea5e55deffcb</td>\n",
              "      <td>Fewer people coming in for vaccinations. So sa...</td>\n",
              "    </tr>\n",
              "    <tr>\n",
              "      <th>1</th>\n",
              "      <td>60c5d6bf5659ea5e55df028c</td>\n",
              "      <td>@MattHancock This may all be true. But... What...</td>\n",
              "    </tr>\n",
              "    <tr>\n",
              "      <th>2</th>\n",
              "      <td>60c5d6bf5659ea5e55def377</td>\n",
              "      <td>@Layla_EFC I’ve unfollowed him the wanker</td>\n",
              "    </tr>\n",
              "    <tr>\n",
              "      <th>3</th>\n",
              "      <td>60c5d6bf5659ea5e55def4c7</td>\n",
              "      <td>You guys are losing it all over the world. The...</td>\n",
              "    </tr>\n",
              "    <tr>\n",
              "      <th>4</th>\n",
              "      <td>60c5d6bf5659ea5e55df01a6</td>\n",
              "      <td>And thus death laughs... It is sad merriment, ...</td>\n",
              "    </tr>\n",
              "  </tbody>\n",
              "</table>\n",
              "</div>"
            ],
            "text/plain": [
              "                        _id                                               text\n",
              "0  60c5d6bf5659ea5e55deffcb  Fewer people coming in for vaccinations. So sa...\n",
              "1  60c5d6bf5659ea5e55df028c  @MattHancock This may all be true. But... What...\n",
              "2  60c5d6bf5659ea5e55def377          @Layla_EFC I’ve unfollowed him the wanker\n",
              "3  60c5d6bf5659ea5e55def4c7  You guys are losing it all over the world. The...\n",
              "4  60c5d6bf5659ea5e55df01a6  And thus death laughs... It is sad merriment, ..."
            ]
          },
          "metadata": {},
          "execution_count": 7
        }
      ]
    },
    {
      "cell_type": "markdown",
      "metadata": {
        "id": "ya3vFPNIe9WR"
      },
      "source": [
        "# Basic Preprocessing of Tweets\n"
      ]
    },
    {
      "cell_type": "code",
      "metadata": {
        "id": "FElfxXcCfCKH"
      },
      "source": [
        "def decontract(text):\n",
        "    text = re.sub(r\"won\\'t\", \"will not\", text)\n",
        "    text = re.sub(r\"can\\'t\", \"can not\", text)\n",
        "    text = re.sub(r\"n\\'t\", \" not\", text)\n",
        "    text = re.sub(r\"\\'re\", \" are\", text)\n",
        "    text = re.sub(r\"\\'s\", \" is\", text)\n",
        "    text = re.sub(r\"\\'d\", \" would\", text)\n",
        "    text = re.sub(r\"\\'ll\", \" will\", text)\n",
        "    text = re.sub(r\"\\'t\", \" not\", text)\n",
        "    text = re.sub(r\"\\'ve\", \" have\", text)\n",
        "    text = re.sub(r\"\\'m\", \" am\", text)\n",
        "    return text"
      ],
      "execution_count": null,
      "outputs": []
    },
    {
      "cell_type": "code",
      "metadata": {
        "id": "o0Kp1SU_fKl7"
      },
      "source": [
        "lemmatizer = WordNetLemmatizer()"
      ],
      "execution_count": null,
      "outputs": []
    },
    {
      "cell_type": "code",
      "metadata": {
        "id": "yYfVULZZiA2c"
      },
      "source": [
        "stop_words= set(['br', 'the', 'i', 'me', 'my', 'myself', 'we', 'our', 'ours', 'ourselves', 'you', \"you're\", \"you've\",\\\n",
        "            \"you'll\", \"you'd\", 'your', 'yours', 'yourself', 'yourselves', 'he', 'him', 'his', 'himself', \\\n",
        "            'she', \"she's\", 'her', 'hers', 'herself', 'it', \"it's\", 'its', 'itself', 'they', 'them', 'their',\\\n",
        "            'theirs', 'themselves', 'what', 'which', 'who', 'whom', 'this', 'that', \"that'll\", 'these', 'those', \\\n",
        "            'am', 'is', 'are', 'was', 'were', 'be', 'been', 'being', 'have', 'has', 'had', 'having', 'do', 'does', \\\n",
        "            'did', 'doing', 'a', 'an', 'the', 'and', 'but', 'if', 'or', 'because', 'as', 'until', 'while', 'of', \\\n",
        "            'at', 'by', 'for', 'with', 'about', 'against', 'between', 'into', 'through', 'during', 'before', 'after',\\\n",
        "            'above', 'below', 'to', 'from', 'up', 'down', 'in', 'out', 'on', 'off', 'over', 'under', 'again', 'further',\\\n",
        "            'then', 'once', 'here', 'there', 'when', 'where', 'why', 'how', 'all', 'any', 'both', 'each', 'few', 'more',\\\n",
        "            'most', 'other', 'some', 'such', 'only', 'own', 'same', 'so', 'than', 'too', 'very', \\\n",
        "            's', 't', 'can', 'will', 'just', 'don', \"don't\", 'should', \"should've\", 'now', 'd', 'll', 'm', 'o', 're', \\\n",
        "            've', 'y', 'ain', 'aren', \"aren't\", 'couldn', \"couldn't\", 'didn', \"didn't\", 'doesn', \"doesn't\", 'hadn',\\\n",
        "            \"hadn't\", 'hasn', \"hasn't\", 'haven', \"haven't\", 'isn', \"isn't\", 'ma', 'mightn', \"mightn't\", 'mustn',\\\n",
        "            \"mustn't\", 'needn', \"needn't\", 'shan', \"shan't\", 'shouldn', \"shouldn't\", 'wasn', \"wasn't\", 'weren', \"weren't\", \\\n",
        "            'won', \"won't\", 'wouldn', \"wouldn't\"])"
      ],
      "execution_count": null,
      "outputs": []
    },
    {
      "cell_type": "code",
      "metadata": {
        "id": "k74l6ux0T6Ag"
      },
      "source": [
        "def preprocess_text(text):\n",
        "    text = re.sub(r\"http\\S+\", \"\", text)             # removing website links\n",
        "    text = BeautifulSoup(text, 'lxml').get_text()   # removing html tags\n",
        "    text = decontract(text)                         # decontracting\n",
        "    text = re.sub(\"\\S*\\d\\S*\", \"\", text).strip()     # removing the words with numeric digits\n",
        "    text = re.sub('[^A-Za-z]+', ' ', text)          # removing non-word characters\n",
        "    text = text.lower()                             # converting to lower case\n",
        "    text = [word for word in text.split(\" \") if not word in stop_words] # removing stop words\n",
        "    text = [lemmatizer.lemmatize(token, \"v\") for token in text] #Lemmatization\n",
        "    text = \" \".join(text)\n",
        "    text.strip()\n",
        "    return text\n",
        "\n",
        "def convert_task(text):\n",
        "    if text == \"HOF\":\n",
        "      return 1\n",
        "    return 0"
      ],
      "execution_count": null,
      "outputs": []
    },
    {
      "cell_type": "code",
      "metadata": {
        "id": "nS_uUYT0W44M"
      },
      "source": [
        "hasoc_data[\"text\"] = hasoc_data[\"text\"].apply(lambda x: preprocess_text(x))\n",
        "hasoc_data[\"task_1\"] = hasoc_data[\"task_1\"].apply(lambda x: convert_task(x))\n",
        "aakash_test[\"text\"] = aakash_test[\"text\"].apply(lambda x: preprocess_text(x))\n",
        "aakash_test[\"task_1\"] = aakash_test[\"task_1\"].apply(lambda x: convert_task(x))\n",
        "test_hasoc[\"text\"] = test_hasoc[\"text\"].apply(lambda x: preprocess_text(x))"
      ],
      "execution_count": null,
      "outputs": []
    },
    {
      "cell_type": "code",
      "metadata": {
        "colab": {
          "base_uri": "https://localhost:8080/"
        },
        "id": "pzlKAoAoUvhu",
        "outputId": "de0a0bb8-9786-45bc-d5aa-84272f60583c"
      },
      "source": [
        "hasoc_data[\"text\"].head()"
      ],
      "execution_count": null,
      "outputs": [
        {
          "output_type": "execute_result",
          "data": {
            "text/plain": [
              "0     wealth make not able start make money sustain...\n",
              "1          technically still turn back clock dick head\n",
              "2     vmbjp narendramodi jpnadda amitshah dilipghos...\n",
              "3               krtoprak yigit soldier japan dick head\n",
              "4     blueheartedly would better ask think sleazy s...\n",
              "Name: text, dtype: object"
            ]
          },
          "metadata": {},
          "execution_count": 13
        }
      ]
    },
    {
      "cell_type": "code",
      "metadata": {
        "colab": {
          "base_uri": "https://localhost:8080/"
        },
        "id": "17FCqS1UXSlX",
        "outputId": "bdc84aa5-9d07-429c-f2a7-19ce42a6989a"
      },
      "source": [
        "hasoc_data[\"task_1\"].head()"
      ],
      "execution_count": null,
      "outputs": [
        {
          "output_type": "execute_result",
          "data": {
            "text/plain": [
              "0    1\n",
              "1    1\n",
              "2    0\n",
              "3    1\n",
              "4    1\n",
              "Name: task_1, dtype: int64"
            ]
          },
          "metadata": {},
          "execution_count": 14
        }
      ]
    },
    {
      "cell_type": "code",
      "metadata": {
        "colab": {
          "base_uri": "https://localhost:8080/"
        },
        "id": "Ct0T9LkSXd-V",
        "outputId": "1cf02629-79c1-417a-ff2b-5ade9bfe2855"
      },
      "source": [
        "hasoc_data[\"task_1\"].value_counts()"
      ],
      "execution_count": null,
      "outputs": [
        {
          "output_type": "execute_result",
          "data": {
            "text/plain": [
              "1    2501\n",
              "0    1342\n",
              "Name: task_1, dtype: int64"
            ]
          },
          "metadata": {},
          "execution_count": 15
        }
      ]
    },
    {
      "cell_type": "code",
      "metadata": {
        "colab": {
          "base_uri": "https://localhost:8080/"
        },
        "id": "qmO7Q6-aUceP",
        "outputId": "cc6d45d9-740c-417d-9706-cacee87a674e"
      },
      "source": [
        "aakash_test[\"task_1\"].value_counts()"
      ],
      "execution_count": null,
      "outputs": [
        {
          "output_type": "execute_result",
          "data": {
            "text/plain": [
              "1    230\n",
              "0     70\n",
              "Name: task_1, dtype: int64"
            ]
          },
          "metadata": {},
          "execution_count": 16
        }
      ]
    },
    {
      "cell_type": "code",
      "metadata": {
        "id": "D6OJhHoTYD5z"
      },
      "source": [
        "hasoc_data.drop([\"Unnamed: 0\",\"_id\",\"task_2\"],inplace=True,axis=1)"
      ],
      "execution_count": null,
      "outputs": []
    },
    {
      "cell_type": "code",
      "metadata": {
        "colab": {
          "base_uri": "https://localhost:8080/",
          "height": 204
        },
        "id": "KX_uW4lHYlpt",
        "outputId": "21d0a5af-fd02-4eb8-fafb-f88feedafb57"
      },
      "source": [
        "hasoc_data.head()"
      ],
      "execution_count": null,
      "outputs": [
        {
          "output_type": "execute_result",
          "data": {
            "text/html": [
              "<div>\n",
              "<style scoped>\n",
              "    .dataframe tbody tr th:only-of-type {\n",
              "        vertical-align: middle;\n",
              "    }\n",
              "\n",
              "    .dataframe tbody tr th {\n",
              "        vertical-align: top;\n",
              "    }\n",
              "\n",
              "    .dataframe thead th {\n",
              "        text-align: right;\n",
              "    }\n",
              "</style>\n",
              "<table border=\"1\" class=\"dataframe\">\n",
              "  <thead>\n",
              "    <tr style=\"text-align: right;\">\n",
              "      <th></th>\n",
              "      <th>text</th>\n",
              "      <th>task_1</th>\n",
              "    </tr>\n",
              "  </thead>\n",
              "  <tbody>\n",
              "    <tr>\n",
              "      <th>0</th>\n",
              "      <td>wealth make not able start make money sustain...</td>\n",
              "      <td>1</td>\n",
              "    </tr>\n",
              "    <tr>\n",
              "      <th>1</th>\n",
              "      <td>technically still turn back clock dick head</td>\n",
              "      <td>1</td>\n",
              "    </tr>\n",
              "    <tr>\n",
              "      <th>2</th>\n",
              "      <td>vmbjp narendramodi jpnadda amitshah dilipghos...</td>\n",
              "      <td>0</td>\n",
              "    </tr>\n",
              "    <tr>\n",
              "      <th>3</th>\n",
              "      <td>krtoprak yigit soldier japan dick head</td>\n",
              "      <td>1</td>\n",
              "    </tr>\n",
              "    <tr>\n",
              "      <th>4</th>\n",
              "      <td>blueheartedly would better ask think sleazy s...</td>\n",
              "      <td>1</td>\n",
              "    </tr>\n",
              "  </tbody>\n",
              "</table>\n",
              "</div>"
            ],
            "text/plain": [
              "                                                text  task_1\n",
              "0   wealth make not able start make money sustain...       1\n",
              "1        technically still turn back clock dick head       1\n",
              "2   vmbjp narendramodi jpnadda amitshah dilipghos...       0\n",
              "3             krtoprak yigit soldier japan dick head       1\n",
              "4   blueheartedly would better ask think sleazy s...       1"
            ]
          },
          "metadata": {},
          "execution_count": 18
        }
      ]
    },
    {
      "cell_type": "code",
      "metadata": {
        "colab": {
          "base_uri": "https://localhost:8080/"
        },
        "id": "20LCyDWVU_2w",
        "outputId": "78261303-f8a2-4006-964b-d3d1b26ad2cd"
      },
      "source": [
        "train_df = hasoc_data\n",
        "test_df = aakash_test\n",
        "print(\"Training data size : \", train_df.shape)\n",
        "print(\"Test data size : \", test_df.shape)"
      ],
      "execution_count": null,
      "outputs": [
        {
          "output_type": "stream",
          "name": "stdout",
          "text": [
            "Training data size :  (3843, 2)\n",
            "Test data size :  (300, 12)\n"
          ]
        }
      ]
    },
    {
      "cell_type": "markdown",
      "metadata": {
        "id": "QPQM5GUmiEH4"
      },
      "source": [
        "#Paramters"
      ]
    },
    {
      "cell_type": "code",
      "metadata": {
        "id": "kUncgNfvZ8pe"
      },
      "source": [
        "top_words = 10000\n",
        "tokenizer = Tokenizer(num_words=top_words)\n",
        "tokenizer.fit_on_texts(train_df['text'])\n",
        "word_index = tokenizer.word_index\n",
        "list_tokenized_train = tokenizer.texts_to_sequences(train_df['text'])\n",
        "\n",
        "max_review_length = 130\n",
        "X_train = pad_sequences(list_tokenized_train, maxlen=max_review_length)\n",
        "y_train = train_df['task_1']\n",
        "embedding_vecor_length = 32"
      ],
      "execution_count": null,
      "outputs": []
    },
    {
      "cell_type": "code",
      "metadata": {
        "colab": {
          "base_uri": "https://localhost:8080/"
        },
        "id": "lxBN_ch-5kl4",
        "outputId": "fb273902-a03a-4027-b452-f19fb3829ff5"
      },
      "source": [
        "reverse_word_index = dict([(value, key) for (key, value) in word_index.items()])\n",
        "\n",
        "def decode_review(text):\n",
        "    return ' '.join([reverse_word_index.get(i, '?') for i in text])\n",
        "\n",
        "print(decode_review(hasoc_data[\"text\"][3]))\n",
        "print(hasoc_data['text'][3])"
      ],
      "execution_count": null,
      "outputs": [
        {
          "output_type": "stream",
          "name": "stdout",
          "text": [
            "? ? ? ? ? ? ? ? ? ? ? ? ? ? ? ? ? ? ? ? ? ? ? ? ? ? ? ? ? ? ? ? ? ? ? ? ? ? ?\n",
            " krtoprak yigit soldier japan dick head\n"
          ]
        }
      ]
    },
    {
      "cell_type": "markdown",
      "metadata": {
        "id": "jhgwiN7zhwWj"
      },
      "source": [
        "#Bidirectional LSTM "
      ]
    },
    {
      "cell_type": "code",
      "metadata": {
        "id": "ACbw3mznh6fR"
      },
      "source": [
        "model3 = tf.keras.Sequential([\n",
        "    tf.keras.layers.Embedding(top_words+1, embedding_vecor_length, input_length=max_review_length),\n",
        "    tf.keras.layers.Bidirectional(tf.keras.layers.LSTM(64, return_sequences=True)),\n",
        "    tf.keras.layers.Bidirectional(tf.keras.layers.LSTM(32)),\n",
        "    tf.keras.layers.Dense(64, activation='relu'),\n",
        "    tf.keras.layers.Dense(1, activation='sigmoid')\n",
        "])"
      ],
      "execution_count": null,
      "outputs": []
    },
    {
      "cell_type": "code",
      "metadata": {
        "id": "V9iSRtkOhAmN"
      },
      "source": [
        "checkpoint_path = \"/tmp/callback/checkpoint-lstm-bi/lstm-bi-{epoch:04d}.ckpt\"\n",
        "batch_size = 64"
      ],
      "execution_count": null,
      "outputs": []
    },
    {
      "cell_type": "code",
      "metadata": {
        "id": "IXYzylZEhDC1"
      },
      "source": [
        "model_checkpoint_callback = tf.keras.callbacks.ModelCheckpoint(\n",
        "    filepath = checkpoint_path,\n",
        "    save_weights_only=True,\n",
        "    monitor='val_accuracy',\n",
        "    mode='max',\n",
        "    save_best_only=False,\n",
        "    save_freq=batch_size)"
      ],
      "execution_count": null,
      "outputs": []
    },
    {
      "cell_type": "code",
      "metadata": {
        "colab": {
          "base_uri": "https://localhost:8080/"
        },
        "id": "bYx5WJ4himcg",
        "outputId": "e931e3dc-6643-4019-f324-6a3e369be8d3"
      },
      "source": [
        "model3.compile(loss='binary_crossentropy',optimizer='adam',metrics=['accuracy'])\n",
        "model3.summary()"
      ],
      "execution_count": null,
      "outputs": [
        {
          "output_type": "stream",
          "name": "stdout",
          "text": [
            "Model: \"sequential\"\n",
            "_________________________________________________________________\n",
            "Layer (type)                 Output Shape              Param #   \n",
            "=================================================================\n",
            "embedding (Embedding)        (None, 130, 32)           320032    \n",
            "_________________________________________________________________\n",
            "bidirectional (Bidirectional (None, 130, 128)          49664     \n",
            "_________________________________________________________________\n",
            "bidirectional_1 (Bidirection (None, 64)                41216     \n",
            "_________________________________________________________________\n",
            "dense (Dense)                (None, 64)                4160      \n",
            "_________________________________________________________________\n",
            "dense_1 (Dense)              (None, 1)                 65        \n",
            "=================================================================\n",
            "Total params: 415,137\n",
            "Trainable params: 415,137\n",
            "Non-trainable params: 0\n",
            "_________________________________________________________________\n"
          ]
        }
      ]
    },
    {
      "cell_type": "code",
      "metadata": {
        "colab": {
          "base_uri": "https://localhost:8080/"
        },
        "id": "V3K4Y1aHiqe-",
        "outputId": "b0d0b70a-5587-447d-c5bb-1710b32e82a0"
      },
      "source": [
        "history3 = model3.fit(X_train,y_train, epochs=100, batch_size=batch_size,callbacks=[model_checkpoint_callback])\n"
      ],
      "execution_count": null,
      "outputs": [
        {
          "output_type": "stream",
          "name": "stdout",
          "text": [
            "Epoch 1/100\n",
            "61/61 [==============================] - 18s 114ms/step - loss: 0.6451 - accuracy: 0.6430\n",
            "Epoch 2/100\n",
            "61/61 [==============================] - 7s 116ms/step - loss: 0.4347 - accuracy: 0.8098\n",
            "Epoch 3/100\n",
            "61/61 [==============================] - 7s 116ms/step - loss: 0.2364 - accuracy: 0.9157\n",
            "Epoch 4/100\n",
            "61/61 [==============================] - 7s 115ms/step - loss: 0.1400 - accuracy: 0.9599\n",
            "Epoch 5/100\n",
            "61/61 [==============================] - 7s 116ms/step - loss: 0.0898 - accuracy: 0.9750\n",
            "Epoch 6/100\n",
            "61/61 [==============================] - 7s 116ms/step - loss: 0.0665 - accuracy: 0.9818\n",
            "Epoch 7/100\n",
            "61/61 [==============================] - 7s 116ms/step - loss: 0.0511 - accuracy: 0.9880\n",
            "Epoch 8/100\n",
            "61/61 [==============================] - 7s 116ms/step - loss: 0.0436 - accuracy: 0.9896\n",
            "Epoch 9/100\n",
            "61/61 [==============================] - 7s 117ms/step - loss: 0.0377 - accuracy: 0.9922\n",
            "Epoch 10/100\n",
            "61/61 [==============================] - 7s 117ms/step - loss: 0.0309 - accuracy: 0.9927\n",
            "Epoch 11/100\n",
            "61/61 [==============================] - 7s 117ms/step - loss: 0.0347 - accuracy: 0.9927\n",
            "Epoch 12/100\n",
            "61/61 [==============================] - 7s 116ms/step - loss: 0.0331 - accuracy: 0.9904\n",
            "Epoch 13/100\n",
            "61/61 [==============================] - 7s 116ms/step - loss: 0.0324 - accuracy: 0.9919\n",
            "Epoch 14/100\n",
            "61/61 [==============================] - 7s 117ms/step - loss: 0.0286 - accuracy: 0.9935\n",
            "Epoch 15/100\n",
            "61/61 [==============================] - 7s 115ms/step - loss: 0.0212 - accuracy: 0.9945\n",
            "Epoch 16/100\n",
            "61/61 [==============================] - 7s 116ms/step - loss: 0.0254 - accuracy: 0.9932\n",
            "Epoch 17/100\n",
            "61/61 [==============================] - 7s 116ms/step - loss: 0.0228 - accuracy: 0.9935\n",
            "Epoch 18/100\n",
            "61/61 [==============================] - 7s 116ms/step - loss: 0.0164 - accuracy: 0.9943\n",
            "Epoch 19/100\n",
            "61/61 [==============================] - 7s 116ms/step - loss: 0.0151 - accuracy: 0.9951\n",
            "Epoch 20/100\n",
            "61/61 [==============================] - 7s 117ms/step - loss: 0.0133 - accuracy: 0.9964\n",
            "Epoch 21/100\n",
            "61/61 [==============================] - 7s 116ms/step - loss: 0.0115 - accuracy: 0.9953\n",
            "Epoch 22/100\n",
            "61/61 [==============================] - 7s 116ms/step - loss: 0.0093 - accuracy: 0.9966\n",
            "Epoch 23/100\n",
            "61/61 [==============================] - 7s 116ms/step - loss: 0.0107 - accuracy: 0.9951\n",
            "Epoch 24/100\n",
            "61/61 [==============================] - 7s 116ms/step - loss: 0.0128 - accuracy: 0.9969\n",
            "Epoch 25/100\n",
            "61/61 [==============================] - 7s 116ms/step - loss: 0.0145 - accuracy: 0.9948\n",
            "Epoch 26/100\n",
            "61/61 [==============================] - 7s 116ms/step - loss: 0.0537 - accuracy: 0.9810\n",
            "Epoch 27/100\n",
            "61/61 [==============================] - 7s 116ms/step - loss: 0.0221 - accuracy: 0.9930\n",
            "Epoch 28/100\n",
            "61/61 [==============================] - 7s 115ms/step - loss: 0.0127 - accuracy: 0.9964\n",
            "Epoch 29/100\n",
            "61/61 [==============================] - 7s 116ms/step - loss: 0.0111 - accuracy: 0.9958\n",
            "Epoch 30/100\n",
            "61/61 [==============================] - 7s 117ms/step - loss: 0.0085 - accuracy: 0.9966\n",
            "Epoch 31/100\n",
            "61/61 [==============================] - 7s 116ms/step - loss: 0.0075 - accuracy: 0.9977\n",
            "Epoch 32/100\n",
            "61/61 [==============================] - 7s 116ms/step - loss: 0.0073 - accuracy: 0.9964\n",
            "Epoch 33/100\n",
            "61/61 [==============================] - 7s 117ms/step - loss: 0.0086 - accuracy: 0.9974\n",
            "Epoch 34/100\n",
            "61/61 [==============================] - 7s 115ms/step - loss: 0.0073 - accuracy: 0.9974\n",
            "Epoch 35/100\n",
            "61/61 [==============================] - 7s 117ms/step - loss: 0.0122 - accuracy: 0.9956\n",
            "Epoch 36/100\n",
            "61/61 [==============================] - 7s 116ms/step - loss: 0.0066 - accuracy: 0.9974\n",
            "Epoch 37/100\n",
            "61/61 [==============================] - 7s 117ms/step - loss: 0.0079 - accuracy: 0.9964\n",
            "Epoch 38/100\n",
            "61/61 [==============================] - 7s 117ms/step - loss: 0.0076 - accuracy: 0.9971\n",
            "Epoch 39/100\n",
            "61/61 [==============================] - 7s 118ms/step - loss: 0.0070 - accuracy: 0.9966\n",
            "Epoch 40/100\n",
            "61/61 [==============================] - 7s 116ms/step - loss: 0.0086 - accuracy: 0.9971\n",
            "Epoch 41/100\n",
            "61/61 [==============================] - 7s 117ms/step - loss: 0.0092 - accuracy: 0.9966\n",
            "Epoch 42/100\n",
            "61/61 [==============================] - 7s 116ms/step - loss: 0.0131 - accuracy: 0.9948\n",
            "Epoch 43/100\n",
            "61/61 [==============================] - 7s 115ms/step - loss: 0.0076 - accuracy: 0.9971\n",
            "Epoch 44/100\n",
            "61/61 [==============================] - 7s 116ms/step - loss: 0.0072 - accuracy: 0.9977\n",
            "Epoch 45/100\n",
            "61/61 [==============================] - 7s 117ms/step - loss: 0.0064 - accuracy: 0.9974\n",
            "Epoch 46/100\n",
            "61/61 [==============================] - 7s 117ms/step - loss: 0.0064 - accuracy: 0.9974\n",
            "Epoch 47/100\n",
            "61/61 [==============================] - 7s 117ms/step - loss: 0.0060 - accuracy: 0.9971\n",
            "Epoch 48/100\n",
            "61/61 [==============================] - 7s 116ms/step - loss: 0.0053 - accuracy: 0.9969\n",
            "Epoch 49/100\n",
            "61/61 [==============================] - 7s 116ms/step - loss: 0.0059 - accuracy: 0.9974\n",
            "Epoch 50/100\n",
            "61/61 [==============================] - 7s 117ms/step - loss: 0.0057 - accuracy: 0.9974\n",
            "Epoch 51/100\n",
            "61/61 [==============================] - 7s 117ms/step - loss: 0.0058 - accuracy: 0.9971\n",
            "Epoch 52/100\n",
            "61/61 [==============================] - 7s 117ms/step - loss: 0.0046 - accuracy: 0.9971\n",
            "Epoch 53/100\n",
            "61/61 [==============================] - 7s 118ms/step - loss: 0.0062 - accuracy: 0.9974\n",
            "Epoch 54/100\n",
            "61/61 [==============================] - 7s 116ms/step - loss: 0.0049 - accuracy: 0.9977\n",
            "Epoch 55/100\n",
            "61/61 [==============================] - 7s 116ms/step - loss: 0.0057 - accuracy: 0.9971\n",
            "Epoch 56/100\n",
            "61/61 [==============================] - 7s 117ms/step - loss: 0.0048 - accuracy: 0.9974\n",
            "Epoch 57/100\n",
            "61/61 [==============================] - 7s 117ms/step - loss: 0.0047 - accuracy: 0.9974\n",
            "Epoch 58/100\n",
            "61/61 [==============================] - 7s 117ms/step - loss: 0.0047 - accuracy: 0.9969\n",
            "Epoch 59/100\n",
            "61/61 [==============================] - 7s 118ms/step - loss: 0.0048 - accuracy: 0.9971\n",
            "Epoch 60/100\n",
            "61/61 [==============================] - 7s 116ms/step - loss: 0.0056 - accuracy: 0.9974\n",
            "Epoch 61/100\n",
            "61/61 [==============================] - 7s 117ms/step - loss: 0.0060 - accuracy: 0.9974\n",
            "Epoch 62/100\n",
            "61/61 [==============================] - 7s 117ms/step - loss: 0.0081 - accuracy: 0.9958\n",
            "Epoch 63/100\n",
            "61/61 [==============================] - 7s 117ms/step - loss: 0.0263 - accuracy: 0.9912\n",
            "Epoch 64/100\n",
            "61/61 [==============================] - 7s 117ms/step - loss: 0.0155 - accuracy: 0.9948\n",
            "Epoch 65/100\n",
            "61/61 [==============================] - 7s 116ms/step - loss: 0.0140 - accuracy: 0.9945\n",
            "Epoch 66/100\n",
            "61/61 [==============================] - 7s 117ms/step - loss: 0.0099 - accuracy: 0.9966\n",
            "Epoch 67/100\n",
            "61/61 [==============================] - 7s 117ms/step - loss: 0.0075 - accuracy: 0.9971\n",
            "Epoch 68/100\n",
            "61/61 [==============================] - 7s 117ms/step - loss: 0.0079 - accuracy: 0.9969\n",
            "Epoch 69/100\n",
            "61/61 [==============================] - 7s 116ms/step - loss: 0.0091 - accuracy: 0.9964\n",
            "Epoch 70/100\n",
            "61/61 [==============================] - 7s 116ms/step - loss: 0.0081 - accuracy: 0.9966\n",
            "Epoch 71/100\n",
            "61/61 [==============================] - 7s 117ms/step - loss: 0.0072 - accuracy: 0.9971\n",
            "Epoch 72/100\n",
            "61/61 [==============================] - 7s 117ms/step - loss: 0.0069 - accuracy: 0.9974\n",
            "Epoch 73/100\n",
            "61/61 [==============================] - 7s 118ms/step - loss: 0.0066 - accuracy: 0.9974\n",
            "Epoch 74/100\n",
            "61/61 [==============================] - 7s 118ms/step - loss: 0.0076 - accuracy: 0.9971\n",
            "Epoch 75/100\n",
            "61/61 [==============================] - 7s 117ms/step - loss: 0.0065 - accuracy: 0.9971\n",
            "Epoch 76/100\n",
            "61/61 [==============================] - 7s 117ms/step - loss: 0.0065 - accuracy: 0.9974\n",
            "Epoch 77/100\n",
            "61/61 [==============================] - 7s 117ms/step - loss: 0.0072 - accuracy: 0.9966\n",
            "Epoch 78/100\n",
            "61/61 [==============================] - 7s 117ms/step - loss: 0.0075 - accuracy: 0.9977\n",
            "Epoch 79/100\n",
            "61/61 [==============================] - 7s 118ms/step - loss: 0.0063 - accuracy: 0.9971\n",
            "Epoch 80/100\n",
            "61/61 [==============================] - 7s 118ms/step - loss: 0.0061 - accuracy: 0.9971\n",
            "Epoch 81/100\n",
            "61/61 [==============================] - 7s 117ms/step - loss: 0.0089 - accuracy: 0.9971\n",
            "Epoch 82/100\n",
            "61/61 [==============================] - 7s 117ms/step - loss: 0.0121 - accuracy: 0.9961\n",
            "Epoch 83/100\n",
            "61/61 [==============================] - 7s 117ms/step - loss: 0.0123 - accuracy: 0.9958\n",
            "Epoch 84/100\n",
            "61/61 [==============================] - 7s 117ms/step - loss: 0.0086 - accuracy: 0.9958\n",
            "Epoch 85/100\n",
            "61/61 [==============================] - 7s 117ms/step - loss: 0.0098 - accuracy: 0.9969\n",
            "Epoch 86/100\n",
            "61/61 [==============================] - 7s 116ms/step - loss: 0.0073 - accuracy: 0.9969\n",
            "Epoch 87/100\n",
            "61/61 [==============================] - 7s 117ms/step - loss: 0.0057 - accuracy: 0.9971\n",
            "Epoch 88/100\n",
            "61/61 [==============================] - 7s 117ms/step - loss: 0.0048 - accuracy: 0.9971\n",
            "Epoch 89/100\n",
            "61/61 [==============================] - 7s 118ms/step - loss: 0.0051 - accuracy: 0.9974\n",
            "Epoch 90/100\n",
            "61/61 [==============================] - 7s 117ms/step - loss: 0.0051 - accuracy: 0.9974\n",
            "Epoch 91/100\n",
            "61/61 [==============================] - 7s 118ms/step - loss: 0.0047 - accuracy: 0.9974\n",
            "Epoch 92/100\n",
            "61/61 [==============================] - 7s 117ms/step - loss: 0.0044 - accuracy: 0.9969\n",
            "Epoch 93/100\n",
            "61/61 [==============================] - 7s 117ms/step - loss: 0.0042 - accuracy: 0.9974\n",
            "Epoch 94/100\n",
            "61/61 [==============================] - 7s 117ms/step - loss: 0.0043 - accuracy: 0.9974\n",
            "Epoch 95/100\n",
            "61/61 [==============================] - 7s 117ms/step - loss: 0.0048 - accuracy: 0.9974\n",
            "Epoch 96/100\n",
            "61/61 [==============================] - 7s 117ms/step - loss: 0.0045 - accuracy: 0.9979\n",
            "Epoch 97/100\n",
            "61/61 [==============================] - 7s 117ms/step - loss: 0.0043 - accuracy: 0.9979\n",
            "Epoch 98/100\n",
            "61/61 [==============================] - 7s 118ms/step - loss: 0.0042 - accuracy: 0.9971\n",
            "Epoch 99/100\n",
            "61/61 [==============================] - 7s 118ms/step - loss: 0.0042 - accuracy: 0.9977\n",
            "Epoch 100/100\n",
            "61/61 [==============================] - 7s 117ms/step - loss: 0.0041 - accuracy: 0.9977\n"
          ]
        }
      ]
    },
    {
      "cell_type": "code",
      "metadata": {
        "colab": {
          "base_uri": "https://localhost:8080/"
        },
        "id": "89pxx6ZN6uEd",
        "outputId": "e39756a8-5da7-4b7e-8c7d-a0fe2a9b5ce3"
      },
      "source": [
        "e = model3.layers[0]\n",
        "weights = e.get_weights()[0]\n",
        "print(weights.shape) # shape: (vocab_size, embedding_dim)\n",
        "vocab_size = weights.shape[0]"
      ],
      "execution_count": null,
      "outputs": [
        {
          "output_type": "stream",
          "name": "stdout",
          "text": [
            "(10001, 32)\n"
          ]
        }
      ]
    },
    {
      "cell_type": "markdown",
      "metadata": {
        "id": "Be0Fp9f0J72s"
      },
      "source": [
        "Result and plot of Bidirectional LSTM"
      ]
    },
    {
      "cell_type": "code",
      "metadata": {
        "colab": {
          "base_uri": "https://localhost:8080/"
        },
        "id": "Pdnf8RhxKCr1",
        "outputId": "40214b85-7531-4e1a-9dd3-53ec7ee1e380"
      },
      "source": [
        "list_tokenized_test = tokenizer.texts_to_sequences(test_df['text'])\n",
        "X_test = pad_sequences(list_tokenized_test, maxlen=max_review_length)\n",
        "y_test = test_df['task_1']\n",
        "prediction = model3.predict(X_test)\n",
        "y_pred = (prediction > 0.5)\n",
        "print(\"Accuracy of the model : \", accuracy_score(y_pred, y_test))\n",
        "print('F1-score: ', f1_score(y_pred, y_test))\n",
        "print('Confusion matrix:')\n",
        "confusion_matrix(y_test,y_pred)"
      ],
      "execution_count": null,
      "outputs": [
        {
          "output_type": "stream",
          "name": "stdout",
          "text": [
            "Accuracy of the model :  0.7566666666666667\n",
            "F1-score:  0.8298368298368298\n",
            "Confusion matrix:\n"
          ]
        },
        {
          "output_type": "execute_result",
          "data": {
            "text/plain": [
              "array([[ 49,  21],\n",
              "       [ 52, 178]])"
            ]
          },
          "metadata": {},
          "execution_count": 28
        }
      ]
    },
    {
      "cell_type": "code",
      "metadata": {
        "colab": {
          "base_uri": "https://localhost:8080/"
        },
        "id": "Ku9ilbfbYVkn",
        "outputId": "17caa827-c1a7-4e5c-e90a-0b67081c4735"
      },
      "source": [
        "print(classification_report(y_test, y_pred))"
      ],
      "execution_count": null,
      "outputs": [
        {
          "output_type": "stream",
          "name": "stdout",
          "text": [
            "              precision    recall  f1-score   support\n",
            "\n",
            "           0       0.49      0.70      0.57        70\n",
            "           1       0.89      0.77      0.83       230\n",
            "\n",
            "    accuracy                           0.76       300\n",
            "   macro avg       0.69      0.74      0.70       300\n",
            "weighted avg       0.80      0.76      0.77       300\n",
            "\n"
          ]
        }
      ]
    },
    {
      "cell_type": "markdown",
      "metadata": {
        "id": "OhqdkfTF68Gt"
      },
      "source": [
        "Word Embeddings"
      ]
    },
    {
      "cell_type": "markdown",
      "metadata": {
        "id": "97JFxk-JhYJl"
      },
      "source": [
        "LSTM Bidirectional Callback"
      ]
    },
    {
      "cell_type": "code",
      "metadata": {
        "id": "2p_9V3XIhbY2"
      },
      "source": [
        "model3_final = tf.keras.Sequential([\n",
        "    tf.keras.layers.Embedding(top_words+1, embedding_vecor_length, input_length=max_review_length),\n",
        "    tf.keras.layers.Bidirectional(tf.keras.layers.LSTM(64, return_sequences=True)),\n",
        "    tf.keras.layers.Bidirectional(tf.keras.layers.LSTM(32)),\n",
        "    tf.keras.layers.Dense(64, activation='relu'),\n",
        "    tf.keras.layers.Dense(1, activation='sigmoid')\n",
        "])\n",
        "\n",
        "model3_final.compile(loss='binary_crossentropy',optimizer='adam',metrics=['accuracy'])"
      ],
      "execution_count": null,
      "outputs": []
    },
    {
      "cell_type": "code",
      "metadata": {
        "colab": {
          "base_uri": "https://localhost:8080/"
        },
        "id": "38ZK92sbh2Ab",
        "outputId": "71c6ad40-c771-449b-da2a-72a6c77783d6"
      },
      "source": [
        "model3_final.load_weights(\"/tmp/callback/checkpoint-lstm-bi/lstm-bi-0040.ckpt\")"
      ],
      "execution_count": null,
      "outputs": [
        {
          "output_type": "execute_result",
          "data": {
            "text/plain": [
              "<tensorflow.python.training.tracking.util.CheckpointLoadStatus at 0x7efb69edc510>"
            ]
          },
          "metadata": {},
          "execution_count": 60
        }
      ]
    },
    {
      "cell_type": "code",
      "metadata": {
        "colab": {
          "base_uri": "https://localhost:8080/"
        },
        "id": "9rks8FlBiWn8",
        "outputId": "dd2c84a5-c7e9-4390-bddf-7d7f6f968bbb"
      },
      "source": [
        "prediction3_final = model3_final.predict(X_test)\n",
        "y_pred_final = (prediction3_final > 0.5)\n",
        "print(\"Accuracy of the model : \", accuracy_score(y_pred_final, y_test))\n",
        "print('F1-score: ', f1_score(y_pred_final, y_test))\n",
        "print('Confusion matrix:')\n",
        "confusion_matrix(y_test,y_pred_final)"
      ],
      "execution_count": null,
      "outputs": [
        {
          "output_type": "stream",
          "name": "stdout",
          "text": [
            "Accuracy of the model :  0.7833333333333333\n",
            "F1-score:  0.8526077097505669\n",
            "Confusion matrix:\n"
          ]
        },
        {
          "output_type": "execute_result",
          "data": {
            "text/plain": [
              "array([[ 47,  23],\n",
              "       [ 42, 188]])"
            ]
          },
          "metadata": {},
          "execution_count": 61
        }
      ]
    },
    {
      "cell_type": "code",
      "metadata": {
        "colab": {
          "base_uri": "https://localhost:8080/"
        },
        "id": "aNvN1fK1YdNU",
        "outputId": "31dd0ae1-3273-4066-bd34-11c2b2a3a0e3"
      },
      "source": [
        "print(classification_report(y_test, y_pred_final))"
      ],
      "execution_count": null,
      "outputs": [
        {
          "output_type": "stream",
          "name": "stdout",
          "text": [
            "              precision    recall  f1-score   support\n",
            "\n",
            "           0       0.51      0.74      0.60        70\n",
            "           1       0.91      0.78      0.84       230\n",
            "\n",
            "    accuracy                           0.77       300\n",
            "   macro avg       0.71      0.76      0.72       300\n",
            "weighted avg       0.82      0.77      0.79       300\n",
            "\n"
          ]
        }
      ]
    },
    {
      "cell_type": "markdown",
      "metadata": {
        "id": "MQTcsogGL3KR"
      },
      "source": [
        "#Test submission"
      ]
    },
    {
      "cell_type": "code",
      "metadata": {
        "id": "KCrTOkxZ57YV"
      },
      "source": [
        "list_tokenized_test = tokenizer.texts_to_sequences(test_hasoc[\"text\"])\n",
        "subm = pad_sequences(list_tokenized_test, maxlen=max_review_length)\n",
        "y_submission = model3_final.predict(subm)\n",
        "y_submission = (y_submission > 0.5)"
      ],
      "execution_count": null,
      "outputs": []
    },
    {
      "cell_type": "code",
      "metadata": {
        "id": "Qc8StVMDL5xn",
        "colab": {
          "base_uri": "https://localhost:8080/"
        },
        "outputId": "0e6c3c0f-143c-4c6d-a31a-740d39c246fa"
      },
      "source": [
        "print(y_submission)\n",
        "zeros = 0\n",
        "ones = 0\n",
        "submission = []\n",
        "for i in range(len(y_submission)):\n",
        "  if y_submission[i] == 0:\n",
        "    zeros += 1\n",
        "    submission.append(\"NOT\")\n",
        "    \n",
        "  else:\n",
        "    ones += 1\n",
        "    submission.append(\"HOF\")\n",
        "\n",
        "print(\"zeros \",zeros)\n",
        "print(\"ones \",ones)\n"
      ],
      "execution_count": null,
      "outputs": [
        {
          "output_type": "stream",
          "name": "stdout",
          "text": [
            "[[False]\n",
            " [ True]\n",
            " [ True]\n",
            " ...\n",
            " [ True]\n",
            " [False]\n",
            " [ True]]\n",
            "zeros  404\n",
            "ones  877\n"
          ]
        }
      ]
    },
    {
      "cell_type": "markdown",
      "metadata": {
        "id": "M5h_UiRyXuYA"
      },
      "source": [
        "Rohan SVM model had zeros = 314 and ones = 967"
      ]
    },
    {
      "cell_type": "markdown",
      "metadata": {
        "id": "GtzG3dwsq-ZB"
      },
      "source": [
        "#Submission File"
      ]
    },
    {
      "cell_type": "code",
      "metadata": {
        "id": "rK6MbRd7YHvT"
      },
      "source": [
        "submission = {'id': test_hasoc._id, 'label':submission}\n",
        "submission = pd.DataFrame(submission)"
      ],
      "execution_count": null,
      "outputs": []
    },
    {
      "cell_type": "code",
      "metadata": {
        "colab": {
          "base_uri": "https://localhost:8080/",
          "height": 204
        },
        "id": "uOB3iLT6bQd8",
        "outputId": "c1633e7a-7c7f-4cf3-e036-945be3b6e6b6"
      },
      "source": [
        "submission.head()"
      ],
      "execution_count": null,
      "outputs": [
        {
          "output_type": "execute_result",
          "data": {
            "text/html": [
              "<div>\n",
              "<style scoped>\n",
              "    .dataframe tbody tr th:only-of-type {\n",
              "        vertical-align: middle;\n",
              "    }\n",
              "\n",
              "    .dataframe tbody tr th {\n",
              "        vertical-align: top;\n",
              "    }\n",
              "\n",
              "    .dataframe thead th {\n",
              "        text-align: right;\n",
              "    }\n",
              "</style>\n",
              "<table border=\"1\" class=\"dataframe\">\n",
              "  <thead>\n",
              "    <tr style=\"text-align: right;\">\n",
              "      <th></th>\n",
              "      <th>id</th>\n",
              "      <th>label</th>\n",
              "    </tr>\n",
              "  </thead>\n",
              "  <tbody>\n",
              "    <tr>\n",
              "      <th>0</th>\n",
              "      <td>60c5d6bf5659ea5e55deffcb</td>\n",
              "      <td>NOT</td>\n",
              "    </tr>\n",
              "    <tr>\n",
              "      <th>1</th>\n",
              "      <td>60c5d6bf5659ea5e55df028c</td>\n",
              "      <td>HOF</td>\n",
              "    </tr>\n",
              "    <tr>\n",
              "      <th>2</th>\n",
              "      <td>60c5d6bf5659ea5e55def377</td>\n",
              "      <td>HOF</td>\n",
              "    </tr>\n",
              "    <tr>\n",
              "      <th>3</th>\n",
              "      <td>60c5d6bf5659ea5e55def4c7</td>\n",
              "      <td>NOT</td>\n",
              "    </tr>\n",
              "    <tr>\n",
              "      <th>4</th>\n",
              "      <td>60c5d6bf5659ea5e55df01a6</td>\n",
              "      <td>NOT</td>\n",
              "    </tr>\n",
              "  </tbody>\n",
              "</table>\n",
              "</div>"
            ],
            "text/plain": [
              "                         id label\n",
              "0  60c5d6bf5659ea5e55deffcb   NOT\n",
              "1  60c5d6bf5659ea5e55df028c   HOF\n",
              "2  60c5d6bf5659ea5e55def377   HOF\n",
              "3  60c5d6bf5659ea5e55def4c7   NOT\n",
              "4  60c5d6bf5659ea5e55df01a6   NOT"
            ]
          },
          "metadata": {},
          "execution_count": 69
        }
      ]
    },
    {
      "cell_type": "code",
      "metadata": {
        "colab": {
          "base_uri": "https://localhost:8080/",
          "height": 173
        },
        "id": "qvyHziEabW9d",
        "outputId": "b371e534-5e8e-4845-815a-d3daa712a65d"
      },
      "source": [
        "submission.describe()"
      ],
      "execution_count": null,
      "outputs": [
        {
          "output_type": "execute_result",
          "data": {
            "text/html": [
              "<div>\n",
              "<style scoped>\n",
              "    .dataframe tbody tr th:only-of-type {\n",
              "        vertical-align: middle;\n",
              "    }\n",
              "\n",
              "    .dataframe tbody tr th {\n",
              "        vertical-align: top;\n",
              "    }\n",
              "\n",
              "    .dataframe thead th {\n",
              "        text-align: right;\n",
              "    }\n",
              "</style>\n",
              "<table border=\"1\" class=\"dataframe\">\n",
              "  <thead>\n",
              "    <tr style=\"text-align: right;\">\n",
              "      <th></th>\n",
              "      <th>id</th>\n",
              "      <th>label</th>\n",
              "    </tr>\n",
              "  </thead>\n",
              "  <tbody>\n",
              "    <tr>\n",
              "      <th>count</th>\n",
              "      <td>1281</td>\n",
              "      <td>1281</td>\n",
              "    </tr>\n",
              "    <tr>\n",
              "      <th>unique</th>\n",
              "      <td>1281</td>\n",
              "      <td>2</td>\n",
              "    </tr>\n",
              "    <tr>\n",
              "      <th>top</th>\n",
              "      <td>60c5d6bf5659ea5e55def6d7</td>\n",
              "      <td>HOF</td>\n",
              "    </tr>\n",
              "    <tr>\n",
              "      <th>freq</th>\n",
              "      <td>1</td>\n",
              "      <td>877</td>\n",
              "    </tr>\n",
              "  </tbody>\n",
              "</table>\n",
              "</div>"
            ],
            "text/plain": [
              "                              id label\n",
              "count                       1281  1281\n",
              "unique                      1281     2\n",
              "top     60c5d6bf5659ea5e55def6d7   HOF\n",
              "freq                           1   877"
            ]
          },
          "metadata": {},
          "execution_count": 70
        }
      ]
    },
    {
      "cell_type": "code",
      "metadata": {
        "id": "iRs2QClsb4eD"
      },
      "source": [
        "submission.to_csv('drive/MyDrive/ICHCL_baseline/Submissions/submission_bidi_lstm_final.csv', index = False)"
      ],
      "execution_count": null,
      "outputs": []
    }
  ]
}
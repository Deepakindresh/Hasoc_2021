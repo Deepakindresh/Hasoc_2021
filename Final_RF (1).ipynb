{
  "nbformat": 4,
  "nbformat_minor": 0,
  "metadata": {
    "accelerator": "TPU",
    "colab": {
      "name": "Final_RF.ipynb",
      "provenance": []
    },
    "kernelspec": {
      "display_name": "Python 3",
      "name": "python3"
    },
    "language_info": {
      "name": "python"
    }
  },
  "cells": [
    {
      "cell_type": "markdown",
      "metadata": {
        "id": "x3IpYUh5ROzM"
      },
      "source": [
        "# Mount Drive\n",
        "\n"
      ]
    },
    {
      "cell_type": "code",
      "metadata": {
        "colab": {
          "base_uri": "https://localhost:8080/"
        },
        "id": "L6dTF5JIRjli",
        "outputId": "c0784902-2e9b-4db5-f0e5-62684fde6f52"
      },
      "source": [
        "from google.colab import drive\n",
        "drive.mount('/content/drive')"
      ],
      "execution_count": null,
      "outputs": [
        {
          "output_type": "stream",
          "text": [
            "Drive already mounted at /content/drive; to attempt to forcibly remount, call drive.mount(\"/content/drive\", force_remount=True).\n"
          ],
          "name": "stdout"
        }
      ]
    },
    {
      "cell_type": "markdown",
      "metadata": {
        "id": "Su45IUJrdX4u"
      },
      "source": [
        "# Importing Libraries and initializing stopwords and stemmer\n"
      ]
    },
    {
      "cell_type": "code",
      "metadata": {
        "colab": {
          "base_uri": "https://localhost:8080/"
        },
        "id": "N-rDxARCdX45",
        "outputId": "d62a4a54-3b8a-45e3-e4c8-4c14c84676b5"
      },
      "source": [
        "import numpy as np\n",
        "import pandas as pd \n",
        "import matplotlib.pyplot as plt\n",
        "import seaborn as sns\n",
        "\n",
        "import tensorflow as tf\n",
        "\n",
        "import warnings\n",
        "warnings.filterwarnings(\"ignore\")\n",
        "\n",
        "import nltk\n",
        "\n",
        "import re\n",
        "from bs4 import BeautifulSoup\n",
        "from tqdm import tqdm\n",
        "from nltk.stem import WordNetLemmatizer\n",
        "\n",
        "from sklearn.model_selection import train_test_split\n",
        "from sklearn.metrics import accuracy_score,f1_score, confusion_matrix\n",
        "from sklearn.feature_extraction.text import TfidfVectorizer\n",
        "from sklearn.utils import shuffle\n",
        "from sklearn.metrics import classification_report\n",
        "\n",
        "from keras.preprocessing.text import Tokenizer\n",
        "from keras.preprocessing.sequence import pad_sequences\n",
        "from keras.layers import Dense , Input , LSTM , Embedding, Dropout , Activation, GRU, Flatten\n",
        "from keras.layers import Bidirectional, GlobalMaxPool1D\n",
        "from keras.models import Model, Sequential\n",
        "from keras.layers import Convolution1D\n",
        "from keras import initializers, regularizers, constraints, optimizers, layers\n",
        "nltk.download('wordnet')\n"
      ],
      "execution_count": null,
      "outputs": [
        {
          "output_type": "stream",
          "text": [
            "[nltk_data] Downloading package wordnet to /root/nltk_data...\n",
            "[nltk_data]   Package wordnet is already up-to-date!\n"
          ],
          "name": "stdout"
        },
        {
          "output_type": "execute_result",
          "data": {
            "text/plain": [
              "True"
            ]
          },
          "metadata": {},
          "execution_count": 2
        }
      ]
    },
    {
      "cell_type": "markdown",
      "metadata": {
        "id": "Qp_zCdofVU8E"
      },
      "source": [
        "# Reading Data\n"
      ]
    },
    {
      "cell_type": "code",
      "metadata": {
        "colab": {
          "base_uri": "https://localhost:8080/",
          "height": 204
        },
        "id": "ql_BZvzaVYdM",
        "outputId": "ed8e2352-b469-4d7f-dbb4-aee79c4bee27"
      },
      "source": [
        "hasoc_data = pd.read_csv(\"drive/MyDrive/ICHCL_baseline/hasoc2021-train/Hasoc2021_train.csv\") #Your respective address\n",
        "hasoc_data.head()\n"
      ],
      "execution_count": null,
      "outputs": [
        {
          "output_type": "execute_result",
          "data": {
            "text/html": [
              "<div>\n",
              "<style scoped>\n",
              "    .dataframe tbody tr th:only-of-type {\n",
              "        vertical-align: middle;\n",
              "    }\n",
              "\n",
              "    .dataframe tbody tr th {\n",
              "        vertical-align: top;\n",
              "    }\n",
              "\n",
              "    .dataframe thead th {\n",
              "        text-align: right;\n",
              "    }\n",
              "</style>\n",
              "<table border=\"1\" class=\"dataframe\">\n",
              "  <thead>\n",
              "    <tr style=\"text-align: right;\">\n",
              "      <th></th>\n",
              "      <th>Unnamed: 0</th>\n",
              "      <th>_id</th>\n",
              "      <th>text</th>\n",
              "      <th>task_1</th>\n",
              "      <th>task_2</th>\n",
              "    </tr>\n",
              "  </thead>\n",
              "  <tbody>\n",
              "    <tr>\n",
              "      <th>0</th>\n",
              "      <td>4986</td>\n",
              "      <td>60c5d6bf5659ea5e55defa2c</td>\n",
              "      <td>@wealth if you made it through this &amp;amp;&amp;amp;...</td>\n",
              "      <td>HOF</td>\n",
              "      <td>PRFN</td>\n",
              "    </tr>\n",
              "    <tr>\n",
              "      <th>1</th>\n",
              "      <td>3394</td>\n",
              "      <td>60c5d6bf5659ea5e55def461</td>\n",
              "      <td>Technically that's still turning back the cloc...</td>\n",
              "      <td>HOF</td>\n",
              "      <td>OFFN</td>\n",
              "    </tr>\n",
              "    <tr>\n",
              "      <th>2</th>\n",
              "      <td>1310</td>\n",
              "      <td>60c5d6bf5659ea5e55defaad</td>\n",
              "      <td>@VMBJP @BJP4Bengal @BJP4India @narendramodi @J...</td>\n",
              "      <td>NOT</td>\n",
              "      <td>NONE</td>\n",
              "    </tr>\n",
              "    <tr>\n",
              "      <th>3</th>\n",
              "      <td>3390</td>\n",
              "      <td>60c5d6bf5659ea5e55def419</td>\n",
              "      <td>@krtoprak_yigit Soldier of Japan Who has dick ...</td>\n",
              "      <td>HOF</td>\n",
              "      <td>OFFN</td>\n",
              "    </tr>\n",
              "    <tr>\n",
              "      <th>4</th>\n",
              "      <td>4626</td>\n",
              "      <td>60c5d6bf5659ea5e55def7fa</td>\n",
              "      <td>@blueheartedly You'd be better off asking who ...</td>\n",
              "      <td>HOF</td>\n",
              "      <td>OFFN</td>\n",
              "    </tr>\n",
              "  </tbody>\n",
              "</table>\n",
              "</div>"
            ],
            "text/plain": [
              "   Unnamed: 0                       _id  ... task_1 task_2\n",
              "0        4986  60c5d6bf5659ea5e55defa2c  ...    HOF   PRFN\n",
              "1        3394  60c5d6bf5659ea5e55def461  ...    HOF   OFFN\n",
              "2        1310  60c5d6bf5659ea5e55defaad  ...    NOT   NONE\n",
              "3        3390  60c5d6bf5659ea5e55def419  ...    HOF   OFFN\n",
              "4        4626  60c5d6bf5659ea5e55def7fa  ...    HOF   OFFN\n",
              "\n",
              "[5 rows x 5 columns]"
            ]
          },
          "metadata": {},
          "execution_count": 3
        }
      ]
    },
    {
      "cell_type": "code",
      "metadata": {
        "id": "zfv5ntOLMX0_"
      },
      "source": [
        "aakash_test = pd.read_csv(\"drive/MyDrive/ICHCL_baseline/Test/mod_data_comb_-_mod_data.csv\")"
      ],
      "execution_count": null,
      "outputs": []
    },
    {
      "cell_type": "code",
      "metadata": {
        "colab": {
          "base_uri": "https://localhost:8080/",
          "height": 297
        },
        "id": "4ZxttlPQMf-g",
        "outputId": "fd3224d1-436f-405e-98dd-372349ccfb8a"
      },
      "source": [
        "aakash_test.describe()"
      ],
      "execution_count": null,
      "outputs": [
        {
          "output_type": "execute_result",
          "data": {
            "text/html": [
              "<div>\n",
              "<style scoped>\n",
              "    .dataframe tbody tr th:only-of-type {\n",
              "        vertical-align: middle;\n",
              "    }\n",
              "\n",
              "    .dataframe tbody tr th {\n",
              "        vertical-align: top;\n",
              "    }\n",
              "\n",
              "    .dataframe thead th {\n",
              "        text-align: right;\n",
              "    }\n",
              "</style>\n",
              "<table border=\"1\" class=\"dataframe\">\n",
              "  <thead>\n",
              "    <tr style=\"text-align: right;\">\n",
              "      <th></th>\n",
              "      <th>Unnamed: 2</th>\n",
              "      <th>Unnamed: 3</th>\n",
              "      <th>Unnamed: 4</th>\n",
              "      <th>Unnamed: 5</th>\n",
              "      <th>Unnamed: 6</th>\n",
              "      <th>Unnamed: 7</th>\n",
              "      <th>Unnamed: 8</th>\n",
              "      <th>Unnamed: 9</th>\n",
              "    </tr>\n",
              "  </thead>\n",
              "  <tbody>\n",
              "    <tr>\n",
              "      <th>count</th>\n",
              "      <td>0.0</td>\n",
              "      <td>0.0</td>\n",
              "      <td>0.0</td>\n",
              "      <td>0.0</td>\n",
              "      <td>0.0</td>\n",
              "      <td>0.0</td>\n",
              "      <td>0.0</td>\n",
              "      <td>0.0</td>\n",
              "    </tr>\n",
              "    <tr>\n",
              "      <th>mean</th>\n",
              "      <td>NaN</td>\n",
              "      <td>NaN</td>\n",
              "      <td>NaN</td>\n",
              "      <td>NaN</td>\n",
              "      <td>NaN</td>\n",
              "      <td>NaN</td>\n",
              "      <td>NaN</td>\n",
              "      <td>NaN</td>\n",
              "    </tr>\n",
              "    <tr>\n",
              "      <th>std</th>\n",
              "      <td>NaN</td>\n",
              "      <td>NaN</td>\n",
              "      <td>NaN</td>\n",
              "      <td>NaN</td>\n",
              "      <td>NaN</td>\n",
              "      <td>NaN</td>\n",
              "      <td>NaN</td>\n",
              "      <td>NaN</td>\n",
              "    </tr>\n",
              "    <tr>\n",
              "      <th>min</th>\n",
              "      <td>NaN</td>\n",
              "      <td>NaN</td>\n",
              "      <td>NaN</td>\n",
              "      <td>NaN</td>\n",
              "      <td>NaN</td>\n",
              "      <td>NaN</td>\n",
              "      <td>NaN</td>\n",
              "      <td>NaN</td>\n",
              "    </tr>\n",
              "    <tr>\n",
              "      <th>25%</th>\n",
              "      <td>NaN</td>\n",
              "      <td>NaN</td>\n",
              "      <td>NaN</td>\n",
              "      <td>NaN</td>\n",
              "      <td>NaN</td>\n",
              "      <td>NaN</td>\n",
              "      <td>NaN</td>\n",
              "      <td>NaN</td>\n",
              "    </tr>\n",
              "    <tr>\n",
              "      <th>50%</th>\n",
              "      <td>NaN</td>\n",
              "      <td>NaN</td>\n",
              "      <td>NaN</td>\n",
              "      <td>NaN</td>\n",
              "      <td>NaN</td>\n",
              "      <td>NaN</td>\n",
              "      <td>NaN</td>\n",
              "      <td>NaN</td>\n",
              "    </tr>\n",
              "    <tr>\n",
              "      <th>75%</th>\n",
              "      <td>NaN</td>\n",
              "      <td>NaN</td>\n",
              "      <td>NaN</td>\n",
              "      <td>NaN</td>\n",
              "      <td>NaN</td>\n",
              "      <td>NaN</td>\n",
              "      <td>NaN</td>\n",
              "      <td>NaN</td>\n",
              "    </tr>\n",
              "    <tr>\n",
              "      <th>max</th>\n",
              "      <td>NaN</td>\n",
              "      <td>NaN</td>\n",
              "      <td>NaN</td>\n",
              "      <td>NaN</td>\n",
              "      <td>NaN</td>\n",
              "      <td>NaN</td>\n",
              "      <td>NaN</td>\n",
              "      <td>NaN</td>\n",
              "    </tr>\n",
              "  </tbody>\n",
              "</table>\n",
              "</div>"
            ],
            "text/plain": [
              "       Unnamed: 2  Unnamed: 3  Unnamed: 4  ...  Unnamed: 7  Unnamed: 8  Unnamed: 9\n",
              "count         0.0         0.0         0.0  ...         0.0         0.0         0.0\n",
              "mean          NaN         NaN         NaN  ...         NaN         NaN         NaN\n",
              "std           NaN         NaN         NaN  ...         NaN         NaN         NaN\n",
              "min           NaN         NaN         NaN  ...         NaN         NaN         NaN\n",
              "25%           NaN         NaN         NaN  ...         NaN         NaN         NaN\n",
              "50%           NaN         NaN         NaN  ...         NaN         NaN         NaN\n",
              "75%           NaN         NaN         NaN  ...         NaN         NaN         NaN\n",
              "max           NaN         NaN         NaN  ...         NaN         NaN         NaN\n",
              "\n",
              "[8 rows x 8 columns]"
            ]
          },
          "metadata": {},
          "execution_count": 5
        }
      ]
    },
    {
      "cell_type": "code",
      "metadata": {
        "colab": {
          "base_uri": "https://localhost:8080/",
          "height": 204
        },
        "id": "yrdUqYjAMtDA",
        "outputId": "864aeff3-cec1-4b2c-e086-e7b1412d59e9"
      },
      "source": [
        "aakash_test.head()"
      ],
      "execution_count": null,
      "outputs": [
        {
          "output_type": "execute_result",
          "data": {
            "text/html": [
              "<div>\n",
              "<style scoped>\n",
              "    .dataframe tbody tr th:only-of-type {\n",
              "        vertical-align: middle;\n",
              "    }\n",
              "\n",
              "    .dataframe tbody tr th {\n",
              "        vertical-align: top;\n",
              "    }\n",
              "\n",
              "    .dataframe thead th {\n",
              "        text-align: right;\n",
              "    }\n",
              "</style>\n",
              "<table border=\"1\" class=\"dataframe\">\n",
              "  <thead>\n",
              "    <tr style=\"text-align: right;\">\n",
              "      <th></th>\n",
              "      <th>_id</th>\n",
              "      <th>text</th>\n",
              "      <th>Unnamed: 2</th>\n",
              "      <th>Unnamed: 3</th>\n",
              "      <th>Unnamed: 4</th>\n",
              "      <th>Unnamed: 5</th>\n",
              "      <th>Unnamed: 6</th>\n",
              "      <th>Unnamed: 7</th>\n",
              "      <th>Unnamed: 8</th>\n",
              "      <th>Unnamed: 9</th>\n",
              "      <th>task_1</th>\n",
              "      <th>task_2</th>\n",
              "    </tr>\n",
              "  </thead>\n",
              "  <tbody>\n",
              "    <tr>\n",
              "      <th>0</th>\n",
              "      <td>60c5d6bf5659ea5e55deffcb</td>\n",
              "      <td>Fewer people coming in for vaccinations. So sa...</td>\n",
              "      <td>NaN</td>\n",
              "      <td>NaN</td>\n",
              "      <td>NaN</td>\n",
              "      <td>NaN</td>\n",
              "      <td>NaN</td>\n",
              "      <td>NaN</td>\n",
              "      <td>NaN</td>\n",
              "      <td>NaN</td>\n",
              "      <td>NOT</td>\n",
              "      <td>NONE</td>\n",
              "    </tr>\n",
              "    <tr>\n",
              "      <th>1</th>\n",
              "      <td>60c5d6bf5659ea5e55df028c</td>\n",
              "      <td>@MattHancock This may all be true. But... What...</td>\n",
              "      <td>NaN</td>\n",
              "      <td>NaN</td>\n",
              "      <td>NaN</td>\n",
              "      <td>NaN</td>\n",
              "      <td>NaN</td>\n",
              "      <td>NaN</td>\n",
              "      <td>NaN</td>\n",
              "      <td>NaN</td>\n",
              "      <td>HOF</td>\n",
              "      <td>PRFN</td>\n",
              "    </tr>\n",
              "    <tr>\n",
              "      <th>2</th>\n",
              "      <td>60c5d6bf5659ea5e55def377</td>\n",
              "      <td>@Layla_EFC I’ve unfollowed him the wanker</td>\n",
              "      <td>NaN</td>\n",
              "      <td>NaN</td>\n",
              "      <td>NaN</td>\n",
              "      <td>NaN</td>\n",
              "      <td>NaN</td>\n",
              "      <td>NaN</td>\n",
              "      <td>NaN</td>\n",
              "      <td>NaN</td>\n",
              "      <td>HOF</td>\n",
              "      <td>OFFN</td>\n",
              "    </tr>\n",
              "    <tr>\n",
              "      <th>3</th>\n",
              "      <td>60c5d6bf5659ea5e55def4c7</td>\n",
              "      <td>You guys are losing it all over the world. The...</td>\n",
              "      <td>NaN</td>\n",
              "      <td>NaN</td>\n",
              "      <td>NaN</td>\n",
              "      <td>NaN</td>\n",
              "      <td>NaN</td>\n",
              "      <td>NaN</td>\n",
              "      <td>NaN</td>\n",
              "      <td>NaN</td>\n",
              "      <td>HOF</td>\n",
              "      <td>OFFN</td>\n",
              "    </tr>\n",
              "    <tr>\n",
              "      <th>4</th>\n",
              "      <td>60c5d6bf5659ea5e55df01a6</td>\n",
              "      <td>And thus death laughs... It is sad merriment, ...</td>\n",
              "      <td>NaN</td>\n",
              "      <td>NaN</td>\n",
              "      <td>NaN</td>\n",
              "      <td>NaN</td>\n",
              "      <td>NaN</td>\n",
              "      <td>NaN</td>\n",
              "      <td>NaN</td>\n",
              "      <td>NaN</td>\n",
              "      <td>NOT</td>\n",
              "      <td>NONE</td>\n",
              "    </tr>\n",
              "  </tbody>\n",
              "</table>\n",
              "</div>"
            ],
            "text/plain": [
              "                        _id  ... task_2\n",
              "0  60c5d6bf5659ea5e55deffcb  ...   NONE\n",
              "1  60c5d6bf5659ea5e55df028c  ...   PRFN\n",
              "2  60c5d6bf5659ea5e55def377  ...   OFFN\n",
              "3  60c5d6bf5659ea5e55def4c7  ...   OFFN\n",
              "4  60c5d6bf5659ea5e55df01a6  ...   NONE\n",
              "\n",
              "[5 rows x 12 columns]"
            ]
          },
          "metadata": {},
          "execution_count": 6
        }
      ]
    },
    {
      "cell_type": "code",
      "metadata": {
        "colab": {
          "base_uri": "https://localhost:8080/",
          "height": 204
        },
        "id": "KEVt58vTQ3KQ",
        "outputId": "cf2863c1-dd38-4f5a-db9b-87e44d037378"
      },
      "source": [
        "test_hasoc = pd.read_csv(\"drive/MyDrive/ICHCL_baseline/Test/en_Hasoc2021_test_task1.csv\")\n",
        "test_hasoc.head()"
      ],
      "execution_count": null,
      "outputs": [
        {
          "output_type": "execute_result",
          "data": {
            "text/html": [
              "<div>\n",
              "<style scoped>\n",
              "    .dataframe tbody tr th:only-of-type {\n",
              "        vertical-align: middle;\n",
              "    }\n",
              "\n",
              "    .dataframe tbody tr th {\n",
              "        vertical-align: top;\n",
              "    }\n",
              "\n",
              "    .dataframe thead th {\n",
              "        text-align: right;\n",
              "    }\n",
              "</style>\n",
              "<table border=\"1\" class=\"dataframe\">\n",
              "  <thead>\n",
              "    <tr style=\"text-align: right;\">\n",
              "      <th></th>\n",
              "      <th>_id</th>\n",
              "      <th>text</th>\n",
              "    </tr>\n",
              "  </thead>\n",
              "  <tbody>\n",
              "    <tr>\n",
              "      <th>0</th>\n",
              "      <td>60c5d6bf5659ea5e55deffcb</td>\n",
              "      <td>Fewer people coming in for vaccinations. So sa...</td>\n",
              "    </tr>\n",
              "    <tr>\n",
              "      <th>1</th>\n",
              "      <td>60c5d6bf5659ea5e55df028c</td>\n",
              "      <td>@MattHancock This may all be true. But... What...</td>\n",
              "    </tr>\n",
              "    <tr>\n",
              "      <th>2</th>\n",
              "      <td>60c5d6bf5659ea5e55def377</td>\n",
              "      <td>@Layla_EFC I’ve unfollowed him the wanker</td>\n",
              "    </tr>\n",
              "    <tr>\n",
              "      <th>3</th>\n",
              "      <td>60c5d6bf5659ea5e55def4c7</td>\n",
              "      <td>You guys are losing it all over the world. The...</td>\n",
              "    </tr>\n",
              "    <tr>\n",
              "      <th>4</th>\n",
              "      <td>60c5d6bf5659ea5e55df01a6</td>\n",
              "      <td>And thus death laughs... It is sad merriment, ...</td>\n",
              "    </tr>\n",
              "  </tbody>\n",
              "</table>\n",
              "</div>"
            ],
            "text/plain": [
              "                        _id                                               text\n",
              "0  60c5d6bf5659ea5e55deffcb  Fewer people coming in for vaccinations. So sa...\n",
              "1  60c5d6bf5659ea5e55df028c  @MattHancock This may all be true. But... What...\n",
              "2  60c5d6bf5659ea5e55def377          @Layla_EFC I’ve unfollowed him the wanker\n",
              "3  60c5d6bf5659ea5e55def4c7  You guys are losing it all over the world. The...\n",
              "4  60c5d6bf5659ea5e55df01a6  And thus death laughs... It is sad merriment, ..."
            ]
          },
          "metadata": {},
          "execution_count": 7
        }
      ]
    },
    {
      "cell_type": "code",
      "metadata": {
        "colab": {
          "base_uri": "https://localhost:8080/",
          "height": 297
        },
        "id": "JcL3_A-fcKoB",
        "outputId": "0d489711-ce27-4208-a27c-f86f5d37e5e4"
      },
      "source": [
        "hasoc_data.describe()"
      ],
      "execution_count": null,
      "outputs": [
        {
          "output_type": "execute_result",
          "data": {
            "text/html": [
              "<div>\n",
              "<style scoped>\n",
              "    .dataframe tbody tr th:only-of-type {\n",
              "        vertical-align: middle;\n",
              "    }\n",
              "\n",
              "    .dataframe tbody tr th {\n",
              "        vertical-align: top;\n",
              "    }\n",
              "\n",
              "    .dataframe thead th {\n",
              "        text-align: right;\n",
              "    }\n",
              "</style>\n",
              "<table border=\"1\" class=\"dataframe\">\n",
              "  <thead>\n",
              "    <tr style=\"text-align: right;\">\n",
              "      <th></th>\n",
              "      <th>Unnamed: 0</th>\n",
              "    </tr>\n",
              "  </thead>\n",
              "  <tbody>\n",
              "    <tr>\n",
              "      <th>count</th>\n",
              "      <td>3843.000000</td>\n",
              "    </tr>\n",
              "    <tr>\n",
              "      <th>mean</th>\n",
              "      <td>2558.799375</td>\n",
              "    </tr>\n",
              "    <tr>\n",
              "      <th>std</th>\n",
              "      <td>1477.088070</td>\n",
              "    </tr>\n",
              "    <tr>\n",
              "      <th>min</th>\n",
              "      <td>1.000000</td>\n",
              "    </tr>\n",
              "    <tr>\n",
              "      <th>25%</th>\n",
              "      <td>1276.500000</td>\n",
              "    </tr>\n",
              "    <tr>\n",
              "      <th>50%</th>\n",
              "      <td>2574.000000</td>\n",
              "    </tr>\n",
              "    <tr>\n",
              "      <th>75%</th>\n",
              "      <td>3828.000000</td>\n",
              "    </tr>\n",
              "    <tr>\n",
              "      <th>max</th>\n",
              "      <td>5121.000000</td>\n",
              "    </tr>\n",
              "  </tbody>\n",
              "</table>\n",
              "</div>"
            ],
            "text/plain": [
              "        Unnamed: 0\n",
              "count  3843.000000\n",
              "mean   2558.799375\n",
              "std    1477.088070\n",
              "min       1.000000\n",
              "25%    1276.500000\n",
              "50%    2574.000000\n",
              "75%    3828.000000\n",
              "max    5121.000000"
            ]
          },
          "metadata": {},
          "execution_count": 8
        }
      ]
    },
    {
      "cell_type": "code",
      "metadata": {
        "id": "wqQdg_uzdZR4"
      },
      "source": [
        "tweets = hasoc_data.text\n",
        "y_task1 = hasoc_data.task_1\n",
        "y_task2 = hasoc_data.task_2"
      ],
      "execution_count": null,
      "outputs": []
    },
    {
      "cell_type": "markdown",
      "metadata": {
        "id": "ya3vFPNIe9WR"
      },
      "source": [
        "# Basic Preprocessing of Tweets\n"
      ]
    },
    {
      "cell_type": "code",
      "metadata": {
        "id": "FElfxXcCfCKH"
      },
      "source": [
        "def decontract(text):\n",
        "    text = re.sub(r\"won\\'t\", \"will not\", text)\n",
        "    text = re.sub(r\"can\\'t\", \"can not\", text)\n",
        "    text = re.sub(r\"n\\'t\", \" not\", text)\n",
        "    text = re.sub(r\"\\'re\", \" are\", text)\n",
        "    text = re.sub(r\"\\'s\", \" is\", text)\n",
        "    text = re.sub(r\"\\'d\", \" would\", text)\n",
        "    text = re.sub(r\"\\'ll\", \" will\", text)\n",
        "    text = re.sub(r\"\\'t\", \" not\", text)\n",
        "    text = re.sub(r\"\\'ve\", \" have\", text)\n",
        "    text = re.sub(r\"\\'m\", \" am\", text)\n",
        "    return text"
      ],
      "execution_count": null,
      "outputs": []
    },
    {
      "cell_type": "code",
      "metadata": {
        "id": "o0Kp1SU_fKl7"
      },
      "source": [
        "lemmatizer = WordNetLemmatizer()"
      ],
      "execution_count": null,
      "outputs": []
    },
    {
      "cell_type": "code",
      "metadata": {
        "id": "yYfVULZZiA2c"
      },
      "source": [
        "stop_words= set(['br', 'the', 'i', 'me', 'my', 'myself', 'we', 'our', 'ours', 'ourselves', 'you', \"you're\", \"you've\",\\\n",
        "            \"you'll\", \"you'd\", 'your', 'yours', 'yourself', 'yourselves', 'he', 'him', 'his', 'himself', \\\n",
        "            'she', \"she's\", 'her', 'hers', 'herself', 'it', \"it's\", 'its', 'itself', 'they', 'them', 'their',\\\n",
        "            'theirs', 'themselves', 'what', 'which', 'who', 'whom', 'this', 'that', \"that'll\", 'these', 'those', \\\n",
        "            'am', 'is', 'are', 'was', 'were', 'be', 'been', 'being', 'have', 'has', 'had', 'having', 'do', 'does', \\\n",
        "            'did', 'doing', 'a', 'an', 'the', 'and', 'but', 'if', 'or', 'because', 'as', 'until', 'while', 'of', \\\n",
        "            'at', 'by', 'for', 'with', 'about', 'against', 'between', 'into', 'through', 'during', 'before', 'after',\\\n",
        "            'above', 'below', 'to', 'from', 'up', 'down', 'in', 'out', 'on', 'off', 'over', 'under', 'again', 'further',\\\n",
        "            'then', 'once', 'here', 'there', 'when', 'where', 'why', 'how', 'all', 'any', 'both', 'each', 'few', 'more',\\\n",
        "            'most', 'other', 'some', 'such', 'only', 'own', 'same', 'so', 'than', 'too', 'very', \\\n",
        "            's', 't', 'can', 'will', 'just', 'don', \"don't\", 'should', \"should've\", 'now', 'd', 'll', 'm', 'o', 're', \\\n",
        "            've', 'y', 'ain', 'aren', \"aren't\", 'couldn', \"couldn't\", 'didn', \"didn't\", 'doesn', \"doesn't\", 'hadn',\\\n",
        "            \"hadn't\", 'hasn', \"hasn't\", 'haven', \"haven't\", 'isn', \"isn't\", 'ma', 'mightn', \"mightn't\", 'mustn',\\\n",
        "            \"mustn't\", 'needn', \"needn't\", 'shan', \"shan't\", 'shouldn', \"shouldn't\", 'wasn', \"wasn't\", 'weren', \"weren't\", \\\n",
        "            'won', \"won't\", 'wouldn', \"wouldn't\"])"
      ],
      "execution_count": null,
      "outputs": []
    },
    {
      "cell_type": "code",
      "metadata": {
        "id": "k74l6ux0T6Ag"
      },
      "source": [
        "def preprocess_text(text):\n",
        "    text = re.sub(r\"http\\S+\", \"\", text)             # removing website links\n",
        "    text = BeautifulSoup(text, 'lxml').get_text()   # removing html tags\n",
        "    text = decontract(text)                         # decontracting\n",
        "    text = re.sub(\"\\S*\\d\\S*\", \"\", text).strip()     # removing the words with numeric digits\n",
        "    text = re.sub('[^A-Za-z]+', ' ', text)          # removing non-word characters\n",
        "    text = text.lower()                             # converting to lower case\n",
        "    text = [word for word in text.split(\" \") if not word in stop_words] # removing stop words\n",
        "    text = [lemmatizer.lemmatize(token, \"v\") for token in text] #Lemmatization\n",
        "    text = \" \".join(text)\n",
        "    text.strip()\n",
        "    return text\n",
        "\n",
        "def convert_task(text):\n",
        "    if text == \"HOF\":\n",
        "      return 1\n",
        "    return 0"
      ],
      "execution_count": null,
      "outputs": []
    },
    {
      "cell_type": "code",
      "metadata": {
        "id": "nS_uUYT0W44M"
      },
      "source": [
        "hasoc_data[\"text\"] = hasoc_data[\"text\"].apply(lambda x: preprocess_text(x))\n",
        "hasoc_data[\"task_1\"] = hasoc_data[\"task_1\"].apply(lambda x: convert_task(x))\n",
        "aakash_test[\"text\"] = aakash_test[\"text\"].apply(lambda x: preprocess_text(x))\n",
        "aakash_test[\"task_1\"] = aakash_test[\"task_1\"].apply(lambda x: convert_task(x))\n",
        "test_hasoc[\"text\"] = test_hasoc[\"text\"].apply(lambda x: preprocess_text(x))\n"
      ],
      "execution_count": null,
      "outputs": []
    },
    {
      "cell_type": "code",
      "metadata": {
        "colab": {
          "base_uri": "https://localhost:8080/"
        },
        "id": "pzlKAoAoUvhu",
        "outputId": "fcde0607-f3d8-4362-b196-7314706296f2"
      },
      "source": [
        "hasoc_data[\"text\"].head()"
      ],
      "execution_count": null,
      "outputs": [
        {
          "output_type": "execute_result",
          "data": {
            "text/plain": [
              "0     wealth make not able start make money sustain...\n",
              "1          technically still turn back clock dick head\n",
              "2     vmbjp narendramodi jpnadda amitshah dilipghos...\n",
              "3               krtoprak yigit soldier japan dick head\n",
              "4     blueheartedly would better ask think sleazy s...\n",
              "Name: text, dtype: object"
            ]
          },
          "metadata": {},
          "execution_count": 15
        }
      ]
    },
    {
      "cell_type": "code",
      "metadata": {
        "colab": {
          "base_uri": "https://localhost:8080/"
        },
        "id": "qAmaz477SCPQ",
        "outputId": "9aa6c2aa-7e66-4bd8-ed48-0537446e9bc6"
      },
      "source": [
        "test_hasoc[\"text\"].head()"
      ],
      "execution_count": null,
      "outputs": [
        {
          "output_type": "execute_result",
          "data": {
            "text/plain": [
              "0    fewer people come vaccinations sad nurse covid...\n",
              "1                   matthancock may true piss big dom \n",
              "2                          layla efc unfollowed wanker\n",
              "3               guy lose world jung label islamophobia\n",
              "4    thus death laugh sad merriment still covid ind...\n",
              "Name: text, dtype: object"
            ]
          },
          "metadata": {},
          "execution_count": 16
        }
      ]
    },
    {
      "cell_type": "code",
      "metadata": {
        "colab": {
          "base_uri": "https://localhost:8080/"
        },
        "id": "17FCqS1UXSlX",
        "outputId": "d2cdc98c-b5a9-45aa-c035-9c2b41e7f764"
      },
      "source": [
        "hasoc_data[\"task_1\"].head()"
      ],
      "execution_count": null,
      "outputs": [
        {
          "output_type": "execute_result",
          "data": {
            "text/plain": [
              "0    1\n",
              "1    1\n",
              "2    0\n",
              "3    1\n",
              "4    1\n",
              "Name: task_1, dtype: int64"
            ]
          },
          "metadata": {},
          "execution_count": 17
        }
      ]
    },
    {
      "cell_type": "code",
      "metadata": {
        "colab": {
          "base_uri": "https://localhost:8080/"
        },
        "id": "Ct0T9LkSXd-V",
        "outputId": "70a2a716-3e26-4c38-89ba-f16f178c8a12"
      },
      "source": [
        "hasoc_data[\"task_1\"].value_counts()"
      ],
      "execution_count": null,
      "outputs": [
        {
          "output_type": "execute_result",
          "data": {
            "text/plain": [
              "1    2501\n",
              "0    1342\n",
              "Name: task_1, dtype: int64"
            ]
          },
          "metadata": {},
          "execution_count": 18
        }
      ]
    },
    {
      "cell_type": "code",
      "metadata": {
        "id": "D6OJhHoTYD5z"
      },
      "source": [
        "hasoc_data.drop([\"Unnamed: 0\",\"_id\",\"task_2\"],inplace=True,axis=1)"
      ],
      "execution_count": null,
      "outputs": []
    },
    {
      "cell_type": "code",
      "metadata": {
        "colab": {
          "base_uri": "https://localhost:8080/",
          "height": 204
        },
        "id": "KX_uW4lHYlpt",
        "outputId": "b1c5c4ba-c612-4039-e734-2cf20e3bd96f"
      },
      "source": [
        "hasoc_data.head()"
      ],
      "execution_count": null,
      "outputs": [
        {
          "output_type": "execute_result",
          "data": {
            "text/html": [
              "<div>\n",
              "<style scoped>\n",
              "    .dataframe tbody tr th:only-of-type {\n",
              "        vertical-align: middle;\n",
              "    }\n",
              "\n",
              "    .dataframe tbody tr th {\n",
              "        vertical-align: top;\n",
              "    }\n",
              "\n",
              "    .dataframe thead th {\n",
              "        text-align: right;\n",
              "    }\n",
              "</style>\n",
              "<table border=\"1\" class=\"dataframe\">\n",
              "  <thead>\n",
              "    <tr style=\"text-align: right;\">\n",
              "      <th></th>\n",
              "      <th>text</th>\n",
              "      <th>task_1</th>\n",
              "    </tr>\n",
              "  </thead>\n",
              "  <tbody>\n",
              "    <tr>\n",
              "      <th>0</th>\n",
              "      <td>wealth make not able start make money sustain...</td>\n",
              "      <td>1</td>\n",
              "    </tr>\n",
              "    <tr>\n",
              "      <th>1</th>\n",
              "      <td>technically still turn back clock dick head</td>\n",
              "      <td>1</td>\n",
              "    </tr>\n",
              "    <tr>\n",
              "      <th>2</th>\n",
              "      <td>vmbjp narendramodi jpnadda amitshah dilipghos...</td>\n",
              "      <td>0</td>\n",
              "    </tr>\n",
              "    <tr>\n",
              "      <th>3</th>\n",
              "      <td>krtoprak yigit soldier japan dick head</td>\n",
              "      <td>1</td>\n",
              "    </tr>\n",
              "    <tr>\n",
              "      <th>4</th>\n",
              "      <td>blueheartedly would better ask think sleazy s...</td>\n",
              "      <td>1</td>\n",
              "    </tr>\n",
              "  </tbody>\n",
              "</table>\n",
              "</div>"
            ],
            "text/plain": [
              "                                                text  task_1\n",
              "0   wealth make not able start make money sustain...       1\n",
              "1        technically still turn back clock dick head       1\n",
              "2   vmbjp narendramodi jpnadda amitshah dilipghos...       0\n",
              "3             krtoprak yigit soldier japan dick head       1\n",
              "4   blueheartedly would better ask think sleazy s...       1"
            ]
          },
          "metadata": {},
          "execution_count": 20
        }
      ]
    },
    {
      "cell_type": "code",
      "metadata": {
        "colab": {
          "base_uri": "https://localhost:8080/"
        },
        "id": "20LCyDWVU_2w",
        "outputId": "b0333c66-eaf2-42c0-b484-c4cc4de756db"
      },
      "source": [
        "train_df = hasoc_data\n",
        "test_df = aakash_test\n",
        "\n",
        "print(\"Training data size : \", train_df.shape)\n",
        "print(\"Test data size : \", test_df.shape)\n",
        "print(\"Test size of hasoc submission\",test_hasoc.shape)"
      ],
      "execution_count": null,
      "outputs": [
        {
          "output_type": "stream",
          "text": [
            "Training data size :  (3843, 2)\n",
            "Test data size :  (200, 12)\n",
            "Test size of hasoc submission (1281, 2)\n"
          ],
          "name": "stdout"
        }
      ]
    },
    {
      "cell_type": "code",
      "metadata": {
        "colab": {
          "base_uri": "https://localhost:8080/"
        },
        "id": "PHjcjKGycZYd",
        "outputId": "1e6aff8f-3d04-4776-9d89-bf06cef60326"
      },
      "source": [
        "train_df[\"task_1\"].value_counts()\n"
      ],
      "execution_count": null,
      "outputs": [
        {
          "output_type": "execute_result",
          "data": {
            "text/plain": [
              "1    2501\n",
              "0    1342\n",
              "Name: task_1, dtype: int64"
            ]
          },
          "metadata": {},
          "execution_count": 22
        }
      ]
    },
    {
      "cell_type": "markdown",
      "metadata": {
        "id": "gFI0BDgGTvCD"
      },
      "source": [
        "##Vectorization"
      ]
    },
    {
      "cell_type": "code",
      "metadata": {
        "id": "0IG6H6LfFsqY"
      },
      "source": [
        "from sklearn.feature_extraction.text import CountVectorizer\n",
        "\n",
        "cv = CountVectorizer(binary=True, stop_words='english')\n",
        "cv.fit(train_df.text)\n",
        "X = cv.transform(train_df.text)\n",
        "y_train = train_df.task_1\n",
        "X_test = cv.transform(test_df.text)\n",
        "X_test_submission = cv.transform(test_hasoc.text)\n",
        "y_test = test_df.task_1"
      ],
      "execution_count": null,
      "outputs": []
    },
    {
      "cell_type": "code",
      "metadata": {
        "id": "qPTeLBCCyq47"
      },
      "source": [
        "from sklearn.feature_extraction.text import TfidfTransformer\n",
        "\n",
        "tfidf = TfidfTransformer()\n",
        "X = tfidf.fit_transform(X)\n",
        "X_test = tfidf.transform(X_test)\n",
        "X_test_submission = tfidf.transform(X_test_submission)"
      ],
      "execution_count": null,
      "outputs": []
    },
    {
      "cell_type": "markdown",
      "metadata": {
        "id": "m6354yD0T6C5"
      },
      "source": [
        "#Build a predictive model Random Forest"
      ]
    },
    {
      "cell_type": "code",
      "metadata": {
        "id": "AGQOly22L23W",
        "colab": {
          "base_uri": "https://localhost:8080/"
        },
        "outputId": "f765debe-b512-4088-f5a5-9e9f3c0a56f1"
      },
      "source": [
        "from sklearn.ensemble import RandomForestClassifier\n",
        "\n",
        "rf = RandomForestClassifier(n_estimators=2000)\n",
        "rf.fit(X, y_train)\n",
        "y_pred = rf.predict(X_test)\n",
        "y_submission = rf.predict(X_test_submission)\n",
        "print (\"Accuracy: %s\" \n",
        "       % accuracy_score(y_test,y_pred))"
      ],
      "execution_count": null,
      "outputs": [
        {
          "output_type": "stream",
          "text": [
            "Accuracy: 0.785\n"
          ],
          "name": "stdout"
        }
      ]
    },
    {
      "cell_type": "code",
      "metadata": {
        "id": "8bt3QA8xixyX",
        "colab": {
          "base_uri": "https://localhost:8080/"
        },
        "outputId": "e244ac36-1b09-46d8-d9bf-1af84e716e13"
      },
      "source": [
        "print(\"Accuracy of the model : \", accuracy_score(y_pred, y_test))\n",
        "print('F1-score: ', f1_score(y_pred, y_test))\n",
        "print('Confusion matrix:')\n",
        "confusion_matrix(y_test,y_pred)"
      ],
      "execution_count": null,
      "outputs": [
        {
          "output_type": "stream",
          "text": [
            "Accuracy of the model :  0.785\n",
            "F1-score:  0.8552188552188552\n",
            "Confusion matrix:\n"
          ],
          "name": "stdout"
        },
        {
          "output_type": "execute_result",
          "data": {
            "text/plain": [
              "array([[ 30,  21],\n",
              "       [ 22, 127]])"
            ]
          },
          "metadata": {},
          "execution_count": 26
        }
      ]
    },
    {
      "cell_type": "code",
      "metadata": {
        "id": "WRjdexyjPyCJ",
        "colab": {
          "base_uri": "https://localhost:8080/"
        },
        "outputId": "88349078-aa4a-4915-d6e0-8bb84882b979"
      },
      "source": [
        "print(classification_report(y_test, y_pred))"
      ],
      "execution_count": null,
      "outputs": [
        {
          "output_type": "stream",
          "text": [
            "              precision    recall  f1-score   support\n",
            "\n",
            "           0       0.58      0.59      0.58        51\n",
            "           1       0.86      0.85      0.86       149\n",
            "\n",
            "    accuracy                           0.79       200\n",
            "   macro avg       0.72      0.72      0.72       200\n",
            "weighted avg       0.79      0.79      0.79       200\n",
            "\n"
          ],
          "name": "stdout"
        }
      ]
    },
    {
      "cell_type": "markdown",
      "metadata": {
        "id": "MQTcsogGL3KR"
      },
      "source": [
        "#Test submission"
      ]
    },
    {
      "cell_type": "code",
      "metadata": {
        "id": "Qc8StVMDL5xn",
        "colab": {
          "base_uri": "https://localhost:8080/"
        },
        "outputId": "32014e2f-929e-4668-800c-1082535a8b89"
      },
      "source": [
        "print(y_submission)\n",
        "zeros = 0\n",
        "ones = 0\n",
        "submission = []\n",
        "for i in range(len(y_submission)):\n",
        "  if y_submission[i] == 0:\n",
        "    zeros += 1\n",
        "    submission.append(\"NOT\")\n",
        "    \n",
        "  else:\n",
        "    ones += 1\n",
        "    submission.append(\"HOF\")\n",
        "\n",
        "print(\"zeros \",zeros)\n",
        "print(\"ones \",ones)\n"
      ],
      "execution_count": null,
      "outputs": [
        {
          "output_type": "stream",
          "text": [
            "[0 1 1 ... 1 0 1]\n",
            "zeros  394\n",
            "ones  887\n"
          ],
          "name": "stdout"
        }
      ]
    },
    {
      "cell_type": "markdown",
      "metadata": {
        "id": "M5h_UiRyXuYA"
      },
      "source": [
        "Rohan SVM model had zeros = 314 and ones = 967"
      ]
    },
    {
      "cell_type": "markdown",
      "metadata": {
        "id": "GtzG3dwsq-ZB"
      },
      "source": [
        "#Submission File"
      ]
    },
    {
      "cell_type": "code",
      "metadata": {
        "id": "rK6MbRd7YHvT"
      },
      "source": [
        "submission = {'id': test_hasoc._id, 'label':submission}\n",
        "submission = pd.DataFrame(submission)"
      ],
      "execution_count": null,
      "outputs": []
    },
    {
      "cell_type": "code",
      "metadata": {
        "colab": {
          "base_uri": "https://localhost:8080/",
          "height": 204
        },
        "id": "uOB3iLT6bQd8",
        "outputId": "eb30516d-8b18-4282-a611-1609dc12ccfc"
      },
      "source": [
        "submission.head()"
      ],
      "execution_count": null,
      "outputs": [
        {
          "output_type": "execute_result",
          "data": {
            "text/html": [
              "<div>\n",
              "<style scoped>\n",
              "    .dataframe tbody tr th:only-of-type {\n",
              "        vertical-align: middle;\n",
              "    }\n",
              "\n",
              "    .dataframe tbody tr th {\n",
              "        vertical-align: top;\n",
              "    }\n",
              "\n",
              "    .dataframe thead th {\n",
              "        text-align: right;\n",
              "    }\n",
              "</style>\n",
              "<table border=\"1\" class=\"dataframe\">\n",
              "  <thead>\n",
              "    <tr style=\"text-align: right;\">\n",
              "      <th></th>\n",
              "      <th>id</th>\n",
              "      <th>label</th>\n",
              "    </tr>\n",
              "  </thead>\n",
              "  <tbody>\n",
              "    <tr>\n",
              "      <th>0</th>\n",
              "      <td>60c5d6bf5659ea5e55deffcb</td>\n",
              "      <td>NOT</td>\n",
              "    </tr>\n",
              "    <tr>\n",
              "      <th>1</th>\n",
              "      <td>60c5d6bf5659ea5e55df028c</td>\n",
              "      <td>HOF</td>\n",
              "    </tr>\n",
              "    <tr>\n",
              "      <th>2</th>\n",
              "      <td>60c5d6bf5659ea5e55def377</td>\n",
              "      <td>HOF</td>\n",
              "    </tr>\n",
              "    <tr>\n",
              "      <th>3</th>\n",
              "      <td>60c5d6bf5659ea5e55def4c7</td>\n",
              "      <td>NOT</td>\n",
              "    </tr>\n",
              "    <tr>\n",
              "      <th>4</th>\n",
              "      <td>60c5d6bf5659ea5e55df01a6</td>\n",
              "      <td>NOT</td>\n",
              "    </tr>\n",
              "  </tbody>\n",
              "</table>\n",
              "</div>"
            ],
            "text/plain": [
              "                         id label\n",
              "0  60c5d6bf5659ea5e55deffcb   NOT\n",
              "1  60c5d6bf5659ea5e55df028c   HOF\n",
              "2  60c5d6bf5659ea5e55def377   HOF\n",
              "3  60c5d6bf5659ea5e55def4c7   NOT\n",
              "4  60c5d6bf5659ea5e55df01a6   NOT"
            ]
          },
          "metadata": {},
          "execution_count": 30
        }
      ]
    },
    {
      "cell_type": "code",
      "metadata": {
        "colab": {
          "base_uri": "https://localhost:8080/",
          "height": 173
        },
        "id": "qvyHziEabW9d",
        "outputId": "960aeaea-97f2-4b3c-f915-5810384859ca"
      },
      "source": [
        "submission.describe()"
      ],
      "execution_count": null,
      "outputs": [
        {
          "output_type": "execute_result",
          "data": {
            "text/html": [
              "<div>\n",
              "<style scoped>\n",
              "    .dataframe tbody tr th:only-of-type {\n",
              "        vertical-align: middle;\n",
              "    }\n",
              "\n",
              "    .dataframe tbody tr th {\n",
              "        vertical-align: top;\n",
              "    }\n",
              "\n",
              "    .dataframe thead th {\n",
              "        text-align: right;\n",
              "    }\n",
              "</style>\n",
              "<table border=\"1\" class=\"dataframe\">\n",
              "  <thead>\n",
              "    <tr style=\"text-align: right;\">\n",
              "      <th></th>\n",
              "      <th>id</th>\n",
              "      <th>label</th>\n",
              "    </tr>\n",
              "  </thead>\n",
              "  <tbody>\n",
              "    <tr>\n",
              "      <th>count</th>\n",
              "      <td>1281</td>\n",
              "      <td>1281</td>\n",
              "    </tr>\n",
              "    <tr>\n",
              "      <th>unique</th>\n",
              "      <td>1281</td>\n",
              "      <td>2</td>\n",
              "    </tr>\n",
              "    <tr>\n",
              "      <th>top</th>\n",
              "      <td>60c5d6bf5659ea5e55def774</td>\n",
              "      <td>HOF</td>\n",
              "    </tr>\n",
              "    <tr>\n",
              "      <th>freq</th>\n",
              "      <td>1</td>\n",
              "      <td>887</td>\n",
              "    </tr>\n",
              "  </tbody>\n",
              "</table>\n",
              "</div>"
            ],
            "text/plain": [
              "                              id label\n",
              "count                       1281  1281\n",
              "unique                      1281     2\n",
              "top     60c5d6bf5659ea5e55def774   HOF\n",
              "freq                           1   887"
            ]
          },
          "metadata": {},
          "execution_count": 31
        }
      ]
    },
    {
      "cell_type": "code",
      "metadata": {
        "id": "iRs2QClsb4eD"
      },
      "source": [
        "submission.to_csv('drive/MyDrive/ICHCL_baseline/Submissions/submission_rf_hasoc_2000.csv', index = False)"
      ],
      "execution_count": null,
      "outputs": []
    }
  ]
}
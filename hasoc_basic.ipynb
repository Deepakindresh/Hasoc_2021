{
  "nbformat": 4,
  "nbformat_minor": 0,
  "metadata": {
    "colab": {
      "name": "hasoc_basic.ipynb",
      "provenance": [],
      "collapsed_sections": []
    },
    "kernelspec": {
      "name": "python3",
      "display_name": "Python 3"
    },
    "language_info": {
      "name": "python"
    },
    "accelerator": "GPU"
  },
  "cells": [
    {
      "cell_type": "markdown",
      "metadata": {
        "id": "x3IpYUh5ROzM"
      },
      "source": [
        "# Mount Drive\n",
        "\n"
      ]
    },
    {
      "cell_type": "code",
      "metadata": {
        "colab": {
          "base_uri": "https://localhost:8080/"
        },
        "id": "L6dTF5JIRjli",
        "outputId": "c3e65624-b629-48e1-bba3-34c8663fc177"
      },
      "source": [
        "from google.colab import drive\n",
        "drive.mount('/content/drive')"
      ],
      "execution_count": null,
      "outputs": [
        {
          "output_type": "stream",
          "text": [
            "Mounted at /content/drive\n"
          ],
          "name": "stdout"
        }
      ]
    },
    {
      "cell_type": "markdown",
      "metadata": {
        "id": "bRQgax8xTW4w"
      },
      "source": [
        "# Importing Libraries and initializing stopwords and stemmer\n"
      ]
    },
    {
      "cell_type": "code",
      "metadata": {
        "colab": {
          "base_uri": "https://localhost:8080/"
        },
        "id": "-zf_qMjiTk5J",
        "outputId": "969df814-8e2e-4800-db1b-7530cf308b9e"
      },
      "source": [
        "import pandas as pd\n",
        "import numpy as np\n",
        "from glob import glob\n",
        "import re\n",
        "import json\n",
        "\n",
        "from sklearn.feature_extraction.text import TfidfVectorizer\n",
        "from sklearn.model_selection import train_test_split\n",
        "from sklearn.linear_model import LogisticRegression\n",
        "from sklearn.metrics import classification_report\n",
        "from sklearn.preprocessing import LabelEncoder\n",
        "\n",
        "from tensorflow.keras import Sequential\n",
        "from tensorflow.keras.layers import Dense, Dropout\n",
        "\n",
        "import nltk\n",
        "nltk.download('stopwords')\n",
        "from nltk.corpus import stopwords\n",
        "from nltk.stem import SnowballStemmer\n",
        "\n"
      ],
      "execution_count": null,
      "outputs": [
        {
          "output_type": "stream",
          "text": [
            "[nltk_data] Downloading package stopwords to /root/nltk_data...\n",
            "[nltk_data]   Unzipping corpora/stopwords.zip.\n"
          ],
          "name": "stdout"
        }
      ]
    },
    {
      "cell_type": "code",
      "metadata": {
        "id": "xbI4vy1lT8OM"
      },
      "source": [
        "english_stopwords = stopwords.words(\"english\")\n",
        "english_stemmer = SnowballStemmer(\"english\")\n"
      ],
      "execution_count": null,
      "outputs": []
    },
    {
      "cell_type": "markdown",
      "metadata": {
        "id": "Qp_zCdofVU8E"
      },
      "source": [
        "# Reading Data\n"
      ]
    },
    {
      "cell_type": "code",
      "metadata": {
        "colab": {
          "base_uri": "https://localhost:8080/",
          "height": 204
        },
        "id": "ql_BZvzaVYdM",
        "outputId": "ccb9e13e-4d6b-48e4-e4be-b1e15bb9e135"
      },
      "source": [
        "hasoc_data = pd.read_csv(\"drive/MyDrive/ICHCL_baseline/hasoc2021-train/Hasoc2021_train.csv\") #Your respective address\n",
        "hasoc_data.head()\n"
      ],
      "execution_count": null,
      "outputs": [
        {
          "output_type": "execute_result",
          "data": {
            "text/html": [
              "<div>\n",
              "<style scoped>\n",
              "    .dataframe tbody tr th:only-of-type {\n",
              "        vertical-align: middle;\n",
              "    }\n",
              "\n",
              "    .dataframe tbody tr th {\n",
              "        vertical-align: top;\n",
              "    }\n",
              "\n",
              "    .dataframe thead th {\n",
              "        text-align: right;\n",
              "    }\n",
              "</style>\n",
              "<table border=\"1\" class=\"dataframe\">\n",
              "  <thead>\n",
              "    <tr style=\"text-align: right;\">\n",
              "      <th></th>\n",
              "      <th>Unnamed: 0</th>\n",
              "      <th>_id</th>\n",
              "      <th>text</th>\n",
              "      <th>task_1</th>\n",
              "      <th>task_2</th>\n",
              "    </tr>\n",
              "  </thead>\n",
              "  <tbody>\n",
              "    <tr>\n",
              "      <th>0</th>\n",
              "      <td>4986</td>\n",
              "      <td>60c5d6bf5659ea5e55defa2c</td>\n",
              "      <td>@wealth if you made it through this &amp;amp;&amp;amp;...</td>\n",
              "      <td>HOF</td>\n",
              "      <td>PRFN</td>\n",
              "    </tr>\n",
              "    <tr>\n",
              "      <th>1</th>\n",
              "      <td>3394</td>\n",
              "      <td>60c5d6bf5659ea5e55def461</td>\n",
              "      <td>Technically that's still turning back the cloc...</td>\n",
              "      <td>HOF</td>\n",
              "      <td>OFFN</td>\n",
              "    </tr>\n",
              "    <tr>\n",
              "      <th>2</th>\n",
              "      <td>1310</td>\n",
              "      <td>60c5d6bf5659ea5e55defaad</td>\n",
              "      <td>@VMBJP @BJP4Bengal @BJP4India @narendramodi @J...</td>\n",
              "      <td>NOT</td>\n",
              "      <td>NONE</td>\n",
              "    </tr>\n",
              "    <tr>\n",
              "      <th>3</th>\n",
              "      <td>3390</td>\n",
              "      <td>60c5d6bf5659ea5e55def419</td>\n",
              "      <td>@krtoprak_yigit Soldier of Japan Who has dick ...</td>\n",
              "      <td>HOF</td>\n",
              "      <td>OFFN</td>\n",
              "    </tr>\n",
              "    <tr>\n",
              "      <th>4</th>\n",
              "      <td>4626</td>\n",
              "      <td>60c5d6bf5659ea5e55def7fa</td>\n",
              "      <td>@blueheartedly You'd be better off asking who ...</td>\n",
              "      <td>HOF</td>\n",
              "      <td>OFFN</td>\n",
              "    </tr>\n",
              "  </tbody>\n",
              "</table>\n",
              "</div>"
            ],
            "text/plain": [
              "   Unnamed: 0                       _id  ... task_1 task_2\n",
              "0        4986  60c5d6bf5659ea5e55defa2c  ...    HOF   PRFN\n",
              "1        3394  60c5d6bf5659ea5e55def461  ...    HOF   OFFN\n",
              "2        1310  60c5d6bf5659ea5e55defaad  ...    NOT   NONE\n",
              "3        3390  60c5d6bf5659ea5e55def419  ...    HOF   OFFN\n",
              "4        4626  60c5d6bf5659ea5e55def7fa  ...    HOF   OFFN\n",
              "\n",
              "[5 rows x 5 columns]"
            ]
          },
          "metadata": {
            "tags": []
          },
          "execution_count": 7
        }
      ]
    },
    {
      "cell_type": "code",
      "metadata": {
        "colab": {
          "base_uri": "https://localhost:8080/",
          "height": 297
        },
        "id": "JcL3_A-fcKoB",
        "outputId": "9350ae96-cefa-44e5-be51-f58d02396768"
      },
      "source": [
        "hasoc_data.describe()"
      ],
      "execution_count": null,
      "outputs": [
        {
          "output_type": "execute_result",
          "data": {
            "text/html": [
              "<div>\n",
              "<style scoped>\n",
              "    .dataframe tbody tr th:only-of-type {\n",
              "        vertical-align: middle;\n",
              "    }\n",
              "\n",
              "    .dataframe tbody tr th {\n",
              "        vertical-align: top;\n",
              "    }\n",
              "\n",
              "    .dataframe thead th {\n",
              "        text-align: right;\n",
              "    }\n",
              "</style>\n",
              "<table border=\"1\" class=\"dataframe\">\n",
              "  <thead>\n",
              "    <tr style=\"text-align: right;\">\n",
              "      <th></th>\n",
              "      <th>Unnamed: 0</th>\n",
              "    </tr>\n",
              "  </thead>\n",
              "  <tbody>\n",
              "    <tr>\n",
              "      <th>count</th>\n",
              "      <td>3843.000000</td>\n",
              "    </tr>\n",
              "    <tr>\n",
              "      <th>mean</th>\n",
              "      <td>2558.799375</td>\n",
              "    </tr>\n",
              "    <tr>\n",
              "      <th>std</th>\n",
              "      <td>1477.088070</td>\n",
              "    </tr>\n",
              "    <tr>\n",
              "      <th>min</th>\n",
              "      <td>1.000000</td>\n",
              "    </tr>\n",
              "    <tr>\n",
              "      <th>25%</th>\n",
              "      <td>1276.500000</td>\n",
              "    </tr>\n",
              "    <tr>\n",
              "      <th>50%</th>\n",
              "      <td>2574.000000</td>\n",
              "    </tr>\n",
              "    <tr>\n",
              "      <th>75%</th>\n",
              "      <td>3828.000000</td>\n",
              "    </tr>\n",
              "    <tr>\n",
              "      <th>max</th>\n",
              "      <td>5121.000000</td>\n",
              "    </tr>\n",
              "  </tbody>\n",
              "</table>\n",
              "</div>"
            ],
            "text/plain": [
              "        Unnamed: 0\n",
              "count  3843.000000\n",
              "mean   2558.799375\n",
              "std    1477.088070\n",
              "min       1.000000\n",
              "25%    1276.500000\n",
              "50%    2574.000000\n",
              "75%    3828.000000\n",
              "max    5121.000000"
            ]
          },
          "metadata": {
            "tags": []
          },
          "execution_count": 8
        }
      ]
    },
    {
      "cell_type": "code",
      "metadata": {
        "id": "wqQdg_uzdZR4"
      },
      "source": [
        "tweets = hasoc_data.text\n",
        "y_task1 = hasoc_data.task_1\n",
        "y_task2 = hasoc_data.task_2"
      ],
      "execution_count": null,
      "outputs": []
    },
    {
      "cell_type": "markdown",
      "metadata": {
        "id": "ya3vFPNIe9WR"
      },
      "source": [
        "# Basic Preprocessing of Tweets\n"
      ]
    },
    {
      "cell_type": "code",
      "metadata": {
        "id": "FElfxXcCfCKH"
      },
      "source": [
        "def clean_tweet(tweet):\n",
        "    tweet = re.sub(r\"@[A-Za-z0-9]+\",' ', tweet)\n",
        "    tweet = re.sub(r\"https?://[A-Za-z0-9./]+\",' ', tweet)\n",
        "    tweet = re.sub(\"RT \", \" \", tweet)\n",
        "    tweet = re.sub(\"\\n\", \" \", tweet)\n",
        "    tweet = re.sub(r\" +\", \" \", tweet)\n",
        "    tokens = []\n",
        "    for token in tweet.split():\n",
        "        if token not in english_stopwords:\n",
        "            token = english_stemmer.stem(token)     # Stemming words like programming programmer to program - May need to remove this in future\n",
        "            tokens.append(token)\n",
        "    return \" \".join(tokens)"
      ],
      "execution_count": null,
      "outputs": []
    },
    {
      "cell_type": "code",
      "metadata": {
        "id": "o0Kp1SU_fKl7"
      },
      "source": [
        "cleaned_tweets = [clean_tweet(tweet) for tweet in tweets]"
      ],
      "execution_count": null,
      "outputs": []
    },
    {
      "cell_type": "markdown",
      "metadata": {
        "id": "5Vm04OU0h7kr"
      },
      "source": [
        "Using TF-IDF for featuring the text. The vectorizer will only consider vocab terms that appear in more than 5 documents."
      ]
    },
    {
      "cell_type": "code",
      "metadata": {
        "id": "yYfVULZZiA2c"
      },
      "source": [
        "vectorizer = TfidfVectorizer(min_df = 5)\n",
        "X = vectorizer.fit_transform(cleaned_tweets)\n",
        "X = X.todense()"
      ],
      "execution_count": null,
      "outputs": []
    },
    {
      "cell_type": "markdown",
      "metadata": {
        "id": "er5OdppuiX1D"
      },
      "source": [
        "#Training and evaluating model"
      ]
    },
    {
      "cell_type": "code",
      "metadata": {
        "id": "mH3AOQQtiaIP"
      },
      "source": [
        "X_train, X_val, y_train, y_val = train_test_split(X, y_task1, test_size=0.2, random_state=42)"
      ],
      "execution_count": null,
      "outputs": []
    },
    {
      "cell_type": "markdown",
      "metadata": {
        "id": "ec_4OpFQ520l"
      },
      "source": [
        "Simple Logistic Regression Model"
      ]
    },
    {
      "cell_type": "code",
      "metadata": {
        "colab": {
          "base_uri": "https://localhost:8080/"
        },
        "id": "lJQANcZ4jHAc",
        "outputId": "2c6ef2c9-ef30-416b-84e2-43c515882e4d"
      },
      "source": [
        "classifier = LogisticRegression()\n",
        "classifier.fit(X_train, y_train)"
      ],
      "execution_count": null,
      "outputs": [
        {
          "output_type": "execute_result",
          "data": {
            "text/plain": [
              "LogisticRegression(C=1.0, class_weight=None, dual=False, fit_intercept=True,\n",
              "                   intercept_scaling=1, l1_ratio=None, max_iter=100,\n",
              "                   multi_class='auto', n_jobs=None, penalty='l2',\n",
              "                   random_state=None, solver='lbfgs', tol=0.0001, verbose=0,\n",
              "                   warm_start=False)"
            ]
          },
          "metadata": {
            "tags": []
          },
          "execution_count": 14
        }
      ]
    },
    {
      "cell_type": "code",
      "metadata": {
        "id": "bnBJi1ThjRrm"
      },
      "source": [
        "y_pred = classifier.predict(X_val)\n"
      ],
      "execution_count": null,
      "outputs": []
    },
    {
      "cell_type": "code",
      "metadata": {
        "colab": {
          "base_uri": "https://localhost:8080/"
        },
        "id": "uJzrBTtjjUSg",
        "outputId": "c3fede6a-b619-43eb-ae38-2961a33a1110"
      },
      "source": [
        "print(classification_report(y_val, y_pred))\n"
      ],
      "execution_count": null,
      "outputs": [
        {
          "output_type": "stream",
          "text": [
            "              precision    recall  f1-score   support\n",
            "\n",
            "         HOF       0.80      0.91      0.85       529\n",
            "         NOT       0.72      0.49      0.58       240\n",
            "\n",
            "    accuracy                           0.78       769\n",
            "   macro avg       0.76      0.70      0.72       769\n",
            "weighted avg       0.77      0.78      0.77       769\n",
            "\n"
          ],
          "name": "stdout"
        }
      ]
    },
    {
      "cell_type": "code",
      "metadata": {
        "id": "bItrHk7gj1_9"
      },
      "source": [
        "le = LabelEncoder() #label encoding labels for training Dense Neural Network\n",
        "y_train = le.fit_transform(y_train)\n",
        "y_val = le.transform(y_val)"
      ],
      "execution_count": null,
      "outputs": []
    },
    {
      "cell_type": "markdown",
      "metadata": {
        "id": "AX73vlPC58oS"
      },
      "source": [
        "Deep Learning Model "
      ]
    },
    {
      "cell_type": "code",
      "metadata": {
        "id": "SVgDStDIj3Mq"
      },
      "source": [
        "model = Sequential(\n",
        "    [\n",
        "        Dense(64, activation=\"relu\"),\n",
        "        Dense(32, activation=\"relu\"),\n",
        "        Dense(1, activation=\"sigmoid\"),\n",
        "    ]\n",
        ")\n",
        "model.compile('adam', loss='binary_crossentropy', metrics = ['accuracy']) #compiling a neural network with 3 layers for classification"
      ],
      "execution_count": null,
      "outputs": []
    },
    {
      "cell_type": "code",
      "metadata": {
        "id": "3bTz1zJB5ZmJ"
      },
      "source": [
        "# model_checkpoint_callback = tf.keras.callbacks.ModelCheckpoint(\n",
        "#     filepath=checkpoint_filepath,\n",
        "#     save_weights_only=True,\n",
        "#     monitor='val_accuracy',\n",
        "#     mode='max',\n",
        "#     save_best_only=True)\n",
        "# Use this for saving weights etc after training\n"
      ],
      "execution_count": null,
      "outputs": []
    },
    {
      "cell_type": "code",
      "metadata": {
        "id": "vxc-ePltEa_n"
      },
      "source": [
        "val_set = [X_val,y_val]"
      ],
      "execution_count": 30,
      "outputs": []
    },
    {
      "cell_type": "code",
      "metadata": {
        "colab": {
          "base_uri": "https://localhost:8080/"
        },
        "id": "w1PKdXSukCZf",
        "outputId": "db1bf62b-e597-4a80-9977-d31b7d09495f"
      },
      "source": [
        "history = model.fit(X_train, y_train, epochs = 100, batch_size = 32) # Add callbacks=[model_checkpoint_callback] to the function to save"
      ],
      "execution_count": 32,
      "outputs": [
        {
          "output_type": "stream",
          "text": [
            "Epoch 1/100\n",
            "97/97 [==============================] - 0s 3ms/step - loss: 0.0062 - accuracy: 0.9951\n",
            "Epoch 2/100\n",
            "97/97 [==============================] - 0s 3ms/step - loss: 0.0062 - accuracy: 0.9951\n",
            "Epoch 3/100\n",
            "97/97 [==============================] - 0s 3ms/step - loss: 0.0060 - accuracy: 0.9954\n",
            "Epoch 4/100\n",
            "97/97 [==============================] - 0s 3ms/step - loss: 0.0060 - accuracy: 0.9958\n",
            "Epoch 5/100\n",
            "97/97 [==============================] - 0s 3ms/step - loss: 0.0058 - accuracy: 0.9958\n",
            "Epoch 6/100\n",
            "97/97 [==============================] - 0s 3ms/step - loss: 0.0058 - accuracy: 0.9961\n",
            "Epoch 7/100\n",
            "97/97 [==============================] - 0s 3ms/step - loss: 0.0060 - accuracy: 0.9961\n",
            "Epoch 8/100\n",
            "97/97 [==============================] - 0s 3ms/step - loss: 0.0059 - accuracy: 0.9961\n",
            "Epoch 9/100\n",
            "97/97 [==============================] - 0s 3ms/step - loss: 0.0058 - accuracy: 0.9958\n",
            "Epoch 10/100\n",
            "97/97 [==============================] - 0s 3ms/step - loss: 0.0059 - accuracy: 0.9951\n",
            "Epoch 11/100\n",
            "97/97 [==============================] - 0s 3ms/step - loss: 0.0058 - accuracy: 0.9958\n",
            "Epoch 12/100\n",
            "97/97 [==============================] - 0s 3ms/step - loss: 0.0061 - accuracy: 0.9951\n",
            "Epoch 13/100\n",
            "97/97 [==============================] - 0s 3ms/step - loss: 0.0060 - accuracy: 0.9961\n",
            "Epoch 14/100\n",
            "97/97 [==============================] - 0s 3ms/step - loss: 0.0058 - accuracy: 0.9954\n",
            "Epoch 15/100\n",
            "97/97 [==============================] - 0s 3ms/step - loss: 0.0058 - accuracy: 0.9951\n",
            "Epoch 16/100\n",
            "97/97 [==============================] - 0s 3ms/step - loss: 0.0059 - accuracy: 0.9951\n",
            "Epoch 17/100\n",
            "97/97 [==============================] - 0s 3ms/step - loss: 0.0058 - accuracy: 0.9951\n",
            "Epoch 18/100\n",
            "97/97 [==============================] - 0s 3ms/step - loss: 0.0058 - accuracy: 0.9954\n",
            "Epoch 19/100\n",
            "97/97 [==============================] - 0s 3ms/step - loss: 0.0059 - accuracy: 0.9948\n",
            "Epoch 20/100\n",
            "97/97 [==============================] - 0s 3ms/step - loss: 0.0059 - accuracy: 0.9951\n",
            "Epoch 21/100\n",
            "97/97 [==============================] - 0s 3ms/step - loss: 0.0058 - accuracy: 0.9948\n",
            "Epoch 22/100\n",
            "97/97 [==============================] - 0s 3ms/step - loss: 0.0059 - accuracy: 0.9958\n",
            "Epoch 23/100\n",
            "97/97 [==============================] - 0s 3ms/step - loss: 0.0058 - accuracy: 0.9961\n",
            "Epoch 24/100\n",
            "97/97 [==============================] - 0s 3ms/step - loss: 0.0061 - accuracy: 0.9958\n",
            "Epoch 25/100\n",
            "97/97 [==============================] - 0s 3ms/step - loss: 0.0059 - accuracy: 0.9961\n",
            "Epoch 26/100\n",
            "97/97 [==============================] - 0s 3ms/step - loss: 0.0058 - accuracy: 0.9954\n",
            "Epoch 27/100\n",
            "97/97 [==============================] - 0s 3ms/step - loss: 0.0061 - accuracy: 0.9954\n",
            "Epoch 28/100\n",
            "97/97 [==============================] - 0s 3ms/step - loss: 0.0063 - accuracy: 0.9951\n",
            "Epoch 29/100\n",
            "97/97 [==============================] - 0s 3ms/step - loss: 0.0058 - accuracy: 0.9961\n",
            "Epoch 30/100\n",
            "97/97 [==============================] - 0s 4ms/step - loss: 0.0060 - accuracy: 0.9964\n",
            "Epoch 31/100\n",
            "97/97 [==============================] - 0s 3ms/step - loss: 0.0057 - accuracy: 0.9954\n",
            "Epoch 32/100\n",
            "97/97 [==============================] - 0s 3ms/step - loss: 0.0058 - accuracy: 0.9961\n",
            "Epoch 33/100\n",
            "97/97 [==============================] - 0s 3ms/step - loss: 0.0057 - accuracy: 0.9961\n",
            "Epoch 34/100\n",
            "97/97 [==============================] - 0s 3ms/step - loss: 0.0060 - accuracy: 0.9954\n",
            "Epoch 35/100\n",
            "97/97 [==============================] - 0s 3ms/step - loss: 0.0058 - accuracy: 0.9958\n",
            "Epoch 36/100\n",
            "97/97 [==============================] - 0s 3ms/step - loss: 0.0057 - accuracy: 0.9961\n",
            "Epoch 37/100\n",
            "97/97 [==============================] - 0s 3ms/step - loss: 0.0057 - accuracy: 0.9954\n",
            "Epoch 38/100\n",
            "97/97 [==============================] - 0s 3ms/step - loss: 0.0057 - accuracy: 0.9964\n",
            "Epoch 39/100\n",
            "97/97 [==============================] - 0s 3ms/step - loss: 0.0057 - accuracy: 0.9958\n",
            "Epoch 40/100\n",
            "97/97 [==============================] - 0s 3ms/step - loss: 0.0058 - accuracy: 0.9958\n",
            "Epoch 41/100\n",
            "97/97 [==============================] - 0s 3ms/step - loss: 0.0056 - accuracy: 0.9958\n",
            "Epoch 42/100\n",
            "97/97 [==============================] - 0s 4ms/step - loss: 0.0057 - accuracy: 0.9961\n",
            "Epoch 43/100\n",
            "97/97 [==============================] - 0s 3ms/step - loss: 0.0057 - accuracy: 0.9958\n",
            "Epoch 44/100\n",
            "97/97 [==============================] - 0s 3ms/step - loss: 0.0057 - accuracy: 0.9961\n",
            "Epoch 45/100\n",
            "97/97 [==============================] - 0s 3ms/step - loss: 0.0058 - accuracy: 0.9958\n",
            "Epoch 46/100\n",
            "97/97 [==============================] - 0s 3ms/step - loss: 0.0057 - accuracy: 0.9958\n",
            "Epoch 47/100\n",
            "97/97 [==============================] - 0s 3ms/step - loss: 0.0057 - accuracy: 0.9958\n",
            "Epoch 48/100\n",
            "97/97 [==============================] - 0s 3ms/step - loss: 0.0057 - accuracy: 0.9954\n",
            "Epoch 49/100\n",
            "97/97 [==============================] - 0s 3ms/step - loss: 0.0057 - accuracy: 0.9958\n",
            "Epoch 50/100\n",
            "97/97 [==============================] - 0s 3ms/step - loss: 0.0056 - accuracy: 0.9951\n",
            "Epoch 51/100\n",
            "97/97 [==============================] - 0s 3ms/step - loss: 0.0056 - accuracy: 0.9958\n",
            "Epoch 52/100\n",
            "97/97 [==============================] - 0s 3ms/step - loss: 0.0055 - accuracy: 0.9961\n",
            "Epoch 53/100\n",
            "97/97 [==============================] - 0s 3ms/step - loss: 0.0055 - accuracy: 0.9954\n",
            "Epoch 54/100\n",
            "97/97 [==============================] - 0s 3ms/step - loss: 0.0055 - accuracy: 0.9964\n",
            "Epoch 55/100\n",
            "97/97 [==============================] - 0s 3ms/step - loss: 0.0056 - accuracy: 0.9961\n",
            "Epoch 56/100\n",
            "97/97 [==============================] - 0s 3ms/step - loss: 0.0055 - accuracy: 0.9948\n",
            "Epoch 57/100\n",
            "97/97 [==============================] - 0s 3ms/step - loss: 0.0056 - accuracy: 0.9951\n",
            "Epoch 58/100\n",
            "97/97 [==============================] - 0s 3ms/step - loss: 0.0055 - accuracy: 0.9954\n",
            "Epoch 59/100\n",
            "97/97 [==============================] - 0s 3ms/step - loss: 0.0056 - accuracy: 0.9958\n",
            "Epoch 60/100\n",
            "97/97 [==============================] - 0s 3ms/step - loss: 0.0055 - accuracy: 0.9967\n",
            "Epoch 61/100\n",
            "97/97 [==============================] - 0s 3ms/step - loss: 0.0055 - accuracy: 0.9958\n",
            "Epoch 62/100\n",
            "97/97 [==============================] - 0s 3ms/step - loss: 0.0056 - accuracy: 0.9951\n",
            "Epoch 63/100\n",
            "97/97 [==============================] - 0s 4ms/step - loss: 0.0056 - accuracy: 0.9954\n",
            "Epoch 64/100\n",
            "97/97 [==============================] - 0s 3ms/step - loss: 0.0065 - accuracy: 0.9954\n",
            "Epoch 65/100\n",
            "97/97 [==============================] - 0s 3ms/step - loss: 0.0055 - accuracy: 0.9961\n",
            "Epoch 66/100\n",
            "97/97 [==============================] - 0s 3ms/step - loss: 0.0055 - accuracy: 0.9954\n",
            "Epoch 67/100\n",
            "97/97 [==============================] - 0s 3ms/step - loss: 0.0055 - accuracy: 0.9961\n",
            "Epoch 68/100\n",
            "97/97 [==============================] - 0s 3ms/step - loss: 0.0053 - accuracy: 0.9958\n",
            "Epoch 69/100\n",
            "97/97 [==============================] - 0s 3ms/step - loss: 0.0055 - accuracy: 0.9954\n",
            "Epoch 70/100\n",
            "97/97 [==============================] - 0s 3ms/step - loss: 0.0062 - accuracy: 0.9967\n",
            "Epoch 71/100\n",
            "97/97 [==============================] - 0s 3ms/step - loss: 0.0058 - accuracy: 0.9961\n",
            "Epoch 72/100\n",
            "97/97 [==============================] - 0s 3ms/step - loss: 0.0055 - accuracy: 0.9961\n",
            "Epoch 73/100\n",
            "97/97 [==============================] - 0s 3ms/step - loss: 0.0054 - accuracy: 0.9964\n",
            "Epoch 74/100\n",
            "97/97 [==============================] - 0s 3ms/step - loss: 0.0054 - accuracy: 0.9961\n",
            "Epoch 75/100\n",
            "97/97 [==============================] - 0s 3ms/step - loss: 0.0054 - accuracy: 0.9961\n",
            "Epoch 76/100\n",
            "97/97 [==============================] - 0s 3ms/step - loss: 0.0055 - accuracy: 0.9954\n",
            "Epoch 77/100\n",
            "97/97 [==============================] - 0s 3ms/step - loss: 0.0055 - accuracy: 0.9961\n",
            "Epoch 78/100\n",
            "97/97 [==============================] - 0s 4ms/step - loss: 0.0054 - accuracy: 0.9958\n",
            "Epoch 79/100\n",
            "97/97 [==============================] - 0s 4ms/step - loss: 0.0054 - accuracy: 0.9964\n",
            "Epoch 80/100\n",
            "97/97 [==============================] - 0s 3ms/step - loss: 0.0054 - accuracy: 0.9961\n",
            "Epoch 81/100\n",
            "97/97 [==============================] - 0s 3ms/step - loss: 0.0054 - accuracy: 0.9964\n",
            "Epoch 82/100\n",
            "97/97 [==============================] - 0s 3ms/step - loss: 0.0054 - accuracy: 0.9954\n",
            "Epoch 83/100\n",
            "97/97 [==============================] - 0s 3ms/step - loss: 0.0055 - accuracy: 0.9954\n",
            "Epoch 84/100\n",
            "97/97 [==============================] - 0s 3ms/step - loss: 0.0053 - accuracy: 0.9954\n",
            "Epoch 85/100\n",
            "97/97 [==============================] - 0s 3ms/step - loss: 0.0054 - accuracy: 0.9961\n",
            "Epoch 86/100\n",
            "97/97 [==============================] - 0s 3ms/step - loss: 0.0053 - accuracy: 0.9958\n",
            "Epoch 87/100\n",
            "97/97 [==============================] - 0s 3ms/step - loss: 0.0052 - accuracy: 0.9961\n",
            "Epoch 88/100\n",
            "97/97 [==============================] - 0s 3ms/step - loss: 0.0054 - accuracy: 0.9954\n",
            "Epoch 89/100\n",
            "97/97 [==============================] - 0s 3ms/step - loss: 0.0055 - accuracy: 0.9961\n",
            "Epoch 90/100\n",
            "97/97 [==============================] - 0s 3ms/step - loss: 0.0053 - accuracy: 0.9954\n",
            "Epoch 91/100\n",
            "97/97 [==============================] - 0s 3ms/step - loss: 0.0053 - accuracy: 0.9954\n",
            "Epoch 92/100\n",
            "97/97 [==============================] - 0s 3ms/step - loss: 0.0059 - accuracy: 0.9958\n",
            "Epoch 93/100\n",
            "97/97 [==============================] - 0s 3ms/step - loss: 0.0054 - accuracy: 0.9958\n",
            "Epoch 94/100\n",
            "97/97 [==============================] - 0s 3ms/step - loss: 0.0056 - accuracy: 0.9958\n",
            "Epoch 95/100\n",
            "97/97 [==============================] - 0s 3ms/step - loss: 0.0054 - accuracy: 0.9967\n",
            "Epoch 96/100\n",
            "97/97 [==============================] - 0s 3ms/step - loss: 0.0055 - accuracy: 0.9961\n",
            "Epoch 97/100\n",
            "97/97 [==============================] - 0s 3ms/step - loss: 0.0053 - accuracy: 0.9958\n",
            "Epoch 98/100\n",
            "97/97 [==============================] - 0s 3ms/step - loss: 0.0054 - accuracy: 0.9961\n",
            "Epoch 99/100\n",
            "97/97 [==============================] - 0s 3ms/step - loss: 0.0053 - accuracy: 0.9967\n",
            "Epoch 100/100\n",
            "97/97 [==============================] - 0s 3ms/step - loss: 0.0053 - accuracy: 0.9954\n"
          ],
          "name": "stdout"
        }
      ]
    },
    {
      "cell_type": "code",
      "metadata": {
        "id": "j33O0e8Lk9hf"
      },
      "source": [
        "y_pred = model.predict(X_val)\n",
        "y_pred = (y_pred > 0.5).astype('int64')\n",
        "y_pred = y_pred.reshape(len(y_pred))    "
      ],
      "execution_count": null,
      "outputs": []
    },
    {
      "cell_type": "code",
      "metadata": {
        "colab": {
          "base_uri": "https://localhost:8080/"
        },
        "id": "MbzTYnBulAxd",
        "outputId": "580b7ef3-85bf-47f0-d463-f24033ea9123"
      },
      "source": [
        "print(classification_report(y_val, y_pred))"
      ],
      "execution_count": null,
      "outputs": [
        {
          "output_type": "stream",
          "text": [
            "              precision    recall  f1-score   support\n",
            "\n",
            "           0       0.82      0.76      0.79       529\n",
            "           1       0.54      0.62      0.58       240\n",
            "\n",
            "    accuracy                           0.72       769\n",
            "   macro avg       0.68      0.69      0.68       769\n",
            "weighted avg       0.73      0.72      0.72       769\n",
            "\n"
          ],
          "name": "stdout"
        }
      ]
    },
    {
      "cell_type": "markdown",
      "metadata": {
        "id": "-e5JOreK8TqQ"
      },
      "source": [
        "# Plots\n"
      ]
    },
    {
      "cell_type": "code",
      "metadata": {
        "id": "zALK72jj8Y9B"
      },
      "source": [
        "import matplotlib.pyplot as plt"
      ],
      "execution_count": 23,
      "outputs": []
    },
    {
      "cell_type": "code",
      "metadata": {
        "id": "xsLvuj5n8fcG"
      },
      "source": [
        "def plot_graphs(history, string):\n",
        "  plt.plot(history.history[string])\n",
        "  plt.plot(history.history['val_'+string])\n",
        "  plt.xlabel(\"Epochs\")\n",
        "  plt.ylabel(string)\n",
        "  plt.legend([string,'val_'+ string])\n",
        "  plt.show()"
      ],
      "execution_count": 26,
      "outputs": []
    },
    {
      "cell_type": "code",
      "metadata": {
        "colab": {
          "base_uri": "https://localhost:8080/",
          "height": 279
        },
        "id": "0MTFL2SO-GEQ",
        "outputId": "b2ecdf1e-3d47-4ad6-b145-eed84c5b0570"
      },
      "source": [
        "plot_graphs(history, 'accuracy')"
      ],
      "execution_count": 27,
      "outputs": [
        {
          "output_type": "display_data",
          "data": {
            "image/png": "[encoded data removed]",
            "text/plain": [
              "<Figure size 432x288 with 1 Axes>"
            ]
          },
          "metadata": {
            "tags": [],
            "needs_background": "light"
          }
        }
      ]
    },
    {
      "cell_type": "code",
      "metadata": {
        "colab": {
          "base_uri": "https://localhost:8080/",
          "height": 279
        },
        "id": "2kCyfS9M-adU",
        "outputId": "ff32fd7a-e812-4b74-eaba-64e2e47fe572"
      },
      "source": [
        "plot_graphs(history, 'loss')\n"
      ],
      "execution_count": 28,
      "outputs": [
        {
          "output_type": "display_data",
          "data": {
            "image/png": "[encoded data removed]",
            "text/plain": [
              "<Figure size 432x288 with 1 Axes>"
            ]
          },
          "metadata": {
            "tags": [],
            "needs_background": "light"
          }
        }
      ]
    },
    {
      "cell_type": "markdown",
      "metadata": {
        "id": "KTAB2TjKFT1Z"
      },
      "source": [
        "#Prediction of test set and submission file generation\n"
      ]
    },
    {
      "cell_type": "code",
      "metadata": {
        "id": "4nk19hePFb7B"
      },
      "source": [
        "hasoc_test = pd.read_csv(\"drive/MyDrive/ICHCL_baseline/hasoc2021-train/Hasoc2021_test.csv\") # Not yet released\n",
        "hasoc_test.head()"
      ],
      "execution_count": null,
      "outputs": []
    },
    {
      "cell_type": "code",
      "metadata": {
        "id": "kx6y0DLdFuqb"
      },
      "source": [
        "tweets_test = hasoc_test.text\n",
        "tweet_ids = hasoc_test.tweet_id\n",
        "y_test_task1 = hasoc_test.task_1\n",
        "y_test_task2 = hasoc_test.task_2"
      ],
      "execution_count": null,
      "outputs": []
    },
    {
      "cell_type": "code",
      "metadata": {
        "id": "TDlBPP1-GJTY"
      },
      "source": [
        "cleaned_test_tweets = [clean_tweet(tweet) for tweet in tweets_test]"
      ],
      "execution_count": null,
      "outputs": []
    },
    {
      "cell_type": "code",
      "metadata": {
        "id": "w3fvlO3FGWug"
      },
      "source": [
        "X_test = vectorizer.fit_transform(cleaned_test_tweets)\n",
        "X_test = X_test.todense()"
      ],
      "execution_count": null,
      "outputs": []
    },
    {
      "cell_type": "code",
      "metadata": {
        "id": "5RnYIiDZG59d"
      },
      "source": [
        "submission_prediction = classifier.predict(X_test)\n",
        "submission = {'tweet_id': tweet_ids, 'label':submission_prediction}\n",
        "submission = pd.DataFrame(submission)"
      ],
      "execution_count": null,
      "outputs": []
    },
    {
      "cell_type": "code",
      "metadata": {
        "id": "0hM_J6RQHBFu"
      },
      "source": [
        "submission.to_csv('data/sample_submission.csv', index = False)"
      ],
      "execution_count": null,
      "outputs": []
    }
  ]
}
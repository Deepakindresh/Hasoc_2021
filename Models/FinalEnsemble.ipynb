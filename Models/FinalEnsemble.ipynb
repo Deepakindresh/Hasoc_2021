{
  "nbformat": 4,
  "nbformat_minor": 0,
  "metadata": {
    "colab": {
      "name": "FinalEnsemble.ipynb",
      "provenance": [],
      "collapsed_sections": [
        "Qp_zCdofVU8E",
        "ya3vFPNIe9WR"
      ]
    },
    "kernelspec": {
      "name": "python3",
      "display_name": "Python 3"
    },
    "language_info": {
      "name": "python"
    },
    "accelerator": "GPU"
  },
  "cells": [
    {
      "cell_type": "markdown",
      "metadata": {
        "id": "x3IpYUh5ROzM"
      },
      "source": [
        "# Mount Drive\n",
        "\n"
      ]
    },
    {
      "cell_type": "code",
      "metadata": {
        "colab": {
          "base_uri": "https://localhost:8080/"
        },
        "id": "L6dTF5JIRjli",
        "outputId": "1223ff5c-62f6-417d-e659-a8aedcbd0e0d"
      },
      "source": [
        "from google.colab import drive\n",
        "drive.mount('/content/drive')"
      ],
      "execution_count": null,
      "outputs": [
        {
          "output_type": "stream",
          "name": "stdout",
          "text": [
            "Mounted at /content/drive\n"
          ]
        }
      ]
    },
    {
      "cell_type": "markdown",
      "metadata": {
        "id": "Su45IUJrdX4u"
      },
      "source": [
        "# Importing Libraries and initializing stopwords and stemmer\n"
      ]
    },
    {
      "cell_type": "code",
      "metadata": {
        "colab": {
          "base_uri": "https://localhost:8080/"
        },
        "id": "N-rDxARCdX45",
        "outputId": "16488e3e-db76-4c1c-83be-f75a8c2d0663"
      },
      "source": [
        "import numpy as np\n",
        "import pandas as pd \n",
        "import matplotlib.pyplot as plt\n",
        "import seaborn as sns\n",
        "\n",
        "import tensorflow as tf\n",
        "\n",
        "import warnings\n",
        "warnings.filterwarnings(\"ignore\")\n",
        "\n",
        "import nltk\n",
        "\n",
        "import re\n",
        "from bs4 import BeautifulSoup\n",
        "from tqdm import tqdm\n",
        "from nltk.stem import WordNetLemmatizer\n",
        "\n",
        "from sklearn.model_selection import train_test_split\n",
        "from sklearn.metrics import accuracy_score,f1_score, confusion_matrix\n",
        "from sklearn.feature_extraction.text import TfidfVectorizer\n",
        "from sklearn.utils import shuffle\n",
        "from sklearn.metrics import classification_report\n",
        "from sklearn.linear_model import LogisticRegression\n",
        "from sklearn.svm import SVC\n",
        "\n",
        "from keras.preprocessing.text import Tokenizer\n",
        "from keras.preprocessing.sequence import pad_sequences\n",
        "from keras.layers import Dense , Input , LSTM , Embedding, Dropout , Activation, GRU, Flatten\n",
        "from keras.layers import Bidirectional, GlobalMaxPool1D\n",
        "from keras.models import Model, Sequential\n",
        "from keras.layers import Convolution1D\n",
        "from keras import initializers, regularizers, constraints, optimizers, layers\n",
        "nltk.download('wordnet')\n",
        "\n",
        "\n"
      ],
      "execution_count": null,
      "outputs": [
        {
          "output_type": "stream",
          "name": "stdout",
          "text": [
            "[nltk_data] Downloading package wordnet to /root/nltk_data...\n",
            "[nltk_data]   Unzipping corpora/wordnet.zip.\n"
          ]
        },
        {
          "output_type": "execute_result",
          "data": {
            "text/plain": [
              "True"
            ]
          },
          "metadata": {},
          "execution_count": 2
        }
      ]
    },
    {
      "cell_type": "markdown",
      "metadata": {
        "id": "Qp_zCdofVU8E"
      },
      "source": [
        "# Reading Data\n"
      ]
    },
    {
      "cell_type": "code",
      "metadata": {
        "colab": {
          "base_uri": "https://localhost:8080/"
        },
        "id": "ql_BZvzaVYdM",
        "outputId": "2fa1f33b-41e6-4283-b59d-c8af60d6d13f"
      },
      "source": [
        "hasoc_data = pd.read_csv(\"drive/MyDrive/ICHCL_baseline/hasoc2021-train/Hasoc2021_train.csv\") #Your respective address\n",
        "hasoc_data.head()\n"
      ],
      "execution_count": null,
      "outputs": [
        {
          "output_type": "execute_result",
          "data": {
            "text/html": [
              "<div>\n",
              "<style scoped>\n",
              "    .dataframe tbody tr th:only-of-type {\n",
              "        vertical-align: middle;\n",
              "    }\n",
              "\n",
              "    .dataframe tbody tr th {\n",
              "        vertical-align: top;\n",
              "    }\n",
              "\n",
              "    .dataframe thead th {\n",
              "        text-align: right;\n",
              "    }\n",
              "</style>\n",
              "<table border=\"1\" class=\"dataframe\">\n",
              "  <thead>\n",
              "    <tr style=\"text-align: right;\">\n",
              "      <th></th>\n",
              "      <th>Unnamed: 0</th>\n",
              "      <th>_id</th>\n",
              "      <th>text</th>\n",
              "      <th>task_1</th>\n",
              "      <th>task_2</th>\n",
              "    </tr>\n",
              "  </thead>\n",
              "  <tbody>\n",
              "    <tr>\n",
              "      <th>0</th>\n",
              "      <td>4986</td>\n",
              "      <td>60c5d6bf5659ea5e55defa2c</td>\n",
              "      <td>@wealth if you made it through this &amp;amp;&amp;amp;...</td>\n",
              "      <td>HOF</td>\n",
              "      <td>PRFN</td>\n",
              "    </tr>\n",
              "    <tr>\n",
              "      <th>1</th>\n",
              "      <td>3394</td>\n",
              "      <td>60c5d6bf5659ea5e55def461</td>\n",
              "      <td>Technically that's still turning back the cloc...</td>\n",
              "      <td>HOF</td>\n",
              "      <td>OFFN</td>\n",
              "    </tr>\n",
              "    <tr>\n",
              "      <th>2</th>\n",
              "      <td>1310</td>\n",
              "      <td>60c5d6bf5659ea5e55defaad</td>\n",
              "      <td>@VMBJP @BJP4Bengal @BJP4India @narendramodi @J...</td>\n",
              "      <td>NOT</td>\n",
              "      <td>NONE</td>\n",
              "    </tr>\n",
              "    <tr>\n",
              "      <th>3</th>\n",
              "      <td>3390</td>\n",
              "      <td>60c5d6bf5659ea5e55def419</td>\n",
              "      <td>@krtoprak_yigit Soldier of Japan Who has dick ...</td>\n",
              "      <td>HOF</td>\n",
              "      <td>OFFN</td>\n",
              "    </tr>\n",
              "    <tr>\n",
              "      <th>4</th>\n",
              "      <td>4626</td>\n",
              "      <td>60c5d6bf5659ea5e55def7fa</td>\n",
              "      <td>@blueheartedly You'd be better off asking who ...</td>\n",
              "      <td>HOF</td>\n",
              "      <td>OFFN</td>\n",
              "    </tr>\n",
              "  </tbody>\n",
              "</table>\n",
              "</div>"
            ],
            "text/plain": [
              "   Unnamed: 0                       _id  ... task_1 task_2\n",
              "0        4986  60c5d6bf5659ea5e55defa2c  ...    HOF   PRFN\n",
              "1        3394  60c5d6bf5659ea5e55def461  ...    HOF   OFFN\n",
              "2        1310  60c5d6bf5659ea5e55defaad  ...    NOT   NONE\n",
              "3        3390  60c5d6bf5659ea5e55def419  ...    HOF   OFFN\n",
              "4        4626  60c5d6bf5659ea5e55def7fa  ...    HOF   OFFN\n",
              "\n",
              "[5 rows x 5 columns]"
            ]
          },
          "metadata": {},
          "execution_count": 10
        }
      ]
    },
    {
      "cell_type": "code",
      "metadata": {
        "id": "zfv5ntOLMX0_"
      },
      "source": [
        "aakash_test = pd.read_csv(\"drive/MyDrive/ICHCL_baseline/Test/aakash_300.csv\")"
      ],
      "execution_count": null,
      "outputs": []
    },
    {
      "cell_type": "code",
      "metadata": {
        "colab": {
          "base_uri": "https://localhost:8080/"
        },
        "id": "4ZxttlPQMf-g",
        "outputId": "72ef1ae9-428e-4359-e510-b33df606783b"
      },
      "source": [
        "aakash_test.describe()"
      ],
      "execution_count": null,
      "outputs": [
        {
          "output_type": "execute_result",
          "data": {
            "text/html": [
              "<div>\n",
              "<style scoped>\n",
              "    .dataframe tbody tr th:only-of-type {\n",
              "        vertical-align: middle;\n",
              "    }\n",
              "\n",
              "    .dataframe tbody tr th {\n",
              "        vertical-align: top;\n",
              "    }\n",
              "\n",
              "    .dataframe thead th {\n",
              "        text-align: right;\n",
              "    }\n",
              "</style>\n",
              "<table border=\"1\" class=\"dataframe\">\n",
              "  <thead>\n",
              "    <tr style=\"text-align: right;\">\n",
              "      <th></th>\n",
              "      <th>Unnamed: 2</th>\n",
              "      <th>Unnamed: 3</th>\n",
              "      <th>Unnamed: 4</th>\n",
              "      <th>Unnamed: 5</th>\n",
              "      <th>Unnamed: 6</th>\n",
              "      <th>Unnamed: 7</th>\n",
              "      <th>Unnamed: 8</th>\n",
              "      <th>Unnamed: 9</th>\n",
              "    </tr>\n",
              "  </thead>\n",
              "  <tbody>\n",
              "    <tr>\n",
              "      <th>count</th>\n",
              "      <td>0.0</td>\n",
              "      <td>0.0</td>\n",
              "      <td>0.0</td>\n",
              "      <td>0.0</td>\n",
              "      <td>0.0</td>\n",
              "      <td>0.0</td>\n",
              "      <td>0.0</td>\n",
              "      <td>0.0</td>\n",
              "    </tr>\n",
              "    <tr>\n",
              "      <th>mean</th>\n",
              "      <td>NaN</td>\n",
              "      <td>NaN</td>\n",
              "      <td>NaN</td>\n",
              "      <td>NaN</td>\n",
              "      <td>NaN</td>\n",
              "      <td>NaN</td>\n",
              "      <td>NaN</td>\n",
              "      <td>NaN</td>\n",
              "    </tr>\n",
              "    <tr>\n",
              "      <th>std</th>\n",
              "      <td>NaN</td>\n",
              "      <td>NaN</td>\n",
              "      <td>NaN</td>\n",
              "      <td>NaN</td>\n",
              "      <td>NaN</td>\n",
              "      <td>NaN</td>\n",
              "      <td>NaN</td>\n",
              "      <td>NaN</td>\n",
              "    </tr>\n",
              "    <tr>\n",
              "      <th>min</th>\n",
              "      <td>NaN</td>\n",
              "      <td>NaN</td>\n",
              "      <td>NaN</td>\n",
              "      <td>NaN</td>\n",
              "      <td>NaN</td>\n",
              "      <td>NaN</td>\n",
              "      <td>NaN</td>\n",
              "      <td>NaN</td>\n",
              "    </tr>\n",
              "    <tr>\n",
              "      <th>25%</th>\n",
              "      <td>NaN</td>\n",
              "      <td>NaN</td>\n",
              "      <td>NaN</td>\n",
              "      <td>NaN</td>\n",
              "      <td>NaN</td>\n",
              "      <td>NaN</td>\n",
              "      <td>NaN</td>\n",
              "      <td>NaN</td>\n",
              "    </tr>\n",
              "    <tr>\n",
              "      <th>50%</th>\n",
              "      <td>NaN</td>\n",
              "      <td>NaN</td>\n",
              "      <td>NaN</td>\n",
              "      <td>NaN</td>\n",
              "      <td>NaN</td>\n",
              "      <td>NaN</td>\n",
              "      <td>NaN</td>\n",
              "      <td>NaN</td>\n",
              "    </tr>\n",
              "    <tr>\n",
              "      <th>75%</th>\n",
              "      <td>NaN</td>\n",
              "      <td>NaN</td>\n",
              "      <td>NaN</td>\n",
              "      <td>NaN</td>\n",
              "      <td>NaN</td>\n",
              "      <td>NaN</td>\n",
              "      <td>NaN</td>\n",
              "      <td>NaN</td>\n",
              "    </tr>\n",
              "    <tr>\n",
              "      <th>max</th>\n",
              "      <td>NaN</td>\n",
              "      <td>NaN</td>\n",
              "      <td>NaN</td>\n",
              "      <td>NaN</td>\n",
              "      <td>NaN</td>\n",
              "      <td>NaN</td>\n",
              "      <td>NaN</td>\n",
              "      <td>NaN</td>\n",
              "    </tr>\n",
              "  </tbody>\n",
              "</table>\n",
              "</div>"
            ],
            "text/plain": [
              "       Unnamed: 2  Unnamed: 3  Unnamed: 4  ...  Unnamed: 7  Unnamed: 8  Unnamed: 9\n",
              "count         0.0         0.0         0.0  ...         0.0         0.0         0.0\n",
              "mean          NaN         NaN         NaN  ...         NaN         NaN         NaN\n",
              "std           NaN         NaN         NaN  ...         NaN         NaN         NaN\n",
              "min           NaN         NaN         NaN  ...         NaN         NaN         NaN\n",
              "25%           NaN         NaN         NaN  ...         NaN         NaN         NaN\n",
              "50%           NaN         NaN         NaN  ...         NaN         NaN         NaN\n",
              "75%           NaN         NaN         NaN  ...         NaN         NaN         NaN\n",
              "max           NaN         NaN         NaN  ...         NaN         NaN         NaN\n",
              "\n",
              "[8 rows x 8 columns]"
            ]
          },
          "metadata": {},
          "execution_count": 12
        }
      ]
    },
    {
      "cell_type": "code",
      "metadata": {
        "colab": {
          "base_uri": "https://localhost:8080/"
        },
        "id": "yrdUqYjAMtDA",
        "outputId": "9279e2fe-fc2b-46d7-c2ee-f3c97bdfa642"
      },
      "source": [
        "aakash_test.head()"
      ],
      "execution_count": null,
      "outputs": [
        {
          "output_type": "execute_result",
          "data": {
            "text/html": [
              "<div>\n",
              "<style scoped>\n",
              "    .dataframe tbody tr th:only-of-type {\n",
              "        vertical-align: middle;\n",
              "    }\n",
              "\n",
              "    .dataframe tbody tr th {\n",
              "        vertical-align: top;\n",
              "    }\n",
              "\n",
              "    .dataframe thead th {\n",
              "        text-align: right;\n",
              "    }\n",
              "</style>\n",
              "<table border=\"1\" class=\"dataframe\">\n",
              "  <thead>\n",
              "    <tr style=\"text-align: right;\">\n",
              "      <th></th>\n",
              "      <th>_id</th>\n",
              "      <th>text</th>\n",
              "      <th>Unnamed: 2</th>\n",
              "      <th>Unnamed: 3</th>\n",
              "      <th>Unnamed: 4</th>\n",
              "      <th>Unnamed: 5</th>\n",
              "      <th>Unnamed: 6</th>\n",
              "      <th>Unnamed: 7</th>\n",
              "      <th>Unnamed: 8</th>\n",
              "      <th>Unnamed: 9</th>\n",
              "      <th>task_1</th>\n",
              "      <th>task_2</th>\n",
              "    </tr>\n",
              "  </thead>\n",
              "  <tbody>\n",
              "    <tr>\n",
              "      <th>0</th>\n",
              "      <td>60c5d6bf5659ea5e55deffcb</td>\n",
              "      <td>Fewer people coming in for vaccinations. So sa...</td>\n",
              "      <td>NaN</td>\n",
              "      <td>NaN</td>\n",
              "      <td>NaN</td>\n",
              "      <td>NaN</td>\n",
              "      <td>NaN</td>\n",
              "      <td>NaN</td>\n",
              "      <td>NaN</td>\n",
              "      <td>NaN</td>\n",
              "      <td>NOT</td>\n",
              "      <td>NONE</td>\n",
              "    </tr>\n",
              "    <tr>\n",
              "      <th>1</th>\n",
              "      <td>60c5d6bf5659ea5e55df028c</td>\n",
              "      <td>@MattHancock This may all be true. But... What...</td>\n",
              "      <td>NaN</td>\n",
              "      <td>NaN</td>\n",
              "      <td>NaN</td>\n",
              "      <td>NaN</td>\n",
              "      <td>NaN</td>\n",
              "      <td>NaN</td>\n",
              "      <td>NaN</td>\n",
              "      <td>NaN</td>\n",
              "      <td>HOF</td>\n",
              "      <td>PRFN</td>\n",
              "    </tr>\n",
              "    <tr>\n",
              "      <th>2</th>\n",
              "      <td>60c5d6bf5659ea5e55def377</td>\n",
              "      <td>@Layla_EFC I’ve unfollowed him the wanker</td>\n",
              "      <td>NaN</td>\n",
              "      <td>NaN</td>\n",
              "      <td>NaN</td>\n",
              "      <td>NaN</td>\n",
              "      <td>NaN</td>\n",
              "      <td>NaN</td>\n",
              "      <td>NaN</td>\n",
              "      <td>NaN</td>\n",
              "      <td>HOF</td>\n",
              "      <td>OFFN</td>\n",
              "    </tr>\n",
              "    <tr>\n",
              "      <th>3</th>\n",
              "      <td>60c5d6bf5659ea5e55def4c7</td>\n",
              "      <td>You guys are losing it all over the world. The...</td>\n",
              "      <td>NaN</td>\n",
              "      <td>NaN</td>\n",
              "      <td>NaN</td>\n",
              "      <td>NaN</td>\n",
              "      <td>NaN</td>\n",
              "      <td>NaN</td>\n",
              "      <td>NaN</td>\n",
              "      <td>NaN</td>\n",
              "      <td>HOF</td>\n",
              "      <td>OFFN</td>\n",
              "    </tr>\n",
              "    <tr>\n",
              "      <th>4</th>\n",
              "      <td>60c5d6bf5659ea5e55df01a6</td>\n",
              "      <td>And thus death laughs... It is sad merriment, ...</td>\n",
              "      <td>NaN</td>\n",
              "      <td>NaN</td>\n",
              "      <td>NaN</td>\n",
              "      <td>NaN</td>\n",
              "      <td>NaN</td>\n",
              "      <td>NaN</td>\n",
              "      <td>NaN</td>\n",
              "      <td>NaN</td>\n",
              "      <td>NOT</td>\n",
              "      <td>NONE</td>\n",
              "    </tr>\n",
              "  </tbody>\n",
              "</table>\n",
              "</div>"
            ],
            "text/plain": [
              "                        _id  ... task_2\n",
              "0  60c5d6bf5659ea5e55deffcb  ...   NONE\n",
              "1  60c5d6bf5659ea5e55df028c  ...   PRFN\n",
              "2  60c5d6bf5659ea5e55def377  ...   OFFN\n",
              "3  60c5d6bf5659ea5e55def4c7  ...   OFFN\n",
              "4  60c5d6bf5659ea5e55df01a6  ...   NONE\n",
              "\n",
              "[5 rows x 12 columns]"
            ]
          },
          "metadata": {},
          "execution_count": 13
        }
      ]
    },
    {
      "cell_type": "code",
      "metadata": {
        "colab": {
          "base_uri": "https://localhost:8080/"
        },
        "id": "KEVt58vTQ3KQ",
        "outputId": "f8f04ccd-8ff0-4c9c-a2b3-eb85c993116d"
      },
      "source": [
        "test_hasoc = pd.read_csv(\"drive/MyDrive/ICHCL_baseline/Test/en_Hasoc2021_test_task1.csv\")\n",
        "test_hasoc.head()"
      ],
      "execution_count": null,
      "outputs": [
        {
          "output_type": "execute_result",
          "data": {
            "text/html": [
              "<div>\n",
              "<style scoped>\n",
              "    .dataframe tbody tr th:only-of-type {\n",
              "        vertical-align: middle;\n",
              "    }\n",
              "\n",
              "    .dataframe tbody tr th {\n",
              "        vertical-align: top;\n",
              "    }\n",
              "\n",
              "    .dataframe thead th {\n",
              "        text-align: right;\n",
              "    }\n",
              "</style>\n",
              "<table border=\"1\" class=\"dataframe\">\n",
              "  <thead>\n",
              "    <tr style=\"text-align: right;\">\n",
              "      <th></th>\n",
              "      <th>_id</th>\n",
              "      <th>text</th>\n",
              "    </tr>\n",
              "  </thead>\n",
              "  <tbody>\n",
              "    <tr>\n",
              "      <th>0</th>\n",
              "      <td>60c5d6bf5659ea5e55deffcb</td>\n",
              "      <td>Fewer people coming in for vaccinations. So sa...</td>\n",
              "    </tr>\n",
              "    <tr>\n",
              "      <th>1</th>\n",
              "      <td>60c5d6bf5659ea5e55df028c</td>\n",
              "      <td>@MattHancock This may all be true. But... What...</td>\n",
              "    </tr>\n",
              "    <tr>\n",
              "      <th>2</th>\n",
              "      <td>60c5d6bf5659ea5e55def377</td>\n",
              "      <td>@Layla_EFC I’ve unfollowed him the wanker</td>\n",
              "    </tr>\n",
              "    <tr>\n",
              "      <th>3</th>\n",
              "      <td>60c5d6bf5659ea5e55def4c7</td>\n",
              "      <td>You guys are losing it all over the world. The...</td>\n",
              "    </tr>\n",
              "    <tr>\n",
              "      <th>4</th>\n",
              "      <td>60c5d6bf5659ea5e55df01a6</td>\n",
              "      <td>And thus death laughs... It is sad merriment, ...</td>\n",
              "    </tr>\n",
              "  </tbody>\n",
              "</table>\n",
              "</div>"
            ],
            "text/plain": [
              "                        _id                                               text\n",
              "0  60c5d6bf5659ea5e55deffcb  Fewer people coming in for vaccinations. So sa...\n",
              "1  60c5d6bf5659ea5e55df028c  @MattHancock This may all be true. But... What...\n",
              "2  60c5d6bf5659ea5e55def377          @Layla_EFC I’ve unfollowed him the wanker\n",
              "3  60c5d6bf5659ea5e55def4c7  You guys are losing it all over the world. The...\n",
              "4  60c5d6bf5659ea5e55df01a6  And thus death laughs... It is sad merriment, ..."
            ]
          },
          "metadata": {},
          "execution_count": 14
        }
      ]
    },
    {
      "cell_type": "code",
      "metadata": {
        "colab": {
          "base_uri": "https://localhost:8080/"
        },
        "id": "JcL3_A-fcKoB",
        "outputId": "4500f1b8-6384-49cb-ebb3-c82f6ed71495"
      },
      "source": [
        "hasoc_data.describe()"
      ],
      "execution_count": null,
      "outputs": [
        {
          "output_type": "execute_result",
          "data": {
            "text/html": [
              "<div>\n",
              "<style scoped>\n",
              "    .dataframe tbody tr th:only-of-type {\n",
              "        vertical-align: middle;\n",
              "    }\n",
              "\n",
              "    .dataframe tbody tr th {\n",
              "        vertical-align: top;\n",
              "    }\n",
              "\n",
              "    .dataframe thead th {\n",
              "        text-align: right;\n",
              "    }\n",
              "</style>\n",
              "<table border=\"1\" class=\"dataframe\">\n",
              "  <thead>\n",
              "    <tr style=\"text-align: right;\">\n",
              "      <th></th>\n",
              "      <th>Unnamed: 0</th>\n",
              "    </tr>\n",
              "  </thead>\n",
              "  <tbody>\n",
              "    <tr>\n",
              "      <th>count</th>\n",
              "      <td>3843.000000</td>\n",
              "    </tr>\n",
              "    <tr>\n",
              "      <th>mean</th>\n",
              "      <td>2558.799375</td>\n",
              "    </tr>\n",
              "    <tr>\n",
              "      <th>std</th>\n",
              "      <td>1477.088070</td>\n",
              "    </tr>\n",
              "    <tr>\n",
              "      <th>min</th>\n",
              "      <td>1.000000</td>\n",
              "    </tr>\n",
              "    <tr>\n",
              "      <th>25%</th>\n",
              "      <td>1276.500000</td>\n",
              "    </tr>\n",
              "    <tr>\n",
              "      <th>50%</th>\n",
              "      <td>2574.000000</td>\n",
              "    </tr>\n",
              "    <tr>\n",
              "      <th>75%</th>\n",
              "      <td>3828.000000</td>\n",
              "    </tr>\n",
              "    <tr>\n",
              "      <th>max</th>\n",
              "      <td>5121.000000</td>\n",
              "    </tr>\n",
              "  </tbody>\n",
              "</table>\n",
              "</div>"
            ],
            "text/plain": [
              "        Unnamed: 0\n",
              "count  3843.000000\n",
              "mean   2558.799375\n",
              "std    1477.088070\n",
              "min       1.000000\n",
              "25%    1276.500000\n",
              "50%    2574.000000\n",
              "75%    3828.000000\n",
              "max    5121.000000"
            ]
          },
          "metadata": {},
          "execution_count": 15
        }
      ]
    },
    {
      "cell_type": "code",
      "metadata": {
        "id": "wqQdg_uzdZR4"
      },
      "source": [
        "tweets = hasoc_data.text\n",
        "y_task1 = hasoc_data.task_1\n",
        "y_task2 = hasoc_data.task_2"
      ],
      "execution_count": null,
      "outputs": []
    },
    {
      "cell_type": "markdown",
      "metadata": {
        "id": "ya3vFPNIe9WR"
      },
      "source": [
        "# Basic Preprocessing of Tweets\n"
      ]
    },
    {
      "cell_type": "code",
      "metadata": {
        "id": "FElfxXcCfCKH"
      },
      "source": [
        "def decontract(text):\n",
        "    text = re.sub(r\"won\\'t\", \"will not\", text)\n",
        "    text = re.sub(r\"can\\'t\", \"can not\", text)\n",
        "    text = re.sub(r\"n\\'t\", \" not\", text)\n",
        "    text = re.sub(r\"\\'re\", \" are\", text)\n",
        "    text = re.sub(r\"\\'s\", \" is\", text)\n",
        "    text = re.sub(r\"\\'d\", \" would\", text)\n",
        "    text = re.sub(r\"\\'ll\", \" will\", text)\n",
        "    text = re.sub(r\"\\'t\", \" not\", text)\n",
        "    text = re.sub(r\"\\'ve\", \" have\", text)\n",
        "    text = re.sub(r\"\\'m\", \" am\", text)\n",
        "    return text"
      ],
      "execution_count": null,
      "outputs": []
    },
    {
      "cell_type": "code",
      "metadata": {
        "id": "o0Kp1SU_fKl7"
      },
      "source": [
        "lemmatizer = WordNetLemmatizer()"
      ],
      "execution_count": null,
      "outputs": []
    },
    {
      "cell_type": "code",
      "metadata": {
        "id": "yYfVULZZiA2c"
      },
      "source": [
        "stop_words= set(['br', 'the', 'i', 'me', 'my', 'myself', 'we', 'our', 'ours', 'ourselves', 'you', \"you're\", \"you've\",\\\n",
        "            \"you'll\", \"you'd\", 'your', 'yours', 'yourself', 'yourselves', 'he', 'him', 'his', 'himself', \\\n",
        "            'she', \"she's\", 'her', 'hers', 'herself', 'it', \"it's\", 'its', 'itself', 'they', 'them', 'their',\\\n",
        "            'theirs', 'themselves', 'what', 'which', 'who', 'whom', 'this', 'that', \"that'll\", 'these', 'those', \\\n",
        "            'am', 'is', 'are', 'was', 'were', 'be', 'been', 'being', 'have', 'has', 'had', 'having', 'do', 'does', \\\n",
        "            'did', 'doing', 'a', 'an', 'the', 'and', 'but', 'if', 'or', 'because', 'as', 'until', 'while', 'of', \\\n",
        "            'at', 'by', 'for', 'with', 'about', 'against', 'between', 'into', 'through', 'during', 'before', 'after',\\\n",
        "            'above', 'below', 'to', 'from', 'up', 'down', 'in', 'out', 'on', 'off', 'over', 'under', 'again', 'further',\\\n",
        "            'then', 'once', 'here', 'there', 'when', 'where', 'why', 'how', 'all', 'any', 'both', 'each', 'few', 'more',\\\n",
        "            'most', 'other', 'some', 'such', 'only', 'own', 'same', 'so', 'than', 'too', 'very', \\\n",
        "            's', 't', 'can', 'will', 'just', 'don', \"don't\", 'should', \"should've\", 'now', 'd', 'll', 'm', 'o', 're', \\\n",
        "            've', 'y', 'ain', 'aren', \"aren't\", 'couldn', \"couldn't\", 'didn', \"didn't\", 'doesn', \"doesn't\", 'hadn',\\\n",
        "            \"hadn't\", 'hasn', \"hasn't\", 'haven', \"haven't\", 'isn', \"isn't\", 'ma', 'mightn', \"mightn't\", 'mustn',\\\n",
        "            \"mustn't\", 'needn', \"needn't\", 'shan', \"shan't\", 'shouldn', \"shouldn't\", 'wasn', \"wasn't\", 'weren', \"weren't\", \\\n",
        "            'won', \"won't\", 'wouldn', \"wouldn't\"])"
      ],
      "execution_count": null,
      "outputs": []
    },
    {
      "cell_type": "code",
      "metadata": {
        "id": "k74l6ux0T6Ag"
      },
      "source": [
        "def preprocess_text(text):\n",
        "    text = re.sub(r\"http\\S+\", \"\", text)             # removing website links\n",
        "    text = BeautifulSoup(text, 'lxml').get_text()   # removing html tags\n",
        "    text = decontract(text)                         # decontracting\n",
        "    text = re.sub(\"\\S*\\d\\S*\", \"\", text).strip()     # removing the words with numeric digits\n",
        "    text = re.sub('[^A-Za-z]+', ' ', text)          # removing non-word characters\n",
        "    text = text.lower()                             # converting to lower case\n",
        "    text = [word for word in text.split(\" \") if not word in stop_words] # removing stop words\n",
        "    text = [lemmatizer.lemmatize(token, \"v\") for token in text] #Lemmatization\n",
        "    text = \" \".join(text)\n",
        "    text.strip()\n",
        "    return text\n",
        "\n",
        "def convert_task(text):\n",
        "    if text == \"HOF\":\n",
        "      return 1\n",
        "    return 0"
      ],
      "execution_count": null,
      "outputs": []
    },
    {
      "cell_type": "code",
      "metadata": {
        "id": "nS_uUYT0W44M"
      },
      "source": [
        "hasoc_data[\"text\"] = hasoc_data[\"text\"].apply(lambda x: preprocess_text(x))\n",
        "hasoc_data[\"task_1\"] = hasoc_data[\"task_1\"].apply(lambda x: convert_task(x))\n",
        "aakash_test[\"text\"] = aakash_test[\"text\"].apply(lambda x: preprocess_text(x))\n",
        "aakash_test[\"task_1\"] = aakash_test[\"task_1\"].apply(lambda x: convert_task(x))\n",
        "test_hasoc[\"text\"] = test_hasoc[\"text\"].apply(lambda x: preprocess_text(x))\n"
      ],
      "execution_count": null,
      "outputs": []
    },
    {
      "cell_type": "code",
      "metadata": {
        "colab": {
          "base_uri": "https://localhost:8080/"
        },
        "id": "pzlKAoAoUvhu",
        "outputId": "7f2c09ea-7dfa-4d99-95a4-b16343ca5867"
      },
      "source": [
        "hasoc_data[\"text\"].head()"
      ],
      "execution_count": null,
      "outputs": [
        {
          "output_type": "execute_result",
          "data": {
            "text/plain": [
              "0     wealth make not able start make money sustain...\n",
              "1          technically still turn back clock dick head\n",
              "2     vmbjp narendramodi jpnadda amitshah dilipghos...\n",
              "3               krtoprak yigit soldier japan dick head\n",
              "4     blueheartedly would better ask think sleazy s...\n",
              "Name: text, dtype: object"
            ]
          },
          "metadata": {},
          "execution_count": 22
        }
      ]
    },
    {
      "cell_type": "code",
      "metadata": {
        "colab": {
          "base_uri": "https://localhost:8080/"
        },
        "id": "qAmaz477SCPQ",
        "outputId": "56b921a2-e84c-45f5-9a8c-b4e238a34170"
      },
      "source": [
        "test_hasoc[\"text\"].head()"
      ],
      "execution_count": null,
      "outputs": [
        {
          "output_type": "execute_result",
          "data": {
            "text/plain": [
              "0    fewer people come vaccinations sad nurse covid...\n",
              "1                   matthancock may true piss big dom \n",
              "2                          layla efc unfollowed wanker\n",
              "3               guy lose world jung label islamophobia\n",
              "4    thus death laugh sad merriment still covid ind...\n",
              "Name: text, dtype: object"
            ]
          },
          "metadata": {},
          "execution_count": 23
        }
      ]
    },
    {
      "cell_type": "code",
      "metadata": {
        "colab": {
          "base_uri": "https://localhost:8080/"
        },
        "id": "17FCqS1UXSlX",
        "outputId": "c1a6d13f-b9a2-4c12-e169-a9fe0c4c8f41"
      },
      "source": [
        "hasoc_data[\"task_1\"].head()"
      ],
      "execution_count": null,
      "outputs": [
        {
          "output_type": "execute_result",
          "data": {
            "text/plain": [
              "0    1\n",
              "1    1\n",
              "2    0\n",
              "3    1\n",
              "4    1\n",
              "Name: task_1, dtype: int64"
            ]
          },
          "metadata": {},
          "execution_count": 24
        }
      ]
    },
    {
      "cell_type": "code",
      "metadata": {
        "colab": {
          "base_uri": "https://localhost:8080/"
        },
        "id": "Ct0T9LkSXd-V",
        "outputId": "8e7228a9-0dab-41ab-dc3a-9dfc19b72ecf"
      },
      "source": [
        "hasoc_data[\"task_1\"].value_counts()"
      ],
      "execution_count": null,
      "outputs": [
        {
          "output_type": "execute_result",
          "data": {
            "text/plain": [
              "1    2501\n",
              "0    1342\n",
              "Name: task_1, dtype: int64"
            ]
          },
          "metadata": {},
          "execution_count": 25
        }
      ]
    },
    {
      "cell_type": "code",
      "metadata": {
        "id": "D6OJhHoTYD5z"
      },
      "source": [
        "hasoc_data.drop([\"Unnamed: 0\",\"_id\",\"task_2\"],inplace=True,axis=1)"
      ],
      "execution_count": null,
      "outputs": []
    },
    {
      "cell_type": "code",
      "metadata": {
        "colab": {
          "base_uri": "https://localhost:8080/",
          "height": 204
        },
        "id": "KX_uW4lHYlpt",
        "outputId": "a94066a5-f5d3-4056-eb0b-0b4a98cc869f"
      },
      "source": [
        "hasoc_data.head()"
      ],
      "execution_count": null,
      "outputs": [
        {
          "output_type": "execute_result",
          "data": {
            "text/html": [
              "<div>\n",
              "<style scoped>\n",
              "    .dataframe tbody tr th:only-of-type {\n",
              "        vertical-align: middle;\n",
              "    }\n",
              "\n",
              "    .dataframe tbody tr th {\n",
              "        vertical-align: top;\n",
              "    }\n",
              "\n",
              "    .dataframe thead th {\n",
              "        text-align: right;\n",
              "    }\n",
              "</style>\n",
              "<table border=\"1\" class=\"dataframe\">\n",
              "  <thead>\n",
              "    <tr style=\"text-align: right;\">\n",
              "      <th></th>\n",
              "      <th>text</th>\n",
              "      <th>task_1</th>\n",
              "    </tr>\n",
              "  </thead>\n",
              "  <tbody>\n",
              "    <tr>\n",
              "      <th>0</th>\n",
              "      <td>wealth make not able start make money sustain...</td>\n",
              "      <td>1</td>\n",
              "    </tr>\n",
              "    <tr>\n",
              "      <th>1</th>\n",
              "      <td>technically still turn back clock dick head</td>\n",
              "      <td>1</td>\n",
              "    </tr>\n",
              "    <tr>\n",
              "      <th>2</th>\n",
              "      <td>vmbjp narendramodi jpnadda amitshah dilipghos...</td>\n",
              "      <td>0</td>\n",
              "    </tr>\n",
              "    <tr>\n",
              "      <th>3</th>\n",
              "      <td>krtoprak yigit soldier japan dick head</td>\n",
              "      <td>1</td>\n",
              "    </tr>\n",
              "    <tr>\n",
              "      <th>4</th>\n",
              "      <td>blueheartedly would better ask think sleazy s...</td>\n",
              "      <td>1</td>\n",
              "    </tr>\n",
              "  </tbody>\n",
              "</table>\n",
              "</div>"
            ],
            "text/plain": [
              "                                                text  task_1\n",
              "0   wealth make not able start make money sustain...       1\n",
              "1        technically still turn back clock dick head       1\n",
              "2   vmbjp narendramodi jpnadda amitshah dilipghos...       0\n",
              "3             krtoprak yigit soldier japan dick head       1\n",
              "4   blueheartedly would better ask think sleazy s...       1"
            ]
          },
          "metadata": {},
          "execution_count": 27
        }
      ]
    },
    {
      "cell_type": "code",
      "metadata": {
        "colab": {
          "base_uri": "https://localhost:8080/"
        },
        "id": "20LCyDWVU_2w",
        "outputId": "454efd85-2f04-4d93-8c6b-d776e2f09ed6"
      },
      "source": [
        "train_df = hasoc_data\n",
        "test_df = aakash_test\n",
        "\n",
        "print(\"Training data size : \", train_df.shape)\n",
        "print(\"Test data size : \", test_df.shape)\n",
        "print(\"Test size of hasoc submission\",test_hasoc.shape)"
      ],
      "execution_count": null,
      "outputs": [
        {
          "output_type": "stream",
          "name": "stdout",
          "text": [
            "Training data size :  (3843, 2)\n",
            "Test data size :  (300, 12)\n",
            "Test size of hasoc submission (1281, 2)\n"
          ]
        }
      ]
    },
    {
      "cell_type": "code",
      "metadata": {
        "colab": {
          "base_uri": "https://localhost:8080/"
        },
        "id": "PHjcjKGycZYd",
        "outputId": "622b11c4-2d2e-41da-b819-db40bced033f"
      },
      "source": [
        "train_df[\"task_1\"].value_counts()\n"
      ],
      "execution_count": null,
      "outputs": [
        {
          "output_type": "execute_result",
          "data": {
            "text/plain": [
              "1    2501\n",
              "0    1342\n",
              "Name: task_1, dtype: int64"
            ]
          },
          "metadata": {},
          "execution_count": 29
        }
      ]
    },
    {
      "cell_type": "markdown",
      "metadata": {
        "id": "gFI0BDgGTvCD"
      },
      "source": [
        "##Vectorization"
      ]
    },
    {
      "cell_type": "code",
      "metadata": {
        "id": "0IG6H6LfFsqY"
      },
      "source": [
        "from sklearn.feature_extraction.text import CountVectorizer\n",
        "\n",
        "cv = CountVectorizer(binary=True, stop_words='english')\n",
        "X = cv.fit_transform(train_df.text)\n",
        "y_train = train_df.task_1\n",
        "X_test = cv.transform(test_df.text)\n",
        "X_test_submission = cv.transform(test_hasoc.text)\n",
        "y_test = test_df.task_1"
      ],
      "execution_count": null,
      "outputs": []
    },
    {
      "cell_type": "code",
      "metadata": {
        "id": "qPTeLBCCyq47",
        "colab": {
          "base_uri": "https://localhost:8080/"
        },
        "outputId": "2a8d7af3-d1bf-4264-d012-9b2ef9ed79cd"
      },
      "source": [
        "from sklearn.feature_extraction.text import TfidfTransformer\n",
        "\n",
        "tfidf = TfidfTransformer()\n",
        "X = tfidf.fit_transform(X)\n",
        "print(X.shape)\n",
        "X_test = tfidf.transform(X_test)\n",
        "X_test_submission = tfidf.transform(X_test_submission)"
      ],
      "execution_count": null,
      "outputs": [
        {
          "output_type": "stream",
          "name": "stdout",
          "text": [
            "(3843, 10487)\n"
          ]
        }
      ]
    },
    {
      "cell_type": "markdown",
      "metadata": {
        "id": "m6354yD0T6C5"
      },
      "source": [
        "#Random Forest Model"
      ]
    },
    {
      "cell_type": "code",
      "metadata": {
        "id": "AGQOly22L23W"
      },
      "source": [
        "from sklearn.ensemble import RandomForestClassifier\n",
        "\n",
        "rf = RandomForestClassifier(n_estimators=2000)\n",
        "# rf.fit(X, y_train)\n",
        "# y_pred = rf.predict(X_test)\n",
        "# y_submission = rf.predict(X_test_submission)\n",
        "# print (\"Accuracy: %s\" \n",
        "#        % accuracy_score(y_test,y_pred))"
      ],
      "execution_count": null,
      "outputs": []
    },
    {
      "cell_type": "code",
      "metadata": {
        "id": "8bt3QA8xixyX"
      },
      "source": [
        "# print(\"Accuracy of the model : \", accuracy_score(y_pred, y_test))\n",
        "# print('F1-score: ', f1_score(y_pred, y_test))\n",
        "# print('Confusion matrix:')\n",
        "# confusion_matrix(y_test,y_pred)"
      ],
      "execution_count": null,
      "outputs": []
    },
    {
      "cell_type": "code",
      "metadata": {
        "id": "WRjdexyjPyCJ"
      },
      "source": [
        "# print(classification_report(y_test, y_pred))"
      ],
      "execution_count": null,
      "outputs": []
    },
    {
      "cell_type": "markdown",
      "metadata": {
        "id": "yYSXs7D3Wu89"
      },
      "source": [
        "# Logistic Regression Model"
      ]
    },
    {
      "cell_type": "code",
      "metadata": {
        "id": "mH3AOQQtiaIP"
      },
      "source": [
        "# X_train, X_val, y_train, y_val = train_test_split(X, y_task1, test_size=0.3, random_state=42)\n",
        "X_train = X\n",
        "X_val = X_test\n",
        "y_train = hasoc_data[\"task_1\"]\n"
      ],
      "execution_count": null,
      "outputs": []
    },
    {
      "cell_type": "code",
      "metadata": {
        "id": "8kB1-C5x8L1y"
      },
      "source": [
        "classifier = LogisticRegression()\n",
        "# classifier.fit(X_train, y_train)"
      ],
      "execution_count": null,
      "outputs": []
    },
    {
      "cell_type": "code",
      "metadata": {
        "id": "bnBJi1ThjRrm"
      },
      "source": [
        "# y_pred = classifier.predict(X_val)"
      ],
      "execution_count": null,
      "outputs": []
    },
    {
      "cell_type": "code",
      "metadata": {
        "id": "U3WlHpDr9B7S"
      },
      "source": [
        "# print(\"Accuracy of the model : \", accuracy_score(y_pred, y_test))\n",
        "# print('F1-score: ', f1_score(y_pred, y_test))\n",
        "# print('Confusion matrix:')\n",
        "# confusion_matrix(y_test,y_pred)"
      ],
      "execution_count": null,
      "outputs": []
    },
    {
      "cell_type": "code",
      "metadata": {
        "id": "iw6gCDC3fykD"
      },
      "source": [
        "# print(classification_report(y_test, y_pred))"
      ],
      "execution_count": null,
      "outputs": []
    },
    {
      "cell_type": "markdown",
      "metadata": {
        "id": "6rulbcVMOYFp"
      },
      "source": [
        "#SVM model\n"
      ]
    },
    {
      "cell_type": "code",
      "metadata": {
        "colab": {
          "base_uri": "https://localhost:8080/"
        },
        "id": "cv4_pEIUOaJ9",
        "outputId": "c515f70f-d02e-42cd-8647-586b04f22ca0"
      },
      "source": [
        "SVM = SVC(kernel='rbf',probability=True)\n",
        "SVM.fit(X_train,y_train)"
      ],
      "execution_count": null,
      "outputs": [
        {
          "output_type": "execute_result",
          "data": {
            "text/plain": [
              "SVC(C=1.0, break_ties=False, cache_size=200, class_weight=None, coef0=0.0,\n",
              "    decision_function_shape='ovr', degree=3, gamma='scale', kernel='rbf',\n",
              "    max_iter=-1, probability=True, random_state=None, shrinking=True, tol=0.001,\n",
              "    verbose=False)"
            ]
          },
          "metadata": {},
          "execution_count": 53
        }
      ]
    },
    {
      "cell_type": "code",
      "metadata": {
        "id": "q7Icw4gBOlx_"
      },
      "source": [
        "svm_pred = SVM.predict(X_test)"
      ],
      "execution_count": null,
      "outputs": []
    },
    {
      "cell_type": "code",
      "metadata": {
        "colab": {
          "base_uri": "https://localhost:8080/"
        },
        "id": "OP7zN9uWOzO4",
        "outputId": "29ca247e-d41e-4536-c526-b60e33f58c34"
      },
      "source": [
        "print(\"Accuracy of the model : \", accuracy_score(svm_pred, y_test))\n",
        "print('F1-score: ', f1_score(svm_pred, y_test))\n",
        "print('Confusion matrix:')\n",
        "confusion_matrix(svm_pred,y_test)"
      ],
      "execution_count": null,
      "outputs": [
        {
          "output_type": "stream",
          "text": [
            "Accuracy of the model :  0.81\n",
            "F1-score:  0.87527352297593\n",
            "Confusion matrix:\n"
          ],
          "name": "stdout"
        },
        {
          "output_type": "execute_result",
          "data": {
            "text/plain": [
              "array([[ 43,  30],\n",
              "       [ 27, 200]])"
            ]
          },
          "metadata": {},
          "execution_count": 56
        }
      ]
    },
    {
      "cell_type": "code",
      "metadata": {
        "colab": {
          "base_uri": "https://localhost:8080/"
        },
        "id": "msEVJS84O4X3",
        "outputId": "aca8d8c4-0237-4cdc-a769-b3f2e48e40d6"
      },
      "source": [
        "print(classification_report(y_test, svm_pred))"
      ],
      "execution_count": null,
      "outputs": [
        {
          "output_type": "stream",
          "text": [
            "              precision    recall  f1-score   support\n",
            "\n",
            "           0       0.59      0.61      0.60        70\n",
            "           1       0.88      0.87      0.88       230\n",
            "\n",
            "    accuracy                           0.81       300\n",
            "   macro avg       0.74      0.74      0.74       300\n",
            "weighted avg       0.81      0.81      0.81       300\n",
            "\n"
          ],
          "name": "stdout"
        }
      ]
    },
    {
      "cell_type": "markdown",
      "metadata": {
        "id": "tR8CUmL2-io8"
      },
      "source": [
        "#Ensemble Model"
      ]
    },
    {
      "cell_type": "code",
      "metadata": {
        "id": "frKJxxxP-nJD"
      },
      "source": [
        "import numpy as np\n",
        "from sklearn.linear_model import LogisticRegression\n",
        "from sklearn.naive_bayes import GaussianNB\n",
        "from sklearn.ensemble import VotingClassifier\n",
        "clf3 = GaussianNB()"
      ],
      "execution_count": null,
      "outputs": []
    },
    {
      "cell_type": "markdown",
      "metadata": {
        "id": "fx7e7EO6HkS6"
      },
      "source": [
        "Ensemble 1"
      ]
    },
    {
      "cell_type": "code",
      "metadata": {
        "id": "200VqJ11HK2q"
      },
      "source": [
        "eclf1 = VotingClassifier(estimators=[\n",
        "         ('lr', classifier), ('rf', rf), ('svm',SVM)], voting='hard',weights=[1,1,3],\n",
        "        flatten_transform=True)\n",
        "eclf1.fit(X, y_train)\n",
        "\n",
        "ens_pred1 = eclf1.predict(X_test)"
      ],
      "execution_count": null,
      "outputs": []
    },
    {
      "cell_type": "code",
      "metadata": {
        "colab": {
          "base_uri": "https://localhost:8080/"
        },
        "id": "aM_vKhvsEGPr",
        "outputId": "19ba74fb-ff72-4e08-cacb-dc744191f28c"
      },
      "source": [
        "print(\"Accuracy of the model : \", accuracy_score(ens_pred1, y_test))\n",
        "print('F1-score: ', f1_score(ens_pred1, y_test))\n",
        "print('Confusion matrix:')\n",
        "confusion_matrix(y_test,ens_pred1)"
      ],
      "execution_count": null,
      "outputs": [
        {
          "output_type": "stream",
          "text": [
            "Accuracy of the model :  0.81\n",
            "F1-score:  0.87527352297593\n",
            "Confusion matrix:\n"
          ],
          "name": "stdout"
        },
        {
          "output_type": "execute_result",
          "data": {
            "text/plain": [
              "array([[ 43,  27],\n",
              "       [ 30, 200]])"
            ]
          },
          "metadata": {},
          "execution_count": 39
        }
      ]
    },
    {
      "cell_type": "code",
      "metadata": {
        "colab": {
          "base_uri": "https://localhost:8080/"
        },
        "id": "YxR0aXVIEalI",
        "outputId": "86e9cfa5-5366-47d5-83ed-392c789f26a7"
      },
      "source": [
        "print(classification_report(y_test, ens_pred1))"
      ],
      "execution_count": null,
      "outputs": [
        {
          "output_type": "stream",
          "text": [
            "              precision    recall  f1-score   support\n",
            "\n",
            "           0       0.59      0.61      0.60        70\n",
            "           1       0.88      0.87      0.88       230\n",
            "\n",
            "    accuracy                           0.81       300\n",
            "   macro avg       0.74      0.74      0.74       300\n",
            "weighted avg       0.81      0.81      0.81       300\n",
            "\n"
          ],
          "name": "stdout"
        }
      ]
    },
    {
      "cell_type": "markdown",
      "metadata": {
        "id": "cSk55qEkHo4Z"
      },
      "source": [
        "Ensemble 2"
      ]
    },
    {
      "cell_type": "code",
      "metadata": {
        "id": "MQNitRP2HZ62"
      },
      "source": [
        "eclf2 = VotingClassifier(estimators=[\n",
        "         ('lr', classifier), ('rf', rf), ('svm',SVM)],\n",
        "         voting='soft')\n",
        "\n",
        "eclf2.fit(X, y_train)\n",
        "\n",
        "ens_pred2 = eclf2.predict(X_test)"
      ],
      "execution_count": null,
      "outputs": []
    },
    {
      "cell_type": "code",
      "metadata": {
        "colab": {
          "base_uri": "https://localhost:8080/"
        },
        "id": "E4aJ2UHrE97A",
        "outputId": "5abccb35-7753-43bd-c9df-0723fa72ff80"
      },
      "source": [
        "print(\"Accuracy of the model : \", accuracy_score(ens_pred2, y_test))\n",
        "print('F1-score: ', f1_score(ens_pred2, y_test))\n",
        "print('Confusion matrix:')\n",
        "confusion_matrix(y_test,ens_pred2)"
      ],
      "execution_count": null,
      "outputs": [
        {
          "output_type": "stream",
          "text": [
            "Accuracy of the model :  0.7933333333333333\n",
            "F1-score:  0.8603603603603603\n",
            "Confusion matrix:\n"
          ],
          "name": "stdout"
        },
        {
          "output_type": "execute_result",
          "data": {
            "text/plain": [
              "array([[ 47,  23],\n",
              "       [ 39, 191]])"
            ]
          },
          "metadata": {},
          "execution_count": 42
        }
      ]
    },
    {
      "cell_type": "code",
      "metadata": {
        "colab": {
          "base_uri": "https://localhost:8080/"
        },
        "id": "scWDydseE_CP",
        "outputId": "2756964b-186f-47e6-8b5e-19a4977dff79"
      },
      "source": [
        "print(classification_report(y_test, ens_pred2))"
      ],
      "execution_count": null,
      "outputs": [
        {
          "output_type": "stream",
          "text": [
            "              precision    recall  f1-score   support\n",
            "\n",
            "           0       0.55      0.67      0.60        70\n",
            "           1       0.89      0.83      0.86       230\n",
            "\n",
            "    accuracy                           0.79       300\n",
            "   macro avg       0.72      0.75      0.73       300\n",
            "weighted avg       0.81      0.79      0.80       300\n",
            "\n"
          ],
          "name": "stdout"
        }
      ]
    },
    {
      "cell_type": "markdown",
      "metadata": {
        "id": "iTPB1D8PHteC"
      },
      "source": [
        "Ensemble 3"
      ]
    },
    {
      "cell_type": "code",
      "metadata": {
        "id": "tPILGzK5Hfkb"
      },
      "source": [
        "eclf3 = VotingClassifier(estimators=[\n",
        "       ('lr', classifier), ('rf', rf), ('svm',SVM)],\n",
        "        voting='soft', weights=[2,1,1],\n",
        "        flatten_transform=True)\n",
        "eclf3.fit(X, y_train)\n",
        "\n",
        "ens_pred3 = eclf3.predict(X_test)"
      ],
      "execution_count": null,
      "outputs": []
    },
    {
      "cell_type": "code",
      "metadata": {
        "colab": {
          "base_uri": "https://localhost:8080/"
        },
        "id": "iLj9zVxPEnjs",
        "outputId": "ee7e7f80-3e85-496a-e1ed-d637dae19b9d"
      },
      "source": [
        "print(\"Accuracy of the model : \", accuracy_score(ens_pred3, y_test))\n",
        "print('F1-score: ', f1_score(ens_pred3, y_test))\n",
        "print('Confusion matrix:')\n",
        "confusion_matrix(y_test,ens_pred3)"
      ],
      "execution_count": null,
      "outputs": [
        {
          "output_type": "stream",
          "text": [
            "Accuracy of the model :  0.79\n",
            "F1-score:  0.8584269662921348\n",
            "Confusion matrix:\n"
          ],
          "name": "stdout"
        },
        {
          "output_type": "execute_result",
          "data": {
            "text/plain": [
              "array([[ 46,  24],\n",
              "       [ 39, 191]])"
            ]
          },
          "metadata": {},
          "execution_count": 45
        }
      ]
    },
    {
      "cell_type": "code",
      "metadata": {
        "colab": {
          "base_uri": "https://localhost:8080/"
        },
        "id": "xm5gIXDXEvIA",
        "outputId": "db6ddc23-f2e1-404d-bd56-16213e6fe0fb"
      },
      "source": [
        "print(classification_report(y_test, ens_pred3))"
      ],
      "execution_count": null,
      "outputs": [
        {
          "output_type": "stream",
          "text": [
            "              precision    recall  f1-score   support\n",
            "\n",
            "           0       0.54      0.66      0.59        70\n",
            "           1       0.89      0.83      0.86       230\n",
            "\n",
            "    accuracy                           0.79       300\n",
            "   macro avg       0.71      0.74      0.73       300\n",
            "weighted avg       0.81      0.79      0.80       300\n",
            "\n"
          ],
          "name": "stdout"
        }
      ]
    },
    {
      "cell_type": "markdown",
      "metadata": {
        "id": "khw-uXwRJyTx"
      },
      "source": [
        "Ensemble 4"
      ]
    },
    {
      "cell_type": "code",
      "metadata": {
        "id": "hPaUVu_HJ5l1"
      },
      "source": [
        "eclf4 = VotingClassifier(estimators=[\n",
        "       ('lr', classifier), ('rf', rf),('svm',SVM)],\n",
        "        voting='soft', weights=[1,2,1],\n",
        "        flatten_transform=True)\n",
        "eclf4.fit(X, y_train)\n",
        "\n",
        "ens_pred4 = eclf4.predict(X_test)"
      ],
      "execution_count": null,
      "outputs": []
    },
    {
      "cell_type": "code",
      "metadata": {
        "colab": {
          "base_uri": "https://localhost:8080/"
        },
        "id": "BYtGdg3jJ54B",
        "outputId": "85ed71cc-a580-4727-ed0a-f59cb223a1c4"
      },
      "source": [
        "print(\"Accuracy of the model : \", accuracy_score(ens_pred4, y_test))\n",
        "print('F1-score: ', f1_score(ens_pred4, y_test))\n",
        "print('Confusion matrix:')\n",
        "confusion_matrix(y_test,ens_pred4)"
      ],
      "execution_count": null,
      "outputs": [
        {
          "output_type": "stream",
          "text": [
            "Accuracy of the model :  0.7966666666666666\n",
            "F1-score:  0.8629213483146067\n",
            "Confusion matrix:\n"
          ],
          "name": "stdout"
        },
        {
          "output_type": "execute_result",
          "data": {
            "text/plain": [
              "array([[ 47,  23],\n",
              "       [ 38, 192]])"
            ]
          },
          "metadata": {},
          "execution_count": 48
        }
      ]
    },
    {
      "cell_type": "code",
      "metadata": {
        "colab": {
          "base_uri": "https://localhost:8080/"
        },
        "id": "up46tm13J6Cw",
        "outputId": "a93f772b-7c9d-47a7-ab53-fbc15cfcf507"
      },
      "source": [
        "print(classification_report(y_test, ens_pred4))"
      ],
      "execution_count": null,
      "outputs": [
        {
          "output_type": "stream",
          "text": [
            "              precision    recall  f1-score   support\n",
            "\n",
            "           0       0.55      0.67      0.61        70\n",
            "           1       0.89      0.83      0.86       230\n",
            "\n",
            "    accuracy                           0.80       300\n",
            "   macro avg       0.72      0.75      0.73       300\n",
            "weighted avg       0.81      0.80      0.80       300\n",
            "\n"
          ],
          "name": "stdout"
        }
      ]
    },
    {
      "cell_type": "markdown",
      "metadata": {
        "id": "rFxmser_PQoK"
      },
      "source": [
        "Ensemble 5"
      ]
    },
    {
      "cell_type": "code",
      "metadata": {
        "id": "IooPeMt4PU6M"
      },
      "source": [
        "eclf5 = VotingClassifier(estimators=[\n",
        "       ('lr', classifier), ('rf', rf),('svm',SVM)],\n",
        "        voting='soft', weights=[1,1,2],\n",
        "        flatten_transform=True)\n",
        "eclf5.fit(X, y_train)\n",
        "\n",
        "ens_pred5 = eclf5.predict(X_test)"
      ],
      "execution_count": null,
      "outputs": []
    },
    {
      "cell_type": "code",
      "metadata": {
        "colab": {
          "base_uri": "https://localhost:8080/"
        },
        "id": "eZDP4Sr2PU6M",
        "outputId": "d7517703-5525-43e1-b7e6-d74b553ca1d6"
      },
      "source": [
        "print(\"Accuracy of the model : \", accuracy_score(ens_pred5, y_test))\n",
        "print('F1-score: ', f1_score(ens_pred5, y_test))\n",
        "print('Confusion matrix:')\n",
        "confusion_matrix(y_test,ens_pred5)"
      ],
      "execution_count": null,
      "outputs": [
        {
          "output_type": "stream",
          "text": [
            "Accuracy of the model :  0.79\n",
            "F1-score:  0.8577878103837472\n",
            "Confusion matrix:\n"
          ],
          "name": "stdout"
        },
        {
          "output_type": "execute_result",
          "data": {
            "text/plain": [
              "array([[ 47,  23],\n",
              "       [ 40, 190]])"
            ]
          },
          "metadata": {},
          "execution_count": 51
        }
      ]
    },
    {
      "cell_type": "code",
      "metadata": {
        "colab": {
          "base_uri": "https://localhost:8080/"
        },
        "id": "c6iZGqItPU6N",
        "outputId": "867e3d63-639f-4396-bd39-d115d3813889"
      },
      "source": [
        "print(classification_report(y_test, ens_pred5))"
      ],
      "execution_count": null,
      "outputs": [
        {
          "output_type": "stream",
          "text": [
            "              precision    recall  f1-score   support\n",
            "\n",
            "           0       0.54      0.67      0.60        70\n",
            "           1       0.89      0.83      0.86       230\n",
            "\n",
            "    accuracy                           0.79       300\n",
            "   macro avg       0.72      0.75      0.73       300\n",
            "weighted avg       0.81      0.79      0.80       300\n",
            "\n"
          ],
          "name": "stdout"
        }
      ]
    }
  ]
}
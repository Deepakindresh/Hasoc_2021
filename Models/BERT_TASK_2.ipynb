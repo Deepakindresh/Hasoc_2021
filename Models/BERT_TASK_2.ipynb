{
  "nbformat": 4,
  "nbformat_minor": 0,
  "metadata": {
    "colab": {
      "name": "BERT_TASK_2.ipynb",
      "provenance": [],
      "collapsed_sections": []
    },
    "kernelspec": {
      "name": "python3",
      "display_name": "Python 3"
    },
    "language_info": {
      "name": "python"
    },
    "accelerator": "GPU"
  },
  "cells": [
    {
      "cell_type": "markdown",
      "metadata": {
        "id": "x3IpYUh5ROzM"
      },
      "source": [
        " Mount Drive\n",
        "\n"
      ]
    },
    {
      "cell_type": "code",
      "metadata": {
        "colab": {
          "base_uri": "https://localhost:8080/"
        },
        "id": "L6dTF5JIRjli",
        "outputId": "6ec1815d-b04f-496e-a533-112eb565af96"
      },
      "source": [
        "from google.colab import drive\n",
        "drive.mount('/content/drive')"
      ],
      "execution_count": null,
      "outputs": [
        {
          "output_type": "stream",
          "text": [
            "Drive already mounted at /content/drive; to attempt to forcibly remount, call drive.mount(\"/content/drive\", force_remount=True).\n"
          ],
          "name": "stdout"
        }
      ]
    },
    {
      "cell_type": "code",
      "metadata": {
        "id": "AMZx7CkxG_hO",
        "colab": {
          "base_uri": "https://localhost:8080/"
        },
        "outputId": "67416da7-05db-460d-ea6a-1fc63c08d68f"
      },
      "source": [
        "pip install texthero"
      ],
      "execution_count": null,
      "outputs": [
        {
          "output_type": "stream",
          "text": [
            "Requirement already satisfied: texthero in /usr/local/lib/python3.7/dist-packages (1.1.0)\n",
            "Requirement already satisfied: unidecode>=1.1.1 in /usr/local/lib/python3.7/dist-packages (from texthero) (1.2.0)\n",
            "Requirement already satisfied: spacy<3.0.0 in /usr/local/lib/python3.7/dist-packages (from texthero) (2.2.4)\n",
            "Requirement already satisfied: pandas>=1.0.2 in /usr/local/lib/python3.7/dist-packages (from texthero) (1.1.5)\n",
            "Requirement already satisfied: scikit-learn>=0.22 in /usr/local/lib/python3.7/dist-packages (from texthero) (0.22.2.post1)\n",
            "Requirement already satisfied: nltk>=3.3 in /usr/local/lib/python3.7/dist-packages (from texthero) (3.6.2)\n",
            "Requirement already satisfied: tqdm>=4.3 in /usr/local/lib/python3.7/dist-packages (from texthero) (4.62.0)\n",
            "Requirement already satisfied: numpy>=1.17 in /usr/local/lib/python3.7/dist-packages (from texthero) (1.19.5)\n",
            "Requirement already satisfied: wordcloud>=1.5.0 in /usr/local/lib/python3.7/dist-packages (from texthero) (1.5.0)\n",
            "Requirement already satisfied: matplotlib>=3.1.0 in /usr/local/lib/python3.7/dist-packages (from texthero) (3.2.2)\n",
            "Requirement already satisfied: gensim<4.0,>=3.6.0 in /usr/local/lib/python3.7/dist-packages (from texthero) (3.6.0)\n",
            "Requirement already satisfied: plotly>=4.2.0 in /usr/local/lib/python3.7/dist-packages (from texthero) (4.4.1)\n",
            "Requirement already satisfied: six>=1.5.0 in /usr/local/lib/python3.7/dist-packages (from gensim<4.0,>=3.6.0->texthero) (1.15.0)\n",
            "Requirement already satisfied: scipy>=0.18.1 in /usr/local/lib/python3.7/dist-packages (from gensim<4.0,>=3.6.0->texthero) (1.4.1)\n",
            "Requirement already satisfied: smart-open>=1.2.1 in /usr/local/lib/python3.7/dist-packages (from gensim<4.0,>=3.6.0->texthero) (5.1.0)\n",
            "Requirement already satisfied: pyparsing!=2.0.4,!=2.1.2,!=2.1.6,>=2.0.1 in /usr/local/lib/python3.7/dist-packages (from matplotlib>=3.1.0->texthero) (2.4.7)\n",
            "Requirement already satisfied: kiwisolver>=1.0.1 in /usr/local/lib/python3.7/dist-packages (from matplotlib>=3.1.0->texthero) (1.3.1)\n",
            "Requirement already satisfied: cycler>=0.10 in /usr/local/lib/python3.7/dist-packages (from matplotlib>=3.1.0->texthero) (0.10.0)\n",
            "Requirement already satisfied: python-dateutil>=2.1 in /usr/local/lib/python3.7/dist-packages (from matplotlib>=3.1.0->texthero) (2.8.2)\n",
            "Requirement already satisfied: joblib in /usr/local/lib/python3.7/dist-packages (from nltk>=3.3->texthero) (1.0.1)\n",
            "Requirement already satisfied: click in /usr/local/lib/python3.7/dist-packages (from nltk>=3.3->texthero) (7.1.2)\n",
            "Requirement already satisfied: regex in /usr/local/lib/python3.7/dist-packages (from nltk>=3.3->texthero) (2019.12.20)\n",
            "Requirement already satisfied: pytz>=2017.2 in /usr/local/lib/python3.7/dist-packages (from pandas>=1.0.2->texthero) (2018.9)\n",
            "Requirement already satisfied: retrying>=1.3.3 in /usr/local/lib/python3.7/dist-packages (from plotly>=4.2.0->texthero) (1.3.3)\n",
            "Requirement already satisfied: murmurhash<1.1.0,>=0.28.0 in /usr/local/lib/python3.7/dist-packages (from spacy<3.0.0->texthero) (1.0.5)\n",
            "Requirement already satisfied: thinc==7.4.0 in /usr/local/lib/python3.7/dist-packages (from spacy<3.0.0->texthero) (7.4.0)\n",
            "Requirement already satisfied: wasabi<1.1.0,>=0.4.0 in /usr/local/lib/python3.7/dist-packages (from spacy<3.0.0->texthero) (0.8.2)\n",
            "Requirement already satisfied: requests<3.0.0,>=2.13.0 in /usr/local/lib/python3.7/dist-packages (from spacy<3.0.0->texthero) (2.23.0)\n",
            "Requirement already satisfied: preshed<3.1.0,>=3.0.2 in /usr/local/lib/python3.7/dist-packages (from spacy<3.0.0->texthero) (3.0.5)\n",
            "Requirement already satisfied: catalogue<1.1.0,>=0.0.7 in /usr/local/lib/python3.7/dist-packages (from spacy<3.0.0->texthero) (1.0.0)\n",
            "Requirement already satisfied: plac<1.2.0,>=0.9.6 in /usr/local/lib/python3.7/dist-packages (from spacy<3.0.0->texthero) (1.1.3)\n",
            "Requirement already satisfied: srsly<1.1.0,>=1.0.2 in /usr/local/lib/python3.7/dist-packages (from spacy<3.0.0->texthero) (1.0.5)\n",
            "Requirement already satisfied: setuptools in /usr/local/lib/python3.7/dist-packages (from spacy<3.0.0->texthero) (57.4.0)\n",
            "Requirement already satisfied: cymem<2.1.0,>=2.0.2 in /usr/local/lib/python3.7/dist-packages (from spacy<3.0.0->texthero) (2.0.5)\n",
            "Requirement already satisfied: blis<0.5.0,>=0.4.0 in /usr/local/lib/python3.7/dist-packages (from spacy<3.0.0->texthero) (0.4.1)\n",
            "Requirement already satisfied: importlib-metadata>=0.20 in /usr/local/lib/python3.7/dist-packages (from catalogue<1.1.0,>=0.0.7->spacy<3.0.0->texthero) (4.6.4)\n",
            "Requirement already satisfied: typing-extensions>=3.6.4 in /usr/local/lib/python3.7/dist-packages (from importlib-metadata>=0.20->catalogue<1.1.0,>=0.0.7->spacy<3.0.0->texthero) (3.7.4.3)\n",
            "Requirement already satisfied: zipp>=0.5 in /usr/local/lib/python3.7/dist-packages (from importlib-metadata>=0.20->catalogue<1.1.0,>=0.0.7->spacy<3.0.0->texthero) (3.5.0)\n",
            "Requirement already satisfied: certifi>=2017.4.17 in /usr/local/lib/python3.7/dist-packages (from requests<3.0.0,>=2.13.0->spacy<3.0.0->texthero) (2021.5.30)\n",
            "Requirement already satisfied: urllib3!=1.25.0,!=1.25.1,<1.26,>=1.21.1 in /usr/local/lib/python3.7/dist-packages (from requests<3.0.0,>=2.13.0->spacy<3.0.0->texthero) (1.24.3)\n",
            "Requirement already satisfied: idna<3,>=2.5 in /usr/local/lib/python3.7/dist-packages (from requests<3.0.0,>=2.13.0->spacy<3.0.0->texthero) (2.10)\n",
            "Requirement already satisfied: chardet<4,>=3.0.2 in /usr/local/lib/python3.7/dist-packages (from requests<3.0.0,>=2.13.0->spacy<3.0.0->texthero) (3.0.4)\n",
            "Requirement already satisfied: pillow in /usr/local/lib/python3.7/dist-packages (from wordcloud>=1.5.0->texthero) (7.1.2)\n"
          ],
          "name": "stdout"
        }
      ]
    },
    {
      "cell_type": "code",
      "metadata": {
        "colab": {
          "base_uri": "https://localhost:8080/"
        },
        "id": "ZoPjVm98HZly",
        "outputId": "f534cfa8-79ad-4d28-c7d3-df6993c0153d"
      },
      "source": [
        "pip install tweet-preprocessor"
      ],
      "execution_count": null,
      "outputs": [
        {
          "output_type": "stream",
          "text": [
            "Requirement already satisfied: tweet-preprocessor in /usr/local/lib/python3.7/dist-packages (0.6.0)\n"
          ],
          "name": "stdout"
        }
      ]
    },
    {
      "cell_type": "code",
      "metadata": {
        "id": "1HwEYpgEHi15"
      },
      "source": [
        "import seaborn as sns \n",
        "import matplotlib.pyplot as plt \n",
        "import numpy as np\n",
        "import pandas as pd\n",
        "from sklearn.model_selection import train_test_split"
      ],
      "execution_count": null,
      "outputs": []
    },
    {
      "cell_type": "code",
      "metadata": {
        "colab": {
          "base_uri": "https://localhost:8080/",
          "height": 221
        },
        "id": "5DmJpkF7Hogl",
        "outputId": "0a69dcf5-cec0-4a93-eb87-c49020cf6d69"
      },
      "source": [
        "#reading the data\n",
        "data= pd.read_csv('/modified_hasoc_task21.csv')\n",
        "train_df,test_df=train_test_split(data,test_size=0.2)\n",
        "#test_df= pd.read_csv('/kaggle/input/jigsaw-toxic-comment-classification-challenge/test.csv.zip')   TEST DATA TO BE PROVIDED\n",
        "print(train_df.columns,train_df.shape)\n",
        "target_col= train_df.columns[2:]\n",
        "feature_col= train_df.columns[1:2]\n",
        "train_df.head()"
      ],
      "execution_count": null,
      "outputs": [
        {
          "output_type": "stream",
          "text": [
            "Index(['_id', 'text', 'hate', 'offen', 'prof', 'none'], dtype='object') (3074, 6)\n"
          ],
          "name": "stdout"
        },
        {
          "output_type": "execute_result",
          "data": {
            "text/html": [
              "<div>\n",
              "<style scoped>\n",
              "    .dataframe tbody tr th:only-of-type {\n",
              "        vertical-align: middle;\n",
              "    }\n",
              "\n",
              "    .dataframe tbody tr th {\n",
              "        vertical-align: top;\n",
              "    }\n",
              "\n",
              "    .dataframe thead th {\n",
              "        text-align: right;\n",
              "    }\n",
              "</style>\n",
              "<table border=\"1\" class=\"dataframe\">\n",
              "  <thead>\n",
              "    <tr style=\"text-align: right;\">\n",
              "      <th></th>\n",
              "      <th>_id</th>\n",
              "      <th>text</th>\n",
              "      <th>hate</th>\n",
              "      <th>offen</th>\n",
              "      <th>prof</th>\n",
              "      <th>none</th>\n",
              "    </tr>\n",
              "  </thead>\n",
              "  <tbody>\n",
              "    <tr>\n",
              "      <th>1653</th>\n",
              "      <td>60c5d6bf5659ea5e55deff30</td>\n",
              "      <td>Be pussy they whole life but be macho man rand...</td>\n",
              "      <td>0</td>\n",
              "      <td>0</td>\n",
              "      <td>1</td>\n",
              "      <td>0</td>\n",
              "    </tr>\n",
              "    <tr>\n",
              "      <th>2732</th>\n",
              "      <td>60c5d6bf5659ea5e55def9d2</td>\n",
              "      <td>We never ever accept such kind of anti islamic...</td>\n",
              "      <td>0</td>\n",
              "      <td>0</td>\n",
              "      <td>0</td>\n",
              "      <td>1</td>\n",
              "    </tr>\n",
              "    <tr>\n",
              "      <th>791</th>\n",
              "      <td>60c5d6bf5659ea5e55def9d8</td>\n",
              "      <td>The National Carrier blamed &amp;amp; shamed. Pilo...</td>\n",
              "      <td>0</td>\n",
              "      <td>0</td>\n",
              "      <td>0</td>\n",
              "      <td>1</td>\n",
              "    </tr>\n",
              "    <tr>\n",
              "      <th>585</th>\n",
              "      <td>60c5d6bf5659ea5e55defb3f</td>\n",
              "      <td>/3 @Tejasvi_Surya you haven't learnt even from...</td>\n",
              "      <td>0</td>\n",
              "      <td>1</td>\n",
              "      <td>0</td>\n",
              "      <td>0</td>\n",
              "    </tr>\n",
              "    <tr>\n",
              "      <th>2936</th>\n",
              "      <td>60c5d6bf5659ea5e55defb88</td>\n",
              "      <td>This isn't as cool as #ResignModi  #BengalBurn...</td>\n",
              "      <td>0</td>\n",
              "      <td>0</td>\n",
              "      <td>0</td>\n",
              "      <td>1</td>\n",
              "    </tr>\n",
              "  </tbody>\n",
              "</table>\n",
              "</div>"
            ],
            "text/plain": [
              "                           _id  ... none\n",
              "1653  60c5d6bf5659ea5e55deff30  ...    0\n",
              "2732  60c5d6bf5659ea5e55def9d2  ...    1\n",
              "791   60c5d6bf5659ea5e55def9d8  ...    1\n",
              "585   60c5d6bf5659ea5e55defb3f  ...    0\n",
              "2936  60c5d6bf5659ea5e55defb88  ...    1\n",
              "\n",
              "[5 rows x 6 columns]"
            ]
          },
          "metadata": {},
          "execution_count": 5
        }
      ]
    },
    {
      "cell_type": "code",
      "metadata": {
        "colab": {
          "base_uri": "https://localhost:8080/"
        },
        "id": "MDb8AiJ6JPps",
        "outputId": "ee0ec75f-8714-4e93-bcab-16b0ded4de5b"
      },
      "source": [
        " target_col,feature_col"
      ],
      "execution_count": null,
      "outputs": [
        {
          "output_type": "execute_result",
          "data": {
            "text/plain": [
              "(Index(['hate', 'offen', 'prof', 'none'], dtype='object'),\n",
              " Index(['text'], dtype='object'))"
            ]
          },
          "metadata": {},
          "execution_count": 6
        }
      ]
    },
    {
      "cell_type": "code",
      "metadata": {
        "colab": {
          "base_uri": "https://localhost:8080/",
          "height": 204
        },
        "id": "SM096rNUKn5X",
        "outputId": "c57222d0-db36-4337-a0e1-75b080ac3b8c"
      },
      "source": [
        "test_df.head()"
      ],
      "execution_count": null,
      "outputs": [
        {
          "output_type": "execute_result",
          "data": {
            "text/html": [
              "<div>\n",
              "<style scoped>\n",
              "    .dataframe tbody tr th:only-of-type {\n",
              "        vertical-align: middle;\n",
              "    }\n",
              "\n",
              "    .dataframe tbody tr th {\n",
              "        vertical-align: top;\n",
              "    }\n",
              "\n",
              "    .dataframe thead th {\n",
              "        text-align: right;\n",
              "    }\n",
              "</style>\n",
              "<table border=\"1\" class=\"dataframe\">\n",
              "  <thead>\n",
              "    <tr style=\"text-align: right;\">\n",
              "      <th></th>\n",
              "      <th>_id</th>\n",
              "      <th>text</th>\n",
              "      <th>hate</th>\n",
              "      <th>offen</th>\n",
              "      <th>prof</th>\n",
              "      <th>none</th>\n",
              "    </tr>\n",
              "  </thead>\n",
              "  <tbody>\n",
              "    <tr>\n",
              "      <th>1092</th>\n",
              "      <td>60c5d6bf5659ea5e55defc89</td>\n",
              "      <td>@PMOIndia @narendramodi @POTUS @JoeBiden @POTU...</td>\n",
              "      <td>0</td>\n",
              "      <td>1</td>\n",
              "      <td>0</td>\n",
              "      <td>0</td>\n",
              "    </tr>\n",
              "    <tr>\n",
              "      <th>2154</th>\n",
              "      <td>60c5d6bf5659ea5e55def1d6</td>\n",
              "      <td>@vinodkapri @narendramodi Horrible scene....Wi...</td>\n",
              "      <td>1</td>\n",
              "      <td>0</td>\n",
              "      <td>0</td>\n",
              "      <td>0</td>\n",
              "    </tr>\n",
              "    <tr>\n",
              "      <th>826</th>\n",
              "      <td>60c5d6bf5659ea5e55df0311</td>\n",
              "      <td>Happy pride month from americaâ€™s whore</td>\n",
              "      <td>0</td>\n",
              "      <td>0</td>\n",
              "      <td>1</td>\n",
              "      <td>0</td>\n",
              "    </tr>\n",
              "    <tr>\n",
              "      <th>3652</th>\n",
              "      <td>60c5d6bf5659ea5e55def260</td>\n",
              "      <td>@BukayoSaka87 @R_K_Hoy @England Stay safe king...</td>\n",
              "      <td>0</td>\n",
              "      <td>0</td>\n",
              "      <td>1</td>\n",
              "      <td>0</td>\n",
              "    </tr>\n",
              "    <tr>\n",
              "      <th>672</th>\n",
              "      <td>60c5d6bf5659ea5e55deff39</td>\n",
              "      <td>@RameshA19919981 @Tweet2_Genda Really, If this...</td>\n",
              "      <td>1</td>\n",
              "      <td>0</td>\n",
              "      <td>0</td>\n",
              "      <td>0</td>\n",
              "    </tr>\n",
              "  </tbody>\n",
              "</table>\n",
              "</div>"
            ],
            "text/plain": [
              "                           _id  ... none\n",
              "1092  60c5d6bf5659ea5e55defc89  ...    0\n",
              "2154  60c5d6bf5659ea5e55def1d6  ...    0\n",
              "826   60c5d6bf5659ea5e55df0311  ...    0\n",
              "3652  60c5d6bf5659ea5e55def260  ...    0\n",
              "672   60c5d6bf5659ea5e55deff39  ...    0\n",
              "\n",
              "[5 rows x 6 columns]"
            ]
          },
          "metadata": {},
          "execution_count": 7
        }
      ]
    },
    {
      "cell_type": "code",
      "metadata": {
        "colab": {
          "base_uri": "https://localhost:8080/"
        },
        "id": "QM27oBHEypba",
        "outputId": "b7d00a94-b05b-4feb-9340-e83dadc4eca5"
      },
      "source": [
        "import re \n",
        "import nltk\n",
        "from wordcloud import WordCloud\n",
        "from nltk.stem import WordNetLemmatizer \n",
        "from textblob import TextBlob,Word\n",
        "from nltk.corpus import words\n",
        "nltk.download('words')\n",
        "nltk.download('wordnet')\n",
        "import texthero as hero\n",
        "import re\n",
        "from texthero import stopwords\n",
        "\n",
        "from nltk.corpus import wordnet\n",
        "\n",
        "import tensorflow as tf\n",
        "\n",
        "from nltk.corpus import stopwords\n",
        "from nltk.tokenize import TweetTokenizer\n",
        "\n",
        "import tensorflow as tf"
      ],
      "execution_count": null,
      "outputs": [
        {
          "output_type": "stream",
          "text": [
            "[nltk_data] Downloading package words to /root/nltk_data...\n",
            "[nltk_data]   Package words is already up-to-date!\n",
            "[nltk_data] Downloading package wordnet to /root/nltk_data...\n",
            "[nltk_data]   Package wordnet is already up-to-date!\n"
          ],
          "name": "stderr"
        }
      ]
    },
    {
      "cell_type": "code",
      "metadata": {
        "id": "a3fzCk1cGMqJ"
      },
      "source": [
        "def lemma_per_pos(sent):\n",
        "    '''function to lemmatize according to part of speech tag'''\n",
        "    tweet_tokenizer=TweetTokenizer()\n",
        "    lemmatizer = nltk.stem.WordNetLemmatizer()\n",
        "    lemmatized_list = [lemmatizer.lemmatize(w) for w in  tweet_tokenizer.tokenize(sent)]\n",
        "    return \" \".join(lemmatized_list)\n",
        "\n",
        "def df_preprocessing(df,feature_col):\n",
        "    '''\n",
        "    Preprocessing of dataframe\n",
        "    '''\n",
        "    stop = set(stopwords.words('english'))\n",
        "    df[feature_col]= (df[feature_col].pipe(hero.lowercase).\n",
        "                      pipe(hero.remove_urls).\n",
        "                      pipe(hero.remove_digits).\n",
        "                      pipe(hero.remove_punctuation).\n",
        "                      pipe(hero.remove_html_tags) )\n",
        "    # lemmatization\n",
        "    df[feature_col]= [lemma_per_pos(sent) for sent in df[feature_col]]\n",
        "    #df[col_name]= hero.remove_stopwords(df[col_name],custom_stopwords)\n",
        "    return df"
      ],
      "execution_count": null,
      "outputs": []
    },
    {
      "cell_type": "code",
      "metadata": {
        "colab": {
          "base_uri": "https://localhost:8080/"
        },
        "id": "15j637nlK5Li",
        "outputId": "ac6e5e54-39d2-49d6-be9f-17d6021aa638"
      },
      "source": [
        "with tf.device('/GPU:0'): \n",
        " proc_train_df= df_preprocessing(train_df,feature_col[0])"
      ],
      "execution_count": null,
      "outputs": [
        {
          "output_type": "stream",
          "text": [
            "/usr/local/lib/python3.7/dist-packages/ipykernel_launcher.py:17: SettingWithCopyWarning:\n",
            "\n",
            "\n",
            "A value is trying to be set on a copy of a slice from a DataFrame.\n",
            "Try using .loc[row_indexer,col_indexer] = value instead\n",
            "\n",
            "See the caveats in the documentation: https://pandas.pydata.org/pandas-docs/stable/user_guide/indexing.html#returning-a-view-versus-a-copy\n",
            "\n",
            "/usr/local/lib/python3.7/dist-packages/ipykernel_launcher.py:19: SettingWithCopyWarning:\n",
            "\n",
            "\n",
            "A value is trying to be set on a copy of a slice from a DataFrame.\n",
            "Try using .loc[row_indexer,col_indexer] = value instead\n",
            "\n",
            "See the caveats in the documentation: https://pandas.pydata.org/pandas-docs/stable/user_guide/indexing.html#returning-a-view-versus-a-copy\n",
            "\n"
          ],
          "name": "stderr"
        }
      ]
    },
    {
      "cell_type": "code",
      "metadata": {
        "colab": {
          "base_uri": "https://localhost:8080/"
        },
        "id": "vse9O-vXX440",
        "outputId": "cd64b590-7665-4fea-b4f3-c70d432bced1"
      },
      "source": [
        "proc_test_df = df_preprocessing(test_df,feature_col[0])"
      ],
      "execution_count": null,
      "outputs": [
        {
          "output_type": "stream",
          "text": [
            "/usr/local/lib/python3.7/dist-packages/ipykernel_launcher.py:17: SettingWithCopyWarning:\n",
            "\n",
            "\n",
            "A value is trying to be set on a copy of a slice from a DataFrame.\n",
            "Try using .loc[row_indexer,col_indexer] = value instead\n",
            "\n",
            "See the caveats in the documentation: https://pandas.pydata.org/pandas-docs/stable/user_guide/indexing.html#returning-a-view-versus-a-copy\n",
            "\n",
            "/usr/local/lib/python3.7/dist-packages/ipykernel_launcher.py:19: SettingWithCopyWarning:\n",
            "\n",
            "\n",
            "A value is trying to be set on a copy of a slice from a DataFrame.\n",
            "Try using .loc[row_indexer,col_indexer] = value instead\n",
            "\n",
            "See the caveats in the documentation: https://pandas.pydata.org/pandas-docs/stable/user_guide/indexing.html#returning-a-view-versus-a-copy\n",
            "\n"
          ],
          "name": "stderr"
        }
      ]
    },
    {
      "cell_type": "code",
      "metadata": {
        "colab": {
          "base_uri": "https://localhost:8080/"
        },
        "id": "XN00mytdNt3C",
        "outputId": "a36b06b1-24df-43eb-dac8-b69568fff538"
      },
      "source": [
        "pip install transformers"
      ],
      "execution_count": null,
      "outputs": [
        {
          "output_type": "stream",
          "text": [
            "Requirement already satisfied: transformers in /usr/local/lib/python3.7/dist-packages (4.9.2)\n",
            "Requirement already satisfied: filelock in /usr/local/lib/python3.7/dist-packages (from transformers) (3.0.12)\n",
            "Requirement already satisfied: importlib-metadata in /usr/local/lib/python3.7/dist-packages (from transformers) (4.6.4)\n",
            "Requirement already satisfied: numpy>=1.17 in /usr/local/lib/python3.7/dist-packages (from transformers) (1.19.5)\n",
            "Requirement already satisfied: tokenizers<0.11,>=0.10.1 in /usr/local/lib/python3.7/dist-packages (from transformers) (0.10.3)\n",
            "Requirement already satisfied: requests in /usr/local/lib/python3.7/dist-packages (from transformers) (2.23.0)\n",
            "Requirement already satisfied: huggingface-hub==0.0.12 in /usr/local/lib/python3.7/dist-packages (from transformers) (0.0.12)\n",
            "Requirement already satisfied: sacremoses in /usr/local/lib/python3.7/dist-packages (from transformers) (0.0.45)\n",
            "Requirement already satisfied: tqdm>=4.27 in /usr/local/lib/python3.7/dist-packages (from transformers) (4.62.0)\n",
            "Requirement already satisfied: packaging in /usr/local/lib/python3.7/dist-packages (from transformers) (21.0)\n",
            "Requirement already satisfied: regex!=2019.12.17 in /usr/local/lib/python3.7/dist-packages (from transformers) (2019.12.20)\n",
            "Requirement already satisfied: pyyaml>=5.1 in /usr/local/lib/python3.7/dist-packages (from transformers) (5.4.1)\n",
            "Requirement already satisfied: typing-extensions in /usr/local/lib/python3.7/dist-packages (from huggingface-hub==0.0.12->transformers) (3.7.4.3)\n",
            "Requirement already satisfied: pyparsing>=2.0.2 in /usr/local/lib/python3.7/dist-packages (from packaging->transformers) (2.4.7)\n",
            "Requirement already satisfied: zipp>=0.5 in /usr/local/lib/python3.7/dist-packages (from importlib-metadata->transformers) (3.5.0)\n",
            "Requirement already satisfied: urllib3!=1.25.0,!=1.25.1,<1.26,>=1.21.1 in /usr/local/lib/python3.7/dist-packages (from requests->transformers) (1.24.3)\n",
            "Requirement already satisfied: idna<3,>=2.5 in /usr/local/lib/python3.7/dist-packages (from requests->transformers) (2.10)\n",
            "Requirement already satisfied: chardet<4,>=3.0.2 in /usr/local/lib/python3.7/dist-packages (from requests->transformers) (3.0.4)\n",
            "Requirement already satisfied: certifi>=2017.4.17 in /usr/local/lib/python3.7/dist-packages (from requests->transformers) (2021.5.30)\n",
            "Requirement already satisfied: six in /usr/local/lib/python3.7/dist-packages (from sacremoses->transformers) (1.15.0)\n",
            "Requirement already satisfied: click in /usr/local/lib/python3.7/dist-packages (from sacremoses->transformers) (7.1.2)\n",
            "Requirement already satisfied: joblib in /usr/local/lib/python3.7/dist-packages (from sacremoses->transformers) (1.0.1)\n"
          ],
          "name": "stdout"
        }
      ]
    },
    {
      "cell_type": "code",
      "metadata": {
        "colab": {
          "base_uri": "https://localhost:8080/"
        },
        "id": "IZRLg-TbZKxZ",
        "outputId": "3817cf25-f7ce-49cf-a5bc-1ee6f15628f9"
      },
      "source": [
        "pip install tensorflow_addons"
      ],
      "execution_count": null,
      "outputs": [
        {
          "output_type": "stream",
          "text": [
            "Requirement already satisfied: tensorflow_addons in /usr/local/lib/python3.7/dist-packages (0.14.0)\n",
            "Requirement already satisfied: typeguard>=2.7 in /usr/local/lib/python3.7/dist-packages (from tensorflow_addons) (2.7.1)\n"
          ],
          "name": "stdout"
        }
      ]
    },
    {
      "cell_type": "code",
      "metadata": {
        "id": "IVINe5pINps0"
      },
      "source": [
        "from transformers import AutoTokenizer,TFDistilBertModel, DistilBertConfig\n",
        "from transformers import TFAutoModel\n",
        "import tensorflow as tf \n",
        "from tensorflow.keras.models import Model\n",
        "from tensorflow.keras.layers import Input, Dense, Dropout\n",
        "from transformers import AdamW, get_linear_schedule_with_warmup\n",
        "import tensorflow_addons as tfa"
      ],
      "execution_count": null,
      "outputs": []
    },
    {
      "cell_type": "code",
      "metadata": {
        "id": "Dsk7GrrCZbVp"
      },
      "source": [
        "#Creating tokenizer\n",
        "def create_tokenizer(pretrained_weights='distilbert-base-uncased'):\n",
        "  '''Function to create the tokenizer'''\n",
        "\n",
        "  tokenizer = AutoTokenizer.from_pretrained(pretrained_weights)\n",
        "  return tokenizer\n",
        "\n",
        "#Tokenization of the data\n",
        "def data_tokenization(dataset,feature_col,max_len,tokenizer):\n",
        "    '''dataset: Pandas dataframe with feature name is column name \n",
        "    Pretrained_weights: selected model \n",
        "    RETURN: [input_ids, attention_mask]'''\n",
        "\n",
        "    tokens = dataset[feature_col].apply(lambda x: tokenizer(x,return_tensors='tf', \n",
        "                                                            truncation=True,\n",
        "                                                            padding='max_length',\n",
        "                                                            max_length=max_len, \n",
        "                                                            add_special_tokens=True))\n",
        "    input_ids= []\n",
        "    attention_mask=[]\n",
        "    for item in tokens:\n",
        "        input_ids.append(item['input_ids'])\n",
        "        attention_mask.append(item['attention_mask'])\n",
        "    input_ids, attention_mask=np.squeeze(input_ids), np.squeeze(attention_mask)\n",
        "\n",
        "\n",
        "    return [input_ids,attention_mask]\n",
        "\n",
        "def bert_model(pretrained_weights,max_len,learning_rate):\n",
        "  '''BERT model creation with pretrained weights\n",
        "  INPUT:\n",
        "  pretrained_weights: Language model pretrained weights\n",
        "  max_len: input length '''\n",
        "  print('Model selected:', pretrained_weights)\n",
        "  bert=TFAutoModel.from_pretrained(pretrained_weights)\n",
        "  \n",
        "  # This is must if you would like to train the layers of language models too.\n",
        "  for layer in bert.layers:\n",
        "      layer.trainable = True\n",
        "\n",
        "  # parameter declaration\n",
        "#   step = tf.Variable(0, trainable=False)\n",
        "#   schedule = tf.optimizers.schedules.PiecewiseConstantDecay([10000, 15000], [2e-0, 2e-1, 1e-2])\n",
        "#   # lr and wd can be a function or a tensor\n",
        "#   lr = learning_rate * schedule(step)\n",
        "#   wd = lambda:lr * schedule(step)\n",
        "#   optimizer = tfa.optimizers.AdamW(learning_rate=lr, weight_decay=wd)\n",
        "\n",
        "  optimizer= tf.keras.optimizers.Adam(learning_rate=learning_rate, beta_1=0.9, beta_2=0.999, epsilon=1e-07, amsgrad=False,name='Adam')\n",
        "#   optimizer=tf.keras.optimizers.Adam(learning_rate=learning_rate)\n",
        "\n",
        "  # declaring inputs, BERT take input_ids and attention_mask as input\n",
        "  input_ids= Input(shape=(max_len,),dtype=tf.int32,name='input_ids')\n",
        "  attention_mask=Input(shape=(max_len,),dtype=tf.int32,name='attention_mask')\n",
        "\n",
        "  bert= bert(input_ids,attention_mask=attention_mask)\n",
        "  x= bert[0][:,0,:]\n",
        "  x=tf.keras.layers.Dropout(0.1)(x)\n",
        "  x=tf.keras.layers.Dense(64)(x)\n",
        "  x=tf.keras.layers.Dense(32)(x)\n",
        "\n",
        "  output=tf.keras.layers.Dense(4,activation='sigmoid')(x)\n",
        "\n",
        "  model=Model(inputs=[input_ids,attention_mask],outputs=[output])\n",
        "  # compiling model \n",
        "  model.compile(optimizer=optimizer,\n",
        "                loss=tf.keras.losses.BinaryCrossentropy(from_logits=True, reduction=tf.keras.losses.Reduction.NONE,name='binary_crossentropy'),\n",
        "                metrics=['accuracy'])\n",
        "  return model"
      ],
      "execution_count": null,
      "outputs": []
    },
    {
      "cell_type": "code",
      "metadata": {
        "id": "1N-Y2-fDZePL"
      },
      "source": [
        "pretrained_weights='bert-base-uncased'\n",
        "max_len=256\n",
        "epochs=5\n",
        "learning_rate=2e-5\n",
        "batch_size=4"
      ],
      "execution_count": null,
      "outputs": []
    },
    {
      "cell_type": "code",
      "metadata": {
        "id": "8A0lKezOZjba"
      },
      "source": [
        "tokenizer= create_tokenizer(pretrained_weights)"
      ],
      "execution_count": null,
      "outputs": []
    },
    {
      "cell_type": "code",
      "metadata": {
        "id": "ZL-WzJP2Zr5h"
      },
      "source": [
        "x_train= data_tokenization(proc_train_df,feature_col[0],max_len,tokenizer)"
      ],
      "execution_count": null,
      "outputs": []
    },
    {
      "cell_type": "code",
      "metadata": {
        "colab": {
          "base_uri": "https://localhost:8080/"
        },
        "id": "qozXQ7m1sHQk",
        "outputId": "bec8176c-9389-4df3-c08e-160ce2294952"
      },
      "source": [
        "x_train"
      ],
      "execution_count": null,
      "outputs": [
        {
          "output_type": "execute_result",
          "data": {
            "text/plain": [
              "[array([[  101,  2022, 22418, ...,     0,     0,     0],\n",
              "        [  101,  2057,  2196, ...,     0,     0,     0],\n",
              "        [  101,  1996,  2120, ...,     0,     0,     0],\n",
              "        ...,\n",
              "        [  101,  2111,  2024, ...,     0,     0,     0],\n",
              "        [  101, 19734,  8883, ...,     0,     0,     0],\n",
              "        [  101,  1996,  3308, ...,     0,     0,     0]], dtype=int32),\n",
              " array([[1, 1, 1, ..., 0, 0, 0],\n",
              "        [1, 1, 1, ..., 0, 0, 0],\n",
              "        [1, 1, 1, ..., 0, 0, 0],\n",
              "        ...,\n",
              "        [1, 1, 1, ..., 0, 0, 0],\n",
              "        [1, 1, 1, ..., 0, 0, 0],\n",
              "        [1, 1, 1, ..., 0, 0, 0]], dtype=int32)]"
            ]
          },
          "metadata": {},
          "execution_count": 19
        }
      ]
    },
    {
      "cell_type": "code",
      "metadata": {
        "colab": {
          "base_uri": "https://localhost:8080/"
        },
        "id": "SdQJhutIZus-",
        "outputId": "979c6c52-bb3f-4f77-f3b1-4cf19d35d700"
      },
      "source": [
        "y_train= proc_train_df[target_col].values\n",
        "y_train"
      ],
      "execution_count": null,
      "outputs": [
        {
          "output_type": "execute_result",
          "data": {
            "text/plain": [
              "array([[0, 0, 1, 0],\n",
              "       [0, 0, 0, 1],\n",
              "       [0, 0, 0, 1],\n",
              "       ...,\n",
              "       [0, 1, 0, 0],\n",
              "       [0, 0, 1, 0],\n",
              "       [0, 0, 0, 1]])"
            ]
          },
          "metadata": {},
          "execution_count": 20
        }
      ]
    },
    {
      "cell_type": "code",
      "metadata": {
        "colab": {
          "base_uri": "https://localhost:8080/"
        },
        "id": "zPhs_wfgsDzE",
        "outputId": "59a88a51-fb44-4979-b5b4-cf64c59eca5f"
      },
      "source": [
        "y_train.shape"
      ],
      "execution_count": null,
      "outputs": [
        {
          "output_type": "execute_result",
          "data": {
            "text/plain": [
              "(3074, 4)"
            ]
          },
          "metadata": {},
          "execution_count": 21
        }
      ]
    },
    {
      "cell_type": "code",
      "metadata": {
        "colab": {
          "base_uri": "https://localhost:8080/"
        },
        "id": "a1zXPHjtZxG8",
        "outputId": "52ccd991-03ff-48dd-ab18-06d27746a6d9"
      },
      "source": [
        "bert=bert_model(pretrained_weights,max_len,learning_rate)\n",
        "bert.summary()"
      ],
      "execution_count": null,
      "outputs": [
        {
          "output_type": "stream",
          "text": [
            "Model selected: bert-base-uncased\n"
          ],
          "name": "stdout"
        },
        {
          "output_type": "stream",
          "text": [
            "Some layers from the model checkpoint at bert-base-uncased were not used when initializing TFBertModel: ['nsp___cls', 'mlm___cls']\n",
            "- This IS expected if you are initializing TFBertModel from the checkpoint of a model trained on another task or with another architecture (e.g. initializing a BertForSequenceClassification model from a BertForPreTraining model).\n",
            "- This IS NOT expected if you are initializing TFBertModel from the checkpoint of a model that you expect to be exactly identical (initializing a BertForSequenceClassification model from a BertForSequenceClassification model).\n",
            "All the layers of TFBertModel were initialized from the model checkpoint at bert-base-uncased.\n",
            "If your task is similar to the task the model of the checkpoint was trained on, you can already use TFBertModel for predictions without further training.\n"
          ],
          "name": "stderr"
        },
        {
          "output_type": "stream",
          "text": [
            "WARNING:tensorflow:The parameters `output_attentions`, `output_hidden_states` and `use_cache` cannot be updated when calling a model.They have to be set to True/False in the config object (i.e.: `config=XConfig.from_pretrained('name', output_attentions=True)`).\n",
            "WARNING:tensorflow:AutoGraph could not transform <bound method Socket.send of <zmq.Socket(zmq.PUSH) at 0x7fba96b39f30>> and will run it as-is.\n",
            "Please report this to the TensorFlow team. When filing the bug, set the verbosity to 10 (on Linux, `export AUTOGRAPH_VERBOSITY=10`) and attach the full output.\n",
            "Cause: module, class, method, function, traceback, frame, or code object was expected, got cython_function_or_method\n",
            "To silence this warning, decorate the function with @tf.autograph.experimental.do_not_convert\n",
            "WARNING: AutoGraph could not transform <bound method Socket.send of <zmq.Socket(zmq.PUSH) at 0x7fba96b39f30>> and will run it as-is.\n",
            "Please report this to the TensorFlow team. When filing the bug, set the verbosity to 10 (on Linux, `export AUTOGRAPH_VERBOSITY=10`) and attach the full output.\n",
            "Cause: module, class, method, function, traceback, frame, or code object was expected, got cython_function_or_method\n",
            "To silence this warning, decorate the function with @tf.autograph.experimental.do_not_convert\n",
            "WARNING:tensorflow:AutoGraph could not transform <function wrap at 0x7fbab1ce8950> and will run it as-is.\n",
            "Cause: while/else statement not yet supported\n",
            "To silence this warning, decorate the function with @tf.autograph.experimental.do_not_convert\n",
            "WARNING: AutoGraph could not transform <function wrap at 0x7fbab1ce8950> and will run it as-is.\n",
            "Cause: while/else statement not yet supported\n",
            "To silence this warning, decorate the function with @tf.autograph.experimental.do_not_convert\n",
            "WARNING:tensorflow:The parameter `return_dict` cannot be set in graph mode and will always be set to `True`.\n",
            "Model: \"model\"\n",
            "__________________________________________________________________________________________________\n",
            "Layer (type)                    Output Shape         Param #     Connected to                     \n",
            "==================================================================================================\n",
            "input_ids (InputLayer)          [(None, 256)]        0                                            \n",
            "__________________________________________________________________________________________________\n",
            "attention_mask (InputLayer)     [(None, 256)]        0                                            \n",
            "__________________________________________________________________________________________________\n",
            "tf_bert_model (TFBertModel)     TFBaseModelOutputWit 109482240   input_ids[0][0]                  \n",
            "                                                                 attention_mask[0][0]             \n",
            "__________________________________________________________________________________________________\n",
            "tf.__operators__.getitem (Slici (None, 768)          0           tf_bert_model[0][0]              \n",
            "__________________________________________________________________________________________________\n",
            "dropout_37 (Dropout)            (None, 768)          0           tf.__operators__.getitem[0][0]   \n",
            "__________________________________________________________________________________________________\n",
            "dense (Dense)                   (None, 64)           49216       dropout_37[0][0]                 \n",
            "__________________________________________________________________________________________________\n",
            "dense_1 (Dense)                 (None, 32)           2080        dense[0][0]                      \n",
            "__________________________________________________________________________________________________\n",
            "dense_2 (Dense)                 (None, 4)            132         dense_1[0][0]                    \n",
            "==================================================================================================\n",
            "Total params: 109,533,668\n",
            "Trainable params: 109,533,668\n",
            "Non-trainable params: 0\n",
            "__________________________________________________________________________________________________\n"
          ],
          "name": "stdout"
        }
      ]
    },
    {
      "cell_type": "code",
      "metadata": {
        "colab": {
          "base_uri": "https://localhost:8080/"
        },
        "id": "sJ9M0unwp1iW",
        "outputId": "374fe04b-fe64-405b-abe6-8592f9cdbf77"
      },
      "source": [
        "with tf.device('/GPU:0'):\n",
        "    bert.fit(x_train,y_train,batch_size=batch_size,epochs=epochs,verbose=1,validation_split=0.1)"
      ],
      "execution_count": null,
      "outputs": [
        {
          "output_type": "stream",
          "text": [
            "Epoch 1/5\n",
            "WARNING:tensorflow:The parameters `output_attentions`, `output_hidden_states` and `use_cache` cannot be updated when calling a model.They have to be set to True/False in the config object (i.e.: `config=XConfig.from_pretrained('name', output_attentions=True)`).\n",
            "WARNING:tensorflow:The parameter `return_dict` cannot be set in graph mode and will always be set to `True`.\n"
          ],
          "name": "stdout"
        },
        {
          "output_type": "stream",
          "text": [
            "/usr/local/lib/python3.7/dist-packages/keras/backend.py:4994: UserWarning:\n",
            "\n",
            "\"`binary_crossentropy` received `from_logits=True`, but the `output` argument was produced by a sigmoid or softmax activation and thus does not represent logits. Was this intended?\"\n",
            "\n"
          ],
          "name": "stderr"
        },
        {
          "output_type": "stream",
          "text": [
            "WARNING:tensorflow:Gradients do not exist for variables ['tf_bert_model/bert/pooler/dense/kernel:0', 'tf_bert_model/bert/pooler/dense/bias:0'] when minimizing the loss.\n",
            "WARNING:tensorflow:The parameters `output_attentions`, `output_hidden_states` and `use_cache` cannot be updated when calling a model.They have to be set to True/False in the config object (i.e.: `config=XConfig.from_pretrained('name', output_attentions=True)`).\n",
            "WARNING:tensorflow:The parameter `return_dict` cannot be set in graph mode and will always be set to `True`.\n",
            "WARNING:tensorflow:Gradients do not exist for variables ['tf_bert_model/bert/pooler/dense/kernel:0', 'tf_bert_model/bert/pooler/dense/bias:0'] when minimizing the loss.\n",
            "692/692 [==============================] - ETA: 0s - loss: 0.4234 - accuracy: 0.5824WARNING:tensorflow:The parameters `output_attentions`, `output_hidden_states` and `use_cache` cannot be updated when calling a model.They have to be set to True/False in the config object (i.e.: `config=XConfig.from_pretrained('name', output_attentions=True)`).\n",
            "WARNING:tensorflow:The parameter `return_dict` cannot be set in graph mode and will always be set to `True`.\n",
            "692/692 [==============================] - 376s 514ms/step - loss: 0.4234 - accuracy: 0.5824 - val_loss: 0.3730 - val_accuracy: 0.6494\n",
            "Epoch 2/5\n",
            "692/692 [==============================] - 353s 510ms/step - loss: 0.3048 - accuracy: 0.7314 - val_loss: 0.3217 - val_accuracy: 0.7240\n",
            "Epoch 3/5\n",
            "692/692 [==============================] - 344s 497ms/step - loss: 0.1814 - accuracy: 0.8539 - val_loss: 0.4430 - val_accuracy: 0.7013\n",
            "Epoch 4/5\n",
            "692/692 [==============================] - 344s 497ms/step - loss: 0.0945 - accuracy: 0.9320 - val_loss: 0.5384 - val_accuracy: 0.6234\n",
            "Epoch 5/5\n",
            "692/692 [==============================] - 352s 509ms/step - loss: 0.0521 - accuracy: 0.9657 - val_loss: 0.6005 - val_accuracy: 0.6721\n"
          ],
          "name": "stdout"
        }
      ]
    },
    {
      "cell_type": "code",
      "metadata": {
        "id": "KFDZDWxzaFMb",
        "colab": {
          "base_uri": "https://localhost:8080/"
        },
        "outputId": "85208dce-ebf8-4c12-9486-3a69b351b4c8"
      },
      "source": [
        "test_ids= test_df['_id']\n",
        "x_test= data_tokenization(proc_test_df,feature_col[0],max_len,tokenizer)\n",
        "x_test"
      ],
      "execution_count": null,
      "outputs": [
        {
          "output_type": "execute_result",
          "data": {
            "text/plain": [
              "[array([[  101,  7610, 28765, ...,     0,     0,     0],\n",
              "        [  101, 19354,  7716, ...,     0,     0,     0],\n",
              "        [  101,  3407,  6620, ...,     0,     0,     0],\n",
              "        ...,\n",
              "        [  101,  2279, 12731, ...,     0,     0,     0],\n",
              "        [  101,  4931,  2009, ...,     0,     0,     0],\n",
              "        [  101,  2848, 16901, ...,     0,     0,     0]], dtype=int32),\n",
              " array([[1, 1, 1, ..., 0, 0, 0],\n",
              "        [1, 1, 1, ..., 0, 0, 0],\n",
              "        [1, 1, 1, ..., 0, 0, 0],\n",
              "        ...,\n",
              "        [1, 1, 1, ..., 0, 0, 0],\n",
              "        [1, 1, 1, ..., 0, 0, 0],\n",
              "        [1, 1, 1, ..., 0, 0, 0]], dtype=int32)]"
            ]
          },
          "metadata": {},
          "execution_count": 24
        }
      ]
    },
    {
      "cell_type": "code",
      "metadata": {
        "id": "dQHj8LSrhVbU",
        "colab": {
          "base_uri": "https://localhost:8080/"
        },
        "outputId": "17bc9dee-d41b-4607-b912-f7e12f1cd90f"
      },
      "source": [
        "test_df['_id']"
      ],
      "execution_count": null,
      "outputs": [
        {
          "output_type": "execute_result",
          "data": {
            "text/plain": [
              "1092    60c5d6bf5659ea5e55defc89\n",
              "2154    60c5d6bf5659ea5e55def1d6\n",
              "826     60c5d6bf5659ea5e55df0311\n",
              "3652    60c5d6bf5659ea5e55def260\n",
              "672     60c5d6bf5659ea5e55deff39\n",
              "                  ...           \n",
              "1771    60c5d6bf5659ea5e55def922\n",
              "2816    60c5d6bf5659ea5e55df02d3\n",
              "3193    60c5d6bf5659ea5e55df024c\n",
              "3377    60c5d6bf5659ea5e55df026a\n",
              "3641    60c5d6bf5659ea5e55def6b6\n",
              "Name: _id, Length: 769, dtype: object"
            ]
          },
          "metadata": {},
          "execution_count": 25
        }
      ]
    },
    {
      "cell_type": "code",
      "metadata": {
        "id": "rXFWXfllaOEF",
        "colab": {
          "base_uri": "https://localhost:8080/"
        },
        "outputId": "c8362b7d-a090-4857-ce2d-1f79026120e6"
      },
      "source": [
        "preds= bert.predict(x_test)\n",
        "\n"
      ],
      "execution_count": null,
      "outputs": [
        {
          "output_type": "stream",
          "text": [
            "WARNING:tensorflow:The parameters `output_attentions`, `output_hidden_states` and `use_cache` cannot be updated when calling a model.They have to be set to True/False in the config object (i.e.: `config=XConfig.from_pretrained('name', output_attentions=True)`).\n",
            "WARNING:tensorflow:The parameter `return_dict` cannot be set in graph mode and will always be set to `True`.\n"
          ],
          "name": "stdout"
        }
      ]
    },
    {
      "cell_type": "code",
      "metadata": {
        "id": "OmWazzyWbKsC",
        "colab": {
          "base_uri": "https://localhost:8080/",
          "height": 419
        },
        "outputId": "6154b842-2cca-4ed1-c745-723a274ba46c"
      },
      "source": [
        "submiss_df= pd.DataFrame(preds, columns= target_col)\n",
        "submiss_df['id']=list(test_df['_id'])\n",
        "submiss_df"
      ],
      "execution_count": null,
      "outputs": [
        {
          "output_type": "execute_result",
          "data": {
            "text/html": [
              "<div>\n",
              "<style scoped>\n",
              "    .dataframe tbody tr th:only-of-type {\n",
              "        vertical-align: middle;\n",
              "    }\n",
              "\n",
              "    .dataframe tbody tr th {\n",
              "        vertical-align: top;\n",
              "    }\n",
              "\n",
              "    .dataframe thead th {\n",
              "        text-align: right;\n",
              "    }\n",
              "</style>\n",
              "<table border=\"1\" class=\"dataframe\">\n",
              "  <thead>\n",
              "    <tr style=\"text-align: right;\">\n",
              "      <th></th>\n",
              "      <th>hate</th>\n",
              "      <th>offen</th>\n",
              "      <th>prof</th>\n",
              "      <th>none</th>\n",
              "      <th>id</th>\n",
              "    </tr>\n",
              "  </thead>\n",
              "  <tbody>\n",
              "    <tr>\n",
              "      <th>0</th>\n",
              "      <td>0.002043</td>\n",
              "      <td>0.974148</td>\n",
              "      <td>0.001425</td>\n",
              "      <td>0.052254</td>\n",
              "      <td>60c5d6bf5659ea5e55defc89</td>\n",
              "    </tr>\n",
              "    <tr>\n",
              "      <th>1</th>\n",
              "      <td>0.001626</td>\n",
              "      <td>0.979116</td>\n",
              "      <td>0.009639</td>\n",
              "      <td>0.011772</td>\n",
              "      <td>60c5d6bf5659ea5e55def1d6</td>\n",
              "    </tr>\n",
              "    <tr>\n",
              "      <th>2</th>\n",
              "      <td>0.002839</td>\n",
              "      <td>0.000263</td>\n",
              "      <td>0.995727</td>\n",
              "      <td>0.001205</td>\n",
              "      <td>60c5d6bf5659ea5e55df0311</td>\n",
              "    </tr>\n",
              "    <tr>\n",
              "      <th>3</th>\n",
              "      <td>0.000087</td>\n",
              "      <td>0.000179</td>\n",
              "      <td>0.998941</td>\n",
              "      <td>0.000149</td>\n",
              "      <td>60c5d6bf5659ea5e55def260</td>\n",
              "    </tr>\n",
              "    <tr>\n",
              "      <th>4</th>\n",
              "      <td>0.007449</td>\n",
              "      <td>0.000262</td>\n",
              "      <td>0.001037</td>\n",
              "      <td>0.992124</td>\n",
              "      <td>60c5d6bf5659ea5e55deff39</td>\n",
              "    </tr>\n",
              "    <tr>\n",
              "      <th>...</th>\n",
              "      <td>...</td>\n",
              "      <td>...</td>\n",
              "      <td>...</td>\n",
              "      <td>...</td>\n",
              "      <td>...</td>\n",
              "    </tr>\n",
              "    <tr>\n",
              "      <th>764</th>\n",
              "      <td>0.009057</td>\n",
              "      <td>0.601427</td>\n",
              "      <td>0.269961</td>\n",
              "      <td>0.016167</td>\n",
              "      <td>60c5d6bf5659ea5e55def922</td>\n",
              "    </tr>\n",
              "    <tr>\n",
              "      <th>765</th>\n",
              "      <td>0.049448</td>\n",
              "      <td>0.001282</td>\n",
              "      <td>0.002352</td>\n",
              "      <td>0.982864</td>\n",
              "      <td>60c5d6bf5659ea5e55df02d3</td>\n",
              "    </tr>\n",
              "    <tr>\n",
              "      <th>766</th>\n",
              "      <td>0.000408</td>\n",
              "      <td>0.000688</td>\n",
              "      <td>0.994915</td>\n",
              "      <td>0.000149</td>\n",
              "      <td>60c5d6bf5659ea5e55df024c</td>\n",
              "    </tr>\n",
              "    <tr>\n",
              "      <th>767</th>\n",
              "      <td>0.000066</td>\n",
              "      <td>0.001221</td>\n",
              "      <td>0.993228</td>\n",
              "      <td>0.000038</td>\n",
              "      <td>60c5d6bf5659ea5e55df026a</td>\n",
              "    </tr>\n",
              "    <tr>\n",
              "      <th>768</th>\n",
              "      <td>0.007347</td>\n",
              "      <td>0.979495</td>\n",
              "      <td>0.016121</td>\n",
              "      <td>0.002098</td>\n",
              "      <td>60c5d6bf5659ea5e55def6b6</td>\n",
              "    </tr>\n",
              "  </tbody>\n",
              "</table>\n",
              "<p>769 rows × 5 columns</p>\n",
              "</div>"
            ],
            "text/plain": [
              "         hate     offen      prof      none                        id\n",
              "0    0.002043  0.974148  0.001425  0.052254  60c5d6bf5659ea5e55defc89\n",
              "1    0.001626  0.979116  0.009639  0.011772  60c5d6bf5659ea5e55def1d6\n",
              "2    0.002839  0.000263  0.995727  0.001205  60c5d6bf5659ea5e55df0311\n",
              "3    0.000087  0.000179  0.998941  0.000149  60c5d6bf5659ea5e55def260\n",
              "4    0.007449  0.000262  0.001037  0.992124  60c5d6bf5659ea5e55deff39\n",
              "..        ...       ...       ...       ...                       ...\n",
              "764  0.009057  0.601427  0.269961  0.016167  60c5d6bf5659ea5e55def922\n",
              "765  0.049448  0.001282  0.002352  0.982864  60c5d6bf5659ea5e55df02d3\n",
              "766  0.000408  0.000688  0.994915  0.000149  60c5d6bf5659ea5e55df024c\n",
              "767  0.000066  0.001221  0.993228  0.000038  60c5d6bf5659ea5e55df026a\n",
              "768  0.007347  0.979495  0.016121  0.002098  60c5d6bf5659ea5e55def6b6\n",
              "\n",
              "[769 rows x 5 columns]"
            ]
          },
          "metadata": {},
          "execution_count": 27
        }
      ]
    },
    {
      "cell_type": "code",
      "metadata": {
        "id": "kylNcM1whFuF",
        "colab": {
          "base_uri": "https://localhost:8080/",
          "height": 419
        },
        "outputId": "2082ace0-3f81-479b-f150-5b07871960a2"
      },
      "source": [
        "submiss_df = submiss_df[['id']+target_col.tolist()]\n",
        "submiss_df"
      ],
      "execution_count": null,
      "outputs": [
        {
          "output_type": "execute_result",
          "data": {
            "text/html": [
              "<div>\n",
              "<style scoped>\n",
              "    .dataframe tbody tr th:only-of-type {\n",
              "        vertical-align: middle;\n",
              "    }\n",
              "\n",
              "    .dataframe tbody tr th {\n",
              "        vertical-align: top;\n",
              "    }\n",
              "\n",
              "    .dataframe thead th {\n",
              "        text-align: right;\n",
              "    }\n",
              "</style>\n",
              "<table border=\"1\" class=\"dataframe\">\n",
              "  <thead>\n",
              "    <tr style=\"text-align: right;\">\n",
              "      <th></th>\n",
              "      <th>id</th>\n",
              "      <th>hate</th>\n",
              "      <th>offen</th>\n",
              "      <th>prof</th>\n",
              "      <th>none</th>\n",
              "    </tr>\n",
              "  </thead>\n",
              "  <tbody>\n",
              "    <tr>\n",
              "      <th>0</th>\n",
              "      <td>60c5d6bf5659ea5e55defc89</td>\n",
              "      <td>0.002043</td>\n",
              "      <td>0.974148</td>\n",
              "      <td>0.001425</td>\n",
              "      <td>0.052254</td>\n",
              "    </tr>\n",
              "    <tr>\n",
              "      <th>1</th>\n",
              "      <td>60c5d6bf5659ea5e55def1d6</td>\n",
              "      <td>0.001626</td>\n",
              "      <td>0.979116</td>\n",
              "      <td>0.009639</td>\n",
              "      <td>0.011772</td>\n",
              "    </tr>\n",
              "    <tr>\n",
              "      <th>2</th>\n",
              "      <td>60c5d6bf5659ea5e55df0311</td>\n",
              "      <td>0.002839</td>\n",
              "      <td>0.000263</td>\n",
              "      <td>0.995727</td>\n",
              "      <td>0.001205</td>\n",
              "    </tr>\n",
              "    <tr>\n",
              "      <th>3</th>\n",
              "      <td>60c5d6bf5659ea5e55def260</td>\n",
              "      <td>0.000087</td>\n",
              "      <td>0.000179</td>\n",
              "      <td>0.998941</td>\n",
              "      <td>0.000149</td>\n",
              "    </tr>\n",
              "    <tr>\n",
              "      <th>4</th>\n",
              "      <td>60c5d6bf5659ea5e55deff39</td>\n",
              "      <td>0.007449</td>\n",
              "      <td>0.000262</td>\n",
              "      <td>0.001037</td>\n",
              "      <td>0.992124</td>\n",
              "    </tr>\n",
              "    <tr>\n",
              "      <th>...</th>\n",
              "      <td>...</td>\n",
              "      <td>...</td>\n",
              "      <td>...</td>\n",
              "      <td>...</td>\n",
              "      <td>...</td>\n",
              "    </tr>\n",
              "    <tr>\n",
              "      <th>764</th>\n",
              "      <td>60c5d6bf5659ea5e55def922</td>\n",
              "      <td>0.009057</td>\n",
              "      <td>0.601427</td>\n",
              "      <td>0.269961</td>\n",
              "      <td>0.016167</td>\n",
              "    </tr>\n",
              "    <tr>\n",
              "      <th>765</th>\n",
              "      <td>60c5d6bf5659ea5e55df02d3</td>\n",
              "      <td>0.049448</td>\n",
              "      <td>0.001282</td>\n",
              "      <td>0.002352</td>\n",
              "      <td>0.982864</td>\n",
              "    </tr>\n",
              "    <tr>\n",
              "      <th>766</th>\n",
              "      <td>60c5d6bf5659ea5e55df024c</td>\n",
              "      <td>0.000408</td>\n",
              "      <td>0.000688</td>\n",
              "      <td>0.994915</td>\n",
              "      <td>0.000149</td>\n",
              "    </tr>\n",
              "    <tr>\n",
              "      <th>767</th>\n",
              "      <td>60c5d6bf5659ea5e55df026a</td>\n",
              "      <td>0.000066</td>\n",
              "      <td>0.001221</td>\n",
              "      <td>0.993228</td>\n",
              "      <td>0.000038</td>\n",
              "    </tr>\n",
              "    <tr>\n",
              "      <th>768</th>\n",
              "      <td>60c5d6bf5659ea5e55def6b6</td>\n",
              "      <td>0.007347</td>\n",
              "      <td>0.979495</td>\n",
              "      <td>0.016121</td>\n",
              "      <td>0.002098</td>\n",
              "    </tr>\n",
              "  </tbody>\n",
              "</table>\n",
              "<p>769 rows × 5 columns</p>\n",
              "</div>"
            ],
            "text/plain": [
              "                           id      hate     offen      prof      none\n",
              "0    60c5d6bf5659ea5e55defc89  0.002043  0.974148  0.001425  0.052254\n",
              "1    60c5d6bf5659ea5e55def1d6  0.001626  0.979116  0.009639  0.011772\n",
              "2    60c5d6bf5659ea5e55df0311  0.002839  0.000263  0.995727  0.001205\n",
              "3    60c5d6bf5659ea5e55def260  0.000087  0.000179  0.998941  0.000149\n",
              "4    60c5d6bf5659ea5e55deff39  0.007449  0.000262  0.001037  0.992124\n",
              "..                        ...       ...       ...       ...       ...\n",
              "764  60c5d6bf5659ea5e55def922  0.009057  0.601427  0.269961  0.016167\n",
              "765  60c5d6bf5659ea5e55df02d3  0.049448  0.001282  0.002352  0.982864\n",
              "766  60c5d6bf5659ea5e55df024c  0.000408  0.000688  0.994915  0.000149\n",
              "767  60c5d6bf5659ea5e55df026a  0.000066  0.001221  0.993228  0.000038\n",
              "768  60c5d6bf5659ea5e55def6b6  0.007347  0.979495  0.016121  0.002098\n",
              "\n",
              "[769 rows x 5 columns]"
            ]
          },
          "metadata": {},
          "execution_count": 28
        }
      ]
    },
    {
      "cell_type": "markdown",
      "metadata": {
        "id": "Nx4gRuxC5YNB"
      },
      "source": [
        "#task_2"
      ]
    },
    {
      "cell_type": "code",
      "metadata": {
        "colab": {
          "base_uri": "https://localhost:8080/",
          "height": 49
        },
        "id": "4LaQKc1417tI",
        "outputId": "d3211e21-c7d6-43ed-ae66-ff0e195e88fe"
      },
      "source": [
        "column_names = [\"id\", \"label\"]\n",
        "submission_df = pd.DataFrame(columns = column_names)\n",
        "submission_df"
      ],
      "execution_count": null,
      "outputs": [
        {
          "output_type": "execute_result",
          "data": {
            "text/html": [
              "<div>\n",
              "<style scoped>\n",
              "    .dataframe tbody tr th:only-of-type {\n",
              "        vertical-align: middle;\n",
              "    }\n",
              "\n",
              "    .dataframe tbody tr th {\n",
              "        vertical-align: top;\n",
              "    }\n",
              "\n",
              "    .dataframe thead th {\n",
              "        text-align: right;\n",
              "    }\n",
              "</style>\n",
              "<table border=\"1\" class=\"dataframe\">\n",
              "  <thead>\n",
              "    <tr style=\"text-align: right;\">\n",
              "      <th></th>\n",
              "      <th>id</th>\n",
              "      <th>label</th>\n",
              "    </tr>\n",
              "  </thead>\n",
              "  <tbody>\n",
              "  </tbody>\n",
              "</table>\n",
              "</div>"
            ],
            "text/plain": [
              "Empty DataFrame\n",
              "Columns: [id, label]\n",
              "Index: []"
            ]
          },
          "metadata": {},
          "execution_count": 29
        }
      ]
    },
    {
      "cell_type": "code",
      "metadata": {
        "id": "Hzythx5uyePw"
      },
      "source": [
        "for i in range(len(submiss_df)):\n",
        "  temp = max(submiss_df['hate'].iloc[i],submiss_df['offen'].iloc[i],submiss_df['none'].iloc[i],submiss_df['prof'].iloc[i])\n",
        "  id_temp = submiss_df['id'].iloc[i]\n",
        "  if temp == submiss_df['hate'].iloc[i]:\n",
        "    submission_df.loc[i] = [id_temp,'HATE']\n",
        "  elif temp == submiss_df['offen'].iloc[i]:\n",
        "    submission_df.loc[i] = [id_temp,'OFFN']\n",
        "  elif temp == submiss_df['prof'].iloc[i]:\n",
        "    submission_df.loc[i] = [id_temp,'PRFN']\n",
        "  elif temp == submiss_df['none'].iloc[i]:\n",
        "    submission_df.loc[i] = [id_temp,'NONE']\n"
      ],
      "execution_count": null,
      "outputs": []
    },
    {
      "cell_type": "code",
      "metadata": {
        "colab": {
          "base_uri": "https://localhost:8080/",
          "height": 419
        },
        "id": "twOshDSm4YpV",
        "outputId": "b11ade03-3d16-4a34-81ef-f5df2677b571"
      },
      "source": [
        "submission_df"
      ],
      "execution_count": null,
      "outputs": [
        {
          "output_type": "execute_result",
          "data": {
            "text/html": [
              "<div>\n",
              "<style scoped>\n",
              "    .dataframe tbody tr th:only-of-type {\n",
              "        vertical-align: middle;\n",
              "    }\n",
              "\n",
              "    .dataframe tbody tr th {\n",
              "        vertical-align: top;\n",
              "    }\n",
              "\n",
              "    .dataframe thead th {\n",
              "        text-align: right;\n",
              "    }\n",
              "</style>\n",
              "<table border=\"1\" class=\"dataframe\">\n",
              "  <thead>\n",
              "    <tr style=\"text-align: right;\">\n",
              "      <th></th>\n",
              "      <th>id</th>\n",
              "      <th>label</th>\n",
              "    </tr>\n",
              "  </thead>\n",
              "  <tbody>\n",
              "    <tr>\n",
              "      <th>0</th>\n",
              "      <td>60c5d6bf5659ea5e55defc89</td>\n",
              "      <td>OFFN</td>\n",
              "    </tr>\n",
              "    <tr>\n",
              "      <th>1</th>\n",
              "      <td>60c5d6bf5659ea5e55def1d6</td>\n",
              "      <td>OFFN</td>\n",
              "    </tr>\n",
              "    <tr>\n",
              "      <th>2</th>\n",
              "      <td>60c5d6bf5659ea5e55df0311</td>\n",
              "      <td>PRFN</td>\n",
              "    </tr>\n",
              "    <tr>\n",
              "      <th>3</th>\n",
              "      <td>60c5d6bf5659ea5e55def260</td>\n",
              "      <td>PRFN</td>\n",
              "    </tr>\n",
              "    <tr>\n",
              "      <th>4</th>\n",
              "      <td>60c5d6bf5659ea5e55deff39</td>\n",
              "      <td>NONE</td>\n",
              "    </tr>\n",
              "    <tr>\n",
              "      <th>...</th>\n",
              "      <td>...</td>\n",
              "      <td>...</td>\n",
              "    </tr>\n",
              "    <tr>\n",
              "      <th>764</th>\n",
              "      <td>60c5d6bf5659ea5e55def922</td>\n",
              "      <td>OFFN</td>\n",
              "    </tr>\n",
              "    <tr>\n",
              "      <th>765</th>\n",
              "      <td>60c5d6bf5659ea5e55df02d3</td>\n",
              "      <td>NONE</td>\n",
              "    </tr>\n",
              "    <tr>\n",
              "      <th>766</th>\n",
              "      <td>60c5d6bf5659ea5e55df024c</td>\n",
              "      <td>PRFN</td>\n",
              "    </tr>\n",
              "    <tr>\n",
              "      <th>767</th>\n",
              "      <td>60c5d6bf5659ea5e55df026a</td>\n",
              "      <td>PRFN</td>\n",
              "    </tr>\n",
              "    <tr>\n",
              "      <th>768</th>\n",
              "      <td>60c5d6bf5659ea5e55def6b6</td>\n",
              "      <td>OFFN</td>\n",
              "    </tr>\n",
              "  </tbody>\n",
              "</table>\n",
              "<p>769 rows × 2 columns</p>\n",
              "</div>"
            ],
            "text/plain": [
              "                           id label\n",
              "0    60c5d6bf5659ea5e55defc89  OFFN\n",
              "1    60c5d6bf5659ea5e55def1d6  OFFN\n",
              "2    60c5d6bf5659ea5e55df0311  PRFN\n",
              "3    60c5d6bf5659ea5e55def260  PRFN\n",
              "4    60c5d6bf5659ea5e55deff39  NONE\n",
              "..                        ...   ...\n",
              "764  60c5d6bf5659ea5e55def922  OFFN\n",
              "765  60c5d6bf5659ea5e55df02d3  NONE\n",
              "766  60c5d6bf5659ea5e55df024c  PRFN\n",
              "767  60c5d6bf5659ea5e55df026a  PRFN\n",
              "768  60c5d6bf5659ea5e55def6b6  OFFN\n",
              "\n",
              "[769 rows x 2 columns]"
            ]
          },
          "metadata": {},
          "execution_count": 31
        }
      ]
    },
    {
      "cell_type": "code",
      "metadata": {
        "id": "eX2FJVnYjmKr",
        "colab": {
          "base_uri": "https://localhost:8080/",
          "height": 419
        },
        "outputId": "247581b1-fcd6-4e36-9d21-e67672089ecd"
      },
      "source": [
        "test_df"
      ],
      "execution_count": null,
      "outputs": [
        {
          "output_type": "execute_result",
          "data": {
            "text/html": [
              "<div>\n",
              "<style scoped>\n",
              "    .dataframe tbody tr th:only-of-type {\n",
              "        vertical-align: middle;\n",
              "    }\n",
              "\n",
              "    .dataframe tbody tr th {\n",
              "        vertical-align: top;\n",
              "    }\n",
              "\n",
              "    .dataframe thead th {\n",
              "        text-align: right;\n",
              "    }\n",
              "</style>\n",
              "<table border=\"1\" class=\"dataframe\">\n",
              "  <thead>\n",
              "    <tr style=\"text-align: right;\">\n",
              "      <th></th>\n",
              "      <th>_id</th>\n",
              "      <th>text</th>\n",
              "      <th>hate</th>\n",
              "      <th>offen</th>\n",
              "      <th>prof</th>\n",
              "      <th>none</th>\n",
              "    </tr>\n",
              "  </thead>\n",
              "  <tbody>\n",
              "    <tr>\n",
              "      <th>1092</th>\n",
              "      <td>60c5d6bf5659ea5e55defc89</td>\n",
              "      <td>pmoindia narendramodi potus joebiden potus vp ...</td>\n",
              "      <td>0</td>\n",
              "      <td>1</td>\n",
              "      <td>0</td>\n",
              "      <td>0</td>\n",
              "    </tr>\n",
              "    <tr>\n",
              "      <th>2154</th>\n",
              "      <td>60c5d6bf5659ea5e55def1d6</td>\n",
              "      <td>vinodkapri narendramodi horrible scene will mo...</td>\n",
              "      <td>1</td>\n",
              "      <td>0</td>\n",
              "      <td>0</td>\n",
              "      <td>0</td>\n",
              "    </tr>\n",
              "    <tr>\n",
              "      <th>826</th>\n",
              "      <td>60c5d6bf5659ea5e55df0311</td>\n",
              "      <td>happy pride month from americaâ € ™ s whore</td>\n",
              "      <td>0</td>\n",
              "      <td>0</td>\n",
              "      <td>1</td>\n",
              "      <td>0</td>\n",
              "    </tr>\n",
              "    <tr>\n",
              "      <th>3652</th>\n",
              "      <td>60c5d6bf5659ea5e55def260</td>\n",
              "      <td>bukayosaka 87 r k hoy england stay safe king d...</td>\n",
              "      <td>0</td>\n",
              "      <td>0</td>\n",
              "      <td>1</td>\n",
              "      <td>0</td>\n",
              "    </tr>\n",
              "    <tr>\n",
              "      <th>672</th>\n",
              "      <td>60c5d6bf5659ea5e55deff39</td>\n",
              "      <td>ramesha 19919981 tweet 2 genda really if this ...</td>\n",
              "      <td>1</td>\n",
              "      <td>0</td>\n",
              "      <td>0</td>\n",
              "      <td>0</td>\n",
              "    </tr>\n",
              "    <tr>\n",
              "      <th>...</th>\n",
              "      <td>...</td>\n",
              "      <td>...</td>\n",
              "      <td>...</td>\n",
              "      <td>...</td>\n",
              "      <td>...</td>\n",
              "      <td>...</td>\n",
              "    </tr>\n",
              "    <tr>\n",
              "      <th>1771</th>\n",
              "      <td>60c5d6bf5659ea5e55def922</td>\n",
              "      <td>sebi 3525 discord i d agree with you but shut ...</td>\n",
              "      <td>0</td>\n",
              "      <td>0</td>\n",
              "      <td>1</td>\n",
              "      <td>0</td>\n",
              "    </tr>\n",
              "    <tr>\n",
              "      <th>2816</th>\n",
              "      <td>60c5d6bf5659ea5e55df02d3</td>\n",
              "      <td>hoseok literally created the lgbt community yo...</td>\n",
              "      <td>0</td>\n",
              "      <td>0</td>\n",
              "      <td>1</td>\n",
              "      <td>0</td>\n",
              "    </tr>\n",
              "    <tr>\n",
              "      <th>3193</th>\n",
              "      <td>60c5d6bf5659ea5e55df024c</td>\n",
              "      <td>next cunt challenge me in the middle lane with...</td>\n",
              "      <td>0</td>\n",
              "      <td>0</td>\n",
              "      <td>1</td>\n",
              "      <td>0</td>\n",
              "    </tr>\n",
              "    <tr>\n",
              "      <th>3377</th>\n",
              "      <td>60c5d6bf5659ea5e55df026a</td>\n",
              "      <td>hey it zero urmomavery 413 at least i got a jo...</td>\n",
              "      <td>0</td>\n",
              "      <td>0</td>\n",
              "      <td>1</td>\n",
              "      <td>0</td>\n",
              "    </tr>\n",
              "    <tr>\n",
              "      <th>3641</th>\n",
              "      <td>60c5d6bf5659ea5e55def6b6</td>\n",
              "      <td>peterrock tbf that wa actually oba of lagos an...</td>\n",
              "      <td>0</td>\n",
              "      <td>0</td>\n",
              "      <td>1</td>\n",
              "      <td>0</td>\n",
              "    </tr>\n",
              "  </tbody>\n",
              "</table>\n",
              "<p>769 rows × 6 columns</p>\n",
              "</div>"
            ],
            "text/plain": [
              "                           _id  ... none\n",
              "1092  60c5d6bf5659ea5e55defc89  ...    0\n",
              "2154  60c5d6bf5659ea5e55def1d6  ...    0\n",
              "826   60c5d6bf5659ea5e55df0311  ...    0\n",
              "3652  60c5d6bf5659ea5e55def260  ...    0\n",
              "672   60c5d6bf5659ea5e55deff39  ...    0\n",
              "...                        ...  ...  ...\n",
              "1771  60c5d6bf5659ea5e55def922  ...    0\n",
              "2816  60c5d6bf5659ea5e55df02d3  ...    0\n",
              "3193  60c5d6bf5659ea5e55df024c  ...    0\n",
              "3377  60c5d6bf5659ea5e55df026a  ...    0\n",
              "3641  60c5d6bf5659ea5e55def6b6  ...    0\n",
              "\n",
              "[769 rows x 6 columns]"
            ]
          },
          "metadata": {},
          "execution_count": 32
        }
      ]
    },
    {
      "cell_type": "code",
      "metadata": {
        "id": "0vwKki4i_ivB"
      },
      "source": [
        "idx = []\n",
        "for i in range(len(test_df)):\n",
        "  idx.append(i)"
      ],
      "execution_count": null,
      "outputs": []
    },
    {
      "cell_type": "code",
      "metadata": {
        "id": "96wUIYQP_0qX"
      },
      "source": [
        "test_df = test_df.set_index(pd.Index(idx))"
      ],
      "execution_count": null,
      "outputs": []
    },
    {
      "cell_type": "code",
      "metadata": {
        "colab": {
          "base_uri": "https://localhost:8080/",
          "height": 419
        },
        "id": "SOx-091DAdN-",
        "outputId": "0012865c-9eb5-481a-d9ab-9289f0b2c786"
      },
      "source": [
        "test_df"
      ],
      "execution_count": null,
      "outputs": [
        {
          "output_type": "execute_result",
          "data": {
            "text/html": [
              "<div>\n",
              "<style scoped>\n",
              "    .dataframe tbody tr th:only-of-type {\n",
              "        vertical-align: middle;\n",
              "    }\n",
              "\n",
              "    .dataframe tbody tr th {\n",
              "        vertical-align: top;\n",
              "    }\n",
              "\n",
              "    .dataframe thead th {\n",
              "        text-align: right;\n",
              "    }\n",
              "</style>\n",
              "<table border=\"1\" class=\"dataframe\">\n",
              "  <thead>\n",
              "    <tr style=\"text-align: right;\">\n",
              "      <th></th>\n",
              "      <th>_id</th>\n",
              "      <th>text</th>\n",
              "      <th>hate</th>\n",
              "      <th>offen</th>\n",
              "      <th>prof</th>\n",
              "      <th>none</th>\n",
              "    </tr>\n",
              "  </thead>\n",
              "  <tbody>\n",
              "    <tr>\n",
              "      <th>0</th>\n",
              "      <td>60c5d6bf5659ea5e55defc89</td>\n",
              "      <td>pmoindia narendramodi potus joebiden potus vp ...</td>\n",
              "      <td>0</td>\n",
              "      <td>1</td>\n",
              "      <td>0</td>\n",
              "      <td>0</td>\n",
              "    </tr>\n",
              "    <tr>\n",
              "      <th>1</th>\n",
              "      <td>60c5d6bf5659ea5e55def1d6</td>\n",
              "      <td>vinodkapri narendramodi horrible scene will mo...</td>\n",
              "      <td>1</td>\n",
              "      <td>0</td>\n",
              "      <td>0</td>\n",
              "      <td>0</td>\n",
              "    </tr>\n",
              "    <tr>\n",
              "      <th>2</th>\n",
              "      <td>60c5d6bf5659ea5e55df0311</td>\n",
              "      <td>happy pride month from americaâ € ™ s whore</td>\n",
              "      <td>0</td>\n",
              "      <td>0</td>\n",
              "      <td>1</td>\n",
              "      <td>0</td>\n",
              "    </tr>\n",
              "    <tr>\n",
              "      <th>3</th>\n",
              "      <td>60c5d6bf5659ea5e55def260</td>\n",
              "      <td>bukayosaka 87 r k hoy england stay safe king d...</td>\n",
              "      <td>0</td>\n",
              "      <td>0</td>\n",
              "      <td>1</td>\n",
              "      <td>0</td>\n",
              "    </tr>\n",
              "    <tr>\n",
              "      <th>4</th>\n",
              "      <td>60c5d6bf5659ea5e55deff39</td>\n",
              "      <td>ramesha 19919981 tweet 2 genda really if this ...</td>\n",
              "      <td>1</td>\n",
              "      <td>0</td>\n",
              "      <td>0</td>\n",
              "      <td>0</td>\n",
              "    </tr>\n",
              "    <tr>\n",
              "      <th>...</th>\n",
              "      <td>...</td>\n",
              "      <td>...</td>\n",
              "      <td>...</td>\n",
              "      <td>...</td>\n",
              "      <td>...</td>\n",
              "      <td>...</td>\n",
              "    </tr>\n",
              "    <tr>\n",
              "      <th>764</th>\n",
              "      <td>60c5d6bf5659ea5e55def922</td>\n",
              "      <td>sebi 3525 discord i d agree with you but shut ...</td>\n",
              "      <td>0</td>\n",
              "      <td>0</td>\n",
              "      <td>1</td>\n",
              "      <td>0</td>\n",
              "    </tr>\n",
              "    <tr>\n",
              "      <th>765</th>\n",
              "      <td>60c5d6bf5659ea5e55df02d3</td>\n",
              "      <td>hoseok literally created the lgbt community yo...</td>\n",
              "      <td>0</td>\n",
              "      <td>0</td>\n",
              "      <td>1</td>\n",
              "      <td>0</td>\n",
              "    </tr>\n",
              "    <tr>\n",
              "      <th>766</th>\n",
              "      <td>60c5d6bf5659ea5e55df024c</td>\n",
              "      <td>next cunt challenge me in the middle lane with...</td>\n",
              "      <td>0</td>\n",
              "      <td>0</td>\n",
              "      <td>1</td>\n",
              "      <td>0</td>\n",
              "    </tr>\n",
              "    <tr>\n",
              "      <th>767</th>\n",
              "      <td>60c5d6bf5659ea5e55df026a</td>\n",
              "      <td>hey it zero urmomavery 413 at least i got a jo...</td>\n",
              "      <td>0</td>\n",
              "      <td>0</td>\n",
              "      <td>1</td>\n",
              "      <td>0</td>\n",
              "    </tr>\n",
              "    <tr>\n",
              "      <th>768</th>\n",
              "      <td>60c5d6bf5659ea5e55def6b6</td>\n",
              "      <td>peterrock tbf that wa actually oba of lagos an...</td>\n",
              "      <td>0</td>\n",
              "      <td>0</td>\n",
              "      <td>1</td>\n",
              "      <td>0</td>\n",
              "    </tr>\n",
              "  </tbody>\n",
              "</table>\n",
              "<p>769 rows × 6 columns</p>\n",
              "</div>"
            ],
            "text/plain": [
              "                          _id  ... none\n",
              "0    60c5d6bf5659ea5e55defc89  ...    0\n",
              "1    60c5d6bf5659ea5e55def1d6  ...    0\n",
              "2    60c5d6bf5659ea5e55df0311  ...    0\n",
              "3    60c5d6bf5659ea5e55def260  ...    0\n",
              "4    60c5d6bf5659ea5e55deff39  ...    0\n",
              "..                        ...  ...  ...\n",
              "764  60c5d6bf5659ea5e55def922  ...    0\n",
              "765  60c5d6bf5659ea5e55df02d3  ...    0\n",
              "766  60c5d6bf5659ea5e55df024c  ...    0\n",
              "767  60c5d6bf5659ea5e55df026a  ...    0\n",
              "768  60c5d6bf5659ea5e55def6b6  ...    0\n",
              "\n",
              "[769 rows x 6 columns]"
            ]
          },
          "metadata": {},
          "execution_count": 35
        }
      ]
    },
    {
      "cell_type": "markdown",
      "metadata": {
        "id": "Higid8-46Qie"
      },
      "source": [
        "#analyse"
      ]
    },
    {
      "cell_type": "code",
      "metadata": {
        "colab": {
          "base_uri": "https://localhost:8080/",
          "height": 49
        },
        "id": "3_TepsPa6NMQ",
        "outputId": "8a665fac-2bbb-4438-ded1-b79f873255a0"
      },
      "source": [
        "column_names = [\"id\",\"hate\",\"offen\",\"prof\",\"none\"]\n",
        "analyse_df = pd.DataFrame(columns = column_names)\n",
        "analyse_df"
      ],
      "execution_count": null,
      "outputs": [
        {
          "output_type": "execute_result",
          "data": {
            "text/html": [
              "<div>\n",
              "<style scoped>\n",
              "    .dataframe tbody tr th:only-of-type {\n",
              "        vertical-align: middle;\n",
              "    }\n",
              "\n",
              "    .dataframe tbody tr th {\n",
              "        vertical-align: top;\n",
              "    }\n",
              "\n",
              "    .dataframe thead th {\n",
              "        text-align: right;\n",
              "    }\n",
              "</style>\n",
              "<table border=\"1\" class=\"dataframe\">\n",
              "  <thead>\n",
              "    <tr style=\"text-align: right;\">\n",
              "      <th></th>\n",
              "      <th>id</th>\n",
              "      <th>hate</th>\n",
              "      <th>offen</th>\n",
              "      <th>prof</th>\n",
              "      <th>none</th>\n",
              "    </tr>\n",
              "  </thead>\n",
              "  <tbody>\n",
              "  </tbody>\n",
              "</table>\n",
              "</div>"
            ],
            "text/plain": [
              "Empty DataFrame\n",
              "Columns: [id, hate, offen, prof, none]\n",
              "Index: []"
            ]
          },
          "metadata": {},
          "execution_count": 36
        }
      ]
    },
    {
      "cell_type": "code",
      "metadata": {
        "id": "X3ulxViA6rsW"
      },
      "source": [
        "for i in range(len(submission_df)):\n",
        "  id_temp = submission_df['id'].iloc[i]\n",
        "  if submission_df['label'].iloc[i] == \"NONE\":\n",
        "    analyse_df.loc[i] = [id_temp,0,0,0,1]\n",
        "  elif submission_df['label'].iloc[i] == \"PRFN\":\n",
        "    analyse_df.loc[i] = [id_temp,0,0,1,0]\n",
        "  elif submission_df['label'].iloc[i] == \"OFFN\":\n",
        "    analyse_df.loc[i] = [id_temp,0,1,0,0]\n",
        "  elif submission_df['label'].iloc[i] == \"HATE\":\n",
        "    analyse_df.loc[i] = [id_temp,1,0,0,0]"
      ],
      "execution_count": null,
      "outputs": []
    },
    {
      "cell_type": "code",
      "metadata": {
        "colab": {
          "base_uri": "https://localhost:8080/",
          "height": 419
        },
        "id": "fo2p7oYt7zeV",
        "outputId": "83b80c18-a99e-4640-b7fa-fb0724b53b07"
      },
      "source": [
        "analyse_df"
      ],
      "execution_count": null,
      "outputs": [
        {
          "output_type": "execute_result",
          "data": {
            "text/html": [
              "<div>\n",
              "<style scoped>\n",
              "    .dataframe tbody tr th:only-of-type {\n",
              "        vertical-align: middle;\n",
              "    }\n",
              "\n",
              "    .dataframe tbody tr th {\n",
              "        vertical-align: top;\n",
              "    }\n",
              "\n",
              "    .dataframe thead th {\n",
              "        text-align: right;\n",
              "    }\n",
              "</style>\n",
              "<table border=\"1\" class=\"dataframe\">\n",
              "  <thead>\n",
              "    <tr style=\"text-align: right;\">\n",
              "      <th></th>\n",
              "      <th>id</th>\n",
              "      <th>hate</th>\n",
              "      <th>offen</th>\n",
              "      <th>prof</th>\n",
              "      <th>none</th>\n",
              "    </tr>\n",
              "  </thead>\n",
              "  <tbody>\n",
              "    <tr>\n",
              "      <th>0</th>\n",
              "      <td>60c5d6bf5659ea5e55defc89</td>\n",
              "      <td>0</td>\n",
              "      <td>1</td>\n",
              "      <td>0</td>\n",
              "      <td>0</td>\n",
              "    </tr>\n",
              "    <tr>\n",
              "      <th>1</th>\n",
              "      <td>60c5d6bf5659ea5e55def1d6</td>\n",
              "      <td>0</td>\n",
              "      <td>1</td>\n",
              "      <td>0</td>\n",
              "      <td>0</td>\n",
              "    </tr>\n",
              "    <tr>\n",
              "      <th>2</th>\n",
              "      <td>60c5d6bf5659ea5e55df0311</td>\n",
              "      <td>0</td>\n",
              "      <td>0</td>\n",
              "      <td>1</td>\n",
              "      <td>0</td>\n",
              "    </tr>\n",
              "    <tr>\n",
              "      <th>3</th>\n",
              "      <td>60c5d6bf5659ea5e55def260</td>\n",
              "      <td>0</td>\n",
              "      <td>0</td>\n",
              "      <td>1</td>\n",
              "      <td>0</td>\n",
              "    </tr>\n",
              "    <tr>\n",
              "      <th>4</th>\n",
              "      <td>60c5d6bf5659ea5e55deff39</td>\n",
              "      <td>0</td>\n",
              "      <td>0</td>\n",
              "      <td>0</td>\n",
              "      <td>1</td>\n",
              "    </tr>\n",
              "    <tr>\n",
              "      <th>...</th>\n",
              "      <td>...</td>\n",
              "      <td>...</td>\n",
              "      <td>...</td>\n",
              "      <td>...</td>\n",
              "      <td>...</td>\n",
              "    </tr>\n",
              "    <tr>\n",
              "      <th>764</th>\n",
              "      <td>60c5d6bf5659ea5e55def922</td>\n",
              "      <td>0</td>\n",
              "      <td>1</td>\n",
              "      <td>0</td>\n",
              "      <td>0</td>\n",
              "    </tr>\n",
              "    <tr>\n",
              "      <th>765</th>\n",
              "      <td>60c5d6bf5659ea5e55df02d3</td>\n",
              "      <td>0</td>\n",
              "      <td>0</td>\n",
              "      <td>0</td>\n",
              "      <td>1</td>\n",
              "    </tr>\n",
              "    <tr>\n",
              "      <th>766</th>\n",
              "      <td>60c5d6bf5659ea5e55df024c</td>\n",
              "      <td>0</td>\n",
              "      <td>0</td>\n",
              "      <td>1</td>\n",
              "      <td>0</td>\n",
              "    </tr>\n",
              "    <tr>\n",
              "      <th>767</th>\n",
              "      <td>60c5d6bf5659ea5e55df026a</td>\n",
              "      <td>0</td>\n",
              "      <td>0</td>\n",
              "      <td>1</td>\n",
              "      <td>0</td>\n",
              "    </tr>\n",
              "    <tr>\n",
              "      <th>768</th>\n",
              "      <td>60c5d6bf5659ea5e55def6b6</td>\n",
              "      <td>0</td>\n",
              "      <td>1</td>\n",
              "      <td>0</td>\n",
              "      <td>0</td>\n",
              "    </tr>\n",
              "  </tbody>\n",
              "</table>\n",
              "<p>769 rows × 5 columns</p>\n",
              "</div>"
            ],
            "text/plain": [
              "                           id hate offen prof none\n",
              "0    60c5d6bf5659ea5e55defc89    0     1    0    0\n",
              "1    60c5d6bf5659ea5e55def1d6    0     1    0    0\n",
              "2    60c5d6bf5659ea5e55df0311    0     0    1    0\n",
              "3    60c5d6bf5659ea5e55def260    0     0    1    0\n",
              "4    60c5d6bf5659ea5e55deff39    0     0    0    1\n",
              "..                        ...  ...   ...  ...  ...\n",
              "764  60c5d6bf5659ea5e55def922    0     1    0    0\n",
              "765  60c5d6bf5659ea5e55df02d3    0     0    0    1\n",
              "766  60c5d6bf5659ea5e55df024c    0     0    1    0\n",
              "767  60c5d6bf5659ea5e55df026a    0     0    1    0\n",
              "768  60c5d6bf5659ea5e55def6b6    0     1    0    0\n",
              "\n",
              "[769 rows x 5 columns]"
            ]
          },
          "metadata": {},
          "execution_count": 38
        }
      ]
    },
    {
      "cell_type": "code",
      "metadata": {
        "id": "A4Dub4FY8Zkm"
      },
      "source": [
        "from sklearn.metrics import classification_report\n",
        "from sklearn.metrics import accuracy_score,f1_score, confusion_matrix"
      ],
      "execution_count": null,
      "outputs": []
    },
    {
      "cell_type": "code",
      "metadata": {
        "colab": {
          "base_uri": "https://localhost:8080/"
        },
        "id": "UFSS6vJS-Xq9",
        "outputId": "eca5c363-f4f4-4ad1-dfa7-1bb4d22e09ad"
      },
      "source": [
        "(analyse_df['hate'] == test_df['hate']).value_counts()"
      ],
      "execution_count": null,
      "outputs": [
        {
          "output_type": "execute_result",
          "data": {
            "text/plain": [
              "True     648\n",
              "False    121\n",
              "Name: hate, dtype: int64"
            ]
          },
          "metadata": {},
          "execution_count": 40
        }
      ]
    },
    {
      "cell_type": "code",
      "metadata": {
        "colab": {
          "base_uri": "https://localhost:8080/"
        },
        "id": "Ef2sJIypA6I6",
        "outputId": "c20f3d58-bd82-433c-f13b-d533e27c3253"
      },
      "source": [
        "acc = 628/(628+141)\n",
        "acc"
      ],
      "execution_count": null,
      "outputs": [
        {
          "output_type": "execute_result",
          "data": {
            "text/plain": [
              "0.8166449934980494"
            ]
          },
          "metadata": {},
          "execution_count": 41
        }
      ]
    },
    {
      "cell_type": "code",
      "metadata": {
        "colab": {
          "base_uri": "https://localhost:8080/"
        },
        "id": "Q557OzLB9YZl",
        "outputId": "03ed09a9-6eb7-49da-9993-0a0a0d5cd99d"
      },
      "source": [
        "(analyse_df['offen'] == test_df['offen']).value_counts()\n"
      ],
      "execution_count": null,
      "outputs": [
        {
          "output_type": "execute_result",
          "data": {
            "text/plain": [
              "True     651\n",
              "False    118\n",
              "Name: offen, dtype: int64"
            ]
          },
          "metadata": {},
          "execution_count": 42
        }
      ]
    },
    {
      "cell_type": "code",
      "metadata": {
        "colab": {
          "base_uri": "https://localhost:8080/"
        },
        "id": "eO6oxECqBTdN",
        "outputId": "aabbe33c-65ab-4e65-a976-19bab67c76a7"
      },
      "source": [
        "acc_o = 636/(628+141)\n",
        "acc_o"
      ],
      "execution_count": null,
      "outputs": [
        {
          "output_type": "execute_result",
          "data": {
            "text/plain": [
              "0.8270481144343304"
            ]
          },
          "metadata": {},
          "execution_count": 43
        }
      ]
    },
    {
      "cell_type": "code",
      "metadata": {
        "colab": {
          "base_uri": "https://localhost:8080/"
        },
        "id": "5UsXZ9V39jbn",
        "outputId": "3947296b-e0eb-4697-95da-b8821fca1ebd"
      },
      "source": [
        "(analyse_df['prof'] == test_df['prof']).value_counts()"
      ],
      "execution_count": null,
      "outputs": [
        {
          "output_type": "execute_result",
          "data": {
            "text/plain": [
              "True     638\n",
              "False    131\n",
              "Name: prof, dtype: int64"
            ]
          },
          "metadata": {},
          "execution_count": 44
        }
      ]
    },
    {
      "cell_type": "code",
      "metadata": {
        "colab": {
          "base_uri": "https://localhost:8080/"
        },
        "id": "aAD015lbBjZ6",
        "outputId": "dcd5ebb5-aec6-4221-e06f-30bc2bf9604d"
      },
      "source": [
        "acc_p = 653/(628+141)\n",
        "acc_p"
      ],
      "execution_count": null,
      "outputs": [
        {
          "output_type": "execute_result",
          "data": {
            "text/plain": [
              "0.8491547464239272"
            ]
          },
          "metadata": {},
          "execution_count": 45
        }
      ]
    },
    {
      "cell_type": "code",
      "metadata": {
        "colab": {
          "base_uri": "https://localhost:8080/"
        },
        "id": "VrgjLW5cBnWv",
        "outputId": "597c3801-8e5a-4dc9-b945-6484aabcd43d"
      },
      "source": [
        "(analyse_df['none'] == test_df['none']).value_counts()"
      ],
      "execution_count": null,
      "outputs": [
        {
          "output_type": "execute_result",
          "data": {
            "text/plain": [
              "True     603\n",
              "False    166\n",
              "Name: none, dtype: int64"
            ]
          },
          "metadata": {},
          "execution_count": 46
        }
      ]
    },
    {
      "cell_type": "code",
      "metadata": {
        "colab": {
          "base_uri": "https://localhost:8080/"
        },
        "id": "qjIS1iGKBtnn",
        "outputId": "aceff6eb-4c77-4adb-85ef-2be2a1167f4a"
      },
      "source": [
        "acc_n = 613/(628+141)\n",
        "acc_n"
      ],
      "execution_count": null,
      "outputs": [
        {
          "output_type": "execute_result",
          "data": {
            "text/plain": [
              "0.7971391417425228"
            ]
          },
          "metadata": {},
          "execution_count": 47
        }
      ]
    },
    {
      "cell_type": "code",
      "metadata": {
        "colab": {
          "base_uri": "https://localhost:8080/",
          "height": 49
        },
        "id": "s3-KjkOyEY4D",
        "outputId": "16b94af3-82da-45bb-9060-5d956013e98c"
      },
      "source": [
        "column_names = [\"id\", \"label\"]\n",
        "testcomp_df = pd.DataFrame(columns = column_names)\n",
        "testcomp_df"
      ],
      "execution_count": null,
      "outputs": [
        {
          "output_type": "execute_result",
          "data": {
            "text/html": [
              "<div>\n",
              "<style scoped>\n",
              "    .dataframe tbody tr th:only-of-type {\n",
              "        vertical-align: middle;\n",
              "    }\n",
              "\n",
              "    .dataframe tbody tr th {\n",
              "        vertical-align: top;\n",
              "    }\n",
              "\n",
              "    .dataframe thead th {\n",
              "        text-align: right;\n",
              "    }\n",
              "</style>\n",
              "<table border=\"1\" class=\"dataframe\">\n",
              "  <thead>\n",
              "    <tr style=\"text-align: right;\">\n",
              "      <th></th>\n",
              "      <th>id</th>\n",
              "      <th>label</th>\n",
              "    </tr>\n",
              "  </thead>\n",
              "  <tbody>\n",
              "  </tbody>\n",
              "</table>\n",
              "</div>"
            ],
            "text/plain": [
              "Empty DataFrame\n",
              "Columns: [id, label]\n",
              "Index: []"
            ]
          },
          "metadata": {},
          "execution_count": 48
        }
      ]
    },
    {
      "cell_type": "code",
      "metadata": {
        "id": "USUCIBJqESy5"
      },
      "source": [
        "for i in range(len(test_df)):\n",
        "  temp = max(test_df['hate'].iloc[i],test_df['offen'].iloc[i],test_df['none'].iloc[i],test_df['prof'].iloc[i])\n",
        "  id_temp = test_df['_id'].iloc[i]\n",
        "  if temp == test_df['hate'].iloc[i]:\n",
        "    testcomp_df.loc[i] = [id_temp,'HATE']\n",
        "  elif temp == test_df['offen'].iloc[i]:\n",
        "    testcomp_df.loc[i] = [id_temp,'OFFN']\n",
        "  elif temp == test_df['prof'].iloc[i]:\n",
        "    testcomp_df.loc[i] = [id_temp,'PRFN']\n",
        "  elif temp == test_df['none'].iloc[i]:\n",
        "    testcomp_df.loc[i] = [id_temp,'NONE']"
      ],
      "execution_count": null,
      "outputs": []
    },
    {
      "cell_type": "code",
      "metadata": {
        "colab": {
          "base_uri": "https://localhost:8080/",
          "height": 419
        },
        "id": "APEj6OEdE3aq",
        "outputId": "82bf45f8-0e8f-4a86-b4da-bbfe708b3955"
      },
      "source": [
        "testcomp_df"
      ],
      "execution_count": null,
      "outputs": [
        {
          "output_type": "execute_result",
          "data": {
            "text/html": [
              "<div>\n",
              "<style scoped>\n",
              "    .dataframe tbody tr th:only-of-type {\n",
              "        vertical-align: middle;\n",
              "    }\n",
              "\n",
              "    .dataframe tbody tr th {\n",
              "        vertical-align: top;\n",
              "    }\n",
              "\n",
              "    .dataframe thead th {\n",
              "        text-align: right;\n",
              "    }\n",
              "</style>\n",
              "<table border=\"1\" class=\"dataframe\">\n",
              "  <thead>\n",
              "    <tr style=\"text-align: right;\">\n",
              "      <th></th>\n",
              "      <th>id</th>\n",
              "      <th>label</th>\n",
              "    </tr>\n",
              "  </thead>\n",
              "  <tbody>\n",
              "    <tr>\n",
              "      <th>0</th>\n",
              "      <td>60c5d6bf5659ea5e55defc89</td>\n",
              "      <td>OFFN</td>\n",
              "    </tr>\n",
              "    <tr>\n",
              "      <th>1</th>\n",
              "      <td>60c5d6bf5659ea5e55def1d6</td>\n",
              "      <td>HATE</td>\n",
              "    </tr>\n",
              "    <tr>\n",
              "      <th>2</th>\n",
              "      <td>60c5d6bf5659ea5e55df0311</td>\n",
              "      <td>PRFN</td>\n",
              "    </tr>\n",
              "    <tr>\n",
              "      <th>3</th>\n",
              "      <td>60c5d6bf5659ea5e55def260</td>\n",
              "      <td>PRFN</td>\n",
              "    </tr>\n",
              "    <tr>\n",
              "      <th>4</th>\n",
              "      <td>60c5d6bf5659ea5e55deff39</td>\n",
              "      <td>HATE</td>\n",
              "    </tr>\n",
              "    <tr>\n",
              "      <th>...</th>\n",
              "      <td>...</td>\n",
              "      <td>...</td>\n",
              "    </tr>\n",
              "    <tr>\n",
              "      <th>764</th>\n",
              "      <td>60c5d6bf5659ea5e55def922</td>\n",
              "      <td>PRFN</td>\n",
              "    </tr>\n",
              "    <tr>\n",
              "      <th>765</th>\n",
              "      <td>60c5d6bf5659ea5e55df02d3</td>\n",
              "      <td>PRFN</td>\n",
              "    </tr>\n",
              "    <tr>\n",
              "      <th>766</th>\n",
              "      <td>60c5d6bf5659ea5e55df024c</td>\n",
              "      <td>PRFN</td>\n",
              "    </tr>\n",
              "    <tr>\n",
              "      <th>767</th>\n",
              "      <td>60c5d6bf5659ea5e55df026a</td>\n",
              "      <td>PRFN</td>\n",
              "    </tr>\n",
              "    <tr>\n",
              "      <th>768</th>\n",
              "      <td>60c5d6bf5659ea5e55def6b6</td>\n",
              "      <td>PRFN</td>\n",
              "    </tr>\n",
              "  </tbody>\n",
              "</table>\n",
              "<p>769 rows × 2 columns</p>\n",
              "</div>"
            ],
            "text/plain": [
              "                           id label\n",
              "0    60c5d6bf5659ea5e55defc89  OFFN\n",
              "1    60c5d6bf5659ea5e55def1d6  HATE\n",
              "2    60c5d6bf5659ea5e55df0311  PRFN\n",
              "3    60c5d6bf5659ea5e55def260  PRFN\n",
              "4    60c5d6bf5659ea5e55deff39  HATE\n",
              "..                        ...   ...\n",
              "764  60c5d6bf5659ea5e55def922  PRFN\n",
              "765  60c5d6bf5659ea5e55df02d3  PRFN\n",
              "766  60c5d6bf5659ea5e55df024c  PRFN\n",
              "767  60c5d6bf5659ea5e55df026a  PRFN\n",
              "768  60c5d6bf5659ea5e55def6b6  PRFN\n",
              "\n",
              "[769 rows x 2 columns]"
            ]
          },
          "metadata": {},
          "execution_count": 50
        }
      ]
    },
    {
      "cell_type": "code",
      "metadata": {
        "colab": {
          "base_uri": "https://localhost:8080/"
        },
        "id": "NhVEUBzIE88z",
        "outputId": "10060fd9-07d1-4abe-c76d-7010a949458b"
      },
      "source": [
        "(testcomp_df['label'] == submission_df['label']).value_counts()"
      ],
      "execution_count": null,
      "outputs": [
        {
          "output_type": "execute_result",
          "data": {
            "text/plain": [
              "True     501\n",
              "False    268\n",
              "Name: label, dtype: int64"
            ]
          },
          "metadata": {},
          "execution_count": 53
        }
      ]
    },
    {
      "cell_type": "code",
      "metadata": {
        "id": "FY7QxoKnX8Ro"
      },
      "source": [
        "acc = 501/(501+268)"
      ],
      "execution_count": null,
      "outputs": []
    }
  ]
}